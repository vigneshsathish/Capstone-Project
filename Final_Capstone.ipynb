{
  "nbformat": 4,
  "nbformat_minor": 0,
  "metadata": {
    "colab": {
      "name": "Final-Capstone.ipynb",
      "provenance": [],
      "collapsed_sections": []
    },
    "kernelspec": {
      "display_name": "Python 3",
      "name": "python3"
    },
    "language_info": {
      "name": "python"
    }
  },
  "cells": [
    {
      "cell_type": "code",
      "metadata": {
        "id": "XpheRGeUUArp"
      },
      "source": [
        "import pandas as pd\n",
        "import numpy as np\n",
        "import matplotlib.pyplot as plt\n",
        "import seaborn as sns"
      ],
      "execution_count": 3,
      "outputs": []
    },
    {
      "cell_type": "markdown",
      "metadata": {
        "id": "2AvgF6I9B22D"
      },
      "source": [
        "# Reading CSV"
      ]
    },
    {
      "cell_type": "code",
      "metadata": {
        "id": "IMBm2op2VgMC"
      },
      "source": [
        "df = pd.read_csv('sigma_cabs.csv')"
      ],
      "execution_count": 4,
      "outputs": []
    },
    {
      "cell_type": "code",
      "metadata": {
        "colab": {
          "base_uri": "https://localhost:8080/"
        },
        "id": "U7JAPOn2xS4o",
        "outputId": "fb885271-257f-412e-e204-20a0014d400c"
      },
      "source": [
        "df.info()"
      ],
      "execution_count": 5,
      "outputs": [
        {
          "output_type": "stream",
          "name": "stdout",
          "text": [
            "<class 'pandas.core.frame.DataFrame'>\n",
            "RangeIndex: 131662 entries, 0 to 131661\n",
            "Data columns (total 14 columns):\n",
            " #   Column                       Non-Null Count   Dtype  \n",
            "---  ------                       --------------   -----  \n",
            " 0   Trip_ID                      131662 non-null  object \n",
            " 1   Trip_Distance                131662 non-null  float64\n",
            " 2   Type_of_Cab                  111452 non-null  object \n",
            " 3   Customer_Since_Months        125742 non-null  float64\n",
            " 4   Life_Style_Index             111469 non-null  float64\n",
            " 5   Confidence_Life_Style_Index  111469 non-null  object \n",
            " 6   Destination_Type             131662 non-null  object \n",
            " 7   Customer_Rating              131662 non-null  float64\n",
            " 8   Cancellation_Last_1Month     131662 non-null  int64  \n",
            " 9   Var1                         60632 non-null   float64\n",
            " 10  Var2                         131662 non-null  int64  \n",
            " 11  Var3                         131662 non-null  int64  \n",
            " 12  Gender                       131662 non-null  object \n",
            " 13  Surge_Pricing_Type           131662 non-null  int64  \n",
            "dtypes: float64(5), int64(4), object(5)\n",
            "memory usage: 14.1+ MB\n"
          ]
        }
      ]
    },
    {
      "cell_type": "code",
      "metadata": {
        "id": "FIXhXuNUxWVt"
      },
      "source": [
        "df['Customer_Since_Months'] = df['Customer_Since_Months'].astype('object')"
      ],
      "execution_count": 6,
      "outputs": []
    },
    {
      "cell_type": "code",
      "metadata": {
        "colab": {
          "base_uri": "https://localhost:8080/",
          "height": 224
        },
        "id": "Z6ylAkBQWLWf",
        "outputId": "1b29647c-8bad-4771-baef-55e8d7738a43"
      },
      "source": [
        "df.head()"
      ],
      "execution_count": 7,
      "outputs": [
        {
          "output_type": "execute_result",
          "data": {
            "text/html": [
              "<div>\n",
              "<style scoped>\n",
              "    .dataframe tbody tr th:only-of-type {\n",
              "        vertical-align: middle;\n",
              "    }\n",
              "\n",
              "    .dataframe tbody tr th {\n",
              "        vertical-align: top;\n",
              "    }\n",
              "\n",
              "    .dataframe thead th {\n",
              "        text-align: right;\n",
              "    }\n",
              "</style>\n",
              "<table border=\"1\" class=\"dataframe\">\n",
              "  <thead>\n",
              "    <tr style=\"text-align: right;\">\n",
              "      <th></th>\n",
              "      <th>Trip_ID</th>\n",
              "      <th>Trip_Distance</th>\n",
              "      <th>Type_of_Cab</th>\n",
              "      <th>Customer_Since_Months</th>\n",
              "      <th>Life_Style_Index</th>\n",
              "      <th>Confidence_Life_Style_Index</th>\n",
              "      <th>Destination_Type</th>\n",
              "      <th>Customer_Rating</th>\n",
              "      <th>Cancellation_Last_1Month</th>\n",
              "      <th>Var1</th>\n",
              "      <th>Var2</th>\n",
              "      <th>Var3</th>\n",
              "      <th>Gender</th>\n",
              "      <th>Surge_Pricing_Type</th>\n",
              "    </tr>\n",
              "  </thead>\n",
              "  <tbody>\n",
              "    <tr>\n",
              "      <th>0</th>\n",
              "      <td>T0005689460</td>\n",
              "      <td>6.77</td>\n",
              "      <td>B</td>\n",
              "      <td>1</td>\n",
              "      <td>2.42769</td>\n",
              "      <td>A</td>\n",
              "      <td>A</td>\n",
              "      <td>3.90500</td>\n",
              "      <td>0</td>\n",
              "      <td>40.0</td>\n",
              "      <td>46</td>\n",
              "      <td>60</td>\n",
              "      <td>Female</td>\n",
              "      <td>2</td>\n",
              "    </tr>\n",
              "    <tr>\n",
              "      <th>1</th>\n",
              "      <td>T0005689461</td>\n",
              "      <td>29.47</td>\n",
              "      <td>B</td>\n",
              "      <td>10</td>\n",
              "      <td>2.78245</td>\n",
              "      <td>B</td>\n",
              "      <td>A</td>\n",
              "      <td>3.45000</td>\n",
              "      <td>0</td>\n",
              "      <td>38.0</td>\n",
              "      <td>56</td>\n",
              "      <td>78</td>\n",
              "      <td>Male</td>\n",
              "      <td>2</td>\n",
              "    </tr>\n",
              "    <tr>\n",
              "      <th>2</th>\n",
              "      <td>T0005689464</td>\n",
              "      <td>41.58</td>\n",
              "      <td>NaN</td>\n",
              "      <td>10</td>\n",
              "      <td>NaN</td>\n",
              "      <td>NaN</td>\n",
              "      <td>E</td>\n",
              "      <td>3.50125</td>\n",
              "      <td>2</td>\n",
              "      <td>NaN</td>\n",
              "      <td>56</td>\n",
              "      <td>77</td>\n",
              "      <td>Male</td>\n",
              "      <td>2</td>\n",
              "    </tr>\n",
              "    <tr>\n",
              "      <th>3</th>\n",
              "      <td>T0005689465</td>\n",
              "      <td>61.56</td>\n",
              "      <td>C</td>\n",
              "      <td>10</td>\n",
              "      <td>NaN</td>\n",
              "      <td>NaN</td>\n",
              "      <td>A</td>\n",
              "      <td>3.45375</td>\n",
              "      <td>0</td>\n",
              "      <td>NaN</td>\n",
              "      <td>52</td>\n",
              "      <td>74</td>\n",
              "      <td>Male</td>\n",
              "      <td>3</td>\n",
              "    </tr>\n",
              "    <tr>\n",
              "      <th>4</th>\n",
              "      <td>T0005689467</td>\n",
              "      <td>54.95</td>\n",
              "      <td>C</td>\n",
              "      <td>10</td>\n",
              "      <td>3.03453</td>\n",
              "      <td>B</td>\n",
              "      <td>A</td>\n",
              "      <td>3.40250</td>\n",
              "      <td>4</td>\n",
              "      <td>51.0</td>\n",
              "      <td>49</td>\n",
              "      <td>102</td>\n",
              "      <td>Male</td>\n",
              "      <td>2</td>\n",
              "    </tr>\n",
              "  </tbody>\n",
              "</table>\n",
              "</div>"
            ],
            "text/plain": [
              "       Trip_ID  Trip_Distance Type_of_Cab  ... Var3  Gender Surge_Pricing_Type\n",
              "0  T0005689460           6.77           B  ...   60  Female                  2\n",
              "1  T0005689461          29.47           B  ...   78    Male                  2\n",
              "2  T0005689464          41.58         NaN  ...   77    Male                  2\n",
              "3  T0005689465          61.56           C  ...   74    Male                  3\n",
              "4  T0005689467          54.95           C  ...  102    Male                  2\n",
              "\n",
              "[5 rows x 14 columns]"
            ]
          },
          "metadata": {},
          "execution_count": 7
        }
      ]
    },
    {
      "cell_type": "code",
      "metadata": {
        "colab": {
          "base_uri": "https://localhost:8080/"
        },
        "id": "YjcWINhZsJw4",
        "outputId": "e642a424-2841-4b19-8262-cb971acc509e"
      },
      "source": [
        "df.isnull().sum()"
      ],
      "execution_count": 8,
      "outputs": [
        {
          "output_type": "execute_result",
          "data": {
            "text/plain": [
              "Trip_ID                            0\n",
              "Trip_Distance                      0\n",
              "Type_of_Cab                    20210\n",
              "Customer_Since_Months           5920\n",
              "Life_Style_Index               20193\n",
              "Confidence_Life_Style_Index    20193\n",
              "Destination_Type                   0\n",
              "Customer_Rating                    0\n",
              "Cancellation_Last_1Month           0\n",
              "Var1                           71030\n",
              "Var2                               0\n",
              "Var3                               0\n",
              "Gender                             0\n",
              "Surge_Pricing_Type                 0\n",
              "dtype: int64"
            ]
          },
          "metadata": {},
          "execution_count": 8
        }
      ]
    },
    {
      "cell_type": "code",
      "metadata": {
        "id": "w00TUCjGWNp7",
        "colab": {
          "base_uri": "https://localhost:8080/"
        },
        "outputId": "96fde181-f5ea-4189-91a7-920507462ed0"
      },
      "source": [
        "df.nunique()"
      ],
      "execution_count": 9,
      "outputs": [
        {
          "output_type": "execute_result",
          "data": {
            "text/plain": [
              "Trip_ID                        131662\n",
              "Trip_Distance                   10326\n",
              "Type_of_Cab                         5\n",
              "Customer_Since_Months              11\n",
              "Life_Style_Index                55978\n",
              "Confidence_Life_Style_Index         3\n",
              "Destination_Type                   14\n",
              "Customer_Rating                  3931\n",
              "Cancellation_Last_1Month            9\n",
              "Var1                              122\n",
              "Var2                               58\n",
              "Var3                               96\n",
              "Gender                              2\n",
              "Surge_Pricing_Type                  3\n",
              "dtype: int64"
            ]
          },
          "metadata": {},
          "execution_count": 9
        }
      ]
    },
    {
      "cell_type": "markdown",
      "metadata": {
        "id": "rFGxzOdWeiQO"
      },
      "source": [
        "# Segregating into 3 dataframes to impute null values according class differentiation"
      ]
    },
    {
      "cell_type": "code",
      "metadata": {
        "id": "CFv_QjBOWVpY"
      },
      "source": [
        "s2 = df[df['Surge_Pricing_Type']==2]"
      ],
      "execution_count": 10,
      "outputs": []
    },
    {
      "cell_type": "code",
      "metadata": {
        "id": "8m5nt5dqZYOz"
      },
      "source": [
        "s1 = df[df['Surge_Pricing_Type']==1]"
      ],
      "execution_count": 11,
      "outputs": []
    },
    {
      "cell_type": "code",
      "metadata": {
        "id": "UkUuSYL-Zbak"
      },
      "source": [
        "s3 = df[df['Surge_Pricing_Type']==3]"
      ],
      "execution_count": 12,
      "outputs": []
    },
    {
      "cell_type": "code",
      "metadata": {
        "colab": {
          "base_uri": "https://localhost:8080/"
        },
        "id": "JkAme0fWZ0Jo",
        "outputId": "4f47626f-421c-4125-f461-d7537b00cc4d"
      },
      "source": [
        "s2.isnull().sum()*100/len(s2)"
      ],
      "execution_count": 13,
      "outputs": [
        {
          "output_type": "execute_result",
          "data": {
            "text/plain": [
              "Trip_ID                         0.000000\n",
              "Trip_Distance                   0.000000\n",
              "Type_of_Cab                    15.239388\n",
              "Customer_Since_Months           4.477507\n",
              "Life_Style_Index               15.225286\n",
              "Confidence_Life_Style_Index    15.225286\n",
              "Destination_Type                0.000000\n",
              "Customer_Rating                 0.000000\n",
              "Cancellation_Last_1Month        0.000000\n",
              "Var1                           52.425610\n",
              "Var2                            0.000000\n",
              "Var3                            0.000000\n",
              "Gender                          0.000000\n",
              "Surge_Pricing_Type              0.000000\n",
              "dtype: float64"
            ]
          },
          "metadata": {},
          "execution_count": 13
        }
      ]
    },
    {
      "cell_type": "code",
      "metadata": {
        "colab": {
          "base_uri": "https://localhost:8080/"
        },
        "id": "HXDM0l3FaC3h",
        "outputId": "100af2dc-b462-4ca8-afc3-d7ab9a1e0035"
      },
      "source": [
        "s1.isnull().sum()*100/len(s1)"
      ],
      "execution_count": 14,
      "outputs": [
        {
          "output_type": "execute_result",
          "data": {
            "text/plain": [
              "Trip_ID                         0.000000\n",
              "Trip_Distance                   0.000000\n",
              "Type_of_Cab                    15.451606\n",
              "Customer_Since_Months           4.214742\n",
              "Life_Style_Index               15.345043\n",
              "Confidence_Life_Style_Index    15.345043\n",
              "Destination_Type                0.000000\n",
              "Customer_Rating                 0.000000\n",
              "Cancellation_Last_1Month        0.000000\n",
              "Var1                           65.830087\n",
              "Var2                            0.000000\n",
              "Var3                            0.000000\n",
              "Gender                          0.000000\n",
              "Surge_Pricing_Type              0.000000\n",
              "dtype: float64"
            ]
          },
          "metadata": {},
          "execution_count": 14
        }
      ]
    },
    {
      "cell_type": "code",
      "metadata": {
        "colab": {
          "base_uri": "https://localhost:8080/"
        },
        "id": "5kIKJDc6aEYA",
        "outputId": "f18e9e37-6679-43bd-b4cd-70c26ac66c54"
      },
      "source": [
        "s3.isnull().sum()*100/len(s3)"
      ],
      "execution_count": 15,
      "outputs": [
        {
          "output_type": "execute_result",
          "data": {
            "text/plain": [
              "Trip_ID                         0.000000\n",
              "Trip_Distance                   0.000000\n",
              "Type_of_Cab                    15.423303\n",
              "Customer_Since_Months           4.679380\n",
              "Life_Style_Index               15.465214\n",
              "Confidence_Life_Style_Index    15.465214\n",
              "Destination_Type                0.000000\n",
              "Customer_Rating                 0.000000\n",
              "Cancellation_Last_1Month        0.000000\n",
              "Var1                           48.983655\n",
              "Var2                            0.000000\n",
              "Var3                            0.000000\n",
              "Gender                          0.000000\n",
              "Surge_Pricing_Type              0.000000\n",
              "dtype: float64"
            ]
          },
          "metadata": {},
          "execution_count": 15
        }
      ]
    },
    {
      "cell_type": "code",
      "metadata": {
        "id": "G9AjDSQ_spzG"
      },
      "source": [
        "s1 = s1.drop(columns=['Var1'])\n",
        "s2 = s2.drop(columns=['Var1'])\n",
        "s3 = s3.drop(columns=['Var1'])\n"
      ],
      "execution_count": 16,
      "outputs": []
    },
    {
      "cell_type": "code",
      "metadata": {
        "colab": {
          "base_uri": "https://localhost:8080/"
        },
        "id": "iL7_W58NcRwG",
        "outputId": "ec07cd6d-dfb3-47b5-dc28-13dc2dacdb42"
      },
      "source": [
        "s3.shape"
      ],
      "execution_count": 17,
      "outputs": [
        {
          "output_type": "execute_result",
          "data": {
            "text/plain": [
              "(47720, 13)"
            ]
          },
          "metadata": {},
          "execution_count": 17
        }
      ]
    },
    {
      "cell_type": "code",
      "metadata": {
        "colab": {
          "base_uri": "https://localhost:8080/"
        },
        "id": "4AuTOdfXdaDC",
        "outputId": "57f46be3-227e-4492-9c02-37aa5f5ec951"
      },
      "source": [
        "s2.shape"
      ],
      "execution_count": 18,
      "outputs": [
        {
          "output_type": "execute_result",
          "data": {
            "text/plain": [
              "(56728, 13)"
            ]
          },
          "metadata": {},
          "execution_count": 18
        }
      ]
    },
    {
      "cell_type": "code",
      "metadata": {
        "colab": {
          "base_uri": "https://localhost:8080/"
        },
        "id": "dE1ikZXDdbn6",
        "outputId": "6f0f317d-ad89-4d1c-e000-380cebccdc3b"
      },
      "source": [
        "s1.shape"
      ],
      "execution_count": 19,
      "outputs": [
        {
          "output_type": "execute_result",
          "data": {
            "text/plain": [
              "(27214, 13)"
            ]
          },
          "metadata": {},
          "execution_count": 19
        }
      ]
    },
    {
      "cell_type": "code",
      "metadata": {
        "id": "uKTSynJ0ddUY"
      },
      "source": [
        "from sklearn.impute import SimpleImputer"
      ],
      "execution_count": 20,
      "outputs": []
    },
    {
      "cell_type": "code",
      "metadata": {
        "colab": {
          "base_uri": "https://localhost:8080/"
        },
        "id": "bqLCLvd_tfeC",
        "outputId": "41e07293-5b39-4b94-ac4c-fbc586b69ab0"
      },
      "source": [
        "df.skew()"
      ],
      "execution_count": 21,
      "outputs": [
        {
          "output_type": "execute_result",
          "data": {
            "text/plain": [
              "Trip_Distance               0.723752\n",
              "Customer_Since_Months      -0.246954\n",
              "Life_Style_Index            0.193994\n",
              "Customer_Rating            -0.191131\n",
              "Cancellation_Last_1Month    1.550869\n",
              "Var1                        0.465401\n",
              "Var2                        1.184634\n",
              "Var3                        0.828977\n",
              "Surge_Pricing_Type         -0.255149\n",
              "dtype: float64"
            ]
          },
          "metadata": {},
          "execution_count": 21
        }
      ]
    },
    {
      "cell_type": "markdown",
      "metadata": {
        "id": "wwpixOmBe2Fx"
      },
      "source": [
        "# Imputing Null Values based on the datatypes and the Classes"
      ]
    },
    {
      "cell_type": "code",
      "metadata": {
        "id": "vwQDf-ZEdmBv"
      },
      "source": [
        "sm = SimpleImputer(strategy='most_frequent')\n",
        "data = sm.fit_transform(s1.select_dtypes('object'))\n",
        "data2 = sm.fit_transform(s2.select_dtypes('object'))\n",
        "data3 = sm.fit_transform(s3.select_dtypes('object'))\n"
      ],
      "execution_count": 22,
      "outputs": []
    },
    {
      "cell_type": "code",
      "metadata": {
        "id": "Zr8j6PileAYx"
      },
      "source": [
        "sm = SimpleImputer(strategy='mean')\n",
        "data_num = sm.fit_transform(s1.select_dtypes('number'))\n",
        "data_num1 = sm.fit_transform(s2.select_dtypes('number'))\n",
        "data_num2 = sm.fit_transform(s3.select_dtypes('number'))\n"
      ],
      "execution_count": 23,
      "outputs": []
    },
    {
      "cell_type": "code",
      "metadata": {
        "id": "Zmjp5iROd8dg"
      },
      "source": [
        "data = pd.DataFrame(data,columns = s1.select_dtypes('object').columns)\n",
        "data2 = pd.DataFrame(data2,columns = s2.select_dtypes('object').columns)\n",
        "data3 = pd.DataFrame(data3,columns = s3.select_dtypes('object').columns)\n"
      ],
      "execution_count": 24,
      "outputs": []
    },
    {
      "cell_type": "code",
      "metadata": {
        "id": "CQDISnvOfs6z"
      },
      "source": [
        "data_num = pd.DataFrame(data_num,columns = s1.select_dtypes('number').columns)\n",
        "data_num1 = pd.DataFrame(data_num1,columns = s2.select_dtypes('number').columns)\n",
        "data_num2 = pd.DataFrame(data_num2,columns = s3.select_dtypes('number').columns)\n"
      ],
      "execution_count": 25,
      "outputs": []
    },
    {
      "cell_type": "code",
      "metadata": {
        "id": "ip_ymjGEd9cS"
      },
      "source": [
        "s1 = pd.concat([data,data_num],axis=1)\n",
        "s2 = pd.concat([data2,data_num1],axis=1)\n",
        "s3 = pd.concat([data3,data_num2],axis=1)\n"
      ],
      "execution_count": 26,
      "outputs": []
    },
    {
      "cell_type": "code",
      "metadata": {
        "id": "kLANgXVaeTS3"
      },
      "source": [
        "df1 = pd.concat([s1,s2,s3])"
      ],
      "execution_count": 27,
      "outputs": []
    },
    {
      "cell_type": "code",
      "metadata": {
        "colab": {
          "base_uri": "https://localhost:8080/"
        },
        "id": "oXsaPnGJgZry",
        "outputId": "c8379bb0-d449-487b-91d3-706e86ea701c"
      },
      "source": [
        "df.shape"
      ],
      "execution_count": 28,
      "outputs": [
        {
          "output_type": "execute_result",
          "data": {
            "text/plain": [
              "(131662, 14)"
            ]
          },
          "metadata": {},
          "execution_count": 28
        }
      ]
    },
    {
      "cell_type": "code",
      "metadata": {
        "colab": {
          "base_uri": "https://localhost:8080/"
        },
        "id": "k_lhq9bAgKXe",
        "outputId": "02aa5e48-8538-4a3b-8bd7-01a812d83799"
      },
      "source": [
        "df1.shape"
      ],
      "execution_count": 29,
      "outputs": [
        {
          "output_type": "execute_result",
          "data": {
            "text/plain": [
              "(131662, 13)"
            ]
          },
          "metadata": {},
          "execution_count": 29
        }
      ]
    },
    {
      "cell_type": "code",
      "metadata": {
        "colab": {
          "base_uri": "https://localhost:8080/"
        },
        "id": "DyzDOxkhgWIE",
        "outputId": "4ce7ee76-f807-4315-f79d-42f3640432ad"
      },
      "source": [
        "df1.isnull().sum()"
      ],
      "execution_count": 30,
      "outputs": [
        {
          "output_type": "execute_result",
          "data": {
            "text/plain": [
              "Trip_ID                        0\n",
              "Type_of_Cab                    0\n",
              "Customer_Since_Months          0\n",
              "Confidence_Life_Style_Index    0\n",
              "Destination_Type               0\n",
              "Gender                         0\n",
              "Trip_Distance                  0\n",
              "Life_Style_Index               0\n",
              "Customer_Rating                0\n",
              "Cancellation_Last_1Month       0\n",
              "Var2                           0\n",
              "Var3                           0\n",
              "Surge_Pricing_Type             0\n",
              "dtype: int64"
            ]
          },
          "metadata": {},
          "execution_count": 30
        }
      ]
    },
    {
      "cell_type": "markdown",
      "metadata": {
        "id": "9Z7T54sAe-Lq"
      },
      "source": [
        "# Checking for Class imbalance"
      ]
    },
    {
      "cell_type": "code",
      "metadata": {
        "colab": {
          "base_uri": "https://localhost:8080/",
          "height": 288
        },
        "id": "LAOiU77fge-X",
        "outputId": "95c40f39-c32e-41b7-9735-01f7f6264aa9"
      },
      "source": [
        "(df1['Surge_Pricing_Type'].value_counts(normalize=True)*100).plot(kind='bar')"
      ],
      "execution_count": 31,
      "outputs": [
        {
          "output_type": "execute_result",
          "data": {
            "text/plain": [
              "<matplotlib.axes._subplots.AxesSubplot at 0x7f14f23924d0>"
            ]
          },
          "metadata": {},
          "execution_count": 31
        },
        {
          "output_type": "display_data",
          "data": {
            "image/png": "[encoded data removed]",
            "text/plain": [
              "<Figure size 432x288 with 1 Axes>"
            ]
          },
          "metadata": {
            "needs_background": "light"
          }
        }
      ]
    },
    {
      "cell_type": "code",
      "metadata": {
        "colab": {
          "base_uri": "https://localhost:8080/"
        },
        "id": "hfhbJDTDg1z-",
        "outputId": "aec331f4-db43-44f9-c250-be7d331e8f2a"
      },
      "source": [
        "df1['Surge_Pricing_Type'].value_counts()"
      ],
      "execution_count": 32,
      "outputs": [
        {
          "output_type": "execute_result",
          "data": {
            "text/plain": [
              "2.0    56728\n",
              "3.0    47720\n",
              "1.0    27214\n",
              "Name: Surge_Pricing_Type, dtype: int64"
            ]
          },
          "metadata": {},
          "execution_count": 32
        }
      ]
    },
    {
      "cell_type": "code",
      "metadata": {
        "id": "EIxUjOIqoDCs"
      },
      "source": [
        "df1 = df1.drop(columns=['Trip_ID'])"
      ],
      "execution_count": 33,
      "outputs": []
    },
    {
      "cell_type": "code",
      "metadata": {
        "id": "lxm7RyHpln1S",
        "colab": {
          "base_uri": "https://localhost:8080/"
        },
        "outputId": "7ced4679-50ee-4f17-a93a-1c01b8029dde"
      },
      "source": [
        "df1.shape"
      ],
      "execution_count": 34,
      "outputs": [
        {
          "output_type": "execute_result",
          "data": {
            "text/plain": [
              "(131662, 12)"
            ]
          },
          "metadata": {},
          "execution_count": 34
        }
      ]
    },
    {
      "cell_type": "markdown",
      "metadata": {
        "id": "5rrsQEVR81Ya"
      },
      "source": [
        "# **Outliers**"
      ]
    },
    {
      "cell_type": "code",
      "metadata": {
        "id": "SlrklSVk9Oz7"
      },
      "source": [
        "df2 = df1.copy()"
      ],
      "execution_count": 35,
      "outputs": []
    },
    {
      "cell_type": "code",
      "metadata": {
        "colab": {
          "base_uri": "https://localhost:8080/",
          "height": 1000
        },
        "id": "5lw99ziP9Ie4",
        "outputId": "089af10a-1a05-4e26-e3b9-e36a7b3206e7"
      },
      "source": [
        "for i in df2.select_dtypes('number'):\n",
        "  sns.boxplot(df2[i])\n",
        "  plt.show()"
      ],
      "execution_count": 36,
      "outputs": [
        {
          "output_type": "stream",
          "name": "stderr",
          "text": [
            "/usr/local/lib/python3.7/dist-packages/seaborn/_decorators.py:43: FutureWarning: Pass the following variable as a keyword arg: x. From version 0.12, the only valid positional argument will be `data`, and passing other arguments without an explicit keyword will result in an error or misinterpretation.\n",
            "  FutureWarning\n"
          ]
        },
        {
          "output_type": "display_data",
          "data": {
            "image/png": "[encoded data removed]",
            "text/plain": [
              "<Figure size 432x288 with 1 Axes>"
            ]
          },
          "metadata": {
            "needs_background": "light"
          }
        },
        {
          "output_type": "stream",
          "name": "stderr",
          "text": [
            "/usr/local/lib/python3.7/dist-packages/seaborn/_decorators.py:43: FutureWarning: Pass the following variable as a keyword arg: x. From version 0.12, the only valid positional argument will be `data`, and passing other arguments without an explicit keyword will result in an error or misinterpretation.\n",
            "  FutureWarning\n"
          ]
        },
        {
          "output_type": "display_data",
          "data": {
            "image/png": "[encoded data removed]",
            "text/plain": [
              "<Figure size 432x288 with 1 Axes>"
            ]
          },
          "metadata": {
            "needs_background": "light"
          }
        },
        {
          "output_type": "stream",
          "name": "stderr",
          "text": [
            "/usr/local/lib/python3.7/dist-packages/seaborn/_decorators.py:43: FutureWarning: Pass the following variable as a keyword arg: x. From version 0.12, the only valid positional argument will be `data`, and passing other arguments without an explicit keyword will result in an error or misinterpretation.\n",
            "  FutureWarning\n"
          ]
        },
        {
          "output_type": "display_data",
          "data": {
            "image/png": "[encoded data removed]",
            "text/plain": [
              "<Figure size 432x288 with 1 Axes>"
            ]
          },
          "metadata": {
            "needs_background": "light"
          }
        },
        {
          "output_type": "stream",
          "name": "stderr",
          "text": [
            "/usr/local/lib/python3.7/dist-packages/seaborn/_decorators.py:43: FutureWarning: Pass the following variable as a keyword arg: x. From version 0.12, the only valid positional argument will be `data`, and passing other arguments without an explicit keyword will result in an error or misinterpretation.\n",
            "  FutureWarning\n"
          ]
        },
        {
          "output_type": "display_data",
          "data": {
            "image/png": "[encoded data removed]",
            "text/plain": [
              "<Figure size 432x288 with 1 Axes>"
            ]
          },
          "metadata": {
            "needs_background": "light"
          }
        },
        {
          "output_type": "stream",
          "name": "stderr",
          "text": [
            "/usr/local/lib/python3.7/dist-packages/seaborn/_decorators.py:43: FutureWarning: Pass the following variable as a keyword arg: x. From version 0.12, the only valid positional argument will be `data`, and passing other arguments without an explicit keyword will result in an error or misinterpretation.\n",
            "  FutureWarning\n"
          ]
        },
        {
          "output_type": "display_data",
          "data": {
            "image/png": "[encoded data removed]",
            "text/plain": [
              "<Figure size 432x288 with 1 Axes>"
            ]
          },
          "metadata": {
            "needs_background": "light"
          }
        },
        {
          "output_type": "stream",
          "name": "stderr",
          "text": [
            "/usr/local/lib/python3.7/dist-packages/seaborn/_decorators.py:43: FutureWarning: Pass the following variable as a keyword arg: x. From version 0.12, the only valid positional argument will be `data`, and passing other arguments without an explicit keyword will result in an error or misinterpretation.\n",
            "  FutureWarning\n"
          ]
        },
        {
          "output_type": "display_data",
          "data": {
            "image/png": "[encoded data removed]",
            "text/plain": [
              "<Figure size 432x288 with 1 Axes>"
            ]
          },
          "metadata": {
            "needs_background": "light"
          }
        },
        {
          "output_type": "stream",
          "name": "stderr",
          "text": [
            "/usr/local/lib/python3.7/dist-packages/seaborn/_decorators.py:43: FutureWarning: Pass the following variable as a keyword arg: x. From version 0.12, the only valid positional argument will be `data`, and passing other arguments without an explicit keyword will result in an error or misinterpretation.\n",
            "  FutureWarning\n"
          ]
        },
        {
          "output_type": "display_data",
          "data": {
            "image/png": "[encoded data removed]",
            "text/plain": [
              "<Figure size 432x288 with 1 Axes>"
            ]
          },
          "metadata": {
            "needs_background": "light"
          }
        }
      ]
    },
    {
      "cell_type": "code",
      "metadata": {
        "id": "RGrx6eD49a-0"
      },
      "source": [
        "for i in df2.select_dtypes('number').columns:\n",
        "  q1 = df2[i].quantile(0.25)\n",
        "  q3 = df2[i].quantile(0.75)\n",
        "  iqr = q3-q1\n",
        "  ll = q1-(1.5*iqr)\n",
        "  ul = q3+(1.5*iqr)\n",
        "  df2 = df2[(df2[i]>ll)&(df2[i]<ul)]"
      ],
      "execution_count": 37,
      "outputs": []
    },
    {
      "cell_type": "code",
      "metadata": {
        "colab": {
          "base_uri": "https://localhost:8080/",
          "height": 1000
        },
        "id": "eouUpzsO-WVH",
        "outputId": "a7f2ad57-6ac8-448d-a1ab-d715a31a5eca"
      },
      "source": [
        "for i in df2.select_dtypes('number'):\n",
        "  sns.boxplot(df2[i])\n",
        "  plt.show()"
      ],
      "execution_count": 38,
      "outputs": [
        {
          "output_type": "stream",
          "name": "stderr",
          "text": [
            "/usr/local/lib/python3.7/dist-packages/seaborn/_decorators.py:43: FutureWarning: Pass the following variable as a keyword arg: x. From version 0.12, the only valid positional argument will be `data`, and passing other arguments without an explicit keyword will result in an error or misinterpretation.\n",
            "  FutureWarning\n"
          ]
        },
        {
          "output_type": "display_data",
          "data": {
            "image/png": "[encoded data removed]",
            "text/plain": [
              "<Figure size 432x288 with 1 Axes>"
            ]
          },
          "metadata": {
            "needs_background": "light"
          }
        },
        {
          "output_type": "stream",
          "name": "stderr",
          "text": [
            "/usr/local/lib/python3.7/dist-packages/seaborn/_decorators.py:43: FutureWarning: Pass the following variable as a keyword arg: x. From version 0.12, the only valid positional argument will be `data`, and passing other arguments without an explicit keyword will result in an error or misinterpretation.\n",
            "  FutureWarning\n"
          ]
        },
        {
          "output_type": "display_data",
          "data": {
            "image/png": "[encoded data removed]",
            "text/plain": [
              "<Figure size 432x288 with 1 Axes>"
            ]
          },
          "metadata": {
            "needs_background": "light"
          }
        },
        {
          "output_type": "stream",
          "name": "stderr",
          "text": [
            "/usr/local/lib/python3.7/dist-packages/seaborn/_decorators.py:43: FutureWarning: Pass the following variable as a keyword arg: x. From version 0.12, the only valid positional argument will be `data`, and passing other arguments without an explicit keyword will result in an error or misinterpretation.\n",
            "  FutureWarning\n"
          ]
        },
        {
          "output_type": "display_data",
          "data": {
            "image/png": "[encoded data removed]",
            "text/plain": [
              "<Figure size 432x288 with 1 Axes>"
            ]
          },
          "metadata": {
            "needs_background": "light"
          }
        },
        {
          "output_type": "stream",
          "name": "stderr",
          "text": [
            "/usr/local/lib/python3.7/dist-packages/seaborn/_decorators.py:43: FutureWarning: Pass the following variable as a keyword arg: x. From version 0.12, the only valid positional argument will be `data`, and passing other arguments without an explicit keyword will result in an error or misinterpretation.\n",
            "  FutureWarning\n"
          ]
        },
        {
          "output_type": "display_data",
          "data": {
            "image/png": "[encoded data removed]",
            "text/plain": [
              "<Figure size 432x288 with 1 Axes>"
            ]
          },
          "metadata": {
            "needs_background": "light"
          }
        },
        {
          "output_type": "stream",
          "name": "stderr",
          "text": [
            "/usr/local/lib/python3.7/dist-packages/seaborn/_decorators.py:43: FutureWarning: Pass the following variable as a keyword arg: x. From version 0.12, the only valid positional argument will be `data`, and passing other arguments without an explicit keyword will result in an error or misinterpretation.\n",
            "  FutureWarning\n"
          ]
        },
        {
          "output_type": "display_data",
          "data": {
            "image/png": "[encoded data removed]",
            "text/plain": [
              "<Figure size 432x288 with 1 Axes>"
            ]
          },
          "metadata": {
            "needs_background": "light"
          }
        },
        {
          "output_type": "stream",
          "name": "stderr",
          "text": [
            "/usr/local/lib/python3.7/dist-packages/seaborn/_decorators.py:43: FutureWarning: Pass the following variable as a keyword arg: x. From version 0.12, the only valid positional argument will be `data`, and passing other arguments without an explicit keyword will result in an error or misinterpretation.\n",
            "  FutureWarning\n"
          ]
        },
        {
          "output_type": "display_data",
          "data": {
            "image/png": "[encoded data removed]",
            "text/plain": [
              "<Figure size 432x288 with 1 Axes>"
            ]
          },
          "metadata": {
            "needs_background": "light"
          }
        },
        {
          "output_type": "stream",
          "name": "stderr",
          "text": [
            "/usr/local/lib/python3.7/dist-packages/seaborn/_decorators.py:43: FutureWarning: Pass the following variable as a keyword arg: x. From version 0.12, the only valid positional argument will be `data`, and passing other arguments without an explicit keyword will result in an error or misinterpretation.\n",
            "  FutureWarning\n"
          ]
        },
        {
          "output_type": "display_data",
          "data": {
            "image/png": "[encoded data removed]",
            "text/plain": [
              "<Figure size 432x288 with 1 Axes>"
            ]
          },
          "metadata": {
            "needs_background": "light"
          }
        }
      ]
    },
    {
      "cell_type": "code",
      "metadata": {
        "colab": {
          "base_uri": "https://localhost:8080/"
        },
        "id": "keP1PxYQ-kRX",
        "outputId": "bbd6448b-f274-4db4-84da-756f12e41a6b"
      },
      "source": [
        "df2.isnull().sum()"
      ],
      "execution_count": 39,
      "outputs": [
        {
          "output_type": "execute_result",
          "data": {
            "text/plain": [
              "Type_of_Cab                    0\n",
              "Customer_Since_Months          0\n",
              "Confidence_Life_Style_Index    0\n",
              "Destination_Type               0\n",
              "Gender                         0\n",
              "Trip_Distance                  0\n",
              "Life_Style_Index               0\n",
              "Customer_Rating                0\n",
              "Cancellation_Last_1Month       0\n",
              "Var2                           0\n",
              "Var3                           0\n",
              "Surge_Pricing_Type             0\n",
              "dtype: int64"
            ]
          },
          "metadata": {},
          "execution_count": 39
        }
      ]
    },
    {
      "cell_type": "code",
      "metadata": {
        "colab": {
          "base_uri": "https://localhost:8080/"
        },
        "id": "LDSharct-sK0",
        "outputId": "b2ab312b-a4c2-4b12-c309-caec77eebf33"
      },
      "source": [
        "df2.shape"
      ],
      "execution_count": 40,
      "outputs": [
        {
          "output_type": "execute_result",
          "data": {
            "text/plain": [
              "(112402, 12)"
            ]
          },
          "metadata": {},
          "execution_count": 40
        }
      ]
    },
    {
      "cell_type": "markdown",
      "metadata": {
        "id": "FTWYuaxmfF02"
      },
      "source": [
        "# checking for multicollinearity"
      ]
    },
    {
      "cell_type": "code",
      "metadata": {
        "colab": {
          "base_uri": "https://localhost:8080/",
          "height": 407
        },
        "id": "HNQa_LLb_jqD",
        "outputId": "a26adfd8-7c94-455b-b445-240fa1327bca"
      },
      "source": [
        "sns.heatmap(df2.corr(),annot=True)"
      ],
      "execution_count": 41,
      "outputs": [
        {
          "output_type": "execute_result",
          "data": {
            "text/plain": [
              "<matplotlib.axes._subplots.AxesSubplot at 0x7f14f183d710>"
            ]
          },
          "metadata": {},
          "execution_count": 41
        },
        {
          "output_type": "display_data",
          "data": {
            "image/png": "[encoded data removed]",
            "text/plain": [
              "<Figure size 432x288 with 2 Axes>"
            ]
          },
          "metadata": {
            "needs_background": "light"
          }
        }
      ]
    },
    {
      "cell_type": "code",
      "metadata": {
        "id": "YgSmjgKc1ROB"
      },
      "source": [
        "# due to multi-collinearity between var2 and var3, we are dropping var2"
      ],
      "execution_count": 42,
      "outputs": []
    },
    {
      "cell_type": "code",
      "metadata": {
        "id": "kFlnHwS62GxL"
      },
      "source": [
        "df2 = df2.drop(columns=['Var2'])"
      ],
      "execution_count": 43,
      "outputs": []
    },
    {
      "cell_type": "code",
      "metadata": {
        "id": "FgUSbgD7-yLo"
      },
      "source": [
        "dummies = pd.get_dummies(data=df2,columns=df2.select_dtypes('object').columns,drop_first=True)"
      ],
      "execution_count": 44,
      "outputs": []
    },
    {
      "cell_type": "code",
      "metadata": {
        "colab": {
          "base_uri": "https://localhost:8080/",
          "height": 224
        },
        "id": "fnieJA3G_sCN",
        "outputId": "16b971de-a7bb-43dd-cdd8-026bc54e08f9"
      },
      "source": [
        "dummies.head()"
      ],
      "execution_count": 45,
      "outputs": [
        {
          "output_type": "execute_result",
          "data": {
            "text/html": [
              "<div>\n",
              "<style scoped>\n",
              "    .dataframe tbody tr th:only-of-type {\n",
              "        vertical-align: middle;\n",
              "    }\n",
              "\n",
              "    .dataframe tbody tr th {\n",
              "        vertical-align: top;\n",
              "    }\n",
              "\n",
              "    .dataframe thead th {\n",
              "        text-align: right;\n",
              "    }\n",
              "</style>\n",
              "<table border=\"1\" class=\"dataframe\">\n",
              "  <thead>\n",
              "    <tr style=\"text-align: right;\">\n",
              "      <th></th>\n",
              "      <th>Trip_Distance</th>\n",
              "      <th>Life_Style_Index</th>\n",
              "      <th>Customer_Rating</th>\n",
              "      <th>Cancellation_Last_1Month</th>\n",
              "      <th>Var3</th>\n",
              "      <th>Surge_Pricing_Type</th>\n",
              "      <th>Type_of_Cab_B</th>\n",
              "      <th>Type_of_Cab_C</th>\n",
              "      <th>Type_of_Cab_D</th>\n",
              "      <th>Type_of_Cab_E</th>\n",
              "      <th>Customer_Since_Months_1.0</th>\n",
              "      <th>Customer_Since_Months_2.0</th>\n",
              "      <th>Customer_Since_Months_3.0</th>\n",
              "      <th>Customer_Since_Months_4.0</th>\n",
              "      <th>Customer_Since_Months_5.0</th>\n",
              "      <th>Customer_Since_Months_6.0</th>\n",
              "      <th>Customer_Since_Months_7.0</th>\n",
              "      <th>Customer_Since_Months_8.0</th>\n",
              "      <th>Customer_Since_Months_9.0</th>\n",
              "      <th>Customer_Since_Months_10.0</th>\n",
              "      <th>Confidence_Life_Style_Index_B</th>\n",
              "      <th>Confidence_Life_Style_Index_C</th>\n",
              "      <th>Destination_Type_B</th>\n",
              "      <th>Destination_Type_C</th>\n",
              "      <th>Destination_Type_D</th>\n",
              "      <th>Destination_Type_E</th>\n",
              "      <th>Destination_Type_F</th>\n",
              "      <th>Destination_Type_G</th>\n",
              "      <th>Destination_Type_H</th>\n",
              "      <th>Destination_Type_I</th>\n",
              "      <th>Destination_Type_J</th>\n",
              "      <th>Destination_Type_K</th>\n",
              "      <th>Destination_Type_L</th>\n",
              "      <th>Destination_Type_M</th>\n",
              "      <th>Destination_Type_N</th>\n",
              "      <th>Gender_Male</th>\n",
              "    </tr>\n",
              "  </thead>\n",
              "  <tbody>\n",
              "    <tr>\n",
              "      <th>0</th>\n",
              "      <td>31.16</td>\n",
              "      <td>2.69170</td>\n",
              "      <td>2.14750</td>\n",
              "      <td>0.0</td>\n",
              "      <td>90.0</td>\n",
              "      <td>1.0</td>\n",
              "      <td>1</td>\n",
              "      <td>0</td>\n",
              "      <td>0</td>\n",
              "      <td>0</td>\n",
              "      <td>0</td>\n",
              "      <td>0</td>\n",
              "      <td>0</td>\n",
              "      <td>0</td>\n",
              "      <td>0</td>\n",
              "      <td>0</td>\n",
              "      <td>0</td>\n",
              "      <td>0</td>\n",
              "      <td>0</td>\n",
              "      <td>1</td>\n",
              "      <td>1</td>\n",
              "      <td>0</td>\n",
              "      <td>0</td>\n",
              "      <td>0</td>\n",
              "      <td>0</td>\n",
              "      <td>0</td>\n",
              "      <td>0</td>\n",
              "      <td>0</td>\n",
              "      <td>0</td>\n",
              "      <td>0</td>\n",
              "      <td>0</td>\n",
              "      <td>0</td>\n",
              "      <td>0</td>\n",
              "      <td>0</td>\n",
              "      <td>0</td>\n",
              "      <td>0</td>\n",
              "    </tr>\n",
              "    <tr>\n",
              "      <th>1</th>\n",
              "      <td>14.12</td>\n",
              "      <td>2.97795</td>\n",
              "      <td>4.93375</td>\n",
              "      <td>0.0</td>\n",
              "      <td>64.0</td>\n",
              "      <td>1.0</td>\n",
              "      <td>0</td>\n",
              "      <td>0</td>\n",
              "      <td>1</td>\n",
              "      <td>0</td>\n",
              "      <td>0</td>\n",
              "      <td>0</td>\n",
              "      <td>1</td>\n",
              "      <td>0</td>\n",
              "      <td>0</td>\n",
              "      <td>0</td>\n",
              "      <td>0</td>\n",
              "      <td>0</td>\n",
              "      <td>0</td>\n",
              "      <td>0</td>\n",
              "      <td>1</td>\n",
              "      <td>0</td>\n",
              "      <td>0</td>\n",
              "      <td>0</td>\n",
              "      <td>0</td>\n",
              "      <td>0</td>\n",
              "      <td>0</td>\n",
              "      <td>1</td>\n",
              "      <td>0</td>\n",
              "      <td>0</td>\n",
              "      <td>0</td>\n",
              "      <td>0</td>\n",
              "      <td>0</td>\n",
              "      <td>0</td>\n",
              "      <td>0</td>\n",
              "      <td>1</td>\n",
              "    </tr>\n",
              "    <tr>\n",
              "      <th>2</th>\n",
              "      <td>72.54</td>\n",
              "      <td>3.06236</td>\n",
              "      <td>2.08250</td>\n",
              "      <td>0.0</td>\n",
              "      <td>89.0</td>\n",
              "      <td>1.0</td>\n",
              "      <td>0</td>\n",
              "      <td>1</td>\n",
              "      <td>0</td>\n",
              "      <td>0</td>\n",
              "      <td>0</td>\n",
              "      <td>0</td>\n",
              "      <td>0</td>\n",
              "      <td>0</td>\n",
              "      <td>0</td>\n",
              "      <td>0</td>\n",
              "      <td>0</td>\n",
              "      <td>0</td>\n",
              "      <td>0</td>\n",
              "      <td>0</td>\n",
              "      <td>0</td>\n",
              "      <td>1</td>\n",
              "      <td>0</td>\n",
              "      <td>0</td>\n",
              "      <td>0</td>\n",
              "      <td>0</td>\n",
              "      <td>0</td>\n",
              "      <td>0</td>\n",
              "      <td>0</td>\n",
              "      <td>0</td>\n",
              "      <td>0</td>\n",
              "      <td>0</td>\n",
              "      <td>0</td>\n",
              "      <td>0</td>\n",
              "      <td>0</td>\n",
              "      <td>1</td>\n",
              "    </tr>\n",
              "    <tr>\n",
              "      <th>5</th>\n",
              "      <td>31.82</td>\n",
              "      <td>2.70044</td>\n",
              "      <td>3.15125</td>\n",
              "      <td>1.0</td>\n",
              "      <td>66.0</td>\n",
              "      <td>1.0</td>\n",
              "      <td>0</td>\n",
              "      <td>0</td>\n",
              "      <td>0</td>\n",
              "      <td>0</td>\n",
              "      <td>0</td>\n",
              "      <td>0</td>\n",
              "      <td>0</td>\n",
              "      <td>0</td>\n",
              "      <td>0</td>\n",
              "      <td>0</td>\n",
              "      <td>0</td>\n",
              "      <td>0</td>\n",
              "      <td>0</td>\n",
              "      <td>1</td>\n",
              "      <td>0</td>\n",
              "      <td>1</td>\n",
              "      <td>1</td>\n",
              "      <td>0</td>\n",
              "      <td>0</td>\n",
              "      <td>0</td>\n",
              "      <td>0</td>\n",
              "      <td>0</td>\n",
              "      <td>0</td>\n",
              "      <td>0</td>\n",
              "      <td>0</td>\n",
              "      <td>0</td>\n",
              "      <td>0</td>\n",
              "      <td>0</td>\n",
              "      <td>0</td>\n",
              "      <td>1</td>\n",
              "    </tr>\n",
              "    <tr>\n",
              "      <th>6</th>\n",
              "      <td>18.34</td>\n",
              "      <td>2.59621</td>\n",
              "      <td>3.15875</td>\n",
              "      <td>0.0</td>\n",
              "      <td>72.0</td>\n",
              "      <td>1.0</td>\n",
              "      <td>0</td>\n",
              "      <td>0</td>\n",
              "      <td>0</td>\n",
              "      <td>0</td>\n",
              "      <td>0</td>\n",
              "      <td>0</td>\n",
              "      <td>0</td>\n",
              "      <td>1</td>\n",
              "      <td>0</td>\n",
              "      <td>0</td>\n",
              "      <td>0</td>\n",
              "      <td>0</td>\n",
              "      <td>0</td>\n",
              "      <td>0</td>\n",
              "      <td>0</td>\n",
              "      <td>0</td>\n",
              "      <td>1</td>\n",
              "      <td>0</td>\n",
              "      <td>0</td>\n",
              "      <td>0</td>\n",
              "      <td>0</td>\n",
              "      <td>0</td>\n",
              "      <td>0</td>\n",
              "      <td>0</td>\n",
              "      <td>0</td>\n",
              "      <td>0</td>\n",
              "      <td>0</td>\n",
              "      <td>0</td>\n",
              "      <td>0</td>\n",
              "      <td>1</td>\n",
              "    </tr>\n",
              "  </tbody>\n",
              "</table>\n",
              "</div>"
            ],
            "text/plain": [
              "   Trip_Distance  Life_Style_Index  ...  Destination_Type_N  Gender_Male\n",
              "0          31.16           2.69170  ...                   0            0\n",
              "1          14.12           2.97795  ...                   0            1\n",
              "2          72.54           3.06236  ...                   0            1\n",
              "5          31.82           2.70044  ...                   0            1\n",
              "6          18.34           2.59621  ...                   0            1\n",
              "\n",
              "[5 rows x 36 columns]"
            ]
          },
          "metadata": {},
          "execution_count": 45
        }
      ]
    },
    {
      "cell_type": "code",
      "metadata": {
        "id": "JZI0YLKh_QT5"
      },
      "source": [
        "df2 = dummies.copy()"
      ],
      "execution_count": 46,
      "outputs": []
    },
    {
      "cell_type": "code",
      "metadata": {
        "colab": {
          "base_uri": "https://localhost:8080/"
        },
        "id": "Gak1yzQh_RnK",
        "outputId": "80f4d9cf-9be6-4b02-b068-ed563da6233d"
      },
      "source": [
        "df2.shape"
      ],
      "execution_count": 47,
      "outputs": [
        {
          "output_type": "execute_result",
          "data": {
            "text/plain": [
              "(112402, 36)"
            ]
          },
          "metadata": {},
          "execution_count": 47
        }
      ]
    },
    {
      "cell_type": "code",
      "metadata": {
        "id": "y9-1I24JnZ3h"
      },
      "source": [
        "df2 = df2.reset_index(drop=False)"
      ],
      "execution_count": 48,
      "outputs": []
    },
    {
      "cell_type": "code",
      "metadata": {
        "id": "kL3Wf6BMneN3"
      },
      "source": [
        "df2 = df2.drop(columns=['index'])"
      ],
      "execution_count": 49,
      "outputs": []
    },
    {
      "cell_type": "code",
      "metadata": {
        "colab": {
          "base_uri": "https://localhost:8080/",
          "height": 224
        },
        "id": "K7wNRFoEnsiY",
        "outputId": "e4595f55-62df-4072-df9f-ddb1ceb368d9"
      },
      "source": [
        "df2.head()"
      ],
      "execution_count": 50,
      "outputs": [
        {
          "output_type": "execute_result",
          "data": {
            "text/html": [
              "<div>\n",
              "<style scoped>\n",
              "    .dataframe tbody tr th:only-of-type {\n",
              "        vertical-align: middle;\n",
              "    }\n",
              "\n",
              "    .dataframe tbody tr th {\n",
              "        vertical-align: top;\n",
              "    }\n",
              "\n",
              "    .dataframe thead th {\n",
              "        text-align: right;\n",
              "    }\n",
              "</style>\n",
              "<table border=\"1\" class=\"dataframe\">\n",
              "  <thead>\n",
              "    <tr style=\"text-align: right;\">\n",
              "      <th></th>\n",
              "      <th>Trip_Distance</th>\n",
              "      <th>Life_Style_Index</th>\n",
              "      <th>Customer_Rating</th>\n",
              "      <th>Cancellation_Last_1Month</th>\n",
              "      <th>Var3</th>\n",
              "      <th>Surge_Pricing_Type</th>\n",
              "      <th>Type_of_Cab_B</th>\n",
              "      <th>Type_of_Cab_C</th>\n",
              "      <th>Type_of_Cab_D</th>\n",
              "      <th>Type_of_Cab_E</th>\n",
              "      <th>Customer_Since_Months_1.0</th>\n",
              "      <th>Customer_Since_Months_2.0</th>\n",
              "      <th>Customer_Since_Months_3.0</th>\n",
              "      <th>Customer_Since_Months_4.0</th>\n",
              "      <th>Customer_Since_Months_5.0</th>\n",
              "      <th>Customer_Since_Months_6.0</th>\n",
              "      <th>Customer_Since_Months_7.0</th>\n",
              "      <th>Customer_Since_Months_8.0</th>\n",
              "      <th>Customer_Since_Months_9.0</th>\n",
              "      <th>Customer_Since_Months_10.0</th>\n",
              "      <th>Confidence_Life_Style_Index_B</th>\n",
              "      <th>Confidence_Life_Style_Index_C</th>\n",
              "      <th>Destination_Type_B</th>\n",
              "      <th>Destination_Type_C</th>\n",
              "      <th>Destination_Type_D</th>\n",
              "      <th>Destination_Type_E</th>\n",
              "      <th>Destination_Type_F</th>\n",
              "      <th>Destination_Type_G</th>\n",
              "      <th>Destination_Type_H</th>\n",
              "      <th>Destination_Type_I</th>\n",
              "      <th>Destination_Type_J</th>\n",
              "      <th>Destination_Type_K</th>\n",
              "      <th>Destination_Type_L</th>\n",
              "      <th>Destination_Type_M</th>\n",
              "      <th>Destination_Type_N</th>\n",
              "      <th>Gender_Male</th>\n",
              "    </tr>\n",
              "  </thead>\n",
              "  <tbody>\n",
              "    <tr>\n",
              "      <th>0</th>\n",
              "      <td>31.16</td>\n",
              "      <td>2.69170</td>\n",
              "      <td>2.14750</td>\n",
              "      <td>0.0</td>\n",
              "      <td>90.0</td>\n",
              "      <td>1.0</td>\n",
              "      <td>1</td>\n",
              "      <td>0</td>\n",
              "      <td>0</td>\n",
              "      <td>0</td>\n",
              "      <td>0</td>\n",
              "      <td>0</td>\n",
              "      <td>0</td>\n",
              "      <td>0</td>\n",
              "      <td>0</td>\n",
              "      <td>0</td>\n",
              "      <td>0</td>\n",
              "      <td>0</td>\n",
              "      <td>0</td>\n",
              "      <td>1</td>\n",
              "      <td>1</td>\n",
              "      <td>0</td>\n",
              "      <td>0</td>\n",
              "      <td>0</td>\n",
              "      <td>0</td>\n",
              "      <td>0</td>\n",
              "      <td>0</td>\n",
              "      <td>0</td>\n",
              "      <td>0</td>\n",
              "      <td>0</td>\n",
              "      <td>0</td>\n",
              "      <td>0</td>\n",
              "      <td>0</td>\n",
              "      <td>0</td>\n",
              "      <td>0</td>\n",
              "      <td>0</td>\n",
              "    </tr>\n",
              "    <tr>\n",
              "      <th>1</th>\n",
              "      <td>14.12</td>\n",
              "      <td>2.97795</td>\n",
              "      <td>4.93375</td>\n",
              "      <td>0.0</td>\n",
              "      <td>64.0</td>\n",
              "      <td>1.0</td>\n",
              "      <td>0</td>\n",
              "      <td>0</td>\n",
              "      <td>1</td>\n",
              "      <td>0</td>\n",
              "      <td>0</td>\n",
              "      <td>0</td>\n",
              "      <td>1</td>\n",
              "      <td>0</td>\n",
              "      <td>0</td>\n",
              "      <td>0</td>\n",
              "      <td>0</td>\n",
              "      <td>0</td>\n",
              "      <td>0</td>\n",
              "      <td>0</td>\n",
              "      <td>1</td>\n",
              "      <td>0</td>\n",
              "      <td>0</td>\n",
              "      <td>0</td>\n",
              "      <td>0</td>\n",
              "      <td>0</td>\n",
              "      <td>0</td>\n",
              "      <td>1</td>\n",
              "      <td>0</td>\n",
              "      <td>0</td>\n",
              "      <td>0</td>\n",
              "      <td>0</td>\n",
              "      <td>0</td>\n",
              "      <td>0</td>\n",
              "      <td>0</td>\n",
              "      <td>1</td>\n",
              "    </tr>\n",
              "    <tr>\n",
              "      <th>2</th>\n",
              "      <td>72.54</td>\n",
              "      <td>3.06236</td>\n",
              "      <td>2.08250</td>\n",
              "      <td>0.0</td>\n",
              "      <td>89.0</td>\n",
              "      <td>1.0</td>\n",
              "      <td>0</td>\n",
              "      <td>1</td>\n",
              "      <td>0</td>\n",
              "      <td>0</td>\n",
              "      <td>0</td>\n",
              "      <td>0</td>\n",
              "      <td>0</td>\n",
              "      <td>0</td>\n",
              "      <td>0</td>\n",
              "      <td>0</td>\n",
              "      <td>0</td>\n",
              "      <td>0</td>\n",
              "      <td>0</td>\n",
              "      <td>0</td>\n",
              "      <td>0</td>\n",
              "      <td>1</td>\n",
              "      <td>0</td>\n",
              "      <td>0</td>\n",
              "      <td>0</td>\n",
              "      <td>0</td>\n",
              "      <td>0</td>\n",
              "      <td>0</td>\n",
              "      <td>0</td>\n",
              "      <td>0</td>\n",
              "      <td>0</td>\n",
              "      <td>0</td>\n",
              "      <td>0</td>\n",
              "      <td>0</td>\n",
              "      <td>0</td>\n",
              "      <td>1</td>\n",
              "    </tr>\n",
              "    <tr>\n",
              "      <th>3</th>\n",
              "      <td>31.82</td>\n",
              "      <td>2.70044</td>\n",
              "      <td>3.15125</td>\n",
              "      <td>1.0</td>\n",
              "      <td>66.0</td>\n",
              "      <td>1.0</td>\n",
              "      <td>0</td>\n",
              "      <td>0</td>\n",
              "      <td>0</td>\n",
              "      <td>0</td>\n",
              "      <td>0</td>\n",
              "      <td>0</td>\n",
              "      <td>0</td>\n",
              "      <td>0</td>\n",
              "      <td>0</td>\n",
              "      <td>0</td>\n",
              "      <td>0</td>\n",
              "      <td>0</td>\n",
              "      <td>0</td>\n",
              "      <td>1</td>\n",
              "      <td>0</td>\n",
              "      <td>1</td>\n",
              "      <td>1</td>\n",
              "      <td>0</td>\n",
              "      <td>0</td>\n",
              "      <td>0</td>\n",
              "      <td>0</td>\n",
              "      <td>0</td>\n",
              "      <td>0</td>\n",
              "      <td>0</td>\n",
              "      <td>0</td>\n",
              "      <td>0</td>\n",
              "      <td>0</td>\n",
              "      <td>0</td>\n",
              "      <td>0</td>\n",
              "      <td>1</td>\n",
              "    </tr>\n",
              "    <tr>\n",
              "      <th>4</th>\n",
              "      <td>18.34</td>\n",
              "      <td>2.59621</td>\n",
              "      <td>3.15875</td>\n",
              "      <td>0.0</td>\n",
              "      <td>72.0</td>\n",
              "      <td>1.0</td>\n",
              "      <td>0</td>\n",
              "      <td>0</td>\n",
              "      <td>0</td>\n",
              "      <td>0</td>\n",
              "      <td>0</td>\n",
              "      <td>0</td>\n",
              "      <td>0</td>\n",
              "      <td>1</td>\n",
              "      <td>0</td>\n",
              "      <td>0</td>\n",
              "      <td>0</td>\n",
              "      <td>0</td>\n",
              "      <td>0</td>\n",
              "      <td>0</td>\n",
              "      <td>0</td>\n",
              "      <td>0</td>\n",
              "      <td>1</td>\n",
              "      <td>0</td>\n",
              "      <td>0</td>\n",
              "      <td>0</td>\n",
              "      <td>0</td>\n",
              "      <td>0</td>\n",
              "      <td>0</td>\n",
              "      <td>0</td>\n",
              "      <td>0</td>\n",
              "      <td>0</td>\n",
              "      <td>0</td>\n",
              "      <td>0</td>\n",
              "      <td>0</td>\n",
              "      <td>1</td>\n",
              "    </tr>\n",
              "  </tbody>\n",
              "</table>\n",
              "</div>"
            ],
            "text/plain": [
              "   Trip_Distance  Life_Style_Index  ...  Destination_Type_N  Gender_Male\n",
              "0          31.16           2.69170  ...                   0            0\n",
              "1          14.12           2.97795  ...                   0            1\n",
              "2          72.54           3.06236  ...                   0            1\n",
              "3          31.82           2.70044  ...                   0            1\n",
              "4          18.34           2.59621  ...                   0            1\n",
              "\n",
              "[5 rows x 36 columns]"
            ]
          },
          "metadata": {},
          "execution_count": 50
        }
      ]
    },
    {
      "cell_type": "code",
      "metadata": {
        "id": "wx2orRnG_-15"
      },
      "source": [
        "x = df2.drop(columns = ['Surge_Pricing_Type'])\n",
        "y = df2.Surge_Pricing_Type"
      ],
      "execution_count": 51,
      "outputs": []
    },
    {
      "cell_type": "code",
      "metadata": {
        "colab": {
          "base_uri": "https://localhost:8080/",
          "height": 288
        },
        "id": "NtIF861SAtFU",
        "outputId": "2b73f9f9-a0b9-4c11-e6f8-188686f10f56"
      },
      "source": [
        "df2['Surge_Pricing_Type'].value_counts().plot(kind='bar')"
      ],
      "execution_count": 52,
      "outputs": [
        {
          "output_type": "execute_result",
          "data": {
            "text/plain": [
              "<matplotlib.axes._subplots.AxesSubplot at 0x7f14f1d7b650>"
            ]
          },
          "metadata": {},
          "execution_count": 52
        },
        {
          "output_type": "display_data",
          "data": {
            "image/png": "[encoded data removed]",
            "text/plain": [
              "<Figure size 432x288 with 1 Axes>"
            ]
          },
          "metadata": {
            "needs_background": "light"
          }
        }
      ]
    },
    {
      "cell_type": "code",
      "metadata": {
        "id": "C6jyqdM_ARKG"
      },
      "source": [
        "from sklearn.model_selection import train_test_split"
      ],
      "execution_count": 53,
      "outputs": []
    },
    {
      "cell_type": "code",
      "metadata": {
        "id": "Op4ejhJmAgmp"
      },
      "source": [
        "xtrain,xtest,ytrain,ytest = train_test_split(x,y,train_size = 0.7,random_state = 7)"
      ],
      "execution_count": 54,
      "outputs": []
    },
    {
      "cell_type": "code",
      "metadata": {
        "id": "5MygEJynBEG0"
      },
      "source": [
        "from sklearn.linear_model import LogisticRegression"
      ],
      "execution_count": 55,
      "outputs": []
    },
    {
      "cell_type": "code",
      "metadata": {
        "colab": {
          "base_uri": "https://localhost:8080/"
        },
        "id": "f1w3J1eHBKMb",
        "outputId": "7c5a3024-8d85-444c-a5a7-059498b7293f"
      },
      "source": [
        "lr = LogisticRegression()\n",
        "base = lr.fit(xtrain,ytrain)\n",
        "ypred = base.predict(xtest)"
      ],
      "execution_count": 56,
      "outputs": [
        {
          "output_type": "stream",
          "name": "stderr",
          "text": [
            "/usr/local/lib/python3.7/dist-packages/sklearn/linear_model/_logistic.py:940: ConvergenceWarning: lbfgs failed to converge (status=1):\n",
            "STOP: TOTAL NO. of ITERATIONS REACHED LIMIT.\n",
            "\n",
            "Increase the number of iterations (max_iter) or scale the data as shown in:\n",
            "    https://scikit-learn.org/stable/modules/preprocessing.html\n",
            "Please also refer to the documentation for alternative solver options:\n",
            "    https://scikit-learn.org/stable/modules/linear_model.html#logistic-regression\n",
            "  extra_warning_msg=_LOGISTIC_SOLVER_CONVERGENCE_MSG)\n"
          ]
        }
      ]
    },
    {
      "cell_type": "code",
      "metadata": {
        "id": "TcI7mhPhBgcC"
      },
      "source": [
        "import sklearn.metrics as metrics"
      ],
      "execution_count": 57,
      "outputs": []
    },
    {
      "cell_type": "code",
      "metadata": {
        "colab": {
          "base_uri": "https://localhost:8080/"
        },
        "id": "al_E5jBeCsSI",
        "outputId": "2b783824-6f66-4507-bbd7-fd8e3974d771"
      },
      "source": [
        "print(metrics.classification_report(ytest,ypred))"
      ],
      "execution_count": 58,
      "outputs": [
        {
          "output_type": "stream",
          "name": "stdout",
          "text": [
            "              precision    recall  f1-score   support\n",
            "\n",
            "         1.0       0.79      0.65      0.71      7201\n",
            "         2.0       0.75      0.86      0.80     14869\n",
            "         3.0       0.78      0.72      0.75     11651\n",
            "\n",
            "    accuracy                           0.77     33721\n",
            "   macro avg       0.77      0.74      0.76     33721\n",
            "weighted avg       0.77      0.77      0.77     33721\n",
            "\n"
          ]
        }
      ]
    },
    {
      "cell_type": "code",
      "metadata": {
        "id": "CMTiiVIjCyCX"
      },
      "source": [
        "from sklearn.ensemble import RandomForestClassifier"
      ],
      "execution_count": 59,
      "outputs": []
    },
    {
      "cell_type": "code",
      "metadata": {
        "id": "4sY5ksJgC7qe"
      },
      "source": [
        "rf = RandomForestClassifier()\n",
        "model_v1 = rf.fit(xtrain,ytrain)\n",
        "ypred = model_v1.predict(xtest)"
      ],
      "execution_count": 60,
      "outputs": []
    },
    {
      "cell_type": "code",
      "metadata": {
        "colab": {
          "base_uri": "https://localhost:8080/"
        },
        "id": "OAOIl-LSDHFb",
        "outputId": "5d45ebc0-56f5-41f2-d208-baab4e6bc3e0"
      },
      "source": [
        "print(metrics.classification_report(ytest,ypred))"
      ],
      "execution_count": 61,
      "outputs": [
        {
          "output_type": "stream",
          "name": "stdout",
          "text": [
            "              precision    recall  f1-score   support\n",
            "\n",
            "         1.0       0.83      0.72      0.77      7201\n",
            "         2.0       0.79      0.86      0.82     14869\n",
            "         3.0       0.80      0.78      0.79     11651\n",
            "\n",
            "    accuracy                           0.80     33721\n",
            "   macro avg       0.81      0.79      0.79     33721\n",
            "weighted avg       0.80      0.80      0.80     33721\n",
            "\n"
          ]
        }
      ]
    },
    {
      "cell_type": "code",
      "metadata": {
        "colab": {
          "base_uri": "https://localhost:8080/",
          "height": 282
        },
        "id": "rx8go8A_FAlL",
        "outputId": "01966d90-ea72-4457-eed2-a2d6aa8f2571"
      },
      "source": [
        "sns.heatmap(metrics.confusion_matrix(ytest,ypred),annot=True)"
      ],
      "execution_count": 62,
      "outputs": [
        {
          "output_type": "execute_result",
          "data": {
            "text/plain": [
              "<matplotlib.axes._subplots.AxesSubplot at 0x7f14f1a3d910>"
            ]
          },
          "metadata": {},
          "execution_count": 62
        },
        {
          "output_type": "display_data",
          "data": {
            "image/png": "[encoded data removed]",
            "text/plain": [
              "<Figure size 432x288 with 2 Axes>"
            ]
          },
          "metadata": {
            "needs_background": "light"
          }
        }
      ]
    },
    {
      "cell_type": "code",
      "metadata": {
        "colab": {
          "base_uri": "https://localhost:8080/"
        },
        "id": "LyxHaWZyLnk-",
        "outputId": "efa8012c-0004-4be2-d368-f9f69ef18647"
      },
      "source": [
        "metrics.confusion_matrix(ytest,ypred)"
      ],
      "execution_count": 63,
      "outputs": [
        {
          "output_type": "execute_result",
          "data": {
            "text/plain": [
              "array([[ 5171,  1369,   661],\n",
              "       [  523, 12724,  1622],\n",
              "       [  545,  1996,  9110]])"
            ]
          },
          "metadata": {},
          "execution_count": 63
        }
      ]
    },
    {
      "cell_type": "code",
      "metadata": {
        "id": "a1eteLgYl3-9"
      },
      "source": [
        "# The class weight is imbalanced , hence we are proceeding with smote over sampling technique"
      ],
      "execution_count": 64,
      "outputs": []
    },
    {
      "cell_type": "markdown",
      "metadata": {
        "id": "WleHu8I1fRaf"
      },
      "source": [
        "# Rebuilding data using Synthetic Minority Over-Sampling Technique for Numerical and Categorical (SMOTE-NC) "
      ]
    },
    {
      "cell_type": "code",
      "metadata": {
        "id": "sfhaG3CyhVXO",
        "colab": {
          "base_uri": "https://localhost:8080/"
        },
        "outputId": "069fc8f5-e351-4060-f283-fc9b042f8a0d"
      },
      "source": [
        "from imblearn.over_sampling import SMOTENC"
      ],
      "execution_count": 65,
      "outputs": [
        {
          "output_type": "stream",
          "name": "stderr",
          "text": [
            "/usr/local/lib/python3.7/dist-packages/sklearn/externals/six.py:31: FutureWarning: The module is deprecated in version 0.21 and will be removed in version 0.23 since we've dropped support for Python 2.7. Please rely on the official version of six (https://pypi.org/project/six/).\n",
            "  \"(https://pypi.org/project/six/).\", FutureWarning)\n",
            "/usr/local/lib/python3.7/dist-packages/sklearn/utils/deprecation.py:144: FutureWarning: The sklearn.neighbors.base module is  deprecated in version 0.22 and will be removed in version 0.24. The corresponding classes / functions should instead be imported from sklearn.neighbors. Anything that cannot be imported from sklearn.neighbors is now part of the private API.\n",
            "  warnings.warn(message, FutureWarning)\n"
          ]
        }
      ]
    },
    {
      "cell_type": "code",
      "metadata": {
        "colab": {
          "base_uri": "https://localhost:8080/"
        },
        "id": "BUBmEGv5yep-",
        "outputId": "70c09bce-6d2f-44c6-fc32-6b5b66e66c30"
      },
      "source": [
        "df1.isnull().sum()"
      ],
      "execution_count": 66,
      "outputs": [
        {
          "output_type": "execute_result",
          "data": {
            "text/plain": [
              "Type_of_Cab                    0\n",
              "Customer_Since_Months          0\n",
              "Confidence_Life_Style_Index    0\n",
              "Destination_Type               0\n",
              "Gender                         0\n",
              "Trip_Distance                  0\n",
              "Life_Style_Index               0\n",
              "Customer_Rating                0\n",
              "Cancellation_Last_1Month       0\n",
              "Var2                           0\n",
              "Var3                           0\n",
              "Surge_Pricing_Type             0\n",
              "dtype: int64"
            ]
          },
          "metadata": {},
          "execution_count": 66
        }
      ]
    },
    {
      "cell_type": "code",
      "metadata": {
        "colab": {
          "base_uri": "https://localhost:8080/",
          "height": 224
        },
        "id": "62SbPE1yh2qc",
        "outputId": "ac2af7f1-cd9a-4dc2-8e88-7b465121b416"
      },
      "source": [
        "df1.head()"
      ],
      "execution_count": 67,
      "outputs": [
        {
          "output_type": "execute_result",
          "data": {
            "text/html": [
              "<div>\n",
              "<style scoped>\n",
              "    .dataframe tbody tr th:only-of-type {\n",
              "        vertical-align: middle;\n",
              "    }\n",
              "\n",
              "    .dataframe tbody tr th {\n",
              "        vertical-align: top;\n",
              "    }\n",
              "\n",
              "    .dataframe thead th {\n",
              "        text-align: right;\n",
              "    }\n",
              "</style>\n",
              "<table border=\"1\" class=\"dataframe\">\n",
              "  <thead>\n",
              "    <tr style=\"text-align: right;\">\n",
              "      <th></th>\n",
              "      <th>Type_of_Cab</th>\n",
              "      <th>Customer_Since_Months</th>\n",
              "      <th>Confidence_Life_Style_Index</th>\n",
              "      <th>Destination_Type</th>\n",
              "      <th>Gender</th>\n",
              "      <th>Trip_Distance</th>\n",
              "      <th>Life_Style_Index</th>\n",
              "      <th>Customer_Rating</th>\n",
              "      <th>Cancellation_Last_1Month</th>\n",
              "      <th>Var2</th>\n",
              "      <th>Var3</th>\n",
              "      <th>Surge_Pricing_Type</th>\n",
              "    </tr>\n",
              "  </thead>\n",
              "  <tbody>\n",
              "    <tr>\n",
              "      <th>0</th>\n",
              "      <td>B</td>\n",
              "      <td>10</td>\n",
              "      <td>B</td>\n",
              "      <td>A</td>\n",
              "      <td>Female</td>\n",
              "      <td>31.16</td>\n",
              "      <td>2.69170</td>\n",
              "      <td>2.14750</td>\n",
              "      <td>0.0</td>\n",
              "      <td>53.0</td>\n",
              "      <td>90.0</td>\n",
              "      <td>1.0</td>\n",
              "    </tr>\n",
              "    <tr>\n",
              "      <th>1</th>\n",
              "      <td>D</td>\n",
              "      <td>3</td>\n",
              "      <td>B</td>\n",
              "      <td>G</td>\n",
              "      <td>Male</td>\n",
              "      <td>14.12</td>\n",
              "      <td>2.97795</td>\n",
              "      <td>4.93375</td>\n",
              "      <td>0.0</td>\n",
              "      <td>47.0</td>\n",
              "      <td>64.0</td>\n",
              "      <td>1.0</td>\n",
              "    </tr>\n",
              "    <tr>\n",
              "      <th>2</th>\n",
              "      <td>C</td>\n",
              "      <td>0</td>\n",
              "      <td>C</td>\n",
              "      <td>A</td>\n",
              "      <td>Male</td>\n",
              "      <td>72.54</td>\n",
              "      <td>3.06236</td>\n",
              "      <td>2.08250</td>\n",
              "      <td>0.0</td>\n",
              "      <td>52.0</td>\n",
              "      <td>89.0</td>\n",
              "      <td>1.0</td>\n",
              "    </tr>\n",
              "    <tr>\n",
              "      <th>3</th>\n",
              "      <td>B</td>\n",
              "      <td>1</td>\n",
              "      <td>A</td>\n",
              "      <td>A</td>\n",
              "      <td>Male</td>\n",
              "      <td>16.78</td>\n",
              "      <td>2.70013</td>\n",
              "      <td>1.61250</td>\n",
              "      <td>3.0</td>\n",
              "      <td>52.0</td>\n",
              "      <td>85.0</td>\n",
              "      <td>1.0</td>\n",
              "    </tr>\n",
              "    <tr>\n",
              "      <th>4</th>\n",
              "      <td>A</td>\n",
              "      <td>9</td>\n",
              "      <td>B</td>\n",
              "      <td>A</td>\n",
              "      <td>Male</td>\n",
              "      <td>18.47</td>\n",
              "      <td>2.77751</td>\n",
              "      <td>1.44000</td>\n",
              "      <td>5.0</td>\n",
              "      <td>55.0</td>\n",
              "      <td>85.0</td>\n",
              "      <td>1.0</td>\n",
              "    </tr>\n",
              "  </tbody>\n",
              "</table>\n",
              "</div>"
            ],
            "text/plain": [
              "  Type_of_Cab Customer_Since_Months  ...  Var3 Surge_Pricing_Type\n",
              "0           B                    10  ...  90.0                1.0\n",
              "1           D                     3  ...  64.0                1.0\n",
              "2           C                     0  ...  89.0                1.0\n",
              "3           B                     1  ...  85.0                1.0\n",
              "4           A                     9  ...  85.0                1.0\n",
              "\n",
              "[5 rows x 12 columns]"
            ]
          },
          "metadata": {},
          "execution_count": 67
        }
      ]
    },
    {
      "cell_type": "code",
      "metadata": {
        "id": "UoTGehNXhiCX"
      },
      "source": [
        "strategy = {1.0:40000,2.0:56728,3.0:47720}\n",
        "cat_index = [0,1,2,3,4,8]\n",
        "x = df1.drop(columns=['Surge_Pricing_Type'])\n",
        "y = df1['Surge_Pricing_Type']"
      ],
      "execution_count": 68,
      "outputs": []
    },
    {
      "cell_type": "code",
      "metadata": {
        "colab": {
          "base_uri": "https://localhost:8080/"
        },
        "id": "KhOjBleqis8s",
        "outputId": "73f71b1d-1f8b-4786-c7b4-814060cf6e45"
      },
      "source": [
        "sm_nc = SMOTENC(categorical_features=cat_index,sampling_strategy=strategy,random_state=10)\n",
        "x_sm,y_sm = sm_nc.fit_resample(x,y)"
      ],
      "execution_count": 69,
      "outputs": [
        {
          "output_type": "stream",
          "name": "stderr",
          "text": [
            "/usr/local/lib/python3.7/dist-packages/sklearn/utils/deprecation.py:87: FutureWarning: Function safe_indexing is deprecated; safe_indexing is deprecated in version 0.22 and will be removed in version 0.24.\n",
            "  warnings.warn(msg, category=FutureWarning)\n",
            "/usr/local/lib/python3.7/dist-packages/sklearn/utils/deprecation.py:87: FutureWarning: Function safe_indexing is deprecated; safe_indexing is deprecated in version 0.22 and will be removed in version 0.24.\n",
            "  warnings.warn(msg, category=FutureWarning)\n"
          ]
        }
      ]
    },
    {
      "cell_type": "code",
      "metadata": {
        "id": "hJhq5razjGjb"
      },
      "source": [
        "x_sm = pd.DataFrame(data=x_sm,columns=x.columns)\n",
        "y_sm = pd.Series(data=y_sm)"
      ],
      "execution_count": 70,
      "outputs": []
    },
    {
      "cell_type": "code",
      "metadata": {
        "colab": {
          "base_uri": "https://localhost:8080/",
          "height": 224
        },
        "id": "Mpx10MCvjvyO",
        "outputId": "f06864c6-5fe7-4978-9f4f-4dbf6a09b8e8"
      },
      "source": [
        "x_sm.head()"
      ],
      "execution_count": 71,
      "outputs": [
        {
          "output_type": "execute_result",
          "data": {
            "text/html": [
              "<div>\n",
              "<style scoped>\n",
              "    .dataframe tbody tr th:only-of-type {\n",
              "        vertical-align: middle;\n",
              "    }\n",
              "\n",
              "    .dataframe tbody tr th {\n",
              "        vertical-align: top;\n",
              "    }\n",
              "\n",
              "    .dataframe thead th {\n",
              "        text-align: right;\n",
              "    }\n",
              "</style>\n",
              "<table border=\"1\" class=\"dataframe\">\n",
              "  <thead>\n",
              "    <tr style=\"text-align: right;\">\n",
              "      <th></th>\n",
              "      <th>Type_of_Cab</th>\n",
              "      <th>Customer_Since_Months</th>\n",
              "      <th>Confidence_Life_Style_Index</th>\n",
              "      <th>Destination_Type</th>\n",
              "      <th>Gender</th>\n",
              "      <th>Trip_Distance</th>\n",
              "      <th>Life_Style_Index</th>\n",
              "      <th>Customer_Rating</th>\n",
              "      <th>Cancellation_Last_1Month</th>\n",
              "      <th>Var2</th>\n",
              "      <th>Var3</th>\n",
              "    </tr>\n",
              "  </thead>\n",
              "  <tbody>\n",
              "    <tr>\n",
              "      <th>0</th>\n",
              "      <td>B</td>\n",
              "      <td>10</td>\n",
              "      <td>B</td>\n",
              "      <td>A</td>\n",
              "      <td>Female</td>\n",
              "      <td>31.16</td>\n",
              "      <td>2.6917</td>\n",
              "      <td>2.1475</td>\n",
              "      <td>0</td>\n",
              "      <td>53</td>\n",
              "      <td>90</td>\n",
              "    </tr>\n",
              "    <tr>\n",
              "      <th>1</th>\n",
              "      <td>D</td>\n",
              "      <td>3</td>\n",
              "      <td>B</td>\n",
              "      <td>G</td>\n",
              "      <td>Male</td>\n",
              "      <td>14.12</td>\n",
              "      <td>2.97795</td>\n",
              "      <td>4.93375</td>\n",
              "      <td>0</td>\n",
              "      <td>47</td>\n",
              "      <td>64</td>\n",
              "    </tr>\n",
              "    <tr>\n",
              "      <th>2</th>\n",
              "      <td>C</td>\n",
              "      <td>0</td>\n",
              "      <td>C</td>\n",
              "      <td>A</td>\n",
              "      <td>Male</td>\n",
              "      <td>72.54</td>\n",
              "      <td>3.06236</td>\n",
              "      <td>2.0825</td>\n",
              "      <td>0</td>\n",
              "      <td>52</td>\n",
              "      <td>89</td>\n",
              "    </tr>\n",
              "    <tr>\n",
              "      <th>3</th>\n",
              "      <td>B</td>\n",
              "      <td>1</td>\n",
              "      <td>A</td>\n",
              "      <td>A</td>\n",
              "      <td>Male</td>\n",
              "      <td>16.78</td>\n",
              "      <td>2.70013</td>\n",
              "      <td>1.6125</td>\n",
              "      <td>3</td>\n",
              "      <td>52</td>\n",
              "      <td>85</td>\n",
              "    </tr>\n",
              "    <tr>\n",
              "      <th>4</th>\n",
              "      <td>A</td>\n",
              "      <td>9</td>\n",
              "      <td>B</td>\n",
              "      <td>A</td>\n",
              "      <td>Male</td>\n",
              "      <td>18.47</td>\n",
              "      <td>2.77751</td>\n",
              "      <td>1.44</td>\n",
              "      <td>5</td>\n",
              "      <td>55</td>\n",
              "      <td>85</td>\n",
              "    </tr>\n",
              "  </tbody>\n",
              "</table>\n",
              "</div>"
            ],
            "text/plain": [
              "  Type_of_Cab Customer_Since_Months  ... Var2 Var3\n",
              "0           B                    10  ...   53   90\n",
              "1           D                     3  ...   47   64\n",
              "2           C                     0  ...   52   89\n",
              "3           B                     1  ...   52   85\n",
              "4           A                     9  ...   55   85\n",
              "\n",
              "[5 rows x 11 columns]"
            ]
          },
          "metadata": {},
          "execution_count": 71
        }
      ]
    },
    {
      "cell_type": "code",
      "metadata": {
        "colab": {
          "base_uri": "https://localhost:8080/"
        },
        "id": "i2t6-FlAj9wj",
        "outputId": "5001dfe5-2165-472c-ab58-e6c0768d2b5e"
      },
      "source": [
        "df1.shape"
      ],
      "execution_count": 72,
      "outputs": [
        {
          "output_type": "execute_result",
          "data": {
            "text/plain": [
              "(131662, 12)"
            ]
          },
          "metadata": {},
          "execution_count": 72
        }
      ]
    },
    {
      "cell_type": "code",
      "metadata": {
        "colab": {
          "base_uri": "https://localhost:8080/"
        },
        "id": "9O4fsG6wk0n8",
        "outputId": "4a8eb3b4-ace2-400c-8b0e-6b7c45480e59"
      },
      "source": [
        "x_sm.shape"
      ],
      "execution_count": 73,
      "outputs": [
        {
          "output_type": "execute_result",
          "data": {
            "text/plain": [
              "(144448, 11)"
            ]
          },
          "metadata": {},
          "execution_count": 73
        }
      ]
    },
    {
      "cell_type": "code",
      "metadata": {
        "id": "lDbRZ97ck2rP"
      },
      "source": [
        "df_new = pd.concat([x_sm,y_sm],axis=1)"
      ],
      "execution_count": 74,
      "outputs": []
    },
    {
      "cell_type": "code",
      "metadata": {
        "colab": {
          "base_uri": "https://localhost:8080/"
        },
        "id": "vJe7oJ5plipv",
        "outputId": "37b96d59-a485-485e-a4ab-b08b6e6695a6"
      },
      "source": [
        "df_new.info()"
      ],
      "execution_count": 75,
      "outputs": [
        {
          "output_type": "stream",
          "name": "stdout",
          "text": [
            "<class 'pandas.core.frame.DataFrame'>\n",
            "RangeIndex: 144448 entries, 0 to 144447\n",
            "Data columns (total 12 columns):\n",
            " #   Column                       Non-Null Count   Dtype  \n",
            "---  ------                       --------------   -----  \n",
            " 0   Type_of_Cab                  144448 non-null  object \n",
            " 1   Customer_Since_Months        144448 non-null  object \n",
            " 2   Confidence_Life_Style_Index  144448 non-null  object \n",
            " 3   Destination_Type             144448 non-null  object \n",
            " 4   Gender                       144448 non-null  object \n",
            " 5   Trip_Distance                144448 non-null  object \n",
            " 6   Life_Style_Index             144448 non-null  object \n",
            " 7   Customer_Rating              144448 non-null  object \n",
            " 8   Cancellation_Last_1Month     144448 non-null  object \n",
            " 9   Var2                         144448 non-null  object \n",
            " 10  Var3                         144448 non-null  object \n",
            " 11  0                            144448 non-null  float64\n",
            "dtypes: float64(1), object(11)\n",
            "memory usage: 13.2+ MB\n"
          ]
        }
      ]
    },
    {
      "cell_type": "code",
      "metadata": {
        "colab": {
          "base_uri": "https://localhost:8080/",
          "height": 224
        },
        "id": "sDSx_h3to4tE",
        "outputId": "8fe33273-0893-45c4-8005-cc2f7aabef45"
      },
      "source": [
        "df_new.head()"
      ],
      "execution_count": 76,
      "outputs": [
        {
          "output_type": "execute_result",
          "data": {
            "text/html": [
              "<div>\n",
              "<style scoped>\n",
              "    .dataframe tbody tr th:only-of-type {\n",
              "        vertical-align: middle;\n",
              "    }\n",
              "\n",
              "    .dataframe tbody tr th {\n",
              "        vertical-align: top;\n",
              "    }\n",
              "\n",
              "    .dataframe thead th {\n",
              "        text-align: right;\n",
              "    }\n",
              "</style>\n",
              "<table border=\"1\" class=\"dataframe\">\n",
              "  <thead>\n",
              "    <tr style=\"text-align: right;\">\n",
              "      <th></th>\n",
              "      <th>Type_of_Cab</th>\n",
              "      <th>Customer_Since_Months</th>\n",
              "      <th>Confidence_Life_Style_Index</th>\n",
              "      <th>Destination_Type</th>\n",
              "      <th>Gender</th>\n",
              "      <th>Trip_Distance</th>\n",
              "      <th>Life_Style_Index</th>\n",
              "      <th>Customer_Rating</th>\n",
              "      <th>Cancellation_Last_1Month</th>\n",
              "      <th>Var2</th>\n",
              "      <th>Var3</th>\n",
              "      <th>0</th>\n",
              "    </tr>\n",
              "  </thead>\n",
              "  <tbody>\n",
              "    <tr>\n",
              "      <th>0</th>\n",
              "      <td>B</td>\n",
              "      <td>10</td>\n",
              "      <td>B</td>\n",
              "      <td>A</td>\n",
              "      <td>Female</td>\n",
              "      <td>31.16</td>\n",
              "      <td>2.6917</td>\n",
              "      <td>2.1475</td>\n",
              "      <td>0</td>\n",
              "      <td>53</td>\n",
              "      <td>90</td>\n",
              "      <td>1.0</td>\n",
              "    </tr>\n",
              "    <tr>\n",
              "      <th>1</th>\n",
              "      <td>D</td>\n",
              "      <td>3</td>\n",
              "      <td>B</td>\n",
              "      <td>G</td>\n",
              "      <td>Male</td>\n",
              "      <td>14.12</td>\n",
              "      <td>2.97795</td>\n",
              "      <td>4.93375</td>\n",
              "      <td>0</td>\n",
              "      <td>47</td>\n",
              "      <td>64</td>\n",
              "      <td>1.0</td>\n",
              "    </tr>\n",
              "    <tr>\n",
              "      <th>2</th>\n",
              "      <td>C</td>\n",
              "      <td>0</td>\n",
              "      <td>C</td>\n",
              "      <td>A</td>\n",
              "      <td>Male</td>\n",
              "      <td>72.54</td>\n",
              "      <td>3.06236</td>\n",
              "      <td>2.0825</td>\n",
              "      <td>0</td>\n",
              "      <td>52</td>\n",
              "      <td>89</td>\n",
              "      <td>1.0</td>\n",
              "    </tr>\n",
              "    <tr>\n",
              "      <th>3</th>\n",
              "      <td>B</td>\n",
              "      <td>1</td>\n",
              "      <td>A</td>\n",
              "      <td>A</td>\n",
              "      <td>Male</td>\n",
              "      <td>16.78</td>\n",
              "      <td>2.70013</td>\n",
              "      <td>1.6125</td>\n",
              "      <td>3</td>\n",
              "      <td>52</td>\n",
              "      <td>85</td>\n",
              "      <td>1.0</td>\n",
              "    </tr>\n",
              "    <tr>\n",
              "      <th>4</th>\n",
              "      <td>A</td>\n",
              "      <td>9</td>\n",
              "      <td>B</td>\n",
              "      <td>A</td>\n",
              "      <td>Male</td>\n",
              "      <td>18.47</td>\n",
              "      <td>2.77751</td>\n",
              "      <td>1.44</td>\n",
              "      <td>5</td>\n",
              "      <td>55</td>\n",
              "      <td>85</td>\n",
              "      <td>1.0</td>\n",
              "    </tr>\n",
              "  </tbody>\n",
              "</table>\n",
              "</div>"
            ],
            "text/plain": [
              "  Type_of_Cab Customer_Since_Months Confidence_Life_Style_Index  ... Var2 Var3    0\n",
              "0           B                    10                           B  ...   53   90  1.0\n",
              "1           D                     3                           B  ...   47   64  1.0\n",
              "2           C                     0                           C  ...   52   89  1.0\n",
              "3           B                     1                           A  ...   52   85  1.0\n",
              "4           A                     9                           B  ...   55   85  1.0\n",
              "\n",
              "[5 rows x 12 columns]"
            ]
          },
          "metadata": {},
          "execution_count": 76
        }
      ]
    },
    {
      "cell_type": "code",
      "metadata": {
        "id": "GqVsjqMloR4N"
      },
      "source": [
        "# We can analysis in tableau about Cancellation in last 1 month"
      ],
      "execution_count": 77,
      "outputs": []
    },
    {
      "cell_type": "code",
      "metadata": {
        "colab": {
          "base_uri": "https://localhost:8080/"
        },
        "id": "ySveS8_yoU0k",
        "outputId": "9cd8845a-0f7c-476d-d1a8-c354c6a583bb"
      },
      "source": [
        "df_new.groupby('Type_of_Cab')['Cancellation_Last_1Month'].sum()"
      ],
      "execution_count": 78,
      "outputs": [
        {
          "output_type": "execute_result",
          "data": {
            "text/plain": [
              "Type_of_Cab\n",
              "A    19965.0\n",
              "B    27877.0\n",
              "C    23532.0\n",
              "D    24998.0\n",
              "E    11045.0\n",
              "Name: Cancellation_Last_1Month, dtype: float64"
            ]
          },
          "metadata": {},
          "execution_count": 78
        }
      ]
    },
    {
      "cell_type": "code",
      "metadata": {
        "colab": {
          "base_uri": "https://localhost:8080/"
        },
        "id": "dPrDkQKopAQP",
        "outputId": "6e8b5c5e-fe9a-408a-c7ee-6a27753a0186"
      },
      "source": [
        "df_new['Cancellation_Last_1Month'].value_counts()"
      ],
      "execution_count": 79,
      "outputs": [
        {
          "output_type": "execute_result",
          "data": {
            "text/plain": [
              "0.0    77889\n",
              "1.0    39747\n",
              "2.0    16807\n",
              "3.0     7225\n",
              "4.0     1826\n",
              "5.0      669\n",
              "6.0      266\n",
              "7.0       16\n",
              "8.0        3\n",
              "Name: Cancellation_Last_1Month, dtype: int64"
            ]
          },
          "metadata": {},
          "execution_count": 79
        }
      ]
    },
    {
      "cell_type": "code",
      "metadata": {
        "id": "75nDWBLfpsum"
      },
      "source": [
        ""
      ],
      "execution_count": 79,
      "outputs": []
    },
    {
      "cell_type": "code",
      "metadata": {
        "colab": {
          "base_uri": "https://localhost:8080/",
          "height": 224
        },
        "id": "ANAhuJSDqHBp",
        "outputId": "13ab532c-bf9e-4d8f-ee7a-23f6a9c85fd5"
      },
      "source": [
        "df_new.head()"
      ],
      "execution_count": 80,
      "outputs": [
        {
          "output_type": "execute_result",
          "data": {
            "text/html": [
              "<div>\n",
              "<style scoped>\n",
              "    .dataframe tbody tr th:only-of-type {\n",
              "        vertical-align: middle;\n",
              "    }\n",
              "\n",
              "    .dataframe tbody tr th {\n",
              "        vertical-align: top;\n",
              "    }\n",
              "\n",
              "    .dataframe thead th {\n",
              "        text-align: right;\n",
              "    }\n",
              "</style>\n",
              "<table border=\"1\" class=\"dataframe\">\n",
              "  <thead>\n",
              "    <tr style=\"text-align: right;\">\n",
              "      <th></th>\n",
              "      <th>Type_of_Cab</th>\n",
              "      <th>Customer_Since_Months</th>\n",
              "      <th>Confidence_Life_Style_Index</th>\n",
              "      <th>Destination_Type</th>\n",
              "      <th>Gender</th>\n",
              "      <th>Trip_Distance</th>\n",
              "      <th>Life_Style_Index</th>\n",
              "      <th>Customer_Rating</th>\n",
              "      <th>Cancellation_Last_1Month</th>\n",
              "      <th>Var2</th>\n",
              "      <th>Var3</th>\n",
              "      <th>0</th>\n",
              "    </tr>\n",
              "  </thead>\n",
              "  <tbody>\n",
              "    <tr>\n",
              "      <th>0</th>\n",
              "      <td>B</td>\n",
              "      <td>10</td>\n",
              "      <td>B</td>\n",
              "      <td>A</td>\n",
              "      <td>Female</td>\n",
              "      <td>31.16</td>\n",
              "      <td>2.6917</td>\n",
              "      <td>2.1475</td>\n",
              "      <td>0</td>\n",
              "      <td>53</td>\n",
              "      <td>90</td>\n",
              "      <td>1.0</td>\n",
              "    </tr>\n",
              "    <tr>\n",
              "      <th>1</th>\n",
              "      <td>D</td>\n",
              "      <td>3</td>\n",
              "      <td>B</td>\n",
              "      <td>G</td>\n",
              "      <td>Male</td>\n",
              "      <td>14.12</td>\n",
              "      <td>2.97795</td>\n",
              "      <td>4.93375</td>\n",
              "      <td>0</td>\n",
              "      <td>47</td>\n",
              "      <td>64</td>\n",
              "      <td>1.0</td>\n",
              "    </tr>\n",
              "    <tr>\n",
              "      <th>2</th>\n",
              "      <td>C</td>\n",
              "      <td>0</td>\n",
              "      <td>C</td>\n",
              "      <td>A</td>\n",
              "      <td>Male</td>\n",
              "      <td>72.54</td>\n",
              "      <td>3.06236</td>\n",
              "      <td>2.0825</td>\n",
              "      <td>0</td>\n",
              "      <td>52</td>\n",
              "      <td>89</td>\n",
              "      <td>1.0</td>\n",
              "    </tr>\n",
              "    <tr>\n",
              "      <th>3</th>\n",
              "      <td>B</td>\n",
              "      <td>1</td>\n",
              "      <td>A</td>\n",
              "      <td>A</td>\n",
              "      <td>Male</td>\n",
              "      <td>16.78</td>\n",
              "      <td>2.70013</td>\n",
              "      <td>1.6125</td>\n",
              "      <td>3</td>\n",
              "      <td>52</td>\n",
              "      <td>85</td>\n",
              "      <td>1.0</td>\n",
              "    </tr>\n",
              "    <tr>\n",
              "      <th>4</th>\n",
              "      <td>A</td>\n",
              "      <td>9</td>\n",
              "      <td>B</td>\n",
              "      <td>A</td>\n",
              "      <td>Male</td>\n",
              "      <td>18.47</td>\n",
              "      <td>2.77751</td>\n",
              "      <td>1.44</td>\n",
              "      <td>5</td>\n",
              "      <td>55</td>\n",
              "      <td>85</td>\n",
              "      <td>1.0</td>\n",
              "    </tr>\n",
              "  </tbody>\n",
              "</table>\n",
              "</div>"
            ],
            "text/plain": [
              "  Type_of_Cab Customer_Since_Months Confidence_Life_Style_Index  ... Var2 Var3    0\n",
              "0           B                    10                           B  ...   53   90  1.0\n",
              "1           D                     3                           B  ...   47   64  1.0\n",
              "2           C                     0                           C  ...   52   89  1.0\n",
              "3           B                     1                           A  ...   52   85  1.0\n",
              "4           A                     9                           B  ...   55   85  1.0\n",
              "\n",
              "[5 rows x 12 columns]"
            ]
          },
          "metadata": {},
          "execution_count": 80
        }
      ]
    },
    {
      "cell_type": "code",
      "metadata": {
        "colab": {
          "base_uri": "https://localhost:8080/"
        },
        "id": "bcbkKbe2qIKA",
        "outputId": "9158c2d5-9d1f-492e-af9e-0a6f69e72071"
      },
      "source": [
        "df_new[df_new['Var3']>150]['Customer_Rating'].mean()"
      ],
      "execution_count": 81,
      "outputs": [
        {
          "output_type": "execute_result",
          "data": {
            "text/plain": [
              "2.5466666666666664"
            ]
          },
          "metadata": {},
          "execution_count": 81
        }
      ]
    },
    {
      "cell_type": "code",
      "metadata": {
        "colab": {
          "base_uri": "https://localhost:8080/"
        },
        "id": "2hQL_WWgq8n5",
        "outputId": "6d30c8b1-3ccc-4f1a-fa93-33e036235471"
      },
      "source": [
        "df_new[(df_new['Var3']<=150)&(df_new['Var3']>50)]['Customer_Rating'].mean()"
      ],
      "execution_count": 82,
      "outputs": [
        {
          "output_type": "execute_result",
          "data": {
            "text/plain": [
              "2.8720235846688213"
            ]
          },
          "metadata": {},
          "execution_count": 82
        }
      ]
    },
    {
      "cell_type": "code",
      "metadata": {
        "colab": {
          "base_uri": "https://localhost:8080/"
        },
        "id": "cZX5WNATrJJo",
        "outputId": "4d83b699-2a12-41c6-8599-111fd3df27c2"
      },
      "source": [
        "df_new['Var3'].min()"
      ],
      "execution_count": 83,
      "outputs": [
        {
          "output_type": "execute_result",
          "data": {
            "text/plain": [
              "52.0"
            ]
          },
          "metadata": {},
          "execution_count": 83
        }
      ]
    },
    {
      "cell_type": "code",
      "metadata": {
        "id": "I_qJwYx7sqX8"
      },
      "source": [
        "import scipy.stats as stats"
      ],
      "execution_count": 84,
      "outputs": []
    },
    {
      "cell_type": "code",
      "metadata": {
        "id": "FAJOUAPNtK5N"
      },
      "source": [
        "def hyp_testing(pval,sig_lvl):\n",
        "  if pval > sig_lvl:\n",
        "    return 'Fail to reject Ho'\n",
        "  else:\n",
        "    return 'Ho rejected'"
      ],
      "execution_count": 85,
      "outputs": []
    },
    {
      "cell_type": "code",
      "metadata": {
        "colab": {
          "base_uri": "https://localhost:8080/"
        },
        "id": "mUPaSuRa1F62",
        "outputId": "6586034d-72f9-4aeb-937e-299b4f42d69c"
      },
      "source": [
        "df_new.isnull().sum()"
      ],
      "execution_count": 86,
      "outputs": [
        {
          "output_type": "execute_result",
          "data": {
            "text/plain": [
              "Type_of_Cab                    0\n",
              "Customer_Since_Months          0\n",
              "Confidence_Life_Style_Index    0\n",
              "Destination_Type               0\n",
              "Gender                         0\n",
              "Trip_Distance                  0\n",
              "Life_Style_Index               0\n",
              "Customer_Rating                0\n",
              "Cancellation_Last_1Month       0\n",
              "Var2                           0\n",
              "Var3                           0\n",
              "0                              0\n",
              "dtype: int64"
            ]
          },
          "metadata": {},
          "execution_count": 86
        }
      ]
    },
    {
      "cell_type": "code",
      "metadata": {
        "colab": {
          "base_uri": "https://localhost:8080/"
        },
        "id": "CjlKzV6YvKkG",
        "outputId": "3e6afb04-0f30-4f15-e5c1-c8e53675f8c6"
      },
      "source": [
        "df_new.info()"
      ],
      "execution_count": 87,
      "outputs": [
        {
          "output_type": "stream",
          "name": "stdout",
          "text": [
            "<class 'pandas.core.frame.DataFrame'>\n",
            "RangeIndex: 144448 entries, 0 to 144447\n",
            "Data columns (total 12 columns):\n",
            " #   Column                       Non-Null Count   Dtype  \n",
            "---  ------                       --------------   -----  \n",
            " 0   Type_of_Cab                  144448 non-null  object \n",
            " 1   Customer_Since_Months        144448 non-null  object \n",
            " 2   Confidence_Life_Style_Index  144448 non-null  object \n",
            " 3   Destination_Type             144448 non-null  object \n",
            " 4   Gender                       144448 non-null  object \n",
            " 5   Trip_Distance                144448 non-null  object \n",
            " 6   Life_Style_Index             144448 non-null  object \n",
            " 7   Customer_Rating              144448 non-null  object \n",
            " 8   Cancellation_Last_1Month     144448 non-null  object \n",
            " 9   Var2                         144448 non-null  object \n",
            " 10  Var3                         144448 non-null  object \n",
            " 11  0                            144448 non-null  float64\n",
            "dtypes: float64(1), object(11)\n",
            "memory usage: 13.2+ MB\n"
          ]
        }
      ]
    },
    {
      "cell_type": "code",
      "metadata": {
        "id": "AY1p4jJk3zWi"
      },
      "source": [
        "df_new = df_new.drop(columns=['Var2'])"
      ],
      "execution_count": 88,
      "outputs": []
    },
    {
      "cell_type": "code",
      "metadata": {
        "id": "q5eu7G1h2_gJ"
      },
      "source": [
        "df_new['Customer_Since_Months'] = df_new['Customer_Since_Months'].astype('object')\n",
        "df_new['Trip_Distance'] = df_new['Trip_Distance'].astype('float64')\n",
        "df_new['Life_Style_Index'] = df_new['Life_Style_Index'].astype('float64')\n",
        "df_new['Customer_Rating'] = df_new['Customer_Rating'].astype('float64')\n",
        "df_new['Var3'] = df_new['Var3'].astype('int64')\n",
        "df_new['Cancellation_Last_1Month'] = df_new['Cancellation_Last_1Month'].astype('int64')\n"
      ],
      "execution_count": 89,
      "outputs": []
    },
    {
      "cell_type": "code",
      "metadata": {
        "id": "xUW3EVxu2_Bh"
      },
      "source": [
        "df_new = df_new.rename(columns={0:'Surge_Pricing_Type'})"
      ],
      "execution_count": 90,
      "outputs": []
    },
    {
      "cell_type": "code",
      "metadata": {
        "colab": {
          "base_uri": "https://localhost:8080/"
        },
        "id": "T_BJo9qU4E1B",
        "outputId": "81a3d258-9a1d-4a0e-9ff1-394f5050fc94"
      },
      "source": [
        "df_new.info()"
      ],
      "execution_count": 91,
      "outputs": [
        {
          "output_type": "stream",
          "name": "stdout",
          "text": [
            "<class 'pandas.core.frame.DataFrame'>\n",
            "RangeIndex: 144448 entries, 0 to 144447\n",
            "Data columns (total 11 columns):\n",
            " #   Column                       Non-Null Count   Dtype  \n",
            "---  ------                       --------------   -----  \n",
            " 0   Type_of_Cab                  144448 non-null  object \n",
            " 1   Customer_Since_Months        144448 non-null  object \n",
            " 2   Confidence_Life_Style_Index  144448 non-null  object \n",
            " 3   Destination_Type             144448 non-null  object \n",
            " 4   Gender                       144448 non-null  object \n",
            " 5   Trip_Distance                144448 non-null  float64\n",
            " 6   Life_Style_Index             144448 non-null  float64\n",
            " 7   Customer_Rating              144448 non-null  float64\n",
            " 8   Cancellation_Last_1Month     144448 non-null  int64  \n",
            " 9   Var3                         144448 non-null  int64  \n",
            " 10  Surge_Pricing_Type           144448 non-null  float64\n",
            "dtypes: float64(4), int64(2), object(5)\n",
            "memory usage: 12.1+ MB\n"
          ]
        }
      ]
    },
    {
      "cell_type": "code",
      "metadata": {
        "id": "UkSB3x5a4_VJ"
      },
      "source": [
        "from sklearn.preprocessing import MinMaxScaler,StandardScaler"
      ],
      "execution_count": 92,
      "outputs": []
    },
    {
      "cell_type": "code",
      "metadata": {
        "id": "yLVkbj_n5Nax"
      },
      "source": [
        "df_mm = df_new.copy()\n",
        "df_ss = df_new.copy()"
      ],
      "execution_count": 93,
      "outputs": []
    },
    {
      "cell_type": "code",
      "metadata": {
        "id": "U30UHWMs5TOz"
      },
      "source": [
        "for i in df_ss.select_dtypes('number').columns:\n",
        "  if i != 'Surge_Pricing_Type':\n",
        "    ss = StandardScaler()\n",
        "    df_ss[i] = ss.fit_transform(df_ss[[i]])"
      ],
      "execution_count": 94,
      "outputs": []
    },
    {
      "cell_type": "code",
      "metadata": {
        "id": "VAtNQbGu52C1"
      },
      "source": [
        "for i in df_ss.select_dtypes('number').columns:\n",
        "  if i != 'Surge_Pricing_Type':\n",
        "    mm = MinMaxScaler()\n",
        "    df_mm[i] = mm.fit_transform(df_mm[[i]])"
      ],
      "execution_count": 95,
      "outputs": []
    },
    {
      "cell_type": "code",
      "metadata": {
        "colab": {
          "base_uri": "https://localhost:8080/",
          "height": 224
        },
        "id": "G-eJwbUG6N-U",
        "outputId": "608f61d3-0282-46e7-c15c-f413b3147131"
      },
      "source": [
        "df_ss.head()"
      ],
      "execution_count": 96,
      "outputs": [
        {
          "output_type": "execute_result",
          "data": {
            "text/html": [
              "<div>\n",
              "<style scoped>\n",
              "    .dataframe tbody tr th:only-of-type {\n",
              "        vertical-align: middle;\n",
              "    }\n",
              "\n",
              "    .dataframe tbody tr th {\n",
              "        vertical-align: top;\n",
              "    }\n",
              "\n",
              "    .dataframe thead th {\n",
              "        text-align: right;\n",
              "    }\n",
              "</style>\n",
              "<table border=\"1\" class=\"dataframe\">\n",
              "  <thead>\n",
              "    <tr style=\"text-align: right;\">\n",
              "      <th></th>\n",
              "      <th>Type_of_Cab</th>\n",
              "      <th>Customer_Since_Months</th>\n",
              "      <th>Confidence_Life_Style_Index</th>\n",
              "      <th>Destination_Type</th>\n",
              "      <th>Gender</th>\n",
              "      <th>Trip_Distance</th>\n",
              "      <th>Life_Style_Index</th>\n",
              "      <th>Customer_Rating</th>\n",
              "      <th>Cancellation_Last_1Month</th>\n",
              "      <th>Var3</th>\n",
              "      <th>Surge_Pricing_Type</th>\n",
              "    </tr>\n",
              "  </thead>\n",
              "  <tbody>\n",
              "    <tr>\n",
              "      <th>0</th>\n",
              "      <td>B</td>\n",
              "      <td>10</td>\n",
              "      <td>B</td>\n",
              "      <td>A</td>\n",
              "      <td>Female</td>\n",
              "      <td>-0.505529</td>\n",
              "      <td>-0.555347</td>\n",
              "      <td>-0.748854</td>\n",
              "      <td>-0.733142</td>\n",
              "      <td>1.284130</td>\n",
              "      <td>1.0</td>\n",
              "    </tr>\n",
              "    <tr>\n",
              "      <th>1</th>\n",
              "      <td>D</td>\n",
              "      <td>3</td>\n",
              "      <td>B</td>\n",
              "      <td>G</td>\n",
              "      <td>Male</td>\n",
              "      <td>-1.179886</td>\n",
              "      <td>0.833634</td>\n",
              "      <td>2.131015</td>\n",
              "      <td>-0.733142</td>\n",
              "      <td>-0.968719</td>\n",
              "      <td>1.0</td>\n",
              "    </tr>\n",
              "    <tr>\n",
              "      <th>2</th>\n",
              "      <td>C</td>\n",
              "      <td>0</td>\n",
              "      <td>C</td>\n",
              "      <td>A</td>\n",
              "      <td>Male</td>\n",
              "      <td>1.132083</td>\n",
              "      <td>1.243220</td>\n",
              "      <td>-0.816038</td>\n",
              "      <td>-0.733142</td>\n",
              "      <td>1.197482</td>\n",
              "      <td>1.0</td>\n",
              "    </tr>\n",
              "    <tr>\n",
              "      <th>3</th>\n",
              "      <td>B</td>\n",
              "      <td>1</td>\n",
              "      <td>A</td>\n",
              "      <td>A</td>\n",
              "      <td>Male</td>\n",
              "      <td>-1.074617</td>\n",
              "      <td>-0.514442</td>\n",
              "      <td>-1.301830</td>\n",
              "      <td>2.224514</td>\n",
              "      <td>0.850889</td>\n",
              "      <td>1.0</td>\n",
              "    </tr>\n",
              "    <tr>\n",
              "      <th>4</th>\n",
              "      <td>A</td>\n",
              "      <td>9</td>\n",
              "      <td>B</td>\n",
              "      <td>A</td>\n",
              "      <td>Male</td>\n",
              "      <td>-1.007735</td>\n",
              "      <td>-0.138968</td>\n",
              "      <td>-1.480126</td>\n",
              "      <td>4.196285</td>\n",
              "      <td>0.850889</td>\n",
              "      <td>1.0</td>\n",
              "    </tr>\n",
              "  </tbody>\n",
              "</table>\n",
              "</div>"
            ],
            "text/plain": [
              "  Type_of_Cab Customer_Since_Months  ...      Var3 Surge_Pricing_Type\n",
              "0           B                    10  ...  1.284130                1.0\n",
              "1           D                     3  ... -0.968719                1.0\n",
              "2           C                     0  ...  1.197482                1.0\n",
              "3           B                     1  ...  0.850889                1.0\n",
              "4           A                     9  ...  0.850889                1.0\n",
              "\n",
              "[5 rows x 11 columns]"
            ]
          },
          "metadata": {},
          "execution_count": 96
        }
      ]
    },
    {
      "cell_type": "code",
      "metadata": {
        "colab": {
          "base_uri": "https://localhost:8080/",
          "height": 224
        },
        "id": "sq8lnA1H6m-A",
        "outputId": "a6d92d7d-dda3-41c8-952c-1564b4e74566"
      },
      "source": [
        "df_mm.head()"
      ],
      "execution_count": 97,
      "outputs": [
        {
          "output_type": "execute_result",
          "data": {
            "text/html": [
              "<div>\n",
              "<style scoped>\n",
              "    .dataframe tbody tr th:only-of-type {\n",
              "        vertical-align: middle;\n",
              "    }\n",
              "\n",
              "    .dataframe tbody tr th {\n",
              "        vertical-align: top;\n",
              "    }\n",
              "\n",
              "    .dataframe thead th {\n",
              "        text-align: right;\n",
              "    }\n",
              "</style>\n",
              "<table border=\"1\" class=\"dataframe\">\n",
              "  <thead>\n",
              "    <tr style=\"text-align: right;\">\n",
              "      <th></th>\n",
              "      <th>Type_of_Cab</th>\n",
              "      <th>Customer_Since_Months</th>\n",
              "      <th>Confidence_Life_Style_Index</th>\n",
              "      <th>Destination_Type</th>\n",
              "      <th>Gender</th>\n",
              "      <th>Trip_Distance</th>\n",
              "      <th>Life_Style_Index</th>\n",
              "      <th>Customer_Rating</th>\n",
              "      <th>Cancellation_Last_1Month</th>\n",
              "      <th>Var3</th>\n",
              "      <th>Surge_Pricing_Type</th>\n",
              "    </tr>\n",
              "  </thead>\n",
              "  <tbody>\n",
              "    <tr>\n",
              "      <th>0</th>\n",
              "      <td>B</td>\n",
              "      <td>10</td>\n",
              "      <td>B</td>\n",
              "      <td>A</td>\n",
              "      <td>Female</td>\n",
              "      <td>0.283235</td>\n",
              "      <td>0.334068</td>\n",
              "      <td>0.429357</td>\n",
              "      <td>0.000</td>\n",
              "      <td>0.246753</td>\n",
              "      <td>1.0</td>\n",
              "    </tr>\n",
              "    <tr>\n",
              "      <th>1</th>\n",
              "      <td>D</td>\n",
              "      <td>3</td>\n",
              "      <td>B</td>\n",
              "      <td>G</td>\n",
              "      <td>Male</td>\n",
              "      <td>0.126790</td>\n",
              "      <td>0.421374</td>\n",
              "      <td>0.986747</td>\n",
              "      <td>0.000</td>\n",
              "      <td>0.077922</td>\n",
              "      <td>1.0</td>\n",
              "    </tr>\n",
              "    <tr>\n",
              "      <th>2</th>\n",
              "      <td>C</td>\n",
              "      <td>0</td>\n",
              "      <td>C</td>\n",
              "      <td>A</td>\n",
              "      <td>Male</td>\n",
              "      <td>0.663147</td>\n",
              "      <td>0.447118</td>\n",
              "      <td>0.416354</td>\n",
              "      <td>0.000</td>\n",
              "      <td>0.240260</td>\n",
              "      <td>1.0</td>\n",
              "    </tr>\n",
              "    <tr>\n",
              "      <th>3</th>\n",
              "      <td>B</td>\n",
              "      <td>1</td>\n",
              "      <td>A</td>\n",
              "      <td>A</td>\n",
              "      <td>Male</td>\n",
              "      <td>0.151212</td>\n",
              "      <td>0.336639</td>\n",
              "      <td>0.322331</td>\n",
              "      <td>0.375</td>\n",
              "      <td>0.214286</td>\n",
              "      <td>1.0</td>\n",
              "    </tr>\n",
              "    <tr>\n",
              "      <th>4</th>\n",
              "      <td>A</td>\n",
              "      <td>9</td>\n",
              "      <td>B</td>\n",
              "      <td>A</td>\n",
              "      <td>Male</td>\n",
              "      <td>0.166728</td>\n",
              "      <td>0.360240</td>\n",
              "      <td>0.287822</td>\n",
              "      <td>0.625</td>\n",
              "      <td>0.214286</td>\n",
              "      <td>1.0</td>\n",
              "    </tr>\n",
              "  </tbody>\n",
              "</table>\n",
              "</div>"
            ],
            "text/plain": [
              "  Type_of_Cab Customer_Since_Months  ...      Var3 Surge_Pricing_Type\n",
              "0           B                    10  ...  0.246753                1.0\n",
              "1           D                     3  ...  0.077922                1.0\n",
              "2           C                     0  ...  0.240260                1.0\n",
              "3           B                     1  ...  0.214286                1.0\n",
              "4           A                     9  ...  0.214286                1.0\n",
              "\n",
              "[5 rows x 11 columns]"
            ]
          },
          "metadata": {},
          "execution_count": 97
        }
      ]
    },
    {
      "cell_type": "code",
      "metadata": {
        "id": "9qt4hqM54G9h"
      },
      "source": [
        "df_ss = pd.get_dummies(data = df_ss,columns=df_ss.select_dtypes('object').columns,drop_first=True)\n",
        "df_mm = pd.get_dummies(data = df_mm,columns=df_mm.select_dtypes('object').columns,drop_first=True)\n"
      ],
      "execution_count": 98,
      "outputs": []
    },
    {
      "cell_type": "code",
      "metadata": {
        "colab": {
          "base_uri": "https://localhost:8080/",
          "height": 224
        },
        "id": "3neYI0_v6r-8",
        "outputId": "601877f1-8f94-40a7-e978-6747f0b255a4"
      },
      "source": [
        "df_mm.head()"
      ],
      "execution_count": 99,
      "outputs": [
        {
          "output_type": "execute_result",
          "data": {
            "text/html": [
              "<div>\n",
              "<style scoped>\n",
              "    .dataframe tbody tr th:only-of-type {\n",
              "        vertical-align: middle;\n",
              "    }\n",
              "\n",
              "    .dataframe tbody tr th {\n",
              "        vertical-align: top;\n",
              "    }\n",
              "\n",
              "    .dataframe thead th {\n",
              "        text-align: right;\n",
              "    }\n",
              "</style>\n",
              "<table border=\"1\" class=\"dataframe\">\n",
              "  <thead>\n",
              "    <tr style=\"text-align: right;\">\n",
              "      <th></th>\n",
              "      <th>Trip_Distance</th>\n",
              "      <th>Life_Style_Index</th>\n",
              "      <th>Customer_Rating</th>\n",
              "      <th>Cancellation_Last_1Month</th>\n",
              "      <th>Var3</th>\n",
              "      <th>Surge_Pricing_Type</th>\n",
              "      <th>Type_of_Cab_B</th>\n",
              "      <th>Type_of_Cab_C</th>\n",
              "      <th>Type_of_Cab_D</th>\n",
              "      <th>Type_of_Cab_E</th>\n",
              "      <th>Customer_Since_Months_1.0</th>\n",
              "      <th>Customer_Since_Months_2.0</th>\n",
              "      <th>Customer_Since_Months_3.0</th>\n",
              "      <th>Customer_Since_Months_4.0</th>\n",
              "      <th>Customer_Since_Months_5.0</th>\n",
              "      <th>Customer_Since_Months_6.0</th>\n",
              "      <th>Customer_Since_Months_7.0</th>\n",
              "      <th>Customer_Since_Months_8.0</th>\n",
              "      <th>Customer_Since_Months_9.0</th>\n",
              "      <th>Customer_Since_Months_10.0</th>\n",
              "      <th>Confidence_Life_Style_Index_B</th>\n",
              "      <th>Confidence_Life_Style_Index_C</th>\n",
              "      <th>Destination_Type_B</th>\n",
              "      <th>Destination_Type_C</th>\n",
              "      <th>Destination_Type_D</th>\n",
              "      <th>Destination_Type_E</th>\n",
              "      <th>Destination_Type_F</th>\n",
              "      <th>Destination_Type_G</th>\n",
              "      <th>Destination_Type_H</th>\n",
              "      <th>Destination_Type_I</th>\n",
              "      <th>Destination_Type_J</th>\n",
              "      <th>Destination_Type_K</th>\n",
              "      <th>Destination_Type_L</th>\n",
              "      <th>Destination_Type_M</th>\n",
              "      <th>Destination_Type_N</th>\n",
              "      <th>Gender_Male</th>\n",
              "    </tr>\n",
              "  </thead>\n",
              "  <tbody>\n",
              "    <tr>\n",
              "      <th>0</th>\n",
              "      <td>0.283235</td>\n",
              "      <td>0.334068</td>\n",
              "      <td>0.429357</td>\n",
              "      <td>0.000</td>\n",
              "      <td>0.246753</td>\n",
              "      <td>1.0</td>\n",
              "      <td>1</td>\n",
              "      <td>0</td>\n",
              "      <td>0</td>\n",
              "      <td>0</td>\n",
              "      <td>0</td>\n",
              "      <td>0</td>\n",
              "      <td>0</td>\n",
              "      <td>0</td>\n",
              "      <td>0</td>\n",
              "      <td>0</td>\n",
              "      <td>0</td>\n",
              "      <td>0</td>\n",
              "      <td>0</td>\n",
              "      <td>1</td>\n",
              "      <td>1</td>\n",
              "      <td>0</td>\n",
              "      <td>0</td>\n",
              "      <td>0</td>\n",
              "      <td>0</td>\n",
              "      <td>0</td>\n",
              "      <td>0</td>\n",
              "      <td>0</td>\n",
              "      <td>0</td>\n",
              "      <td>0</td>\n",
              "      <td>0</td>\n",
              "      <td>0</td>\n",
              "      <td>0</td>\n",
              "      <td>0</td>\n",
              "      <td>0</td>\n",
              "      <td>0</td>\n",
              "    </tr>\n",
              "    <tr>\n",
              "      <th>1</th>\n",
              "      <td>0.126790</td>\n",
              "      <td>0.421374</td>\n",
              "      <td>0.986747</td>\n",
              "      <td>0.000</td>\n",
              "      <td>0.077922</td>\n",
              "      <td>1.0</td>\n",
              "      <td>0</td>\n",
              "      <td>0</td>\n",
              "      <td>1</td>\n",
              "      <td>0</td>\n",
              "      <td>0</td>\n",
              "      <td>0</td>\n",
              "      <td>1</td>\n",
              "      <td>0</td>\n",
              "      <td>0</td>\n",
              "      <td>0</td>\n",
              "      <td>0</td>\n",
              "      <td>0</td>\n",
              "      <td>0</td>\n",
              "      <td>0</td>\n",
              "      <td>1</td>\n",
              "      <td>0</td>\n",
              "      <td>0</td>\n",
              "      <td>0</td>\n",
              "      <td>0</td>\n",
              "      <td>0</td>\n",
              "      <td>0</td>\n",
              "      <td>1</td>\n",
              "      <td>0</td>\n",
              "      <td>0</td>\n",
              "      <td>0</td>\n",
              "      <td>0</td>\n",
              "      <td>0</td>\n",
              "      <td>0</td>\n",
              "      <td>0</td>\n",
              "      <td>1</td>\n",
              "    </tr>\n",
              "    <tr>\n",
              "      <th>2</th>\n",
              "      <td>0.663147</td>\n",
              "      <td>0.447118</td>\n",
              "      <td>0.416354</td>\n",
              "      <td>0.000</td>\n",
              "      <td>0.240260</td>\n",
              "      <td>1.0</td>\n",
              "      <td>0</td>\n",
              "      <td>1</td>\n",
              "      <td>0</td>\n",
              "      <td>0</td>\n",
              "      <td>0</td>\n",
              "      <td>0</td>\n",
              "      <td>0</td>\n",
              "      <td>0</td>\n",
              "      <td>0</td>\n",
              "      <td>0</td>\n",
              "      <td>0</td>\n",
              "      <td>0</td>\n",
              "      <td>0</td>\n",
              "      <td>0</td>\n",
              "      <td>0</td>\n",
              "      <td>1</td>\n",
              "      <td>0</td>\n",
              "      <td>0</td>\n",
              "      <td>0</td>\n",
              "      <td>0</td>\n",
              "      <td>0</td>\n",
              "      <td>0</td>\n",
              "      <td>0</td>\n",
              "      <td>0</td>\n",
              "      <td>0</td>\n",
              "      <td>0</td>\n",
              "      <td>0</td>\n",
              "      <td>0</td>\n",
              "      <td>0</td>\n",
              "      <td>1</td>\n",
              "    </tr>\n",
              "    <tr>\n",
              "      <th>3</th>\n",
              "      <td>0.151212</td>\n",
              "      <td>0.336639</td>\n",
              "      <td>0.322331</td>\n",
              "      <td>0.375</td>\n",
              "      <td>0.214286</td>\n",
              "      <td>1.0</td>\n",
              "      <td>1</td>\n",
              "      <td>0</td>\n",
              "      <td>0</td>\n",
              "      <td>0</td>\n",
              "      <td>1</td>\n",
              "      <td>0</td>\n",
              "      <td>0</td>\n",
              "      <td>0</td>\n",
              "      <td>0</td>\n",
              "      <td>0</td>\n",
              "      <td>0</td>\n",
              "      <td>0</td>\n",
              "      <td>0</td>\n",
              "      <td>0</td>\n",
              "      <td>0</td>\n",
              "      <td>0</td>\n",
              "      <td>0</td>\n",
              "      <td>0</td>\n",
              "      <td>0</td>\n",
              "      <td>0</td>\n",
              "      <td>0</td>\n",
              "      <td>0</td>\n",
              "      <td>0</td>\n",
              "      <td>0</td>\n",
              "      <td>0</td>\n",
              "      <td>0</td>\n",
              "      <td>0</td>\n",
              "      <td>0</td>\n",
              "      <td>0</td>\n",
              "      <td>1</td>\n",
              "    </tr>\n",
              "    <tr>\n",
              "      <th>4</th>\n",
              "      <td>0.166728</td>\n",
              "      <td>0.360240</td>\n",
              "      <td>0.287822</td>\n",
              "      <td>0.625</td>\n",
              "      <td>0.214286</td>\n",
              "      <td>1.0</td>\n",
              "      <td>0</td>\n",
              "      <td>0</td>\n",
              "      <td>0</td>\n",
              "      <td>0</td>\n",
              "      <td>0</td>\n",
              "      <td>0</td>\n",
              "      <td>0</td>\n",
              "      <td>0</td>\n",
              "      <td>0</td>\n",
              "      <td>0</td>\n",
              "      <td>0</td>\n",
              "      <td>0</td>\n",
              "      <td>1</td>\n",
              "      <td>0</td>\n",
              "      <td>1</td>\n",
              "      <td>0</td>\n",
              "      <td>0</td>\n",
              "      <td>0</td>\n",
              "      <td>0</td>\n",
              "      <td>0</td>\n",
              "      <td>0</td>\n",
              "      <td>0</td>\n",
              "      <td>0</td>\n",
              "      <td>0</td>\n",
              "      <td>0</td>\n",
              "      <td>0</td>\n",
              "      <td>0</td>\n",
              "      <td>0</td>\n",
              "      <td>0</td>\n",
              "      <td>1</td>\n",
              "    </tr>\n",
              "  </tbody>\n",
              "</table>\n",
              "</div>"
            ],
            "text/plain": [
              "   Trip_Distance  Life_Style_Index  ...  Destination_Type_N  Gender_Male\n",
              "0       0.283235          0.334068  ...                   0            0\n",
              "1       0.126790          0.421374  ...                   0            1\n",
              "2       0.663147          0.447118  ...                   0            1\n",
              "3       0.151212          0.336639  ...                   0            1\n",
              "4       0.166728          0.360240  ...                   0            1\n",
              "\n",
              "[5 rows x 36 columns]"
            ]
          },
          "metadata": {},
          "execution_count": 99
        }
      ]
    },
    {
      "cell_type": "code",
      "metadata": {
        "colab": {
          "base_uri": "https://localhost:8080/",
          "height": 224
        },
        "id": "2e681U8x4n1b",
        "outputId": "0f0946f2-72da-444f-c03c-180bd2624f80"
      },
      "source": [
        "df_ss.head()"
      ],
      "execution_count": 100,
      "outputs": [
        {
          "output_type": "execute_result",
          "data": {
            "text/html": [
              "<div>\n",
              "<style scoped>\n",
              "    .dataframe tbody tr th:only-of-type {\n",
              "        vertical-align: middle;\n",
              "    }\n",
              "\n",
              "    .dataframe tbody tr th {\n",
              "        vertical-align: top;\n",
              "    }\n",
              "\n",
              "    .dataframe thead th {\n",
              "        text-align: right;\n",
              "    }\n",
              "</style>\n",
              "<table border=\"1\" class=\"dataframe\">\n",
              "  <thead>\n",
              "    <tr style=\"text-align: right;\">\n",
              "      <th></th>\n",
              "      <th>Trip_Distance</th>\n",
              "      <th>Life_Style_Index</th>\n",
              "      <th>Customer_Rating</th>\n",
              "      <th>Cancellation_Last_1Month</th>\n",
              "      <th>Var3</th>\n",
              "      <th>Surge_Pricing_Type</th>\n",
              "      <th>Type_of_Cab_B</th>\n",
              "      <th>Type_of_Cab_C</th>\n",
              "      <th>Type_of_Cab_D</th>\n",
              "      <th>Type_of_Cab_E</th>\n",
              "      <th>Customer_Since_Months_1.0</th>\n",
              "      <th>Customer_Since_Months_2.0</th>\n",
              "      <th>Customer_Since_Months_3.0</th>\n",
              "      <th>Customer_Since_Months_4.0</th>\n",
              "      <th>Customer_Since_Months_5.0</th>\n",
              "      <th>Customer_Since_Months_6.0</th>\n",
              "      <th>Customer_Since_Months_7.0</th>\n",
              "      <th>Customer_Since_Months_8.0</th>\n",
              "      <th>Customer_Since_Months_9.0</th>\n",
              "      <th>Customer_Since_Months_10.0</th>\n",
              "      <th>Confidence_Life_Style_Index_B</th>\n",
              "      <th>Confidence_Life_Style_Index_C</th>\n",
              "      <th>Destination_Type_B</th>\n",
              "      <th>Destination_Type_C</th>\n",
              "      <th>Destination_Type_D</th>\n",
              "      <th>Destination_Type_E</th>\n",
              "      <th>Destination_Type_F</th>\n",
              "      <th>Destination_Type_G</th>\n",
              "      <th>Destination_Type_H</th>\n",
              "      <th>Destination_Type_I</th>\n",
              "      <th>Destination_Type_J</th>\n",
              "      <th>Destination_Type_K</th>\n",
              "      <th>Destination_Type_L</th>\n",
              "      <th>Destination_Type_M</th>\n",
              "      <th>Destination_Type_N</th>\n",
              "      <th>Gender_Male</th>\n",
              "    </tr>\n",
              "  </thead>\n",
              "  <tbody>\n",
              "    <tr>\n",
              "      <th>0</th>\n",
              "      <td>-0.505529</td>\n",
              "      <td>-0.555347</td>\n",
              "      <td>-0.748854</td>\n",
              "      <td>-0.733142</td>\n",
              "      <td>1.284130</td>\n",
              "      <td>1.0</td>\n",
              "      <td>1</td>\n",
              "      <td>0</td>\n",
              "      <td>0</td>\n",
              "      <td>0</td>\n",
              "      <td>0</td>\n",
              "      <td>0</td>\n",
              "      <td>0</td>\n",
              "      <td>0</td>\n",
              "      <td>0</td>\n",
              "      <td>0</td>\n",
              "      <td>0</td>\n",
              "      <td>0</td>\n",
              "      <td>0</td>\n",
              "      <td>1</td>\n",
              "      <td>1</td>\n",
              "      <td>0</td>\n",
              "      <td>0</td>\n",
              "      <td>0</td>\n",
              "      <td>0</td>\n",
              "      <td>0</td>\n",
              "      <td>0</td>\n",
              "      <td>0</td>\n",
              "      <td>0</td>\n",
              "      <td>0</td>\n",
              "      <td>0</td>\n",
              "      <td>0</td>\n",
              "      <td>0</td>\n",
              "      <td>0</td>\n",
              "      <td>0</td>\n",
              "      <td>0</td>\n",
              "    </tr>\n",
              "    <tr>\n",
              "      <th>1</th>\n",
              "      <td>-1.179886</td>\n",
              "      <td>0.833634</td>\n",
              "      <td>2.131015</td>\n",
              "      <td>-0.733142</td>\n",
              "      <td>-0.968719</td>\n",
              "      <td>1.0</td>\n",
              "      <td>0</td>\n",
              "      <td>0</td>\n",
              "      <td>1</td>\n",
              "      <td>0</td>\n",
              "      <td>0</td>\n",
              "      <td>0</td>\n",
              "      <td>1</td>\n",
              "      <td>0</td>\n",
              "      <td>0</td>\n",
              "      <td>0</td>\n",
              "      <td>0</td>\n",
              "      <td>0</td>\n",
              "      <td>0</td>\n",
              "      <td>0</td>\n",
              "      <td>1</td>\n",
              "      <td>0</td>\n",
              "      <td>0</td>\n",
              "      <td>0</td>\n",
              "      <td>0</td>\n",
              "      <td>0</td>\n",
              "      <td>0</td>\n",
              "      <td>1</td>\n",
              "      <td>0</td>\n",
              "      <td>0</td>\n",
              "      <td>0</td>\n",
              "      <td>0</td>\n",
              "      <td>0</td>\n",
              "      <td>0</td>\n",
              "      <td>0</td>\n",
              "      <td>1</td>\n",
              "    </tr>\n",
              "    <tr>\n",
              "      <th>2</th>\n",
              "      <td>1.132083</td>\n",
              "      <td>1.243220</td>\n",
              "      <td>-0.816038</td>\n",
              "      <td>-0.733142</td>\n",
              "      <td>1.197482</td>\n",
              "      <td>1.0</td>\n",
              "      <td>0</td>\n",
              "      <td>1</td>\n",
              "      <td>0</td>\n",
              "      <td>0</td>\n",
              "      <td>0</td>\n",
              "      <td>0</td>\n",
              "      <td>0</td>\n",
              "      <td>0</td>\n",
              "      <td>0</td>\n",
              "      <td>0</td>\n",
              "      <td>0</td>\n",
              "      <td>0</td>\n",
              "      <td>0</td>\n",
              "      <td>0</td>\n",
              "      <td>0</td>\n",
              "      <td>1</td>\n",
              "      <td>0</td>\n",
              "      <td>0</td>\n",
              "      <td>0</td>\n",
              "      <td>0</td>\n",
              "      <td>0</td>\n",
              "      <td>0</td>\n",
              "      <td>0</td>\n",
              "      <td>0</td>\n",
              "      <td>0</td>\n",
              "      <td>0</td>\n",
              "      <td>0</td>\n",
              "      <td>0</td>\n",
              "      <td>0</td>\n",
              "      <td>1</td>\n",
              "    </tr>\n",
              "    <tr>\n",
              "      <th>3</th>\n",
              "      <td>-1.074617</td>\n",
              "      <td>-0.514442</td>\n",
              "      <td>-1.301830</td>\n",
              "      <td>2.224514</td>\n",
              "      <td>0.850889</td>\n",
              "      <td>1.0</td>\n",
              "      <td>1</td>\n",
              "      <td>0</td>\n",
              "      <td>0</td>\n",
              "      <td>0</td>\n",
              "      <td>1</td>\n",
              "      <td>0</td>\n",
              "      <td>0</td>\n",
              "      <td>0</td>\n",
              "      <td>0</td>\n",
              "      <td>0</td>\n",
              "      <td>0</td>\n",
              "      <td>0</td>\n",
              "      <td>0</td>\n",
              "      <td>0</td>\n",
              "      <td>0</td>\n",
              "      <td>0</td>\n",
              "      <td>0</td>\n",
              "      <td>0</td>\n",
              "      <td>0</td>\n",
              "      <td>0</td>\n",
              "      <td>0</td>\n",
              "      <td>0</td>\n",
              "      <td>0</td>\n",
              "      <td>0</td>\n",
              "      <td>0</td>\n",
              "      <td>0</td>\n",
              "      <td>0</td>\n",
              "      <td>0</td>\n",
              "      <td>0</td>\n",
              "      <td>1</td>\n",
              "    </tr>\n",
              "    <tr>\n",
              "      <th>4</th>\n",
              "      <td>-1.007735</td>\n",
              "      <td>-0.138968</td>\n",
              "      <td>-1.480126</td>\n",
              "      <td>4.196285</td>\n",
              "      <td>0.850889</td>\n",
              "      <td>1.0</td>\n",
              "      <td>0</td>\n",
              "      <td>0</td>\n",
              "      <td>0</td>\n",
              "      <td>0</td>\n",
              "      <td>0</td>\n",
              "      <td>0</td>\n",
              "      <td>0</td>\n",
              "      <td>0</td>\n",
              "      <td>0</td>\n",
              "      <td>0</td>\n",
              "      <td>0</td>\n",
              "      <td>0</td>\n",
              "      <td>1</td>\n",
              "      <td>0</td>\n",
              "      <td>1</td>\n",
              "      <td>0</td>\n",
              "      <td>0</td>\n",
              "      <td>0</td>\n",
              "      <td>0</td>\n",
              "      <td>0</td>\n",
              "      <td>0</td>\n",
              "      <td>0</td>\n",
              "      <td>0</td>\n",
              "      <td>0</td>\n",
              "      <td>0</td>\n",
              "      <td>0</td>\n",
              "      <td>0</td>\n",
              "      <td>0</td>\n",
              "      <td>0</td>\n",
              "      <td>1</td>\n",
              "    </tr>\n",
              "  </tbody>\n",
              "</table>\n",
              "</div>"
            ],
            "text/plain": [
              "   Trip_Distance  Life_Style_Index  ...  Destination_Type_N  Gender_Male\n",
              "0      -0.505529         -0.555347  ...                   0            0\n",
              "1      -1.179886          0.833634  ...                   0            1\n",
              "2       1.132083          1.243220  ...                   0            1\n",
              "3      -1.074617         -0.514442  ...                   0            1\n",
              "4      -1.007735         -0.138968  ...                   0            1\n",
              "\n",
              "[5 rows x 36 columns]"
            ]
          },
          "metadata": {},
          "execution_count": 100
        }
      ]
    },
    {
      "cell_type": "markdown",
      "metadata": {
        "id": "vqfoAnTW5cKa"
      },
      "source": [
        "## Model Building with Standard Scaler"
      ]
    },
    {
      "cell_type": "code",
      "metadata": {
        "id": "VyQDONce4pgU"
      },
      "source": [
        "x = df_ss.drop(columns=['Surge_Pricing_Type'])\n",
        "y = df_ss['Surge_Pricing_Type']"
      ],
      "execution_count": 101,
      "outputs": []
    },
    {
      "cell_type": "code",
      "metadata": {
        "id": "yCPo4V8e7M3i"
      },
      "source": [
        "xtrain,xtest,ytrain,ytest = train_test_split(x,y,train_size = 0.7,random_state=7)"
      ],
      "execution_count": 102,
      "outputs": []
    },
    {
      "cell_type": "code",
      "metadata": {
        "id": "OCgHbV9M7X1O"
      },
      "source": [
        "from sklearn.neighbors import KNeighborsClassifier"
      ],
      "execution_count": 103,
      "outputs": []
    },
    {
      "cell_type": "code",
      "metadata": {
        "id": "wBr6uTbC7b5J"
      },
      "source": [
        "knn = KNeighborsClassifier()\n",
        "base = knn.fit(xtrain,ytrain)\n",
        "ypred = base.predict(xtest)"
      ],
      "execution_count": 104,
      "outputs": []
    },
    {
      "cell_type": "code",
      "metadata": {
        "colab": {
          "base_uri": "https://localhost:8080/"
        },
        "id": "5VlUP0Md7j60",
        "outputId": "35d1c153-ad0e-4a3f-ed81-e4b2cdc8def5"
      },
      "source": [
        "print(metrics.classification_report(ytest,ypred))"
      ],
      "execution_count": 105,
      "outputs": [
        {
          "output_type": "stream",
          "name": "stdout",
          "text": [
            "              precision    recall  f1-score   support\n",
            "\n",
            "         1.0       0.72      0.76      0.74     12033\n",
            "         2.0       0.72      0.75      0.73     16937\n",
            "         3.0       0.79      0.70      0.74     14365\n",
            "\n",
            "    accuracy                           0.74     43335\n",
            "   macro avg       0.74      0.74      0.74     43335\n",
            "weighted avg       0.74      0.74      0.74     43335\n",
            "\n"
          ]
        }
      ]
    },
    {
      "cell_type": "code",
      "metadata": {
        "id": "ZDF66vml7_hw"
      },
      "source": [
        "rf = RandomForestClassifier()\n",
        "model_v1 = rf.fit(xtrain,ytrain)\n",
        "ypred = model_v1.predict(xtest)"
      ],
      "execution_count": 106,
      "outputs": []
    },
    {
      "cell_type": "code",
      "metadata": {
        "colab": {
          "base_uri": "https://localhost:8080/"
        },
        "id": "a8Bdd1Z_8L5Q",
        "outputId": "f07032cd-4b36-4839-d410-c7a5a2b683b2"
      },
      "source": [
        "print(metrics.classification_report(ytest,ypred))"
      ],
      "execution_count": 107,
      "outputs": [
        {
          "output_type": "stream",
          "name": "stdout",
          "text": [
            "              precision    recall  f1-score   support\n",
            "\n",
            "         1.0       0.86      0.78      0.82     12033\n",
            "         2.0       0.76      0.85      0.80     16937\n",
            "         3.0       0.82      0.77      0.79     14365\n",
            "\n",
            "    accuracy                           0.80     43335\n",
            "   macro avg       0.81      0.80      0.81     43335\n",
            "weighted avg       0.81      0.80      0.80     43335\n",
            "\n"
          ]
        }
      ]
    },
    {
      "cell_type": "code",
      "metadata": {
        "id": "FDEBNER18UCG"
      },
      "source": [
        "from xgboost import XGBClassifier"
      ],
      "execution_count": 108,
      "outputs": []
    },
    {
      "cell_type": "code",
      "metadata": {
        "id": "SqnCQEZT8hMv"
      },
      "source": [
        "xgb = XGBClassifier()\n",
        "model_v2 = xgb.fit(xtrain,ytrain)\n",
        "ypred = model_v2.predict(xtest)"
      ],
      "execution_count": 109,
      "outputs": []
    },
    {
      "cell_type": "code",
      "metadata": {
        "colab": {
          "base_uri": "https://localhost:8080/"
        },
        "id": "SX594x0n8tgn",
        "outputId": "fb6ae27e-4d2f-44f1-a201-167b5f695d85"
      },
      "source": [
        "print(metrics.classification_report(ytest,ypred))"
      ],
      "execution_count": 110,
      "outputs": [
        {
          "output_type": "stream",
          "name": "stdout",
          "text": [
            "              precision    recall  f1-score   support\n",
            "\n",
            "         1.0       0.86      0.77      0.81     12033\n",
            "         2.0       0.76      0.86      0.80     16937\n",
            "         3.0       0.82      0.76      0.79     14365\n",
            "\n",
            "    accuracy                           0.80     43335\n",
            "   macro avg       0.81      0.79      0.80     43335\n",
            "weighted avg       0.80      0.80      0.80     43335\n",
            "\n"
          ]
        }
      ]
    },
    {
      "cell_type": "code",
      "metadata": {
        "id": "uewvJcoN-wbb"
      },
      "source": [
        "from sklearn.ensemble import GradientBoostingClassifier"
      ],
      "execution_count": 111,
      "outputs": []
    },
    {
      "cell_type": "code",
      "metadata": {
        "id": "8Z-VJp21-_bi"
      },
      "source": [
        "gb = GradientBoostingClassifier()\n",
        "model_v5 = gb.fit(xtrain,ytrain)\n",
        "ypred = model_v5.predict(xtest)"
      ],
      "execution_count": 112,
      "outputs": []
    },
    {
      "cell_type": "code",
      "metadata": {
        "colab": {
          "base_uri": "https://localhost:8080/"
        },
        "id": "lcCHNNP__Ilu",
        "outputId": "bb25dfbd-5203-4fcf-b37e-936cfc60983c"
      },
      "source": [
        "print(metrics.classification_report(ytest,ypred))"
      ],
      "execution_count": 113,
      "outputs": [
        {
          "output_type": "stream",
          "name": "stdout",
          "text": [
            "              precision    recall  f1-score   support\n",
            "\n",
            "         1.0       0.86      0.77      0.81     12033\n",
            "         2.0       0.75      0.86      0.81     16937\n",
            "         3.0       0.82      0.76      0.79     14365\n",
            "\n",
            "    accuracy                           0.80     43335\n",
            "   macro avg       0.81      0.80      0.80     43335\n",
            "weighted avg       0.81      0.80      0.80     43335\n",
            "\n"
          ]
        }
      ]
    },
    {
      "cell_type": "code",
      "metadata": {
        "id": "vIQ2U9nO_LK7"
      },
      "source": [
        "from sklearn.tree import DecisionTreeClassifier"
      ],
      "execution_count": 114,
      "outputs": []
    },
    {
      "cell_type": "code",
      "metadata": {
        "id": "DyfXzSr2ZE64"
      },
      "source": [
        "dt = DecisionTreeClassifier()\n",
        "model_v6 = dt.fit(xtrain,ytrain)\n",
        "ypred = model_v6.predict(xtest)"
      ],
      "execution_count": 115,
      "outputs": []
    },
    {
      "cell_type": "code",
      "metadata": {
        "colab": {
          "base_uri": "https://localhost:8080/"
        },
        "id": "7VKzrPcVavxs",
        "outputId": "d1a3f151-fe01-46e1-f55c-255d09bfbb3d"
      },
      "source": [
        "print(metrics.classification_report(ytest,ypred))"
      ],
      "execution_count": 116,
      "outputs": [
        {
          "output_type": "stream",
          "name": "stdout",
          "text": [
            "              precision    recall  f1-score   support\n",
            "\n",
            "         1.0       0.72      0.73      0.73     12033\n",
            "         2.0       0.70      0.71      0.70     16937\n",
            "         3.0       0.72      0.70      0.71     14365\n",
            "\n",
            "    accuracy                           0.71     43335\n",
            "   macro avg       0.71      0.71      0.71     43335\n",
            "weighted avg       0.71      0.71      0.71     43335\n",
            "\n"
          ]
        }
      ]
    },
    {
      "cell_type": "markdown",
      "metadata": {
        "id": "oJWTsbdba0We"
      },
      "source": [
        "# Models using MinmaxScaler\n"
      ]
    },
    {
      "cell_type": "code",
      "metadata": {
        "id": "tW7RZ8cObEWj"
      },
      "source": [
        "x = df_mm.drop(columns=['Surge_Pricing_Type'])\n",
        "y = df_mm['Surge_Pricing_Type']"
      ],
      "execution_count": 117,
      "outputs": []
    },
    {
      "cell_type": "code",
      "metadata": {
        "id": "rpvCwPIpbS-p"
      },
      "source": [
        "xtrain,xtest,ytrain,ytest = train_test_split(x,y,train_size=0.7,random_state = 7)"
      ],
      "execution_count": 118,
      "outputs": []
    },
    {
      "cell_type": "code",
      "metadata": {
        "id": "uF5GRXZFbbVG"
      },
      "source": [
        "knn = KNeighborsClassifier()\n",
        "model_v1 = knn.fit(xtrain,ytrain)\n",
        "ypred = model_v1.predict(xtest)"
      ],
      "execution_count": 119,
      "outputs": []
    },
    {
      "cell_type": "code",
      "metadata": {
        "colab": {
          "base_uri": "https://localhost:8080/"
        },
        "id": "pYFd4Sdlbm32",
        "outputId": "d3d4704d-c36c-460e-ef53-5b9c25dbecf2"
      },
      "source": [
        "print(metrics.classification_report(ytest,ypred))"
      ],
      "execution_count": 120,
      "outputs": [
        {
          "output_type": "stream",
          "name": "stdout",
          "text": [
            "              precision    recall  f1-score   support\n",
            "\n",
            "         1.0       0.76      0.76      0.76     12033\n",
            "         2.0       0.72      0.77      0.75     16937\n",
            "         3.0       0.77      0.71      0.74     14365\n",
            "\n",
            "    accuracy                           0.75     43335\n",
            "   macro avg       0.75      0.75      0.75     43335\n",
            "weighted avg       0.75      0.75      0.75     43335\n",
            "\n"
          ]
        }
      ]
    },
    {
      "cell_type": "code",
      "metadata": {
        "id": "J6pG3RNVcL4u"
      },
      "source": [
        "rf = RandomForestClassifier()\n",
        "model_v2 = rf.fit(xtrain,ytrain)\n",
        "ypred = model_v2.predict(xtest)"
      ],
      "execution_count": 121,
      "outputs": []
    },
    {
      "cell_type": "code",
      "metadata": {
        "colab": {
          "base_uri": "https://localhost:8080/"
        },
        "id": "kR6FoPwkcU7p",
        "outputId": "77b8b58a-c973-4702-f19c-3afb1e0e0dcd"
      },
      "source": [
        "print(metrics.classification_report(ytest,ypred))"
      ],
      "execution_count": 122,
      "outputs": [
        {
          "output_type": "stream",
          "name": "stdout",
          "text": [
            "              precision    recall  f1-score   support\n",
            "\n",
            "         1.0       0.86      0.78      0.82     12033\n",
            "         2.0       0.76      0.85      0.80     16937\n",
            "         3.0       0.82      0.77      0.79     14365\n",
            "\n",
            "    accuracy                           0.80     43335\n",
            "   macro avg       0.81      0.80      0.81     43335\n",
            "weighted avg       0.81      0.80      0.80     43335\n",
            "\n"
          ]
        }
      ]
    },
    {
      "cell_type": "code",
      "metadata": {
        "id": "jOV-Y5Sycxyf"
      },
      "source": [
        "xgb = XGBClassifier()\n",
        "model_v3 = xgb.fit(xtrain,ytrain)\n",
        "ypred = model_v3.predict(xtest)"
      ],
      "execution_count": 123,
      "outputs": []
    },
    {
      "cell_type": "code",
      "metadata": {
        "colab": {
          "base_uri": "https://localhost:8080/"
        },
        "id": "DY101hbbdGeI",
        "outputId": "2ab90329-8c71-4794-9fb3-fc30cb2bb33f"
      },
      "source": [
        "print(metrics.classification_report(ytest,ypred))"
      ],
      "execution_count": 124,
      "outputs": [
        {
          "output_type": "stream",
          "name": "stdout",
          "text": [
            "              precision    recall  f1-score   support\n",
            "\n",
            "         1.0       0.86      0.77      0.81     12033\n",
            "         2.0       0.76      0.86      0.80     16937\n",
            "         3.0       0.82      0.76      0.79     14365\n",
            "\n",
            "    accuracy                           0.80     43335\n",
            "   macro avg       0.81      0.79      0.80     43335\n",
            "weighted avg       0.80      0.80      0.80     43335\n",
            "\n"
          ]
        }
      ]
    },
    {
      "cell_type": "code",
      "metadata": {
        "colab": {
          "base_uri": "https://localhost:8080/",
          "height": 282
        },
        "id": "Xr40XXU-dTCj",
        "outputId": "5ec4a0b5-ffa5-41e8-c5e7-ee841dd45f26"
      },
      "source": [
        "sns.heatmap(metrics.confusion_matrix(ytest,ypred),annot=True)"
      ],
      "execution_count": 125,
      "outputs": [
        {
          "output_type": "execute_result",
          "data": {
            "text/plain": [
              "<matplotlib.axes._subplots.AxesSubplot at 0x7f14f1dc51d0>"
            ]
          },
          "metadata": {},
          "execution_count": 125
        },
        {
          "output_type": "display_data",
          "data": {
            "image/png": "[encoded data removed]",
            "text/plain": [
              "<Figure size 432x288 with 2 Axes>"
            ]
          },
          "metadata": {
            "needs_background": "light"
          }
        }
      ]
    },
    {
      "cell_type": "code",
      "metadata": {
        "id": "DqKPQMcnf4TC"
      },
      "source": [
        "dt = DecisionTreeClassifier()\n",
        "model_v3 = dt.fit(xtrain,ytrain)\n",
        "ypred = model_v3.predict(xtest)"
      ],
      "execution_count": 126,
      "outputs": []
    },
    {
      "cell_type": "code",
      "metadata": {
        "colab": {
          "base_uri": "https://localhost:8080/"
        },
        "id": "HUFkvI2xgG7I",
        "outputId": "c58da997-aec7-42fe-a0e4-b7dfc8ac89bf"
      },
      "source": [
        "print(metrics.classification_report(ytest,ypred))"
      ],
      "execution_count": 127,
      "outputs": [
        {
          "output_type": "stream",
          "name": "stdout",
          "text": [
            "              precision    recall  f1-score   support\n",
            "\n",
            "         1.0       0.72      0.74      0.73     12033\n",
            "         2.0       0.70      0.71      0.70     16937\n",
            "         3.0       0.72      0.70      0.71     14365\n",
            "\n",
            "    accuracy                           0.71     43335\n",
            "   macro avg       0.71      0.71      0.71     43335\n",
            "weighted avg       0.71      0.71      0.71     43335\n",
            "\n"
          ]
        }
      ]
    },
    {
      "cell_type": "code",
      "metadata": {
        "id": "bxXYOiTnd2aC"
      },
      "source": [
        "# We can conclude that both scaling methods are giving similar results\n",
        "# So we are going with MinMaxScaler"
      ],
      "execution_count": 128,
      "outputs": []
    },
    {
      "cell_type": "markdown",
      "metadata": {
        "id": "NzvZ9LWMgQEN"
      },
      "source": [
        "# Main Model Building"
      ]
    },
    {
      "cell_type": "markdown",
      "metadata": {
        "id": "oPrDTG79gtgh"
      },
      "source": [
        "Description:\n",
        "As we move forward , we are mainly focusing on the metric f1-weighted and ways to improve it. The main reason for choosing this metric is because this is the weighted variant of f1-score which is the combination precision and recall which makes the score stable and reliable. We will do two main techniques to improve the f1-weighted score -  GridSearchCV and Cross-Validation"
      ]
    },
    {
      "cell_type": "markdown",
      "metadata": {
        "id": "hNNKf96ugdcA"
      },
      "source": [
        "**Base Model (KNN)**"
      ]
    },
    {
      "cell_type": "code",
      "metadata": {
        "id": "MkN3BQZ6ia8H"
      },
      "source": [
        "from sklearn.model_selection import GridSearchCV,cross_val_score,KFold"
      ],
      "execution_count": 129,
      "outputs": []
    },
    {
      "cell_type": "code",
      "metadata": {
        "id": "LCpHJ4iTgqsJ"
      },
      "source": [
        "knn = KNeighborsClassifier()\n",
        "base_model = knn.fit(xtrain,ytrain)\n",
        "ypred = base_model.predict(xtest)"
      ],
      "execution_count": 130,
      "outputs": []
    },
    {
      "cell_type": "code",
      "metadata": {
        "colab": {
          "base_uri": "https://localhost:8080/"
        },
        "id": "IulWTYQ_iUC_",
        "outputId": "4a43bd79-2c13-461e-ebf2-5928d892719d"
      },
      "source": [
        "print(metrics.classification_report(ytest,ypred))"
      ],
      "execution_count": 131,
      "outputs": [
        {
          "output_type": "stream",
          "name": "stdout",
          "text": [
            "              precision    recall  f1-score   support\n",
            "\n",
            "         1.0       0.76      0.76      0.76     12033\n",
            "         2.0       0.72      0.77      0.75     16937\n",
            "         3.0       0.77      0.71      0.74     14365\n",
            "\n",
            "    accuracy                           0.75     43335\n",
            "   macro avg       0.75      0.75      0.75     43335\n",
            "weighted avg       0.75      0.75      0.75     43335\n",
            "\n"
          ]
        }
      ]
    },
    {
      "cell_type": "code",
      "metadata": {
        "colab": {
          "base_uri": "https://localhost:8080/"
        },
        "id": "6hahp06xkihr",
        "outputId": "4adb8d6d-311d-4e0e-e006-082ac2588388"
      },
      "source": [
        "kf = KFold(n_splits=5,shuffle=True,random_state=7)\n",
        "scores = cross_val_score(estimator=knn,X=x,y=y,scoring='f1_weighted',cv=kf)\n",
        "score_knn = np.mean(scores)\n",
        "bias_knn = 1-np.mean(score_knn)\n",
        "var_knn = np.std(score_knn)/np.mean(score_knn)\n",
        "\n",
        "print('Average f1-weighted score = ',np.mean(score_knn))\n",
        "print('Bias error(in %) = ',bias_knn * 100 , '%')\n",
        "print('Variance error(in %) = ',var_knn * 100,'%')"
      ],
      "execution_count": 132,
      "outputs": [
        {
          "output_type": "stream",
          "name": "stdout",
          "text": [
            "Average f1-weighted score =  0.7491425413096751\n",
            "Bias error(in %) =  25.085745869032493 %\n",
            "Variance error(in %) =  0.0 %\n"
          ]
        }
      ]
    },
    {
      "cell_type": "markdown",
      "metadata": {
        "id": "CNq6Bd_wlZwM"
      },
      "source": [
        "# Standalone model - 1  Decision Tree"
      ]
    },
    {
      "cell_type": "code",
      "metadata": {
        "colab": {
          "base_uri": "https://localhost:8080/"
        },
        "id": "hU0BVCIHqeBj",
        "outputId": "dad77b27-04bf-4acb-b9c8-b7fe97528e3a"
      },
      "source": [
        "dt = DecisionTreeClassifier()\n",
        "kf = KFold(n_splits=5,shuffle=True,random_state=7)\n",
        "scores = cross_val_score(estimator=dt,X=x,y=y,scoring='f1_weighted',cv=kf)\n",
        "score_dt = np.mean(scores)\n",
        "bias_dt = 1-np.mean(score_dt)\n",
        "var_dt = np.std(score_dt)/np.mean(score_dt)\n",
        "\n",
        "print('Average f1-weighted score = ',np.mean(score_dt))\n",
        "print('Bias error(in %) = ',bias_dt * 100 , '%')\n",
        "print('Variance error(in %) = ',var_dt * 100,'%')"
      ],
      "execution_count": 133,
      "outputs": [
        {
          "output_type": "stream",
          "name": "stdout",
          "text": [
            "Average f1-weighted score =  0.7135922039590084\n",
            "Bias error(in %) =  28.640779604099166 %\n",
            "Variance error(in %) =  0.0 %\n"
          ]
        }
      ]
    },
    {
      "cell_type": "code",
      "metadata": {
        "id": "1xdGtB2Xrdni"
      },
      "source": [
        ""
      ],
      "execution_count": 133,
      "outputs": []
    },
    {
      "cell_type": "markdown",
      "metadata": {
        "id": "Q3J1K0z_rOxd"
      },
      "source": [
        "# Ensemble Model - 1 Random Forest "
      ]
    },
    {
      "cell_type": "code",
      "metadata": {
        "colab": {
          "base_uri": "https://localhost:8080/"
        },
        "id": "TWX0zXrBrp-y",
        "outputId": "278fc75e-0155-46c2-a375-277733603723"
      },
      "source": [
        "rf = RandomForestClassifier()\n",
        "kf = KFold(n_splits=5,shuffle=True,random_state=7)\n",
        "scores = cross_val_score(estimator=rf,X=x,y=y,scoring='f1_weighted',cv=kf)\n",
        "score_rf = np.mean(scores)\n",
        "bias_rf = 1-np.mean(score_rf)\n",
        "var_rf = np.std(score_rf)/np.mean(score_rf)\n",
        "\n",
        "print('Average f1-weighted score = ',np.mean(score_rf))\n",
        "print('Bias error(in %) = ',bias_rf * 100 , '%')\n",
        "print('Variance error(in %) = ',var_rf * 100,'%')"
      ],
      "execution_count": 134,
      "outputs": [
        {
          "output_type": "stream",
          "name": "stdout",
          "text": [
            "Average f1-weighted score =  0.8037827341172183\n",
            "Bias error(in %) =  19.621726588278165 %\n",
            "Variance error(in %) =  0.0 %\n"
          ]
        }
      ]
    },
    {
      "cell_type": "markdown",
      "metadata": {
        "id": "h-ZK2jeHshrN"
      },
      "source": [
        "# Ensemble Model - 2 AdaBoosting"
      ]
    },
    {
      "cell_type": "code",
      "metadata": {
        "id": "1lBsUGyGr99Z"
      },
      "source": [
        "from sklearn.ensemble import AdaBoostClassifier"
      ],
      "execution_count": 135,
      "outputs": []
    },
    {
      "cell_type": "code",
      "metadata": {
        "colab": {
          "base_uri": "https://localhost:8080/"
        },
        "id": "UxnJW8vHs2c-",
        "outputId": "626ffe21-568e-40e6-b78f-b0cba489f2cc"
      },
      "source": [
        "ada = AdaBoostClassifier()\n",
        "kf = KFold(n_splits=5,shuffle=True,random_state=7)\n",
        "scores = cross_val_score(estimator=ada,X=x,y=y,scoring='f1_weighted',cv=kf)\n",
        "score_ada = np.mean(scores)\n",
        "bias_ada = 1-np.mean(score_ada)\n",
        "var_ada = np.std(score_ada)/np.mean(score_ada)\n",
        "\n",
        "print('Average f1-weighted score = ',np.mean(score_ada))\n",
        "print('Bias error(in %) = ',bias_ada * 100 , '%')\n",
        "print('Variance error(in %) = ',var_ada * 100,'%')"
      ],
      "execution_count": 136,
      "outputs": [
        {
          "output_type": "stream",
          "name": "stdout",
          "text": [
            "Average f1-weighted score =  0.786245108479534\n",
            "Bias error(in %) =  21.3754891520466 %\n",
            "Variance error(in %) =  0.0 %\n"
          ]
        }
      ]
    },
    {
      "cell_type": "markdown",
      "metadata": {
        "id": "Hj0PYMP2tPkf"
      },
      "source": [
        "# Ensemble Model - 3 XGBoost"
      ]
    },
    {
      "cell_type": "code",
      "metadata": {
        "colab": {
          "base_uri": "https://localhost:8080/"
        },
        "id": "8-cfcLFqtgJr",
        "outputId": "fc20a47a-23f7-493c-a0eb-2e5a8214d9ab"
      },
      "source": [
        "xgb = XGBClassifier()\n",
        "kf = KFold(n_splits=5,shuffle=True,random_state=7)\n",
        "scores = cross_val_score(estimator=xgb,X=x,y=y,scoring='f1_weighted',cv=kf)\n",
        "score_xgb = np.mean(scores)\n",
        "bias_xgb = 1-np.mean(score_xgb)\n",
        "var_xgb = np.std(score_xgb)/np.mean(score_xgb)\n",
        "\n",
        "print('Average f1-weighted score = ',np.mean(score_xgb))\n",
        "print('Bias error(in %) = ',bias_xgb * 100 , '%')\n",
        "print('Variance error(in %) = ',var_xgb * 100,'%')"
      ],
      "execution_count": 137,
      "outputs": [
        {
          "output_type": "stream",
          "name": "stdout",
          "text": [
            "Average f1-weighted score =  0.8010246573656294\n",
            "Bias error(in %) =  19.897534263437056 %\n",
            "Variance error(in %) =  0.0 %\n"
          ]
        }
      ]
    },
    {
      "cell_type": "markdown",
      "metadata": {
        "id": "GfGtCR2mtzBJ"
      },
      "source": [
        "# Collecting the results for the models we done so far"
      ]
    },
    {
      "cell_type": "code",
      "metadata": {
        "id": "BoXrtPc8u6Ae"
      },
      "source": [
        "res = pd.DataFrame({'Models':['KNN','DecisionTree','RandomForest','AdaBoosting','XGBoost'],\n",
        "                    'F1-Weighted':[score_knn,score_dt,score_rf,score_ada,score_xgb],\n",
        "                    'Bias Error':[bias_knn,bias_dt,bias_rf,bias_ada,bias_xgb],\n",
        "                    'Variance Error':[var_knn,var_dt,var_rf,var_ada,var_xgb]})"
      ],
      "execution_count": 138,
      "outputs": []
    },
    {
      "cell_type": "code",
      "metadata": {
        "colab": {
          "base_uri": "https://localhost:8080/",
          "height": 204
        },
        "id": "mLRMcMgnxZTF",
        "outputId": "b76c14f8-abf9-4b0b-f58c-7f35b2313fd4"
      },
      "source": [
        "res"
      ],
      "execution_count": 139,
      "outputs": [
        {
          "output_type": "execute_result",
          "data": {
            "text/html": [
              "<div>\n",
              "<style scoped>\n",
              "    .dataframe tbody tr th:only-of-type {\n",
              "        vertical-align: middle;\n",
              "    }\n",
              "\n",
              "    .dataframe tbody tr th {\n",
              "        vertical-align: top;\n",
              "    }\n",
              "\n",
              "    .dataframe thead th {\n",
              "        text-align: right;\n",
              "    }\n",
              "</style>\n",
              "<table border=\"1\" class=\"dataframe\">\n",
              "  <thead>\n",
              "    <tr style=\"text-align: right;\">\n",
              "      <th></th>\n",
              "      <th>Models</th>\n",
              "      <th>F1-Weighted</th>\n",
              "      <th>Bias Error</th>\n",
              "      <th>Variance Error</th>\n",
              "    </tr>\n",
              "  </thead>\n",
              "  <tbody>\n",
              "    <tr>\n",
              "      <th>0</th>\n",
              "      <td>KNN</td>\n",
              "      <td>0.749143</td>\n",
              "      <td>0.250857</td>\n",
              "      <td>0.0</td>\n",
              "    </tr>\n",
              "    <tr>\n",
              "      <th>1</th>\n",
              "      <td>DecisionTree</td>\n",
              "      <td>0.713592</td>\n",
              "      <td>0.286408</td>\n",
              "      <td>0.0</td>\n",
              "    </tr>\n",
              "    <tr>\n",
              "      <th>2</th>\n",
              "      <td>RandomForest</td>\n",
              "      <td>0.803783</td>\n",
              "      <td>0.196217</td>\n",
              "      <td>0.0</td>\n",
              "    </tr>\n",
              "    <tr>\n",
              "      <th>3</th>\n",
              "      <td>AdaBoosting</td>\n",
              "      <td>0.786245</td>\n",
              "      <td>0.213755</td>\n",
              "      <td>0.0</td>\n",
              "    </tr>\n",
              "    <tr>\n",
              "      <th>4</th>\n",
              "      <td>XGBoost</td>\n",
              "      <td>0.801025</td>\n",
              "      <td>0.198975</td>\n",
              "      <td>0.0</td>\n",
              "    </tr>\n",
              "  </tbody>\n",
              "</table>\n",
              "</div>"
            ],
            "text/plain": [
              "         Models  F1-Weighted  Bias Error  Variance Error\n",
              "0           KNN     0.749143    0.250857             0.0\n",
              "1  DecisionTree     0.713592    0.286408             0.0\n",
              "2  RandomForest     0.803783    0.196217             0.0\n",
              "3   AdaBoosting     0.786245    0.213755             0.0\n",
              "4       XGBoost     0.801025    0.198975             0.0"
            ]
          },
          "metadata": {},
          "execution_count": 139
        }
      ]
    },
    {
      "cell_type": "markdown",
      "metadata": {
        "id": "T7aMAcIZwwII"
      },
      "source": [
        "# Stacking and Bagging models\n",
        "\n",
        "Description :\n",
        "\n",
        "We will stacking 3 of the best models and find out the f1_weighted score and then out of that we will do bagging of the single best model"
      ]
    },
    {
      "cell_type": "code",
      "metadata": {
        "id": "-dL4i6sEwiLN"
      },
      "source": [
        "from sklearn.ensemble import StackingClassifier,BaggingClassifier"
      ],
      "execution_count": 140,
      "outputs": []
    },
    {
      "cell_type": "code",
      "metadata": {
        "colab": {
          "base_uri": "https://localhost:8080/"
        },
        "id": "srQ-KzgRxK2i",
        "outputId": "738770cc-86a3-4121-e42d-0a7ae156eab4"
      },
      "source": [
        "est = [('RandomForest',rf),('AdaBoost',ada),('XGBoost',xgb)]\n",
        "stack = StackingClassifier(estimators=est,final_estimator = xgb,cv = 5)\n",
        "kf = KFold(n_splits=5,shuffle=True,random_state=7)\n",
        "scores = cross_val_score(estimator=stack,X=x,y=y,scoring='f1_weighted',cv=kf)\n",
        "score_stack = np.mean(scores)\n",
        "bias_stack = 1-np.mean(score_stack)\n",
        "var_stack = np.std(score_stack)/np.mean(score_stack)\n",
        "\n",
        "print('Average f1-weighted score = ',np.mean(score_stack))\n",
        "print('Bias error(in %) = ',bias_stack * 100 , '%')\n",
        "print('Variance error(in %) = ',var_stack * 100,'%')"
      ],
      "execution_count": 141,
      "outputs": [
        {
          "output_type": "stream",
          "name": "stdout",
          "text": [
            "Average f1-weighted score =  0.8067074633685383\n",
            "Bias error(in %) =  19.329253663146172 %\n",
            "Variance error(in %) =  0.0 %\n"
          ]
        }
      ]
    },
    {
      "cell_type": "code",
      "metadata": {
        "id": "jRjyKvUcy1__",
        "colab": {
          "base_uri": "https://localhost:8080/"
        },
        "outputId": "f5b8dd55-678f-48eb-d75a-68c7619a0f66"
      },
      "source": [
        "bag = BaggingClassifier(base_estimator=stack)\n",
        "bag = StackingClassifier(estimators=est,final_estimator = xgb,cv = 5)\n",
        "kf = KFold(n_splits=5,shuffle=True,random_state=7)\n",
        "scores = cross_val_score(estimator=bag,X=x,y=y,scoring='f1_weighted',cv=kf)\n",
        "score_bag = np.mean(scores)\n",
        "bias_bag = 1-np.mean(score_bag)\n",
        "var_bag = np.std(score_bag)/np.mean(score_bag)\n",
        "\n",
        "print('Average f1-weighted score = ',np.mean(scores))\n",
        "print('Bias error(in %) = ',bias_bag * 100 , '%')\n",
        "print('Variance error(in %) = ',var_bag * 100,'%')"
      ],
      "execution_count": 142,
      "outputs": [
        {
          "output_type": "stream",
          "name": "stdout",
          "text": [
            "Average f1-weighted score =  0.8066626879618257\n",
            "Bias error(in %) =  19.33373120381743 %\n",
            "Variance error(in %) =  0.0 %\n"
          ]
        }
      ]
    },
    {
      "cell_type": "markdown",
      "metadata": {
        "id": "Hk8cKsi6SmK_"
      },
      "source": [
        "# Final summary of the data"
      ]
    },
    {
      "cell_type": "code",
      "metadata": {
        "id": "T88zz_WHfLVx"
      },
      "source": [
        "final_res = pd.DataFrame({'Models':['KNN','DecisionTree','RandomForest','AdaBoosting','XGBoost','Stacking','Bagging'],\n",
        "                    'F1-Weighted':[score_knn,score_dt,score_rf,score_ada,score_xgb,score_stack,score_bag],\n",
        "                    'Bias Error':[bias_knn,bias_dt,bias_rf,bias_ada,bias_xgb,bias_stack,bias_bag],\n",
        "                    'Variance Error':[var_knn,var_dt,var_rf,var_ada,var_xgb,var_stack,var_bag]})"
      ],
      "execution_count": 143,
      "outputs": []
    },
    {
      "cell_type": "code",
      "metadata": {
        "colab": {
          "base_uri": "https://localhost:8080/",
          "height": 266
        },
        "id": "oQ74R7oTfeAB",
        "outputId": "5a919ea8-9324-4a9b-df39-a20798f8194c"
      },
      "source": [
        "final_res.sort_values('F1-Weighted',ascending=False)"
      ],
      "execution_count": 145,
      "outputs": [
        {
          "output_type": "execute_result",
          "data": {
            "text/html": [
              "<div>\n",
              "<style scoped>\n",
              "    .dataframe tbody tr th:only-of-type {\n",
              "        vertical-align: middle;\n",
              "    }\n",
              "\n",
              "    .dataframe tbody tr th {\n",
              "        vertical-align: top;\n",
              "    }\n",
              "\n",
              "    .dataframe thead th {\n",
              "        text-align: right;\n",
              "    }\n",
              "</style>\n",
              "<table border=\"1\" class=\"dataframe\">\n",
              "  <thead>\n",
              "    <tr style=\"text-align: right;\">\n",
              "      <th></th>\n",
              "      <th>Models</th>\n",
              "      <th>F1-Weighted</th>\n",
              "      <th>Bias Error</th>\n",
              "      <th>Variance Error</th>\n",
              "    </tr>\n",
              "  </thead>\n",
              "  <tbody>\n",
              "    <tr>\n",
              "      <th>5</th>\n",
              "      <td>Stacking</td>\n",
              "      <td>0.806707</td>\n",
              "      <td>0.193293</td>\n",
              "      <td>0.0</td>\n",
              "    </tr>\n",
              "    <tr>\n",
              "      <th>6</th>\n",
              "      <td>Bagging</td>\n",
              "      <td>0.806663</td>\n",
              "      <td>0.193337</td>\n",
              "      <td>0.0</td>\n",
              "    </tr>\n",
              "    <tr>\n",
              "      <th>2</th>\n",
              "      <td>RandomForest</td>\n",
              "      <td>0.803783</td>\n",
              "      <td>0.196217</td>\n",
              "      <td>0.0</td>\n",
              "    </tr>\n",
              "    <tr>\n",
              "      <th>4</th>\n",
              "      <td>XGBoost</td>\n",
              "      <td>0.801025</td>\n",
              "      <td>0.198975</td>\n",
              "      <td>0.0</td>\n",
              "    </tr>\n",
              "    <tr>\n",
              "      <th>3</th>\n",
              "      <td>AdaBoosting</td>\n",
              "      <td>0.786245</td>\n",
              "      <td>0.213755</td>\n",
              "      <td>0.0</td>\n",
              "    </tr>\n",
              "    <tr>\n",
              "      <th>0</th>\n",
              "      <td>KNN</td>\n",
              "      <td>0.749143</td>\n",
              "      <td>0.250857</td>\n",
              "      <td>0.0</td>\n",
              "    </tr>\n",
              "    <tr>\n",
              "      <th>1</th>\n",
              "      <td>DecisionTree</td>\n",
              "      <td>0.713592</td>\n",
              "      <td>0.286408</td>\n",
              "      <td>0.0</td>\n",
              "    </tr>\n",
              "  </tbody>\n",
              "</table>\n",
              "</div>"
            ],
            "text/plain": [
              "         Models  F1-Weighted  Bias Error  Variance Error\n",
              "5      Stacking     0.806707    0.193293             0.0\n",
              "6       Bagging     0.806663    0.193337             0.0\n",
              "2  RandomForest     0.803783    0.196217             0.0\n",
              "4       XGBoost     0.801025    0.198975             0.0\n",
              "3   AdaBoosting     0.786245    0.213755             0.0\n",
              "0           KNN     0.749143    0.250857             0.0\n",
              "1  DecisionTree     0.713592    0.286408             0.0"
            ]
          },
          "metadata": {},
          "execution_count": 145
        }
      ]
    },
    {
      "cell_type": "code",
      "metadata": {
        "id": "0-ile4ZefgRE"
      },
      "source": [
        "# Stacking Classifier is the best performing model , but as stacking bagging is based on random forest , \n",
        "# we are doing gridsearch hyperparameter tuning on random forest"
      ],
      "execution_count": 146,
      "outputs": []
    },
    {
      "cell_type": "code",
      "metadata": {
        "id": "aK3MKFmvgfKw"
      },
      "source": [
        "from sklearn.model_selection import GridSearchCV"
      ],
      "execution_count": 147,
      "outputs": []
    },
    {
      "cell_type": "markdown",
      "metadata": {
        "id": "vOsr5MSXgif9"
      },
      "source": [
        "# Final model using GridSearchCV"
      ]
    },
    {
      "cell_type": "code",
      "metadata": {
        "colab": {
          "base_uri": "https://localhost:8080/"
        },
        "id": "PL1VEMEygm0J",
        "outputId": "ddfadf9e-1e6b-4fc4-e112-a962f28d7c5b"
      },
      "source": [
        "rf = RandomForestClassifier()\n",
        "params = ({'n_estimators': np.arange(100,200,25),\n",
        "           'max_depth':np.arange(5,22,2),\n",
        "           'criterion':['gini','entropy']})\n",
        "kf = KFold(n_splits=3,shuffle=True,random_state=7)\n",
        "grid = GridSearchCV(estimator=rf,param_grid=params,scoring='f1_weighted',cv=kf,n_jobs=-1)\n",
        "grid.fit(xtrain,ytrain)"
      ],
      "execution_count": 150,
      "outputs": [
        {
          "output_type": "stream",
          "name": "stderr",
          "text": [
            "/usr/local/lib/python3.7/dist-packages/joblib/externals/loky/process_executor.py:691: UserWarning: A worker stopped while some jobs were given to the executor. This can be caused by a too short worker timeout or by a memory leak.\n",
            "  \"timeout or by a memory leak.\", UserWarning\n"
          ]
        },
        {
          "output_type": "execute_result",
          "data": {
            "text/plain": [
              "GridSearchCV(cv=KFold(n_splits=3, random_state=7, shuffle=True),\n",
              "             error_score=nan,\n",
              "             estimator=RandomForestClassifier(bootstrap=True, ccp_alpha=0.0,\n",
              "                                              class_weight=None,\n",
              "                                              criterion='gini', max_depth=None,\n",
              "                                              max_features='auto',\n",
              "                                              max_leaf_nodes=None,\n",
              "                                              max_samples=None,\n",
              "                                              min_impurity_decrease=0.0,\n",
              "                                              min_impurity_split=None,\n",
              "                                              min_samples_leaf=1,\n",
              "                                              min_samples_split=2,\n",
              "                                              min_weight_fra...n_leaf=0.0,\n",
              "                                              n_estimators=100, n_jobs=None,\n",
              "                                              oob_score=False,\n",
              "                                              random_state=None, verbose=0,\n",
              "                                              warm_start=False),\n",
              "             iid='deprecated', n_jobs=-1,\n",
              "             param_grid={'criterion': ['gini', 'entropy'],\n",
              "                         'max_depth': array([ 5,  7,  9, 11, 13, 15, 17, 19, 21]),\n",
              "                         'n_estimators': array([100, 125, 150, 175])},\n",
              "             pre_dispatch='2*n_jobs', refit=True, return_train_score=False,\n",
              "             scoring='f1_weighted', verbose=0)"
            ]
          },
          "metadata": {},
          "execution_count": 150
        }
      ]
    },
    {
      "cell_type": "code",
      "metadata": {
        "colab": {
          "base_uri": "https://localhost:8080/"
        },
        "id": "KTlu1pLIh6l8",
        "outputId": "0374217c-1683-4f94-a831-789092b098a9"
      },
      "source": [
        "grid.best_params_"
      ],
      "execution_count": 152,
      "outputs": [
        {
          "output_type": "execute_result",
          "data": {
            "text/plain": [
              "{'criterion': 'entropy', 'max_depth': 21, 'n_estimators': 150}"
            ]
          },
          "metadata": {},
          "execution_count": 152
        }
      ]
    },
    {
      "cell_type": "code",
      "metadata": {
        "colab": {
          "base_uri": "https://localhost:8080/"
        },
        "id": "tr1hRuQ8Gljo",
        "outputId": "48e92140-0ebc-4bf5-b9a8-b2ad76e246d9"
      },
      "source": [
        "rf = RandomForestClassifier(criterion='entropy',max_depth=21,n_estimators=150)\n",
        "kf = KFold(n_splits=5,shuffle=True,random_state=7)\n",
        "scores = cross_val_score(estimator=rf,X=x,y=y,scoring='f1_weighted',cv=kf)\n",
        "score_final = np.mean(scores)\n",
        "bias_final = 1-np.mean(score_final)\n",
        "var_final = np.std(score_final)/np.mean(score_final)\n",
        "\n",
        "print('Average f1-weighted score = ',np.mean(scores))\n",
        "print('Bias error(in %) = ',bias_final * 100 , '%')\n",
        "print('Variance error(in %) = ',var_final * 100,'%')"
      ],
      "execution_count": 155,
      "outputs": [
        {
          "output_type": "stream",
          "name": "stdout",
          "text": [
            "Average f1-weighted score =  0.8043249935537643\n",
            "Bias error(in %) =  19.56750064462357 %\n",
            "Variance error(in %) =  0.0 %\n"
          ]
        }
      ]
    },
    {
      "cell_type": "code",
      "metadata": {
        "id": "N_V0i7jfHH5w"
      },
      "source": [
        ""
      ],
      "execution_count": null,
      "outputs": []
    }
  ]
}