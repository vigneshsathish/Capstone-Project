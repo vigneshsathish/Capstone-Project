{
  "nbformat": 4,
  "nbformat_minor": 0,
  "metadata": {
    "colab": {
      "name": "Final_Capstone.ipynb",
      "provenance": [],
      "collapsed_sections": []
    },
    "kernelspec": {
      "display_name": "Python 3",
      "name": "python3"
    },
    "language_info": {
      "name": "python"
    }
  },
  "cells": [
    {
      "cell_type": "markdown",
      "metadata": {
        "id": "_8Rltha-y9N-"
      },
      "source": [
        "# Project Name :Trip Pricing with Taxi Mobility Analytics\n"
      ]
    },
    {
      "cell_type": "markdown",
      "metadata": {
        "id": "FJcCBbCH0X5l"
      },
      "source": [
        "![picture](https://drive.google.com/uc?export=view&id=1yTMgRrwyvbR7iVStiPVQJ6c7q2bbep0T)\n"
      ]
    },
    {
      "cell_type": "markdown",
      "metadata": {
        "id": "DLweyqtxy_Xx"
      },
      "source": [
        "# BUSINESS PROBLEM\n",
        "Data provided by an Indian cab aggregator service Sigma Cabs. Their customers can download their app on smartphones and book a cab from any where in the cities they operate in. They, in turn search for cabs from various service providers and provide the best option to their client across available options. They have been in operation for little less than a year now. During this period, they have captured surgepricingtype from the service providers."
      ]
    },
    {
      "cell_type": "markdown",
      "metadata": {
        "id": "GiccltopBQxI"
      },
      "source": [
        "# OBJECTIVE"
      ]
    },
    {
      "cell_type": "markdown",
      "metadata": {
        "id": "s4gGLzq4BXpE"
      },
      "source": [
        "The main objective is to build a predictive model, which could help them in predicting the surgepricingtype pro-actively(MULTICLASSIFICATION). This would in turn help them in matching the right cabs with the right customers quickly and efficiently."
      ]
    },
    {
      "cell_type": "markdown",
      "metadata": {
        "id": "z9Z3qj29y_ki"
      },
      "source": [
        "# **Lifecycle in the project**\n",
        "1. Data Analysis\n",
        "2. Feature Engineering\n",
        "3. Feature Selection\n",
        "4. Model Building\n",
        "5. Model Deployment"
      ]
    },
    {
      "cell_type": "code",
      "metadata": {
        "id": "XpheRGeUUArp"
      },
      "source": [
        "import pandas as pd\n",
        "import numpy as np\n",
        "import matplotlib.pyplot as plt\n",
        "import seaborn as sns\n",
        "\n",
        "from warnings import filterwarnings\n",
        "filterwarnings(\"ignore\")\n",
        "\n",
        "plt.rcParams[\"figure.figsize\"]=[10,5]\n",
        "\n",
        "pd.options.display.max_rows=None\n",
        "pd.options.display.max_columns=None"
      ],
      "execution_count": null,
      "outputs": []
    },
    {
      "cell_type": "code",
      "metadata": {
        "id": "IMBm2op2VgMC"
      },
      "source": [
        "# Reading train dataset\n",
        "df_train = pd.read_csv('sigma_cabs.csv')"
      ],
      "execution_count": null,
      "outputs": []
    },
    {
      "cell_type": "code",
      "metadata": {
        "id": "md6QMPx6mgiL"
      },
      "source": [
        "# Reading train dataset\n",
        "df_test=pd.read_csv(\"test.csv\")"
      ],
      "execution_count": null,
      "outputs": []
    },
    {
      "cell_type": "code",
      "metadata": {
        "colab": {
          "base_uri": "https://localhost:8080/"
        },
        "id": "NWlJxsEbhioE",
        "outputId": "e0505175-2ffc-4ee1-ddd9-b74482b6f41b"
      },
      "source": [
        "# Get the number of rows and columns of the dataset\n",
        "print(\"Train dataset contains {} rows and {} columns\".format(df_train.shape[0],df_train.shape[1]))\n"
      ],
      "execution_count": null,
      "outputs": [
        {
          "output_type": "stream",
          "name": "stdout",
          "text": [
            "Train dataset contains 131662 rows and 14 columns\n"
          ]
        }
      ]
    },
    {
      "cell_type": "code",
      "metadata": {
        "colab": {
          "base_uri": "https://localhost:8080/"
        },
        "id": "NCvPZC8wne3X",
        "outputId": "312296bd-7d9b-4727-e306-00da04ad70a8"
      },
      "source": [
        "# Get the number of rows and columns of the dataset\n",
        "print(\"Test dataset contains {} rows and {} columns\".format(df_test.shape[0],df_test.shape[1]))\n"
      ],
      "execution_count": null,
      "outputs": [
        {
          "output_type": "stream",
          "name": "stdout",
          "text": [
            "Test dataset contains 87395 rows and 13 columns\n"
          ]
        }
      ]
    },
    {
      "cell_type": "markdown",
      "metadata": {
        "id": "2ClEobBry_dP"
      },
      "source": [
        "# column Descriptions\n",
        "Trip_ID: ID for TRIP\n",
        "\n",
        "Trip_Distance: The distance for the trip requested by the customer\n",
        "\n",
        "TypeofCab: Category of the cab requested by the customer\n",
        "\n",
        "CustomerSinceMonths: Customer using cab services since n months; 0 month means current month\n",
        "\n",
        "LifeStyleIndex: Proprietary index created by Sigma Cabs showing lifestyle of the customer based on their behaviour\n",
        "                (Proprietary Index means a designated group of securities or instruments that (i) measures or represents the performance of a specific segment of the market for U.S.)\n",
        "\n",
        "ConfidenceLifeStyle_Index: Category showing confidence on the index mentioned above\n",
        "\n",
        "Destination_Type: Sigma Cabs divides any destination in one of the 14 categories.\n",
        "\n",
        "Customer_Rating: Average of life time ratings of the customer till date\n",
        "\n",
        "CancellationLast1Month: Number of trips cancelled by the customer in last 1 month\n",
        "\n",
        "Var1, Var2 and Var3: Continuous variables masked by the company. Can be used for modelling purposes\n",
        "\n",
        "Gender: Gender of the customer\n",
        "\n",
        "SurgePricingType: Target (can be of 3 types)"
      ]
    },
    {
      "cell_type": "code",
      "metadata": {
        "colab": {
          "base_uri": "https://localhost:8080/",
          "height": 223
        },
        "id": "-H7Rj-tuxsVI",
        "outputId": "48aff851-49bd-4ab0-b241-6c471c1a7e07"
      },
      "source": [
        "# Displying the top 5 rows in train data\n",
        "df_train.head()"
      ],
      "execution_count": null,
      "outputs": [
        {
          "output_type": "execute_result",
          "data": {
            "text/html": [
              "<div>\n",
              "<style scoped>\n",
              "    .dataframe tbody tr th:only-of-type {\n",
              "        vertical-align: middle;\n",
              "    }\n",
              "\n",
              "    .dataframe tbody tr th {\n",
              "        vertical-align: top;\n",
              "    }\n",
              "\n",
              "    .dataframe thead th {\n",
              "        text-align: right;\n",
              "    }\n",
              "</style>\n",
              "<table border=\"1\" class=\"dataframe\">\n",
              "  <thead>\n",
              "    <tr style=\"text-align: right;\">\n",
              "      <th></th>\n",
              "      <th>Trip_ID</th>\n",
              "      <th>Trip_Distance</th>\n",
              "      <th>Type_of_Cab</th>\n",
              "      <th>Customer_Since_Months</th>\n",
              "      <th>Life_Style_Index</th>\n",
              "      <th>Confidence_Life_Style_Index</th>\n",
              "      <th>Destination_Type</th>\n",
              "      <th>Customer_Rating</th>\n",
              "      <th>Cancellation_Last_1Month</th>\n",
              "      <th>Var1</th>\n",
              "      <th>Var2</th>\n",
              "      <th>Var3</th>\n",
              "      <th>Gender</th>\n",
              "      <th>Surge_Pricing_Type</th>\n",
              "    </tr>\n",
              "  </thead>\n",
              "  <tbody>\n",
              "    <tr>\n",
              "      <th>0</th>\n",
              "      <td>T0005689460</td>\n",
              "      <td>6.77</td>\n",
              "      <td>B</td>\n",
              "      <td>1.0</td>\n",
              "      <td>2.42769</td>\n",
              "      <td>A</td>\n",
              "      <td>A</td>\n",
              "      <td>3.90500</td>\n",
              "      <td>0</td>\n",
              "      <td>40.0</td>\n",
              "      <td>46</td>\n",
              "      <td>60</td>\n",
              "      <td>Female</td>\n",
              "      <td>2</td>\n",
              "    </tr>\n",
              "    <tr>\n",
              "      <th>1</th>\n",
              "      <td>T0005689461</td>\n",
              "      <td>29.47</td>\n",
              "      <td>B</td>\n",
              "      <td>10.0</td>\n",
              "      <td>2.78245</td>\n",
              "      <td>B</td>\n",
              "      <td>A</td>\n",
              "      <td>3.45000</td>\n",
              "      <td>0</td>\n",
              "      <td>38.0</td>\n",
              "      <td>56</td>\n",
              "      <td>78</td>\n",
              "      <td>Male</td>\n",
              "      <td>2</td>\n",
              "    </tr>\n",
              "    <tr>\n",
              "      <th>2</th>\n",
              "      <td>T0005689464</td>\n",
              "      <td>41.58</td>\n",
              "      <td>NaN</td>\n",
              "      <td>10.0</td>\n",
              "      <td>NaN</td>\n",
              "      <td>NaN</td>\n",
              "      <td>E</td>\n",
              "      <td>3.50125</td>\n",
              "      <td>2</td>\n",
              "      <td>NaN</td>\n",
              "      <td>56</td>\n",
              "      <td>77</td>\n",
              "      <td>Male</td>\n",
              "      <td>2</td>\n",
              "    </tr>\n",
              "    <tr>\n",
              "      <th>3</th>\n",
              "      <td>T0005689465</td>\n",
              "      <td>61.56</td>\n",
              "      <td>C</td>\n",
              "      <td>10.0</td>\n",
              "      <td>NaN</td>\n",
              "      <td>NaN</td>\n",
              "      <td>A</td>\n",
              "      <td>3.45375</td>\n",
              "      <td>0</td>\n",
              "      <td>NaN</td>\n",
              "      <td>52</td>\n",
              "      <td>74</td>\n",
              "      <td>Male</td>\n",
              "      <td>3</td>\n",
              "    </tr>\n",
              "    <tr>\n",
              "      <th>4</th>\n",
              "      <td>T0005689467</td>\n",
              "      <td>54.95</td>\n",
              "      <td>C</td>\n",
              "      <td>10.0</td>\n",
              "      <td>3.03453</td>\n",
              "      <td>B</td>\n",
              "      <td>A</td>\n",
              "      <td>3.40250</td>\n",
              "      <td>4</td>\n",
              "      <td>51.0</td>\n",
              "      <td>49</td>\n",
              "      <td>102</td>\n",
              "      <td>Male</td>\n",
              "      <td>2</td>\n",
              "    </tr>\n",
              "  </tbody>\n",
              "</table>\n",
              "</div>"
            ],
            "text/plain": [
              "       Trip_ID  Trip_Distance Type_of_Cab  Customer_Since_Months  \\\n",
              "0  T0005689460           6.77           B                    1.0   \n",
              "1  T0005689461          29.47           B                   10.0   \n",
              "2  T0005689464          41.58         NaN                   10.0   \n",
              "3  T0005689465          61.56           C                   10.0   \n",
              "4  T0005689467          54.95           C                   10.0   \n",
              "\n",
              "   Life_Style_Index Confidence_Life_Style_Index Destination_Type  \\\n",
              "0           2.42769                           A                A   \n",
              "1           2.78245                           B                A   \n",
              "2               NaN                         NaN                E   \n",
              "3               NaN                         NaN                A   \n",
              "4           3.03453                           B                A   \n",
              "\n",
              "   Customer_Rating  Cancellation_Last_1Month  Var1  Var2  Var3  Gender  \\\n",
              "0          3.90500                         0  40.0    46    60  Female   \n",
              "1          3.45000                         0  38.0    56    78    Male   \n",
              "2          3.50125                         2   NaN    56    77    Male   \n",
              "3          3.45375                         0   NaN    52    74    Male   \n",
              "4          3.40250                         4  51.0    49   102    Male   \n",
              "\n",
              "   Surge_Pricing_Type  \n",
              "0                   2  \n",
              "1                   2  \n",
              "2                   2  \n",
              "3                   3  \n",
              "4                   2  "
            ]
          },
          "metadata": {},
          "execution_count": 161
        }
      ]
    },
    {
      "cell_type": "code",
      "metadata": {
        "colab": {
          "base_uri": "https://localhost:8080/",
          "height": 223
        },
        "id": "Fc8ljsceoGRp",
        "outputId": "453169bc-8454-4af9-d19c-b577ec5ba07a"
      },
      "source": [
        "# Displying the top 5 rows in test data\n",
        "df_test.head()"
      ],
      "execution_count": null,
      "outputs": [
        {
          "output_type": "execute_result",
          "data": {
            "text/html": [
              "<div>\n",
              "<style scoped>\n",
              "    .dataframe tbody tr th:only-of-type {\n",
              "        vertical-align: middle;\n",
              "    }\n",
              "\n",
              "    .dataframe tbody tr th {\n",
              "        vertical-align: top;\n",
              "    }\n",
              "\n",
              "    .dataframe thead th {\n",
              "        text-align: right;\n",
              "    }\n",
              "</style>\n",
              "<table border=\"1\" class=\"dataframe\">\n",
              "  <thead>\n",
              "    <tr style=\"text-align: right;\">\n",
              "      <th></th>\n",
              "      <th>Trip_ID</th>\n",
              "      <th>Trip_Distance</th>\n",
              "      <th>Type_of_Cab</th>\n",
              "      <th>Customer_Since_Months</th>\n",
              "      <th>Life_Style_Index</th>\n",
              "      <th>Confidence_Life_Style_Index</th>\n",
              "      <th>Destination_Type</th>\n",
              "      <th>Customer_Rating</th>\n",
              "      <th>Cancellation_Last_1Month</th>\n",
              "      <th>Var1</th>\n",
              "      <th>Var2</th>\n",
              "      <th>Var3</th>\n",
              "      <th>Gender</th>\n",
              "    </tr>\n",
              "  </thead>\n",
              "  <tbody>\n",
              "    <tr>\n",
              "      <th>0</th>\n",
              "      <td>T0005689459</td>\n",
              "      <td>9.44</td>\n",
              "      <td>A</td>\n",
              "      <td>10.0</td>\n",
              "      <td>2.57438</td>\n",
              "      <td>A</td>\n",
              "      <td>B</td>\n",
              "      <td>3.68000</td>\n",
              "      <td>2</td>\n",
              "      <td>NaN</td>\n",
              "      <td>46</td>\n",
              "      <td>63</td>\n",
              "      <td>Male</td>\n",
              "    </tr>\n",
              "    <tr>\n",
              "      <th>1</th>\n",
              "      <td>T0005689462</td>\n",
              "      <td>32.15</td>\n",
              "      <td>B</td>\n",
              "      <td>10.0</td>\n",
              "      <td>2.85143</td>\n",
              "      <td>A</td>\n",
              "      <td>A</td>\n",
              "      <td>1.59375</td>\n",
              "      <td>0</td>\n",
              "      <td>65.0</td>\n",
              "      <td>49</td>\n",
              "      <td>80</td>\n",
              "      <td>Female</td>\n",
              "    </tr>\n",
              "    <tr>\n",
              "      <th>2</th>\n",
              "      <td>T0005689463</td>\n",
              "      <td>10.38</td>\n",
              "      <td>C</td>\n",
              "      <td>4.0</td>\n",
              "      <td>2.70530</td>\n",
              "      <td>A</td>\n",
              "      <td>D</td>\n",
              "      <td>4.50500</td>\n",
              "      <td>0</td>\n",
              "      <td>NaN</td>\n",
              "      <td>47</td>\n",
              "      <td>74</td>\n",
              "      <td>Male</td>\n",
              "    </tr>\n",
              "    <tr>\n",
              "      <th>3</th>\n",
              "      <td>T0005689466</td>\n",
              "      <td>14.94</td>\n",
              "      <td>NaN</td>\n",
              "      <td>6.0</td>\n",
              "      <td>2.48159</td>\n",
              "      <td>C</td>\n",
              "      <td>E</td>\n",
              "      <td>4.53000</td>\n",
              "      <td>0</td>\n",
              "      <td>63.0</td>\n",
              "      <td>43</td>\n",
              "      <td>54</td>\n",
              "      <td>Male</td>\n",
              "    </tr>\n",
              "    <tr>\n",
              "      <th>4</th>\n",
              "      <td>T0005689468</td>\n",
              "      <td>32.03</td>\n",
              "      <td>B</td>\n",
              "      <td>7.0</td>\n",
              "      <td>2.81598</td>\n",
              "      <td>A</td>\n",
              "      <td>K</td>\n",
              "      <td>4.60125</td>\n",
              "      <td>3</td>\n",
              "      <td>96.0</td>\n",
              "      <td>44</td>\n",
              "      <td>56</td>\n",
              "      <td>Male</td>\n",
              "    </tr>\n",
              "  </tbody>\n",
              "</table>\n",
              "</div>"
            ],
            "text/plain": [
              "       Trip_ID  Trip_Distance Type_of_Cab  Customer_Since_Months  \\\n",
              "0  T0005689459           9.44           A                   10.0   \n",
              "1  T0005689462          32.15           B                   10.0   \n",
              "2  T0005689463          10.38           C                    4.0   \n",
              "3  T0005689466          14.94         NaN                    6.0   \n",
              "4  T0005689468          32.03           B                    7.0   \n",
              "\n",
              "   Life_Style_Index Confidence_Life_Style_Index Destination_Type  \\\n",
              "0           2.57438                           A                B   \n",
              "1           2.85143                           A                A   \n",
              "2           2.70530                           A                D   \n",
              "3           2.48159                           C                E   \n",
              "4           2.81598                           A                K   \n",
              "\n",
              "   Customer_Rating  Cancellation_Last_1Month  Var1  Var2  Var3  Gender  \n",
              "0          3.68000                         2   NaN    46    63    Male  \n",
              "1          1.59375                         0  65.0    49    80  Female  \n",
              "2          4.50500                         0   NaN    47    74    Male  \n",
              "3          4.53000                         0  63.0    43    54    Male  \n",
              "4          4.60125                         3  96.0    44    56    Male  "
            ]
          },
          "metadata": {},
          "execution_count": 162
        }
      ]
    },
    {
      "cell_type": "code",
      "metadata": {
        "colab": {
          "base_uri": "https://localhost:8080/"
        },
        "id": "U7JAPOn2xS4o",
        "outputId": "dddd1b15-cc7b-4117-967b-f97a16b05331"
      },
      "source": [
        "# Get the information of columns in train dataset\n",
        "df_train.info()"
      ],
      "execution_count": null,
      "outputs": [
        {
          "output_type": "stream",
          "name": "stdout",
          "text": [
            "<class 'pandas.core.frame.DataFrame'>\n",
            "RangeIndex: 131662 entries, 0 to 131661\n",
            "Data columns (total 14 columns):\n",
            " #   Column                       Non-Null Count   Dtype  \n",
            "---  ------                       --------------   -----  \n",
            " 0   Trip_ID                      131662 non-null  object \n",
            " 1   Trip_Distance                131662 non-null  float64\n",
            " 2   Type_of_Cab                  111452 non-null  object \n",
            " 3   Customer_Since_Months        125742 non-null  float64\n",
            " 4   Life_Style_Index             111469 non-null  float64\n",
            " 5   Confidence_Life_Style_Index  111469 non-null  object \n",
            " 6   Destination_Type             131662 non-null  object \n",
            " 7   Customer_Rating              131662 non-null  float64\n",
            " 8   Cancellation_Last_1Month     131662 non-null  int64  \n",
            " 9   Var1                         60632 non-null   float64\n",
            " 10  Var2                         131662 non-null  int64  \n",
            " 11  Var3                         131662 non-null  int64  \n",
            " 12  Gender                       131662 non-null  object \n",
            " 13  Surge_Pricing_Type           131662 non-null  int64  \n",
            "dtypes: float64(5), int64(4), object(5)\n",
            "memory usage: 14.1+ MB\n"
          ]
        }
      ]
    },
    {
      "cell_type": "code",
      "metadata": {
        "colab": {
          "base_uri": "https://localhost:8080/"
        },
        "id": "UMctep8YoVcO",
        "outputId": "fbf34eee-df7a-4898-d29e-d8067145fecd"
      },
      "source": [
        "# Get the information of columns in test dataset\n",
        "df_test.info()"
      ],
      "execution_count": null,
      "outputs": [
        {
          "output_type": "stream",
          "name": "stdout",
          "text": [
            "<class 'pandas.core.frame.DataFrame'>\n",
            "RangeIndex: 87395 entries, 0 to 87394\n",
            "Data columns (total 13 columns):\n",
            " #   Column                       Non-Null Count  Dtype  \n",
            "---  ------                       --------------  -----  \n",
            " 0   Trip_ID                      87395 non-null  object \n",
            " 1   Trip_Distance                87395 non-null  float64\n",
            " 2   Type_of_Cab                  74237 non-null  object \n",
            " 3   Customer_Since_Months        83429 non-null  float64\n",
            " 4   Life_Style_Index             74068 non-null  float64\n",
            " 5   Confidence_Life_Style_Index  74068 non-null  object \n",
            " 6   Destination_Type             87395 non-null  object \n",
            " 7   Customer_Rating              87395 non-null  float64\n",
            " 8   Cancellation_Last_1Month     87395 non-null  int64  \n",
            " 9   Var1                         40606 non-null  float64\n",
            " 10  Var2                         87395 non-null  int64  \n",
            " 11  Var3                         87395 non-null  int64  \n",
            " 12  Gender                       87395 non-null  object \n",
            "dtypes: float64(5), int64(3), object(5)\n",
            "memory usage: 8.7+ MB\n"
          ]
        }
      ]
    },
    {
      "cell_type": "markdown",
      "metadata": {
        "id": "EiX3DasVpNEb"
      },
      "source": [
        " ***Inference***\n",
        "\n",
        "* Here we can see the some columns having missing values.\n",
        "* Here Customer_Since_Months ,given as past 11 month unique discrete data \n",
        "* Cancellation last 1 month is having 9 unique discrete data.\n",
        "* so we are converting  into int as month can not be in float,after treating null values."
      ]
    },
    {
      "cell_type": "markdown",
      "metadata": {
        "id": "HKw6Fu5TxKHO"
      },
      "source": [
        "# **Data Analysis**\n"
      ]
    },
    {
      "cell_type": "markdown",
      "metadata": {
        "id": "8_guxsB1Sr8G"
      },
      "source": [
        "# **Treating the missing values**\n",
        "\n",
        " 1. Continuous\n",
        "  - Between 0% to 5% ----> Drop rows \n",
        "  - Between 5% to 25% ----> impute with mean or median.\n",
        "  - Between 25% to 50% ----> impute with bfill or ffill or predictive approach.\n",
        "  - Between 50% to 100% ---> Drop columns\n",
        " 2. Categorical\n",
        "  - Between 00% to 05% ----> Drop rows \n",
        "  - Between 05% to 25% ----> impute with Mode \n",
        "  - Between 25% to 50% ----> Create New Category \"NA\" or Drop \n",
        "  - Between 50% to 100% ---> Drop Columns\n",
        "\n",
        "  * Not very critical for advanced algorithms "
      ]
    },
    {
      "cell_type": "code",
      "metadata": {
        "colab": {
          "base_uri": "https://localhost:8080/"
        },
        "id": "JW7b_pEIMMvm",
        "outputId": "d9335657-df41-40a9-d5cd-0c7a9781b167"
      },
      "source": [
        "# Get the missing values for the whole train dataset\n",
        "Missing_overall=df_train.isnull().sum()[df_train.isnull().sum()>0].sort_values(ascending=False)\n",
        "Missing_overall"
      ],
      "execution_count": null,
      "outputs": [
        {
          "output_type": "execute_result",
          "data": {
            "text/plain": [
              "Var1                           71030\n",
              "Type_of_Cab                    20210\n",
              "Confidence_Life_Style_Index    20193\n",
              "Life_Style_Index               20193\n",
              "Customer_Since_Months           5920\n",
              "dtype: int64"
            ]
          },
          "metadata": {},
          "execution_count": 165
        }
      ]
    },
    {
      "cell_type": "code",
      "metadata": {
        "colab": {
          "base_uri": "https://localhost:8080/"
        },
        "id": "29etfBl-Mj45",
        "outputId": "c0c91900-2825-4831-93c2-9d3321df45d1"
      },
      "source": [
        "# Get the missing values for the whole train dataset\n",
        "Percent_missing_overall=(Missing_overall/df_train.shape[0])*100\n",
        "Percent_missing_overall"
      ],
      "execution_count": null,
      "outputs": [
        {
          "output_type": "execute_result",
          "data": {
            "text/plain": [
              "Var1                           53.948748\n",
              "Type_of_Cab                    15.349911\n",
              "Confidence_Life_Style_Index    15.336999\n",
              "Life_Style_Index               15.336999\n",
              "Customer_Since_Months           4.496362\n",
              "dtype: float64"
            ]
          },
          "metadata": {},
          "execution_count": 166
        }
      ]
    },
    {
      "cell_type": "code",
      "metadata": {
        "colab": {
          "base_uri": "https://localhost:8080/"
        },
        "id": "O3i9QlqB1guS",
        "outputId": "96dc7a07-6ce7-4307-e1c6-4ff4ef8072e9"
      },
      "source": [
        "# Get the missing values for the whole test dataset\n",
        "Missing_overall=df_test.isnull().sum()[df_test.isnull().sum()>0].sort_values(ascending=False)\n",
        "Missing_overall"
      ],
      "execution_count": null,
      "outputs": [
        {
          "output_type": "execute_result",
          "data": {
            "text/plain": [
              "Var1                           46789\n",
              "Confidence_Life_Style_Index    13327\n",
              "Life_Style_Index               13327\n",
              "Type_of_Cab                    13158\n",
              "Customer_Since_Months           3966\n",
              "dtype: int64"
            ]
          },
          "metadata": {},
          "execution_count": 167
        }
      ]
    },
    {
      "cell_type": "code",
      "metadata": {
        "colab": {
          "base_uri": "https://localhost:8080/"
        },
        "id": "hF1sEgbG1g3N",
        "outputId": "496913bb-843f-4163-bd10-7e8b6b41140c"
      },
      "source": [
        "# Get the missing values for the whole test dataset\n",
        "Percent_missing_overall=(Missing_overall/df_test.shape[0])*100\n",
        "Percent_missing_overall"
      ],
      "execution_count": null,
      "outputs": [
        {
          "output_type": "execute_result",
          "data": {
            "text/plain": [
              "Var1                           53.537388\n",
              "Confidence_Life_Style_Index    15.249156\n",
              "Life_Style_Index               15.249156\n",
              "Type_of_Cab                    15.055781\n",
              "Customer_Since_Months           4.538017\n",
              "dtype: float64"
            ]
          },
          "metadata": {},
          "execution_count": 168
        }
      ]
    },
    {
      "cell_type": "markdown",
      "metadata": {
        "id": "TZLO4AVULUWh"
      },
      "source": [
        "***Inference***\n",
        "\n",
        "* 5 columns having null values -Var1,Type_of_cab,Life_style_index,confidence_life_style_index,customer_since_months.\n",
        "* Type of cab is having 15% of null values,If we replace the category column with the most frequency then it leads to error.\n",
        "* Becase type of cab is a preference based on the surge_price_type.\n",
        "* so we are spliiting the dataset according to their surge_price_type and doing imputation."
      ]
    },
    {
      "cell_type": "markdown",
      "metadata": {
        "id": "rFGxzOdWeiQO"
      },
      "source": [
        "# Segregating into 3 dataframes to impute null values according surgepricetype category"
      ]
    },
    {
      "cell_type": "markdown",
      "metadata": {
        "id": "9cdqGfPQ2arq"
      },
      "source": [
        "# Handling missing values in train data"
      ]
    },
    {
      "cell_type": "code",
      "metadata": {
        "id": "8m5nt5dqZYOz"
      },
      "source": [
        "s1 = df_train[df_train['Surge_Pricing_Type']==1]\n",
        "s2 = df_train[df_train['Surge_Pricing_Type']==2]\n",
        "s3 = df_train[df_train['Surge_Pricing_Type']==3]"
      ],
      "execution_count": null,
      "outputs": []
    },
    {
      "cell_type": "code",
      "metadata": {
        "colab": {
          "base_uri": "https://localhost:8080/"
        },
        "id": "jgzRbTxPOZxb",
        "outputId": "64ee62c6-bee3-4339-d4a6-1c29a5953e4e"
      },
      "source": [
        "# Finding the null values of each surgepricetype\n",
        "n=1\n",
        "for i in [s1,s2,s3]:\n",
        "  print(\"Surge\",n)\n",
        "  Missing=i.isnull().sum()[i.isnull().sum()>0].sort_values(ascending=False)\n",
        "  Percent_missing_1=(Missing/i.shape[0])*100\n",
        "  print(pd.DataFrame({\"Missing_values\":Missing,\"Percent_missing\":Percent_missing_1}))\n",
        "  print(\" \")\n",
        "  print(\" \")\n",
        "  n+=1"
      ],
      "execution_count": null,
      "outputs": [
        {
          "output_type": "stream",
          "name": "stdout",
          "text": [
            "Surge 1\n",
            "                             Missing_values  Percent_missing\n",
            "Var1                                  17915        65.830087\n",
            "Type_of_Cab                            4205        15.451606\n",
            "Confidence_Life_Style_Index            4176        15.345043\n",
            "Life_Style_Index                       4176        15.345043\n",
            "Customer_Since_Months                  1147         4.214742\n",
            " \n",
            " \n",
            "Surge 2\n",
            "                             Missing_values  Percent_missing\n",
            "Var1                                  29740        52.425610\n",
            "Type_of_Cab                            8645        15.239388\n",
            "Confidence_Life_Style_Index            8637        15.225286\n",
            "Life_Style_Index                       8637        15.225286\n",
            "Customer_Since_Months                  2540         4.477507\n",
            " \n",
            " \n",
            "Surge 3\n",
            "                             Missing_values  Percent_missing\n",
            "Var1                                  23375        48.983655\n",
            "Confidence_Life_Style_Index            7380        15.465214\n",
            "Life_Style_Index                       7380        15.465214\n",
            "Type_of_Cab                            7360        15.423303\n",
            "Customer_Since_Months                  2233         4.679380\n",
            " \n",
            " \n"
          ]
        }
      ]
    },
    {
      "cell_type": "code",
      "metadata": {
        "id": "okuM_OI61tB8"
      },
      "source": [
        "# Var1 is above 50 % in all 3surge_types.\n",
        "# Dropping the Var1\n",
        "\n",
        "s1 = s1.drop(columns=['Var1'])\n",
        "s2 = s2.drop(columns=['Var1'])\n",
        "s3 = s3.drop(columns=['Var1'])\n"
      ],
      "execution_count": null,
      "outputs": []
    },
    {
      "cell_type": "code",
      "metadata": {
        "colab": {
          "base_uri": "https://localhost:8080/"
        },
        "id": "08qnMSL3ZJv_",
        "outputId": "96c2e271-35e3-4885-af1e-75373c90dbba"
      },
      "source": [
        "# Type_of_Cab ,Confidence_Life_Style_Index ,Customer_since_months is having above 5% in all 3 surge_types\n",
        "# Finding each surge_price_type most frquency.\n",
        "\n",
        "n=1\n",
        "for i in [s1,s2,s3]:\n",
        "  print(\"Surge\",n)\n",
        "  mode=i[\"Type_of_Cab\"].mode()[0]\n",
        "  print(\"The most used type of cab is\",mode)\n",
        "  \n",
        "\n",
        "  mode=i[\"Confidence_Life_Style_Index\"].mode()[0]\n",
        "  print(\"customer Confidence_Life_Style_Index  is\",mode)\n",
        "  \n",
        "\n",
        "  mode=i[\"Customer_Since_Months\"].mode()[0]\n",
        "  print(\"Trusted Customer_Since_Months  is\",mode)\n",
        "  print(\" \")\n",
        "  n+=1"
      ],
      "execution_count": null,
      "outputs": [
        {
          "output_type": "stream",
          "name": "stdout",
          "text": [
            "Surge 1\n",
            "The most used type of cab is A\n",
            "customer Confidence_Life_Style_Index  is A\n",
            "Trusted Customer_Since_Months  is 10.0\n",
            " \n",
            "Surge 2\n",
            "The most used type of cab is B\n",
            "customer Confidence_Life_Style_Index  is A\n",
            "Trusted Customer_Since_Months  is 10.0\n",
            " \n",
            "Surge 3\n",
            "The most used type of cab is D\n",
            "customer Confidence_Life_Style_Index  is B\n",
            "Trusted Customer_Since_Months  is 10.0\n",
            " \n"
          ]
        }
      ]
    },
    {
      "cell_type": "code",
      "metadata": {
        "id": "uKTSynJ0ddUY"
      },
      "source": [
        "from sklearn.impute import SimpleImputer"
      ],
      "execution_count": null,
      "outputs": []
    },
    {
      "cell_type": "code",
      "metadata": {
        "id": "vwQDf-ZEdmBv"
      },
      "source": [
        "# Filling with each surge_price_type most frquency.\n",
        "sm = SimpleImputer(strategy='most_frequent')\n",
        "data = sm.fit_transform(s1.select_dtypes('object'))\n",
        "data2 = sm.fit_transform(s2.select_dtypes('object'))\n",
        "data3 = sm.fit_transform(s3.select_dtypes('object'))\n"
      ],
      "execution_count": null,
      "outputs": []
    },
    {
      "cell_type": "code",
      "metadata": {
        "id": "am7IGXZCT43N"
      },
      "source": [
        "## Life_Style_Index is having 15% of null values\n",
        "## Filling with Mean it is not skewed (train dataset)\n",
        "\n",
        "sm = SimpleImputer(strategy='mean')\n",
        "data_num = sm.fit_transform(s1.select_dtypes('number'))\n",
        "data_num1 = sm.fit_transform(s2.select_dtypes('number'))\n",
        "data_num2 = sm.fit_transform(s3.select_dtypes('number'))"
      ],
      "execution_count": null,
      "outputs": []
    },
    {
      "cell_type": "markdown",
      "metadata": {
        "id": "O31na0zvWMW6"
      },
      "source": [
        "# Converting the above into dataframe"
      ]
    },
    {
      "cell_type": "code",
      "metadata": {
        "id": "Zmjp5iROd8dg"
      },
      "source": [
        "data = pd.DataFrame(data,columns = s1.select_dtypes('object').columns)\n",
        "data2 = pd.DataFrame(data2,columns = s2.select_dtypes('object').columns)\n",
        "data3 = pd.DataFrame(data3,columns = s3.select_dtypes('object').columns)\n"
      ],
      "execution_count": null,
      "outputs": []
    },
    {
      "cell_type": "code",
      "metadata": {
        "id": "CQDISnvOfs6z"
      },
      "source": [
        "data_num = pd.DataFrame(data_num,columns = s1.select_dtypes('number').columns)\n",
        "data_num1 = pd.DataFrame(data_num1,columns = s2.select_dtypes('number').columns)\n",
        "data_num2 = pd.DataFrame(data_num2,columns = s3.select_dtypes('number').columns)\n"
      ],
      "execution_count": null,
      "outputs": []
    },
    {
      "cell_type": "markdown",
      "metadata": {
        "id": "cT4GfYUuWfrI"
      },
      "source": [
        "# Concating the numerical and categorical columns"
      ]
    },
    {
      "cell_type": "code",
      "metadata": {
        "id": "ip_ymjGEd9cS"
      },
      "source": [
        "s1 = pd.concat([data,data_num],axis=1)\n",
        "s2 = pd.concat([data2,data_num1],axis=1)\n",
        "s3 = pd.concat([data3,data_num2],axis=1)\n"
      ],
      "execution_count": null,
      "outputs": []
    },
    {
      "cell_type": "code",
      "metadata": {
        "id": "kLANgXVaeTS3"
      },
      "source": [
        "df1_train = pd.concat([s1,s2,s3])"
      ],
      "execution_count": null,
      "outputs": []
    },
    {
      "cell_type": "markdown",
      "metadata": {
        "id": "pf62Cfb7W0o_"
      },
      "source": [
        "# Checking the data information"
      ]
    },
    {
      "cell_type": "code",
      "metadata": {
        "colab": {
          "base_uri": "https://localhost:8080/"
        },
        "id": "k_lhq9bAgKXe",
        "outputId": "60b3235e-b80e-4f78-aa1a-ac3e24e03c02"
      },
      "source": [
        "df1_train.shape"
      ],
      "execution_count": null,
      "outputs": [
        {
          "output_type": "execute_result",
          "data": {
            "text/plain": [
              "(131662, 13)"
            ]
          },
          "metadata": {},
          "execution_count": 180
        }
      ]
    },
    {
      "cell_type": "code",
      "metadata": {
        "id": "AD07niUwIsGh"
      },
      "source": [
        "for i in [\"Customer_Since_Months\",'Cancellation_Last_1Month']:\n",
        "  df1_train[i]=df1_train[i].astype('int')"
      ],
      "execution_count": null,
      "outputs": []
    },
    {
      "cell_type": "code",
      "metadata": {
        "colab": {
          "base_uri": "https://localhost:8080/"
        },
        "id": "DyzDOxkhgWIE",
        "outputId": "eebb9139-ba25-48d6-b3ec-fb8c7836f238"
      },
      "source": [
        "df1_train.isnull().sum()"
      ],
      "execution_count": null,
      "outputs": [
        {
          "output_type": "execute_result",
          "data": {
            "text/plain": [
              "Trip_ID                        0\n",
              "Type_of_Cab                    0\n",
              "Confidence_Life_Style_Index    0\n",
              "Destination_Type               0\n",
              "Gender                         0\n",
              "Trip_Distance                  0\n",
              "Customer_Since_Months          0\n",
              "Life_Style_Index               0\n",
              "Customer_Rating                0\n",
              "Cancellation_Last_1Month       0\n",
              "Var2                           0\n",
              "Var3                           0\n",
              "Surge_Pricing_Type             0\n",
              "dtype: int64"
            ]
          },
          "metadata": {},
          "execution_count": 182
        }
      ]
    },
    {
      "cell_type": "code",
      "metadata": {
        "colab": {
          "base_uri": "https://localhost:8080/",
          "height": 565
        },
        "id": "qpRXZw4rj47Y",
        "outputId": "1c39b650-f5c9-40bc-fc2d-1ef124e48791"
      },
      "source": [
        "plt.figure(figsize=[15,7])\n",
        "sns.heatmap(df1_train.isnull(),cbar=False)\n",
        "plt.show()"
      ],
      "execution_count": null,
      "outputs": [
        {
          "output_type": "display_data",
          "data": {
            "image/png": "[encoded data removed]",
            "text/plain": [
              "<Figure size 1080x504 with 1 Axes>"
            ]
          },
          "metadata": {
            "needs_background": "light"
          }
        }
      ]
    },
    {
      "cell_type": "markdown",
      "metadata": {
        "id": "Kmi9k3cujqc8"
      },
      "source": [
        "# Numerical and categorical features"
      ]
    },
    {
      "cell_type": "code",
      "metadata": {
        "id": "R9gH5Aan_d7w"
      },
      "source": [
        "df1_train.drop([\"Trip_ID\"],axis=1,inplace=True)"
      ],
      "execution_count": null,
      "outputs": []
    },
    {
      "cell_type": "markdown",
      "metadata": {
        "id": "TL-ZQQmv_Pd4"
      },
      "source": [
        "***Inference***\n",
        "* Trip id is not the valid column to taken into consideration while building model so drop the column"
      ]
    },
    {
      "cell_type": "code",
      "metadata": {
        "colab": {
          "base_uri": "https://localhost:8080/"
        },
        "id": "9JOKIiavYcUB",
        "outputId": "41486b43-fbb9-43c8-f03d-8868b4df45da"
      },
      "source": [
        "num_features=df1_train.select_dtypes(include='number')\n",
        "num_features.columns"
      ],
      "execution_count": null,
      "outputs": [
        {
          "output_type": "execute_result",
          "data": {
            "text/plain": [
              "Index(['Trip_Distance', 'Customer_Since_Months', 'Life_Style_Index',\n",
              "       'Customer_Rating', 'Cancellation_Last_1Month', 'Var2', 'Var3',\n",
              "       'Surge_Pricing_Type'],\n",
              "      dtype='object')"
            ]
          },
          "metadata": {},
          "execution_count": 185
        }
      ]
    },
    {
      "cell_type": "code",
      "metadata": {
        "colab": {
          "base_uri": "https://localhost:8080/"
        },
        "id": "lpwyK59NjX-X",
        "outputId": "52a1fc55-ca31-42ad-d30c-7a92ea8b6bc2"
      },
      "source": [
        "cat_features=df1_train.select_dtypes(include=\"object\")\n",
        "cat_features.columns"
      ],
      "execution_count": null,
      "outputs": [
        {
          "output_type": "execute_result",
          "data": {
            "text/plain": [
              "Index(['Type_of_Cab', 'Confidence_Life_Style_Index', 'Destination_Type',\n",
              "       'Gender'],\n",
              "      dtype='object')"
            ]
          },
          "metadata": {},
          "execution_count": 186
        }
      ]
    },
    {
      "cell_type": "markdown",
      "metadata": {
        "id": "5rrsQEVR81Ya"
      },
      "source": [
        "# **Treating Outliers**"
      ]
    },
    {
      "cell_type": "code",
      "metadata": {
        "colab": {
          "base_uri": "https://localhost:8080/",
          "height": 1000
        },
        "id": "hVMWPhgUXw3I",
        "outputId": "bc2f0677-f441-471e-b5ae-2adef57ce5c0"
      },
      "source": [
        "for i in num_features.columns:\n",
        "  sns.boxplot(df_train[i])\n",
        "  plt.show()"
      ],
      "execution_count": null,
      "outputs": [
        {
          "output_type": "display_data",
          "data": {
            "image/png": "[encoded data removed]",
            "text/plain": [
              "<Figure size 720x360 with 1 Axes>"
            ]
          },
          "metadata": {
            "needs_background": "light"
          }
        },
        {
          "output_type": "display_data",
          "data": {
            "image/png": "[encoded data removed]",
            "text/plain": [
              "<Figure size 720x360 with 1 Axes>"
            ]
          },
          "metadata": {
            "needs_background": "light"
          }
        },
        {
          "output_type": "display_data",
          "data": {
            "image/png": "[encoded data removed]",
            "text/plain": [
              "<Figure size 720x360 with 1 Axes>"
            ]
          },
          "metadata": {
            "needs_background": "light"
          }
        },
        {
          "output_type": "display_data",
          "data": {
            "image/png": "[encoded data removed]",
            "text/plain": [
              "<Figure size 720x360 with 1 Axes>"
            ]
          },
          "metadata": {
            "needs_background": "light"
          }
        },
        {
          "output_type": "display_data",
          "data": {
            "image/png": "[encoded data removed]",
            "text/plain": [
              "<Figure size 720x360 with 1 Axes>"
            ]
          },
          "metadata": {
            "needs_background": "light"
          }
        },
        {
          "output_type": "display_data",
          "data": {
            "image/png": "[encoded data removed]",
            "text/plain": [
              "<Figure size 720x360 with 1 Axes>"
            ]
          },
          "metadata": {
            "needs_background": "light"
          }
        },
        {
          "output_type": "display_data",
          "data": {
            "image/png": "[encoded data removed]",
            "text/plain": [
              "<Figure size 720x360 with 1 Axes>"
            ]
          },
          "metadata": {
            "needs_background": "light"
          }
        },
        {
          "output_type": "display_data",
          "data": {
            "image/png": "[encoded data removed]",
            "text/plain": [
              "<Figure size 720x360 with 1 Axes>"
            ]
          },
          "metadata": {
            "needs_background": "light"
          }
        }
      ]
    },
    {
      "cell_type": "markdown",
      "metadata": {
        "id": "0mTqJJC3k1Vh"
      },
      "source": [
        " ***Inference***\n",
        " * As we saw there are some outliers present in our dataset.\n",
        " * I am not treating outliers since column outliers may be most important for classifying the customer behaviour, as some columns like lifestyleindex is derived and given by client so we are not treating it.\n",
        "\n",
        "\n",
        "\n"
      ]
    },
    {
      "cell_type": "markdown",
      "metadata": {
        "id": "F4_11-y28Owm"
      },
      "source": [
        "# **Univariant Analysis**"
      ]
    },
    {
      "cell_type": "markdown",
      "metadata": {
        "id": "lli6hDVcFh0X"
      },
      "source": [
        " ***categorical Features***"
      ]
    },
    {
      "cell_type": "code",
      "metadata": {
        "id": "TSreXYUGlJ0K",
        "colab": {
          "base_uri": "https://localhost:8080/",
          "height": 500
        },
        "outputId": "24d13800-b3c0-4892-c55d-551660758489"
      },
      "source": [
        "cat_col=['Type_of_Cab', 'Confidence_Life_Style_Index', 'Destination_Type','Gender']\n",
        "fig,axes=plt.subplots(2,2,figsize=[12,8])\n",
        "for indx,cat_col in enumerate(cat_col) :\n",
        "  rows,columns=indx//2,indx%2\n",
        "  sns.countplot(data=df1_train,x=cat_col,ax=axes[rows,columns])\n",
        "plt.subplots_adjust(wspace=0.5,hspace=0.5)"
      ],
      "execution_count": null,
      "outputs": [
        {
          "output_type": "display_data",
          "data": {
            "image/png": "[encoded data removed]",
            "text/plain": [
              "<Figure size 864x576 with 4 Axes>"
            ]
          },
          "metadata": {
            "needs_background": "light"
          }
        }
      ]
    },
    {
      "cell_type": "markdown",
      "metadata": {
        "id": "F4PpgVjxCabg"
      },
      "source": [
        "**Inference**\n",
        "\n",
        "1.Type_of_Cab\n",
        "* Cab type \"B\" is most used or requested by passengers (customers) followed by \"C\",\"A\",\"F\",\"D\" and \"E\".\n",
        "2.Confidence_Life_Style_Index\n",
        "* \"A\" type of the Customers are having a good behaviour and confidence with Cab drivers followed by \"B\",\"C\".\n",
        "3.Destination_Type\n",
        "* As destination_type is divided into 14 parts, In that type \"A\" destintion count is more followed by \"B\",\"C\",\"D\",\"E\",\"F\",\"G\",\"H\",\"I\",\"J\",\"L\",\"M\" and \"N\".\n",
        "4.Gender\n",
        "* Cabs used by Male passengers are most than Female."
      ]
    },
    {
      "cell_type": "markdown",
      "metadata": {
        "id": "1HgjcJEdFszI"
      },
      "source": [
        "***Discrete Features***"
      ]
    },
    {
      "cell_type": "code",
      "metadata": {
        "colab": {
          "base_uri": "https://localhost:8080/",
          "height": 352
        },
        "id": "VyV_1lu58h6R",
        "outputId": "10393230-bcf0-4fc0-d8a8-0ea1bb056830"
      },
      "source": [
        "dis_col=['Customer_Since_Months','Cancellation_Last_1Month','Surge_Pricing_Type']\n",
        "fig,axes=plt.subplots(1,3,figsize=[18,5])\n",
        "sns.countplot(data=df1_train,x=dis_col[0],ax=axes[0])\n",
        "sns.countplot(data=df1_train,x=dis_col[1],ax=axes[1])\n",
        "sns.countplot(data=df1_train,x=dis_col[2],ax=axes[2])"
      ],
      "execution_count": null,
      "outputs": [
        {
          "output_type": "execute_result",
          "data": {
            "text/plain": [
              "<matplotlib.axes._subplots.AxesSubplot at 0x7f909f007b50>"
            ]
          },
          "metadata": {},
          "execution_count": 189
        },
        {
          "output_type": "display_data",
          "data": {
            "image/png": "[encoded data removed]",
            "text/plain": [
              "<Figure size 1296x360 with 3 Axes>"
            ]
          },
          "metadata": {
            "needs_background": "light"
          }
        }
      ]
    },
    {
      "cell_type": "markdown",
      "metadata": {
        "id": "hpwr7K_UID1O"
      },
      "source": [
        "***Inference***\n",
        "\n",
        "1. Customer_Since_Months\n",
        " * Customer using cab services since 10 months are more than other months.\n",
        "2. Cancellation_Last_1Month\n",
        " * The customers didn't cancelled their trips as there are less cancellation since last 1 month.\n",
        "3. Surge_Pricing_Type\n",
        " * Pricing Type \"2\" has most count followed by \"3\" and \"1\".\n"
      ]
    },
    {
      "cell_type": "markdown",
      "metadata": {
        "id": "htDN-k1FdIVt"
      },
      "source": [
        "***Numerical Features***"
      ]
    },
    {
      "cell_type": "code",
      "metadata": {
        "id": "sZychvtX8iCc"
      },
      "source": [
        "num_feat=['Trip_Distance','Life_Style_Index','var2','var3','Customer_Rating']"
      ],
      "execution_count": null,
      "outputs": []
    },
    {
      "cell_type": "code",
      "metadata": {
        "id": "bVjV9RVm8iGT",
        "colab": {
          "base_uri": "https://localhost:8080/",
          "height": 335
        },
        "outputId": "baa00602-697e-410d-e2c5-dfaf53243775"
      },
      "source": [
        "sns.distplot(df1_train['Trip_Distance'])\n",
        "plt.axvline(df1_train['Trip_Distance'].mean(),color=\"red\")\n",
        "plt.axvline(df1_train['Trip_Distance'].median(),color=\"green\")\n",
        "plt.show()"
      ],
      "execution_count": null,
      "outputs": [
        {
          "output_type": "display_data",
          "data": {
            "image/png": "[encoded data removed]",
            "text/plain": [
              "<Figure size 720x360 with 1 Axes>"
            ]
          },
          "metadata": {
            "needs_background": "light"
          }
        }
      ]
    },
    {
      "cell_type": "markdown",
      "metadata": {
        "id": "PmrQDD5Zgy4f"
      },
      "source": [
        "***Inference***\n",
        "\n",
        "* Most of the passengers has travelled a distance of 25 to 35.\n",
        "* Average distance travelled by the passengers is 45."
      ]
    },
    {
      "cell_type": "code",
      "metadata": {
        "id": "GHoKDYw_8iIY",
        "colab": {
          "base_uri": "https://localhost:8080/",
          "height": 335
        },
        "outputId": "f62d5e87-dfce-45d4-dd4c-ef31040fb47f"
      },
      "source": [
        "sns.distplot(df1_train['Life_Style_Index'])\n",
        "plt.axvline(df1_train['Life_Style_Index'].mean(),color=\"red\")\n",
        "plt.axvline(df1_train['Life_Style_Index'].median(),color=\"green\")\n",
        "plt.show()"
      ],
      "execution_count": null,
      "outputs": [
        {
          "output_type": "display_data",
          "data": {
            "image/png": "[encoded data removed]",
            "text/plain": [
              "<Figure size 720x360 with 1 Axes>"
            ]
          },
          "metadata": {
            "needs_background": "light"
          }
        }
      ]
    },
    {
      "cell_type": "markdown",
      "metadata": {
        "id": "2oVFbuhKhby7"
      },
      "source": [
        "***Inference***\n",
        "\n",
        "* Mean life style index of the customer is 2.8"
      ]
    },
    {
      "cell_type": "code",
      "metadata": {
        "id": "hc14tzNU8iN6",
        "colab": {
          "base_uri": "https://localhost:8080/",
          "height": 335
        },
        "outputId": "0b184bc7-a429-4d8f-e6af-ad575fb8f059"
      },
      "source": [
        "sns.distplot(df1_train['Customer_Rating'])\n",
        "plt.axvline(df1_train['Customer_Rating'].mean(),color=\"red\")\n",
        "plt.axvline(df1_train['Customer_Rating'].median(),color=\"green\")\n",
        "plt.show()"
      ],
      "execution_count": null,
      "outputs": [
        {
          "output_type": "display_data",
          "data": {
            "image/png": "[encoded data removed]",
            "text/plain": [
              "<Figure size 720x360 with 1 Axes>"
            ]
          },
          "metadata": {
            "needs_background": "light"
          }
        }
      ]
    },
    {
      "cell_type": "markdown",
      "metadata": {
        "id": "9nnpJ7qcjLYU"
      },
      "source": [
        "\n",
        "***Inference***\n",
        "* Most of the customers gave rating between 2.5 and 3.5\n",
        "* Average of life time ratings of the customer till date is around 2.8\n",
        "* The distribution is somewhat left skewed."
      ]
    },
    {
      "cell_type": "code",
      "metadata": {
        "id": "jk9NVo6P8iRA",
        "colab": {
          "base_uri": "https://localhost:8080/",
          "height": 334
        },
        "outputId": "679db7ee-1adf-4ef2-acca-50990da261dc"
      },
      "source": [
        "fig,axes=plt.subplots(1,2,figsize=[18,5])\n",
        "sns.distplot(df1_train['Var2'],ax=axes[0])\n",
        "sns.distplot(df1_train['Var3'],ax=axes[1])\n",
        "plt.show()"
      ],
      "execution_count": null,
      "outputs": [
        {
          "output_type": "display_data",
          "data": {
            "image/png": "[encoded data removed]",
            "text/plain": [
              "<Figure size 1296x360 with 2 Axes>"
            ]
          },
          "metadata": {
            "needs_background": "light"
          }
        }
      ]
    },
    {
      "cell_type": "markdown",
      "metadata": {
        "id": "pxhAs7Ozyjhc"
      },
      "source": [
        "# **Bivariant Analysis**"
      ]
    },
    {
      "cell_type": "markdown",
      "metadata": {
        "id": "v_L_Conxywcc"
      },
      "source": [
        "***category columns and surge_pricing_type***"
      ]
    },
    {
      "cell_type": "code",
      "metadata": {
        "id": "XCvRDPwS8iX3",
        "colab": {
          "base_uri": "https://localhost:8080/",
          "height": 498
        },
        "outputId": "619a7ec3-7a05-4704-847e-c0975bace57f"
      },
      "source": [
        "cat_col=['Type_of_Cab', 'Confidence_Life_Style_Index', 'Destination_Type','Gender']\n",
        "fig,axes=plt.subplots(2,2,figsize=[12,8])\n",
        "for indx,cat_col in enumerate(cat_col):\n",
        "  rows,columns=indx//2,indx%2\n",
        "  sns.countplot(data=df1_train,x=cat_col,hue=df1_train[\"Surge_Pricing_Type\"],ax=axes[rows,columns])\n",
        "plt.subplots_adjust(wspace=0.5,hspace=0.5)"
      ],
      "execution_count": null,
      "outputs": [
        {
          "output_type": "display_data",
          "data": {
            "image/png": "[encoded data removed]",
            "text/plain": [
              "<Figure size 864x576 with 4 Axes>"
            ]
          },
          "metadata": {
            "needs_background": "light"
          }
        }
      ]
    },
    {
      "cell_type": "markdown",
      "metadata": {
        "id": "kTUEZqO11gzT"
      },
      "source": [
        "***INFERENCE***\n",
        "\n",
        "1.Type of cab and surge_pricing_type\n",
        "* If we took Cab type \"B\" then almost pricing type will be \"2\" followed by \"1\"and \"3\".\n",
        "* If we took Cab type \"D\" then almost pricing type will be \"3\" followed by \"2\"and \"1\".\n",
        "* If we took Cab type \"C\" then almost pricing type will be \"2\" followed by \"3\"and \"1\".\n",
        "* If we took Cab type \"A\" then almost pricing type will be \"1\" followed by \"3\"and \"2\".\n",
        "* If we took Cab type \"E\" then almost pricing type will be \"3\" followed by \"2\"and \"1\".\n",
        "\n",
        "2.Confidence_life_style index and surge_pricing_type\n",
        "* If confidence_life_style_index is \"B\" then almost pricing type will be \"3\" folowed by \"2\" and \"1\".\n",
        "* If confidence_life_style_index is \"c\" then almost pricing type will be \"2\" folowed by \"3\" and \"1\".\n",
        "* If confidence_life_style_index is \"A\" then almost pricing type will be \"2\" folowed by \"1\" and \"3\".\n",
        "\n",
        "3.Destination_type and Surge_pricing_type\n",
        "* There are 14 destination_types from \"A TO N\"\n",
        "* Destination type A and B is mostly used by customers.\n",
        "* In Destination_type \"A\" pricing type is almost \"2\" followed by \"3\" and \"1\".\n",
        "* In Destination_type \"B\" pricing type is almost \"2\" followed by \"1\" and \"3\".\n",
        "* In Destination_type \"D\" pricing type is almost \"2\" followed by \"3\" and \"1\".\n",
        "* In Destination_type \"C\" pricing type is almost \"2\" followed by \"3\" and \"1\".\n",
        "* In Destination_type \"G\" pricing type is almost \"2\" followed by \"3\" and \"1\".\n",
        "* In Destination_type \"E\" pricing type is almost equal.\n",
        "\n",
        "4.Gender and Surge_pricing_type\n",
        "* Male customers are more than female\n",
        "* If the customer is \"male\" then almost pricing type is \"2\" followed by \"3\" and \"1\".\n",
        "* If the customer is \"female\" then almost pricing type is \"2\" followed by \"3\" and\"1\".\n",
        " \n",
        " \n",
        " \n",
        " \n",
        "\n",
        "\n",
        "\n",
        "\n",
        "\n",
        "\n",
        "\n",
        " \n"
      ]
    },
    {
      "cell_type": "markdown",
      "metadata": {
        "id": "D1kpSsWGY-KB"
      },
      "source": [
        "***Discrete columns and surge_pricing_type***"
      ]
    },
    {
      "cell_type": "code",
      "metadata": {
        "id": "16u-AxkQ8iZ8",
        "colab": {
          "base_uri": "https://localhost:8080/",
          "height": 335
        },
        "outputId": "1c6f8d90-ef84-4382-fe67-1630eec75cfa"
      },
      "source": [
        "dis_col=['Customer_Since_Months','Cancellation_Last_1Month','Surge_Pricing_Type']\n",
        "fig,axes=plt.subplots(1,2,figsize=[18,5])\n",
        "sns.countplot(x=dis_col[0],data=df1_train,hue=dis_col[2],ax=axes[0])\n",
        "sns.countplot(x=dis_col[1],data=df1_train,hue=dis_col[2],ax=axes[1])\n",
        "plt.subplots_adjust(wspace=0.5,hspace=0.5)\n",
        "plt.show()"
      ],
      "execution_count": null,
      "outputs": [
        {
          "output_type": "display_data",
          "data": {
            "image/png": "[encoded data removed]",
            "text/plain": [
              "<Figure size 1296x360 with 2 Axes>"
            ]
          },
          "metadata": {
            "needs_background": "light"
          }
        }
      ]
    },
    {
      "cell_type": "markdown",
      "metadata": {
        "id": "0M3M4bCBacgE"
      },
      "source": [
        "***Inference***\n",
        "\n",
        "1.Customer_since_months and surge_pricing_type\n",
        "* The customers are using cabs for past 11 months, \"0\" indicates the current month customer.\n",
        "* All the customers for past 11 months almost prefers to use pricing type \"2\".\n",
        "\n",
        "2.Cancellation last_1month\n",
        "* Most of the times pricing type is \"2\" followed by \"1\" and \"3\"\n",
        "* If the cancellation of the trip are more than \"1\" then pricing type is \"3\"."
      ]
    },
    {
      "cell_type": "code",
      "metadata": {
        "colab": {
          "base_uri": "https://localhost:8080/",
          "height": 335
        },
        "id": "GbS2IKxzc8zz",
        "outputId": "435dd647-5978-497d-cbf9-e895d82ebefd"
      },
      "source": [
        "fig,axes=plt.subplots(1,2,figsize=[18,5])\n",
        "sns.barplot(data=df1_train,x='Destination_Type',y='Trip_Distance',ax=axes[0])\n",
        "sns.barplot(data=df1_train,x='Destination_Type',y='Customer_Rating',ax=axes[1])\n",
        "plt.show()\n"
      ],
      "execution_count": null,
      "outputs": [
        {
          "output_type": "display_data",
          "data": {
            "image/png": "[encoded data removed]",
            "text/plain": [
              "<Figure size 1296x360 with 2 Axes>"
            ]
          },
          "metadata": {
            "needs_background": "light"
          }
        }
      ]
    },
    {
      "cell_type": "markdown",
      "metadata": {
        "id": "JA3jBcKKebOa"
      },
      "source": [
        "***Inference***\n",
        "\n",
        "* For Destination_type \"N\" \"G\" \"J\" \"H\" \"I\" Distance travelled by the customer  is short around 25 km.\n",
        "* We can see for the short_distance trip customer ratig is high 3.5.\n",
        "* For Destination_type \"A\" \"B\"  Distance travelled by the customer  is short around 45 km.\n",
        "* We can see for the long_distance trip customer ratig is low around 2.8.\n",
        "\n"
      ]
    },
    {
      "cell_type": "code",
      "metadata": {
        "colab": {
          "base_uri": "https://localhost:8080/",
          "height": 352
        },
        "id": "YD5TualjoRNM",
        "outputId": "23f9c761-b016-4d7f-ef75-74bb8bb88e2d"
      },
      "source": [
        "sns.barplot(data=df1_train,x='Type_of_Cab',y='Trip_Distance')"
      ],
      "execution_count": null,
      "outputs": [
        {
          "output_type": "execute_result",
          "data": {
            "text/plain": [
              "<matplotlib.axes._subplots.AxesSubplot at 0x7f90a198bd90>"
            ]
          },
          "metadata": {},
          "execution_count": 198
        },
        {
          "output_type": "display_data",
          "data": {
            "image/png": "[encoded data removed]",
            "text/plain": [
              "<Figure size 720x360 with 1 Axes>"
            ]
          },
          "metadata": {
            "needs_background": "light"
          }
        }
      ]
    },
    {
      "cell_type": "markdown",
      "metadata": {
        "id": "XrdcbpowopzM"
      },
      "source": [
        "***Inference***\n",
        "\n",
        "* Customers travelled more on cab \"E\" which is almost 50"
      ]
    },
    {
      "cell_type": "markdown",
      "metadata": {
        "id": "AUTnSdWKcdbH"
      },
      "source": [
        "***Numeric_columns and surge_pricing_type***"
      ]
    },
    {
      "cell_type": "code",
      "metadata": {
        "colab": {
          "base_uri": "https://localhost:8080/",
          "height": 501
        },
        "id": "8PiOZz_2aaGf",
        "outputId": "258b6f0a-10d0-436b-f9a6-ab6f2334cef3"
      },
      "source": [
        "num_col=[\"Trip_Distance\",\"Life_Style_Index\",\"Customer_Rating\",\"Var2\",\"Var3\"]\n",
        "fig,axes=plt.subplots(3,2,figsize=[12,8])\n",
        "sns.boxplot(x=\"Surge_Pricing_Type\",y=num_col[0],data=df1_train,ax=axes[0,0])\n",
        "sns.boxplot(x=\"Surge_Pricing_Type\",y=num_col[1],data=df1_train,ax=axes[0,1])\n",
        "sns.boxplot(x=\"Surge_Pricing_Type\",y=num_col[2],data=df1_train,ax=axes[1,0])\n",
        "sns.boxplot(x=\"Surge_Pricing_Type\",y=num_col[3],data=df1_train,ax=axes[1,1])\n",
        "sns.boxplot(x=\"Surge_Pricing_Type\",y=num_col[4],data=df1_train,ax=axes[2,0])\n",
        "plt.subplots_adjust(wspace=0.5,hspace=0.5)\n",
        "plt.show()"
      ],
      "execution_count": null,
      "outputs": [
        {
          "output_type": "display_data",
          "data": {
            "image/png": "[encoded data removed]",
            "text/plain": [
              "<Figure size 864x576 with 6 Axes>"
            ]
          },
          "metadata": {
            "needs_background": "light"
          }
        }
      ]
    },
    {
      "cell_type": "markdown",
      "metadata": {
        "id": "KAOoqbSR6skG"
      },
      "source": [
        "***Inference***\n",
        "\n",
        "1.Trip_Distance\n",
        "* If the trip_distance median is around 35 then pricing is around \"1\" and \"2\"\n",
        "* If the trip_distance median is around 45 then pricing is around \"3\"\n",
        "\n",
        "2.Life_Style_Index\n",
        "* If Life_Style_Index median is 2.8 then pricing type will be \"1\",\"2\",\"3\".\n",
        "\n",
        "3.Customer_rating\n",
        "* If the customer_rating is \"above 3\" then the pricing type will be \"1\".\n",
        "* If the customer_rating is \"cloase to 3\" then the pricing type will be \"2\" and \"3\""
      ]
    },
    {
      "cell_type": "markdown",
      "metadata": {
        "id": "_DDaFnbU-s67"
      },
      "source": [
        "***Descriptive Statistics***\n",
        "\n"
      ]
    },
    {
      "cell_type": "code",
      "metadata": {
        "id": "yeLuD4SllJ-4",
        "colab": {
          "base_uri": "https://localhost:8080/",
          "height": 315
        },
        "outputId": "bab03ccf-2365-406e-e654-22febb5616a9"
      },
      "source": [
        "df1_train.describe()"
      ],
      "execution_count": null,
      "outputs": [
        {
          "output_type": "execute_result",
          "data": {
            "text/html": [
              "<div>\n",
              "<style scoped>\n",
              "    .dataframe tbody tr th:only-of-type {\n",
              "        vertical-align: middle;\n",
              "    }\n",
              "\n",
              "    .dataframe tbody tr th {\n",
              "        vertical-align: top;\n",
              "    }\n",
              "\n",
              "    .dataframe thead th {\n",
              "        text-align: right;\n",
              "    }\n",
              "</style>\n",
              "<table border=\"1\" class=\"dataframe\">\n",
              "  <thead>\n",
              "    <tr style=\"text-align: right;\">\n",
              "      <th></th>\n",
              "      <th>Trip_Distance</th>\n",
              "      <th>Customer_Since_Months</th>\n",
              "      <th>Life_Style_Index</th>\n",
              "      <th>Customer_Rating</th>\n",
              "      <th>Cancellation_Last_1Month</th>\n",
              "      <th>Var2</th>\n",
              "      <th>Var3</th>\n",
              "      <th>Surge_Pricing_Type</th>\n",
              "    </tr>\n",
              "  </thead>\n",
              "  <tbody>\n",
              "    <tr>\n",
              "      <th>count</th>\n",
              "      <td>131662.000000</td>\n",
              "      <td>131662.000000</td>\n",
              "      <td>131662.000000</td>\n",
              "      <td>131662.000000</td>\n",
              "      <td>131662.000000</td>\n",
              "      <td>131662.000000</td>\n",
              "      <td>131662.000000</td>\n",
              "      <td>131662.000000</td>\n",
              "    </tr>\n",
              "    <tr>\n",
              "      <th>mean</th>\n",
              "      <td>44.200909</td>\n",
              "      <td>5.987908</td>\n",
              "      <td>2.802066</td>\n",
              "      <td>2.849458</td>\n",
              "      <td>0.782838</td>\n",
              "      <td>51.202800</td>\n",
              "      <td>75.099019</td>\n",
              "      <td>2.155747</td>\n",
              "    </tr>\n",
              "    <tr>\n",
              "      <th>std</th>\n",
              "      <td>25.522882</td>\n",
              "      <td>3.548375</td>\n",
              "      <td>0.207959</td>\n",
              "      <td>0.980675</td>\n",
              "      <td>1.037559</td>\n",
              "      <td>4.986142</td>\n",
              "      <td>11.578278</td>\n",
              "      <td>0.738164</td>\n",
              "    </tr>\n",
              "    <tr>\n",
              "      <th>min</th>\n",
              "      <td>0.310000</td>\n",
              "      <td>0.000000</td>\n",
              "      <td>1.596380</td>\n",
              "      <td>0.001250</td>\n",
              "      <td>0.000000</td>\n",
              "      <td>40.000000</td>\n",
              "      <td>52.000000</td>\n",
              "      <td>1.000000</td>\n",
              "    </tr>\n",
              "    <tr>\n",
              "      <th>25%</th>\n",
              "      <td>24.580000</td>\n",
              "      <td>3.000000</td>\n",
              "      <td>2.687952</td>\n",
              "      <td>2.152500</td>\n",
              "      <td>0.000000</td>\n",
              "      <td>48.000000</td>\n",
              "      <td>67.000000</td>\n",
              "      <td>2.000000</td>\n",
              "    </tr>\n",
              "    <tr>\n",
              "      <th>50%</th>\n",
              "      <td>38.200000</td>\n",
              "      <td>6.000000</td>\n",
              "      <td>2.791163</td>\n",
              "      <td>2.895000</td>\n",
              "      <td>0.000000</td>\n",
              "      <td>50.000000</td>\n",
              "      <td>74.000000</td>\n",
              "      <td>2.000000</td>\n",
              "    </tr>\n",
              "    <tr>\n",
              "      <th>75%</th>\n",
              "      <td>60.730000</td>\n",
              "      <td>10.000000</td>\n",
              "      <td>2.912815</td>\n",
              "      <td>3.582500</td>\n",
              "      <td>1.000000</td>\n",
              "      <td>54.000000</td>\n",
              "      <td>82.000000</td>\n",
              "      <td>3.000000</td>\n",
              "    </tr>\n",
              "    <tr>\n",
              "      <th>max</th>\n",
              "      <td>109.230000</td>\n",
              "      <td>10.000000</td>\n",
              "      <td>4.875110</td>\n",
              "      <td>5.000000</td>\n",
              "      <td>8.000000</td>\n",
              "      <td>124.000000</td>\n",
              "      <td>206.000000</td>\n",
              "      <td>3.000000</td>\n",
              "    </tr>\n",
              "  </tbody>\n",
              "</table>\n",
              "</div>"
            ],
            "text/plain": [
              "       Trip_Distance  Customer_Since_Months  Life_Style_Index  \\\n",
              "count  131662.000000          131662.000000     131662.000000   \n",
              "mean       44.200909               5.987908          2.802066   \n",
              "std        25.522882               3.548375          0.207959   \n",
              "min         0.310000               0.000000          1.596380   \n",
              "25%        24.580000               3.000000          2.687952   \n",
              "50%        38.200000               6.000000          2.791163   \n",
              "75%        60.730000              10.000000          2.912815   \n",
              "max       109.230000              10.000000          4.875110   \n",
              "\n",
              "       Customer_Rating  Cancellation_Last_1Month           Var2  \\\n",
              "count    131662.000000             131662.000000  131662.000000   \n",
              "mean          2.849458                  0.782838      51.202800   \n",
              "std           0.980675                  1.037559       4.986142   \n",
              "min           0.001250                  0.000000      40.000000   \n",
              "25%           2.152500                  0.000000      48.000000   \n",
              "50%           2.895000                  0.000000      50.000000   \n",
              "75%           3.582500                  1.000000      54.000000   \n",
              "max           5.000000                  8.000000     124.000000   \n",
              "\n",
              "                Var3  Surge_Pricing_Type  \n",
              "count  131662.000000       131662.000000  \n",
              "mean       75.099019            2.155747  \n",
              "std        11.578278            0.738164  \n",
              "min        52.000000            1.000000  \n",
              "25%        67.000000            2.000000  \n",
              "50%        74.000000            2.000000  \n",
              "75%        82.000000            3.000000  \n",
              "max       206.000000            3.000000  "
            ]
          },
          "metadata": {},
          "execution_count": 200
        }
      ]
    },
    {
      "cell_type": "markdown",
      "metadata": {
        "id": "qPhnC0om_kVm"
      },
      "source": [
        "***Inference***\n",
        "\n",
        "* Min_Trip_Distance is 0.31 and max_trip_distance is 109\n",
        "* Average_Trip_distance is 38\n",
        "* Average_customer_rating is 2.8\n",
        "* Average_life_style_index is 2.7\n",
        "* Most of the customer prefer surge_pricing_type 2"
      ]
    },
    {
      "cell_type": "code",
      "metadata": {
        "colab": {
          "base_uri": "https://localhost:8080/",
          "height": 315
        },
        "id": "HClouFU4_dCp",
        "outputId": "719bd152-54dc-4d66-90d7-e8c49e788ac3"
      },
      "source": [
        "df1_train.corr()"
      ],
      "execution_count": null,
      "outputs": [
        {
          "output_type": "execute_result",
          "data": {
            "text/html": [
              "<div>\n",
              "<style scoped>\n",
              "    .dataframe tbody tr th:only-of-type {\n",
              "        vertical-align: middle;\n",
              "    }\n",
              "\n",
              "    .dataframe tbody tr th {\n",
              "        vertical-align: top;\n",
              "    }\n",
              "\n",
              "    .dataframe thead th {\n",
              "        text-align: right;\n",
              "    }\n",
              "</style>\n",
              "<table border=\"1\" class=\"dataframe\">\n",
              "  <thead>\n",
              "    <tr style=\"text-align: right;\">\n",
              "      <th></th>\n",
              "      <th>Trip_Distance</th>\n",
              "      <th>Customer_Since_Months</th>\n",
              "      <th>Life_Style_Index</th>\n",
              "      <th>Customer_Rating</th>\n",
              "      <th>Cancellation_Last_1Month</th>\n",
              "      <th>Var2</th>\n",
              "      <th>Var3</th>\n",
              "      <th>Surge_Pricing_Type</th>\n",
              "    </tr>\n",
              "  </thead>\n",
              "  <tbody>\n",
              "    <tr>\n",
              "      <th>Trip_Distance</th>\n",
              "      <td>1.000000</td>\n",
              "      <td>0.117418</td>\n",
              "      <td>0.466782</td>\n",
              "      <td>-0.054654</td>\n",
              "      <td>-0.007686</td>\n",
              "      <td>0.200456</td>\n",
              "      <td>0.231706</td>\n",
              "      <td>0.135928</td>\n",
              "    </tr>\n",
              "    <tr>\n",
              "      <th>Customer_Since_Months</th>\n",
              "      <td>0.117418</td>\n",
              "      <td>1.000000</td>\n",
              "      <td>0.124007</td>\n",
              "      <td>-0.048644</td>\n",
              "      <td>-0.004823</td>\n",
              "      <td>0.043592</td>\n",
              "      <td>0.111236</td>\n",
              "      <td>0.032155</td>\n",
              "    </tr>\n",
              "    <tr>\n",
              "      <th>Life_Style_Index</th>\n",
              "      <td>0.466782</td>\n",
              "      <td>0.124007</td>\n",
              "      <td>1.000000</td>\n",
              "      <td>0.191597</td>\n",
              "      <td>0.065897</td>\n",
              "      <td>0.215803</td>\n",
              "      <td>0.303803</td>\n",
              "      <td>-0.086993</td>\n",
              "    </tr>\n",
              "    <tr>\n",
              "      <th>Customer_Rating</th>\n",
              "      <td>-0.054654</td>\n",
              "      <td>-0.048644</td>\n",
              "      <td>0.191597</td>\n",
              "      <td>1.000000</td>\n",
              "      <td>0.003595</td>\n",
              "      <td>-0.302968</td>\n",
              "      <td>-0.227531</td>\n",
              "      <td>-0.155279</td>\n",
              "    </tr>\n",
              "    <tr>\n",
              "      <th>Cancellation_Last_1Month</th>\n",
              "      <td>-0.007686</td>\n",
              "      <td>-0.004823</td>\n",
              "      <td>0.065897</td>\n",
              "      <td>0.003595</td>\n",
              "      <td>1.000000</td>\n",
              "      <td>0.095830</td>\n",
              "      <td>0.128686</td>\n",
              "      <td>0.185646</td>\n",
              "    </tr>\n",
              "    <tr>\n",
              "      <th>Var2</th>\n",
              "      <td>0.200456</td>\n",
              "      <td>0.043592</td>\n",
              "      <td>0.215803</td>\n",
              "      <td>-0.302968</td>\n",
              "      <td>0.095830</td>\n",
              "      <td>1.000000</td>\n",
              "      <td>0.683437</td>\n",
              "      <td>0.003437</td>\n",
              "    </tr>\n",
              "    <tr>\n",
              "      <th>Var3</th>\n",
              "      <td>0.231706</td>\n",
              "      <td>0.111236</td>\n",
              "      <td>0.303803</td>\n",
              "      <td>-0.227531</td>\n",
              "      <td>0.128686</td>\n",
              "      <td>0.683437</td>\n",
              "      <td>1.000000</td>\n",
              "      <td>-0.039309</td>\n",
              "    </tr>\n",
              "    <tr>\n",
              "      <th>Surge_Pricing_Type</th>\n",
              "      <td>0.135928</td>\n",
              "      <td>0.032155</td>\n",
              "      <td>-0.086993</td>\n",
              "      <td>-0.155279</td>\n",
              "      <td>0.185646</td>\n",
              "      <td>0.003437</td>\n",
              "      <td>-0.039309</td>\n",
              "      <td>1.000000</td>\n",
              "    </tr>\n",
              "  </tbody>\n",
              "</table>\n",
              "</div>"
            ],
            "text/plain": [
              "                          Trip_Distance  Customer_Since_Months  \\\n",
              "Trip_Distance                  1.000000               0.117418   \n",
              "Customer_Since_Months          0.117418               1.000000   \n",
              "Life_Style_Index               0.466782               0.124007   \n",
              "Customer_Rating               -0.054654              -0.048644   \n",
              "Cancellation_Last_1Month      -0.007686              -0.004823   \n",
              "Var2                           0.200456               0.043592   \n",
              "Var3                           0.231706               0.111236   \n",
              "Surge_Pricing_Type             0.135928               0.032155   \n",
              "\n",
              "                          Life_Style_Index  Customer_Rating  \\\n",
              "Trip_Distance                     0.466782        -0.054654   \n",
              "Customer_Since_Months             0.124007        -0.048644   \n",
              "Life_Style_Index                  1.000000         0.191597   \n",
              "Customer_Rating                   0.191597         1.000000   \n",
              "Cancellation_Last_1Month          0.065897         0.003595   \n",
              "Var2                              0.215803        -0.302968   \n",
              "Var3                              0.303803        -0.227531   \n",
              "Surge_Pricing_Type               -0.086993        -0.155279   \n",
              "\n",
              "                          Cancellation_Last_1Month      Var2      Var3  \\\n",
              "Trip_Distance                            -0.007686  0.200456  0.231706   \n",
              "Customer_Since_Months                    -0.004823  0.043592  0.111236   \n",
              "Life_Style_Index                          0.065897  0.215803  0.303803   \n",
              "Customer_Rating                           0.003595 -0.302968 -0.227531   \n",
              "Cancellation_Last_1Month                  1.000000  0.095830  0.128686   \n",
              "Var2                                      0.095830  1.000000  0.683437   \n",
              "Var3                                      0.128686  0.683437  1.000000   \n",
              "Surge_Pricing_Type                        0.185646  0.003437 -0.039309   \n",
              "\n",
              "                          Surge_Pricing_Type  \n",
              "Trip_Distance                       0.135928  \n",
              "Customer_Since_Months               0.032155  \n",
              "Life_Style_Index                   -0.086993  \n",
              "Customer_Rating                    -0.155279  \n",
              "Cancellation_Last_1Month            0.185646  \n",
              "Var2                                0.003437  \n",
              "Var3                               -0.039309  \n",
              "Surge_Pricing_Type                  1.000000  "
            ]
          },
          "metadata": {},
          "execution_count": 201
        }
      ]
    },
    {
      "cell_type": "code",
      "metadata": {
        "colab": {
          "base_uri": "https://localhost:8080/",
          "height": 607
        },
        "id": "lRAMqvy-AxhD",
        "outputId": "bc078fce-22c5-4cc2-b36c-5fd8baf2945b"
      },
      "source": [
        "plt.figure(figsize=(12,8))\n",
        "sns.heatmap(df1_train.corr(),annot=True)\n",
        "plt.show()"
      ],
      "execution_count": null,
      "outputs": [
        {
          "output_type": "display_data",
          "data": {
            "image/png": "[encoded data removed]",
            "text/plain": [
              "<Figure size 864x576 with 2 Axes>"
            ]
          },
          "metadata": {
            "needs_background": "light"
          }
        }
      ]
    },
    {
      "cell_type": "markdown",
      "metadata": {
        "id": "rHacBIG6BMlL"
      },
      "source": [
        "***Inference***\n",
        "\n",
        "* No strong correlation between any of the variables and target \n",
        "* All the variables has unique information"
      ]
    },
    {
      "cell_type": "markdown",
      "metadata": {
        "id": "YudVd-WMBlJU"
      },
      "source": [
        "***Multicollinearity -Variance inflation factor***"
      ]
    },
    {
      "cell_type": "code",
      "metadata": {
        "id": "S_PPvmM7lKOb"
      },
      "source": [
        "from statsmodels.stats.outliers_influence import variance_inflation_factor as VIF"
      ],
      "execution_count": null,
      "outputs": []
    },
    {
      "cell_type": "code",
      "metadata": {
        "colab": {
          "base_uri": "https://localhost:8080/"
        },
        "id": "WBP4iZXSgTSD",
        "outputId": "a38b1db7-d6a5-4dd7-c7cf-2b5d13d9cb9c"
      },
      "source": [
        "num_features.shape"
      ],
      "execution_count": null,
      "outputs": [
        {
          "output_type": "execute_result",
          "data": {
            "text/plain": [
              "(131662, 8)"
            ]
          },
          "metadata": {},
          "execution_count": 204
        }
      ]
    },
    {
      "cell_type": "code",
      "metadata": {
        "id": "pKCeiek6cbLf",
        "colab": {
          "base_uri": "https://localhost:8080/"
        },
        "outputId": "7d7e8cfe-457a-4783-e6ee-7e35e92bb7da"
      },
      "source": [
        "for ind in range(len(num_features.columns)):\n",
        "  vif=pd.DataFrame()\n",
        "  vif[\"VIF_FACTOR\"]=[VIF(num_features.values,i) for i in range(num_features.shape[1])]\n",
        "  vif[\"FEATURES\"]=num_features.columns\n",
        "  multi=vif[vif[\"VIF_FACTOR\"]>10]\n",
        "\n",
        "\n",
        "  if multi.empty==False:\n",
        "    df_sorted=multi.sort_values(by=\"VIF_FACTOR\",ascending=False)\n",
        "    print(df_sorted)\n",
        "  else:\n",
        "    print(vif)\n",
        "    break\n",
        "\n",
        "  if df_sorted.empty==False:\n",
        "    num_features=num_features.drop(df_sorted[\"FEATURES\"].iloc[0],axis=1)\n",
        "  else:\n",
        "    print(vif)\n",
        "    print(\" \")"
      ],
      "execution_count": null,
      "outputs": [
        {
          "output_type": "stream",
          "name": "stdout",
          "text": [
            "   VIF_FACTOR                  FEATURES\n",
            "0    3.873233             Trip_Distance\n",
            "1    3.524901     Customer_Since_Months\n",
            "2    5.091494           Customer_Rating\n",
            "3    1.627288  Cancellation_Last_1Month\n",
            "4    6.493273        Surge_Pricing_Type\n"
          ]
        }
      ]
    },
    {
      "cell_type": "markdown",
      "metadata": {
        "id": "GLuVhEVOsh64"
      },
      "source": [
        "***Inference***\n",
        "\n",
        "* Life_Style_Index,Var2,Var3 is having multicollinearity in the data.\n"
      ]
    },
    {
      "cell_type": "code",
      "metadata": {
        "colab": {
          "base_uri": "https://localhost:8080/"
        },
        "id": "CzSPxWzYf4kt",
        "outputId": "99fa2212-f8e2-41b6-c8ea-001239318319"
      },
      "source": [
        "num_features.columns"
      ],
      "execution_count": null,
      "outputs": [
        {
          "output_type": "execute_result",
          "data": {
            "text/plain": [
              "Index(['Trip_Distance', 'Customer_Since_Months', 'Customer_Rating',\n",
              "       'Cancellation_Last_1Month', 'Surge_Pricing_Type'],\n",
              "      dtype='object')"
            ]
          },
          "metadata": {},
          "execution_count": 206
        }
      ]
    },
    {
      "cell_type": "code",
      "metadata": {
        "colab": {
          "base_uri": "https://localhost:8080/"
        },
        "id": "XRicnof8qhtT",
        "outputId": "53bd117a-b15e-4439-d6c2-d20114184f75"
      },
      "source": [
        "df1_train.index.is_unique"
      ],
      "execution_count": null,
      "outputs": [
        {
          "output_type": "execute_result",
          "data": {
            "text/plain": [
              "False"
            ]
          },
          "metadata": {},
          "execution_count": 207
        }
      ]
    },
    {
      "cell_type": "code",
      "metadata": {
        "colab": {
          "base_uri": "https://localhost:8080/",
          "height": 223
        },
        "id": "h0boRLRkq-WJ",
        "outputId": "b4537fe5-9483-4d5d-80dc-21d0112abbc9"
      },
      "source": [
        "df1_train.head()"
      ],
      "execution_count": null,
      "outputs": [
        {
          "output_type": "execute_result",
          "data": {
            "text/html": [
              "<div>\n",
              "<style scoped>\n",
              "    .dataframe tbody tr th:only-of-type {\n",
              "        vertical-align: middle;\n",
              "    }\n",
              "\n",
              "    .dataframe tbody tr th {\n",
              "        vertical-align: top;\n",
              "    }\n",
              "\n",
              "    .dataframe thead th {\n",
              "        text-align: right;\n",
              "    }\n",
              "</style>\n",
              "<table border=\"1\" class=\"dataframe\">\n",
              "  <thead>\n",
              "    <tr style=\"text-align: right;\">\n",
              "      <th></th>\n",
              "      <th>Type_of_Cab</th>\n",
              "      <th>Confidence_Life_Style_Index</th>\n",
              "      <th>Destination_Type</th>\n",
              "      <th>Gender</th>\n",
              "      <th>Trip_Distance</th>\n",
              "      <th>Customer_Since_Months</th>\n",
              "      <th>Life_Style_Index</th>\n",
              "      <th>Customer_Rating</th>\n",
              "      <th>Cancellation_Last_1Month</th>\n",
              "      <th>Var2</th>\n",
              "      <th>Var3</th>\n",
              "      <th>Surge_Pricing_Type</th>\n",
              "    </tr>\n",
              "  </thead>\n",
              "  <tbody>\n",
              "    <tr>\n",
              "      <th>0</th>\n",
              "      <td>B</td>\n",
              "      <td>B</td>\n",
              "      <td>A</td>\n",
              "      <td>Female</td>\n",
              "      <td>31.16</td>\n",
              "      <td>5</td>\n",
              "      <td>2.69170</td>\n",
              "      <td>2.14750</td>\n",
              "      <td>0</td>\n",
              "      <td>53.0</td>\n",
              "      <td>90.0</td>\n",
              "      <td>1.0</td>\n",
              "    </tr>\n",
              "    <tr>\n",
              "      <th>1</th>\n",
              "      <td>D</td>\n",
              "      <td>B</td>\n",
              "      <td>G</td>\n",
              "      <td>Male</td>\n",
              "      <td>14.12</td>\n",
              "      <td>3</td>\n",
              "      <td>2.97795</td>\n",
              "      <td>4.93375</td>\n",
              "      <td>0</td>\n",
              "      <td>47.0</td>\n",
              "      <td>64.0</td>\n",
              "      <td>1.0</td>\n",
              "    </tr>\n",
              "    <tr>\n",
              "      <th>2</th>\n",
              "      <td>C</td>\n",
              "      <td>C</td>\n",
              "      <td>A</td>\n",
              "      <td>Male</td>\n",
              "      <td>72.54</td>\n",
              "      <td>0</td>\n",
              "      <td>3.06236</td>\n",
              "      <td>2.08250</td>\n",
              "      <td>0</td>\n",
              "      <td>52.0</td>\n",
              "      <td>89.0</td>\n",
              "      <td>1.0</td>\n",
              "    </tr>\n",
              "    <tr>\n",
              "      <th>3</th>\n",
              "      <td>B</td>\n",
              "      <td>A</td>\n",
              "      <td>A</td>\n",
              "      <td>Male</td>\n",
              "      <td>16.78</td>\n",
              "      <td>1</td>\n",
              "      <td>2.70013</td>\n",
              "      <td>1.61250</td>\n",
              "      <td>3</td>\n",
              "      <td>52.0</td>\n",
              "      <td>85.0</td>\n",
              "      <td>1.0</td>\n",
              "    </tr>\n",
              "    <tr>\n",
              "      <th>4</th>\n",
              "      <td>A</td>\n",
              "      <td>B</td>\n",
              "      <td>A</td>\n",
              "      <td>Male</td>\n",
              "      <td>18.47</td>\n",
              "      <td>9</td>\n",
              "      <td>2.77751</td>\n",
              "      <td>1.44000</td>\n",
              "      <td>5</td>\n",
              "      <td>55.0</td>\n",
              "      <td>85.0</td>\n",
              "      <td>1.0</td>\n",
              "    </tr>\n",
              "  </tbody>\n",
              "</table>\n",
              "</div>"
            ],
            "text/plain": [
              "  Type_of_Cab Confidence_Life_Style_Index Destination_Type  Gender  \\\n",
              "0           B                           B                A  Female   \n",
              "1           D                           B                G    Male   \n",
              "2           C                           C                A    Male   \n",
              "3           B                           A                A    Male   \n",
              "4           A                           B                A    Male   \n",
              "\n",
              "   Trip_Distance  Customer_Since_Months  Life_Style_Index  Customer_Rating  \\\n",
              "0          31.16                      5           2.69170          2.14750   \n",
              "1          14.12                      3           2.97795          4.93375   \n",
              "2          72.54                      0           3.06236          2.08250   \n",
              "3          16.78                      1           2.70013          1.61250   \n",
              "4          18.47                      9           2.77751          1.44000   \n",
              "\n",
              "   Cancellation_Last_1Month  Var2  Var3  Surge_Pricing_Type  \n",
              "0                         0  53.0  90.0                 1.0  \n",
              "1                         0  47.0  64.0                 1.0  \n",
              "2                         0  52.0  89.0                 1.0  \n",
              "3                         3  52.0  85.0                 1.0  \n",
              "4                         5  55.0  85.0                 1.0  "
            ]
          },
          "metadata": {},
          "execution_count": 208
        }
      ]
    },
    {
      "cell_type": "code",
      "metadata": {
        "colab": {
          "base_uri": "https://localhost:8080/"
        },
        "id": "a245TQVuq2x5",
        "outputId": "a793b33f-d2d5-46dd-bb94-84881366145c"
      },
      "source": [
        "df1_train.index.duplicated()"
      ],
      "execution_count": null,
      "outputs": [
        {
          "output_type": "execute_result",
          "data": {
            "text/plain": [
              "array([False, False, False, ...,  True,  True,  True])"
            ]
          },
          "metadata": {},
          "execution_count": 209
        }
      ]
    },
    {
      "cell_type": "code",
      "metadata": {
        "id": "W8rpnWMbr3-M"
      },
      "source": [
        "df1_train[df1_train.index.duplicated()]"
      ],
      "execution_count": null,
      "outputs": []
    },
    {
      "cell_type": "code",
      "metadata": {
        "id": "MAVm7iChrQDF"
      },
      "source": [
        "df2=df1_train.loc[~df1_train.index.duplicated(), :]"
      ],
      "execution_count": null,
      "outputs": []
    },
    {
      "cell_type": "code",
      "metadata": {
        "id": "HS6uyzlNsL5R"
      },
      "source": [
        "df2.shape"
      ],
      "execution_count": null,
      "outputs": []
    },
    {
      "cell_type": "code",
      "metadata": {
        "id": "O79sdjdvoL9d"
      },
      "source": [
        "sns.pairplot(df2,vars=[\"Trip_Distance\",\"Customer_Since_Months\",\"Life_Style_Index\",\n",
        "                        \"Customer_Rating\",\"Cancellation_Last_1Month\",\"Var2\",\"Var3\"],hue=\"Surge_Pricing_Type\")"
      ],
      "execution_count": null,
      "outputs": []
    },
    {
      "cell_type": "markdown",
      "metadata": {
        "id": "hgI0Yv-IvbzS"
      },
      "source": [
        "![picture](https://drive.google.com/uc?export=view&id=1ySuJq7CjVkPTbliDBK4NeTDQruHxitZH)"
      ]
    },
    {
      "cell_type": "markdown",
      "metadata": {
        "id": "jqU_lFVSw7Em"
      },
      "source": [
        "![picture](https://drive.google.com/uc?export=view&id=1spg7GPkDW6CCTehkhNisLAIBW3rzNY8W)"
      ]
    },
    {
      "cell_type": "markdown",
      "metadata": {
        "id": "2Y3rzGbc2O1f"
      },
      "source": [
        "\n",
        "\n",
        "# **ENCODING THE CATEGORICAL VALUES** -  *LABEL ENCODING*"
      ]
    },
    {
      "cell_type": "code",
      "metadata": {
        "id": "UeLszhOl2Afb"
      },
      "source": [
        "from sklearn.preprocessing import LabelEncoder"
      ],
      "execution_count": null,
      "outputs": []
    },
    {
      "cell_type": "code",
      "metadata": {
        "id": "FdtpUCWs2KaA"
      },
      "source": [
        "LE=LabelEncoder()\n",
        "\n",
        "for i in df1_train[[\"Type_of_Cab\",\"Confidence_Life_Style_Index\",\"Destination_Type\",\"Gender\"]]:\n",
        "  df1_train[i]=LE.fit_transform(df1_train[i])"
      ],
      "execution_count": null,
      "outputs": []
    },
    {
      "cell_type": "code",
      "metadata": {
        "id": "cxOOVNcd3wR1"
      },
      "source": [
        "df1_train.head()"
      ],
      "execution_count": null,
      "outputs": []
    },
    {
      "cell_type": "code",
      "metadata": {
        "id": "K7wNRFoEnsiY"
      },
      "source": [
        "df1_train.info()"
      ],
      "execution_count": null,
      "outputs": []
    },
    {
      "cell_type": "markdown",
      "metadata": {
        "id": "JrEBf-458zAz"
      },
      "source": [
        "# **SCALING** -*MIN MAX SCALING*\n",
        "\n",
        "---"
      ]
    },
    {
      "cell_type": "code",
      "metadata": {
        "id": "UkSB3x5a4_VJ"
      },
      "source": [
        "from sklearn.preprocessing import MinMaxScaler,StandardScaler"
      ],
      "execution_count": null,
      "outputs": []
    },
    {
      "cell_type": "code",
      "metadata": {
        "id": "3TQEzY7M9h1k"
      },
      "source": [
        "for i in df1_train.columns:\n",
        "  if i!=\"Surge_Pricing_Type\":\n",
        "    mm=MinMaxScaler()\n",
        "    df1_train[i] = mm.fit_transform(df1_train[[i]])\n"
      ],
      "execution_count": null,
      "outputs": []
    },
    {
      "cell_type": "code",
      "metadata": {
        "id": "sq8lnA1H6m-A"
      },
      "source": [
        "df1_train.head()"
      ],
      "execution_count": null,
      "outputs": []
    },
    {
      "cell_type": "markdown",
      "metadata": {
        "id": "3WYUZ4qu8Ypg"
      },
      "source": [
        "# ***class imbalance check***"
      ]
    },
    {
      "cell_type": "code",
      "metadata": {
        "colab": {
          "base_uri": "https://localhost:8080/",
          "height": 320
        },
        "id": "MoMQCjYj8djy",
        "outputId": "0df0f22f-40df-4a9e-ab86-817a9a4eae9f"
      },
      "source": [
        "df1_train[\"Surge_Pricing_Type\"].value_counts(normalize=True).plot(kind=\"pie\",autopct=\"%.2f\")"
      ],
      "execution_count": null,
      "outputs": [
        {
          "output_type": "execute_result",
          "data": {
            "text/plain": [
              "<matplotlib.axes._subplots.AxesSubplot at 0x7f90aeab8710>"
            ]
          },
          "metadata": {},
          "execution_count": 66
        },
        {
          "output_type": "display_data",
          "data": {
            "image/png": "[encoded data removed]",
            "text/plain": [
              "<Figure size 720x360 with 1 Axes>"
            ]
          },
          "metadata": {}
        }
      ]
    },
    {
      "cell_type": "markdown",
      "metadata": {
        "id": "9-yq-knx8yVo"
      },
      "source": [
        " ***Visualization using plots \\\n",
        " variance between group and within group***"
      ]
    },
    {
      "cell_type": "markdown",
      "metadata": {
        "id": "rUu7Rx4Us3Or"
      },
      "source": [
        "# **Feature selection**"
      ]
    },
    {
      "cell_type": "markdown",
      "metadata": {
        "id": "KQsD3K5ktAE7"
      },
      "source": [
        "***Statistical Test***\n",
        "\n",
        "---"
      ]
    },
    {
      "cell_type": "code",
      "metadata": {
        "id": "0BkL2qJZu-D1"
      },
      "source": [
        "import scipy.stats as stats"
      ],
      "execution_count": null,
      "outputs": []
    },
    {
      "cell_type": "markdown",
      "metadata": {
        "id": "TzfykafS6sS1"
      },
      "source": [
        "**CHISQURE TEST OF INDEPENDENCE** - CATEGORICAL VARIABLE AND CATEGORICAL VARIABLE\n",
        "\n",
        "---\n",
        "\n"
      ]
    },
    {
      "cell_type": "code",
      "metadata": {
        "id": "F-D48VzVu-Lu"
      },
      "source": [
        "columns=[]\n",
        "pvalue=[]\n",
        "significance=[]\n",
        "\n",
        "for i in cat_features.columns:\n",
        "  columns.append(i)\n",
        "  obs=pd.crosstab(df1_train[\"Surge_Pricing_Type\"],df1_train[i])\n",
        "  chi_stat,pval,df,expected=stats.chi2_contingency(obs)\n",
        "  pvalue.append(pval)\n",
        "  if(pval>0.05):\n",
        "    significance.append('Not Significant')\n",
        "  else:\n",
        "    significance.append('Significant')\n",
        "\n",
        "pd.DataFrame({\"COLUMNS\":columns,\"PVALUES\":pvalue,\"SIGNIFICANCE\":significance})"
      ],
      "execution_count": null,
      "outputs": []
    },
    {
      "cell_type": "markdown",
      "metadata": {
        "id": "DDYjt65s0rAp"
      },
      "source": [
        "***Inference***\n",
        "* 95% confidence level\n",
        "* Pval>0.05\n",
        "* Ha is accepted (Significant)\n",
        "* TYPE OF CAB ,CONFIDENCE_LIFE_STYLE_INDEX,DESTINATION TYPE ARE SIGNIFICANT WITH TARGET SURGE_TYPE_PRICING\n",
        "* GENDER IS NOT SIGNIFICANT"
      ]
    },
    {
      "cell_type": "markdown",
      "metadata": {
        "id": "CxFGIZ1l1pgm"
      },
      "source": [
        "**ANOVA TEST** - CATEOGORY VARIABLE (MORE THAN 2) AND  Numerical variables\n",
        "\n",
        "---\n"
      ]
    },
    {
      "cell_type": "code",
      "metadata": {
        "id": "Y47p_FTn0h_2"
      },
      "source": [
        "columns=[]\n",
        "pvalue=[]\n",
        "significance=[]\n",
        "\n",
        "for i in num_features.columns:\n",
        "  columns.append(i)\n",
        "  surge_1=df1_train[df1_train['Surge_Pricing_Type']==1][i]\n",
        "  surge_2=df1_train[df1_train['Surge_Pricing_Type']==2][i]\n",
        "  surge_3=df1_train[df1_train['Surge_Pricing_Type']==3][i]\n",
        " \n",
        "  fstat,pval = stats.f_oneway(surge_1,surge_2,surge_3)\n",
        "  pvalue.append(pval)\n",
        "  if(pval>0.05):\n",
        "    significance.append('Not Significant')\n",
        "  else:\n",
        "    significance.append('Significant')\n",
        "\n",
        "pd.DataFrame({\"COLUMNS\":columns,\"PVALUES\":pvalue,\"SIGNIFICANCE\":significance})\n",
        "  "
      ],
      "execution_count": null,
      "outputs": []
    },
    {
      "cell_type": "markdown",
      "metadata": {
        "id": "wgTnx6Y22uJ1"
      },
      "source": [
        "***Inference***\n",
        "* 95% confidence level\n",
        "* Pval>0.05\n",
        "* Ha is accepted (Significant)\n",
        "* TRIP_DISTANCE,CUSTOMER_SINCE_MONTHS,CUSTOMER_RATING,CANCELLATION_LAST1MONTH ARE SIGNIFICANT WITH TARGET SURGE_TYPE_PRICING\n"
      ]
    },
    {
      "cell_type": "markdown",
      "metadata": {
        "id": "gqYXVoHk9ApV"
      },
      "source": [
        "***Inference***\n",
        "\n",
        "* CLASS IS BALANCED "
      ]
    },
    {
      "cell_type": "code",
      "metadata": {
        "id": "1HFCBW7m8x9N"
      },
      "source": [
        "surge_1=df1_train[df1_train['Surge_Pricing_Type']==1][\"Life_Style_Index\"]\n",
        "surge_2=df1_train[df1_train['Surge_Pricing_Type']==2][\"Life_Style_Index\"]\n",
        "surge_3=df1_train[df1_train['Surge_Pricing_Type']==3][\"Life_Style_Index\"]\n",
        "\n",
        "sns.distplot(surge_1)\n",
        "sns.distplot(surge_2)\n",
        "sns.distplot(surge_3)\n",
        "plt.show()"
      ],
      "execution_count": null,
      "outputs": []
    },
    {
      "cell_type": "code",
      "metadata": {
        "id": "nZ2B4N0p9BQZ"
      },
      "source": [
        "surge_1=df1_train[df1_train['Surge_Pricing_Type']==1][\"Var3\"]\n",
        "surge_2=df1_train[df1_train['Surge_Pricing_Type']==2][\"Var3\"]\n",
        "surge_3=df1_train[df1_train['Surge_Pricing_Type']==3][\"Var3\"]\n",
        "\n",
        "sns.distplot(surge_1)\n",
        "sns.distplot(surge_2)\n",
        "sns.distplot(surge_3)\n",
        "plt.show()"
      ],
      "execution_count": null,
      "outputs": []
    },
    {
      "cell_type": "markdown",
      "metadata": {
        "id": "apF-yKms9MpV"
      },
      "source": [
        "**We can see from Plot that within the group and between the group means are almost equal.There is an overlap it is diffcult to predict by means of linear models. so we are going for tree based models.** ***bold text***"
      ]
    },
    {
      "cell_type": "markdown",
      "metadata": {
        "id": "3sBTlo157v3B"
      },
      "source": [
        "# **MODEL BUILDING**"
      ]
    },
    {
      "cell_type": "code",
      "metadata": {
        "id": "wx2orRnG_-15"
      },
      "source": [
        "x = df1_train.drop(columns = ['Surge_Pricing_Type'])\n",
        "y = df1_train[\"Surge_Pricing_Type\"]"
      ],
      "execution_count": null,
      "outputs": []
    },
    {
      "cell_type": "code",
      "metadata": {
        "id": "C6jyqdM_ARKG"
      },
      "source": [
        "from sklearn.model_selection import train_test_split"
      ],
      "execution_count": null,
      "outputs": []
    },
    {
      "cell_type": "code",
      "metadata": {
        "id": "Op4ejhJmAgmp"
      },
      "source": [
        "xtrain,xtest,ytrain,ytest = train_test_split(x,y,train_size = 0.7,random_state = 7)"
      ],
      "execution_count": null,
      "outputs": []
    },
    {
      "cell_type": "markdown",
      "metadata": {
        "id": "rKdrZAk47Pqn"
      },
      "source": [
        "# LOGISTIC REGRESSION"
      ]
    },
    {
      "cell_type": "code",
      "metadata": {
        "id": "5MygEJynBEG0"
      },
      "source": [
        "from sklearn.linear_model import LogisticRegression\n",
        "from sklearn.metrics import confusion_matrix,classification_report"
      ],
      "execution_count": null,
      "outputs": []
    },
    {
      "cell_type": "code",
      "metadata": {
        "id": "TcI7mhPhBgcC"
      },
      "source": [
        "import sklearn.metrics as metrics"
      ],
      "execution_count": null,
      "outputs": []
    },
    {
      "cell_type": "code",
      "metadata": {
        "id": "f1w3J1eHBKMb",
        "colab": {
          "base_uri": "https://localhost:8080/",
          "height": 337
        },
        "outputId": "45dccf1f-901c-4ef2-e3ce-adc0f4e7f172"
      },
      "source": [
        "lr = LogisticRegression()\n",
        "base = lr.fit(xtrain,ytrain)\n",
        "ypred = base.predict(xtest)"
      ],
      "execution_count": null,
      "outputs": [
        {
          "output_type": "error",
          "ename": "ValueError",
          "evalue": "ignored",
          "traceback": [
            "\u001b[0;31m---------------------------------------------------------------------------\u001b[0m",
            "\u001b[0;31mValueError\u001b[0m                                Traceback (most recent call last)",
            "\u001b[0;32m<ipython-input-155-f4a8917f0a44>\u001b[0m in \u001b[0;36m<module>\u001b[0;34m()\u001b[0m\n\u001b[1;32m      1\u001b[0m \u001b[0mlr\u001b[0m \u001b[0;34m=\u001b[0m \u001b[0mLogisticRegression\u001b[0m\u001b[0;34m(\u001b[0m\u001b[0;34m)\u001b[0m\u001b[0;34m\u001b[0m\u001b[0;34m\u001b[0m\u001b[0m\n\u001b[0;32m----> 2\u001b[0;31m \u001b[0mbase\u001b[0m \u001b[0;34m=\u001b[0m \u001b[0mlr\u001b[0m\u001b[0;34m.\u001b[0m\u001b[0mfit\u001b[0m\u001b[0;34m(\u001b[0m\u001b[0mxtrain\u001b[0m\u001b[0;34m,\u001b[0m\u001b[0mytrain\u001b[0m\u001b[0;34m)\u001b[0m\u001b[0;34m\u001b[0m\u001b[0;34m\u001b[0m\u001b[0m\n\u001b[0m\u001b[1;32m      3\u001b[0m \u001b[0mypred\u001b[0m \u001b[0;34m=\u001b[0m \u001b[0mbase\u001b[0m\u001b[0;34m.\u001b[0m\u001b[0mpredict\u001b[0m\u001b[0;34m(\u001b[0m\u001b[0mxtest\u001b[0m\u001b[0;34m)\u001b[0m\u001b[0;34m\u001b[0m\u001b[0;34m\u001b[0m\u001b[0m\n",
            "\u001b[0;32m/usr/local/lib/python3.7/dist-packages/sklearn/linear_model/_logistic.py\u001b[0m in \u001b[0;36mfit\u001b[0;34m(self, X, y, sample_weight)\u001b[0m\n\u001b[1;32m   1525\u001b[0m \u001b[0;34m\u001b[0m\u001b[0m\n\u001b[1;32m   1526\u001b[0m         X, y = check_X_y(X, y, accept_sparse='csr', dtype=_dtype, order=\"C\",\n\u001b[0;32m-> 1527\u001b[0;31m                          accept_large_sparse=solver != 'liblinear')\n\u001b[0m\u001b[1;32m   1528\u001b[0m         \u001b[0mcheck_classification_targets\u001b[0m\u001b[0;34m(\u001b[0m\u001b[0my\u001b[0m\u001b[0;34m)\u001b[0m\u001b[0;34m\u001b[0m\u001b[0;34m\u001b[0m\u001b[0m\n\u001b[1;32m   1529\u001b[0m         \u001b[0mself\u001b[0m\u001b[0;34m.\u001b[0m\u001b[0mclasses_\u001b[0m \u001b[0;34m=\u001b[0m \u001b[0mnp\u001b[0m\u001b[0;34m.\u001b[0m\u001b[0munique\u001b[0m\u001b[0;34m(\u001b[0m\u001b[0my\u001b[0m\u001b[0;34m)\u001b[0m\u001b[0;34m\u001b[0m\u001b[0;34m\u001b[0m\u001b[0m\n",
            "\u001b[0;32m/usr/local/lib/python3.7/dist-packages/sklearn/utils/validation.py\u001b[0m in \u001b[0;36mcheck_X_y\u001b[0;34m(X, y, accept_sparse, accept_large_sparse, dtype, order, copy, force_all_finite, ensure_2d, allow_nd, multi_output, ensure_min_samples, ensure_min_features, y_numeric, warn_on_dtype, estimator)\u001b[0m\n\u001b[1;32m    753\u001b[0m                     \u001b[0mensure_min_features\u001b[0m\u001b[0;34m=\u001b[0m\u001b[0mensure_min_features\u001b[0m\u001b[0;34m,\u001b[0m\u001b[0;34m\u001b[0m\u001b[0;34m\u001b[0m\u001b[0m\n\u001b[1;32m    754\u001b[0m                     \u001b[0mwarn_on_dtype\u001b[0m\u001b[0;34m=\u001b[0m\u001b[0mwarn_on_dtype\u001b[0m\u001b[0;34m,\u001b[0m\u001b[0;34m\u001b[0m\u001b[0;34m\u001b[0m\u001b[0m\n\u001b[0;32m--> 755\u001b[0;31m                     estimator=estimator)\n\u001b[0m\u001b[1;32m    756\u001b[0m     \u001b[0;32mif\u001b[0m \u001b[0mmulti_output\u001b[0m\u001b[0;34m:\u001b[0m\u001b[0;34m\u001b[0m\u001b[0;34m\u001b[0m\u001b[0m\n\u001b[1;32m    757\u001b[0m         y = check_array(y, 'csr', force_all_finite=True, ensure_2d=False,\n",
            "\u001b[0;32m/usr/local/lib/python3.7/dist-packages/sklearn/utils/validation.py\u001b[0m in \u001b[0;36mcheck_array\u001b[0;34m(array, accept_sparse, accept_large_sparse, dtype, order, copy, force_all_finite, ensure_2d, allow_nd, ensure_min_samples, ensure_min_features, warn_on_dtype, estimator)\u001b[0m\n\u001b[1;32m    529\u001b[0m                     \u001b[0marray\u001b[0m \u001b[0;34m=\u001b[0m \u001b[0marray\u001b[0m\u001b[0;34m.\u001b[0m\u001b[0mastype\u001b[0m\u001b[0;34m(\u001b[0m\u001b[0mdtype\u001b[0m\u001b[0;34m,\u001b[0m \u001b[0mcasting\u001b[0m\u001b[0;34m=\u001b[0m\u001b[0;34m\"unsafe\"\u001b[0m\u001b[0;34m,\u001b[0m \u001b[0mcopy\u001b[0m\u001b[0;34m=\u001b[0m\u001b[0;32mFalse\u001b[0m\u001b[0;34m)\u001b[0m\u001b[0;34m\u001b[0m\u001b[0;34m\u001b[0m\u001b[0m\n\u001b[1;32m    530\u001b[0m                 \u001b[0;32melse\u001b[0m\u001b[0;34m:\u001b[0m\u001b[0;34m\u001b[0m\u001b[0;34m\u001b[0m\u001b[0m\n\u001b[0;32m--> 531\u001b[0;31m                     \u001b[0marray\u001b[0m \u001b[0;34m=\u001b[0m \u001b[0mnp\u001b[0m\u001b[0;34m.\u001b[0m\u001b[0masarray\u001b[0m\u001b[0;34m(\u001b[0m\u001b[0marray\u001b[0m\u001b[0;34m,\u001b[0m \u001b[0morder\u001b[0m\u001b[0;34m=\u001b[0m\u001b[0morder\u001b[0m\u001b[0;34m,\u001b[0m \u001b[0mdtype\u001b[0m\u001b[0;34m=\u001b[0m\u001b[0mdtype\u001b[0m\u001b[0;34m)\u001b[0m\u001b[0;34m\u001b[0m\u001b[0;34m\u001b[0m\u001b[0m\n\u001b[0m\u001b[1;32m    532\u001b[0m             \u001b[0;32mexcept\u001b[0m \u001b[0mComplexWarning\u001b[0m\u001b[0;34m:\u001b[0m\u001b[0;34m\u001b[0m\u001b[0;34m\u001b[0m\u001b[0m\n\u001b[1;32m    533\u001b[0m                 raise ValueError(\"Complex data not supported\\n\"\n",
            "\u001b[0;32m/usr/local/lib/python3.7/dist-packages/numpy/core/_asarray.py\u001b[0m in \u001b[0;36masarray\u001b[0;34m(a, dtype, order)\u001b[0m\n\u001b[1;32m     81\u001b[0m \u001b[0;34m\u001b[0m\u001b[0m\n\u001b[1;32m     82\u001b[0m     \"\"\"\n\u001b[0;32m---> 83\u001b[0;31m     \u001b[0;32mreturn\u001b[0m \u001b[0marray\u001b[0m\u001b[0;34m(\u001b[0m\u001b[0ma\u001b[0m\u001b[0;34m,\u001b[0m \u001b[0mdtype\u001b[0m\u001b[0;34m,\u001b[0m \u001b[0mcopy\u001b[0m\u001b[0;34m=\u001b[0m\u001b[0;32mFalse\u001b[0m\u001b[0;34m,\u001b[0m \u001b[0morder\u001b[0m\u001b[0;34m=\u001b[0m\u001b[0morder\u001b[0m\u001b[0;34m)\u001b[0m\u001b[0;34m\u001b[0m\u001b[0;34m\u001b[0m\u001b[0m\n\u001b[0m\u001b[1;32m     84\u001b[0m \u001b[0;34m\u001b[0m\u001b[0m\n\u001b[1;32m     85\u001b[0m \u001b[0;34m\u001b[0m\u001b[0m\n",
            "\u001b[0;32m/usr/local/lib/python3.7/dist-packages/pandas/core/generic.py\u001b[0m in \u001b[0;36m__array__\u001b[0;34m(self, dtype)\u001b[0m\n\u001b[1;32m   1779\u001b[0m \u001b[0;34m\u001b[0m\u001b[0m\n\u001b[1;32m   1780\u001b[0m     \u001b[0;32mdef\u001b[0m \u001b[0m__array__\u001b[0m\u001b[0;34m(\u001b[0m\u001b[0mself\u001b[0m\u001b[0;34m,\u001b[0m \u001b[0mdtype\u001b[0m\u001b[0;34m=\u001b[0m\u001b[0;32mNone\u001b[0m\u001b[0;34m)\u001b[0m \u001b[0;34m->\u001b[0m \u001b[0mnp\u001b[0m\u001b[0;34m.\u001b[0m\u001b[0mndarray\u001b[0m\u001b[0;34m:\u001b[0m\u001b[0;34m\u001b[0m\u001b[0;34m\u001b[0m\u001b[0m\n\u001b[0;32m-> 1781\u001b[0;31m         \u001b[0;32mreturn\u001b[0m \u001b[0mnp\u001b[0m\u001b[0;34m.\u001b[0m\u001b[0masarray\u001b[0m\u001b[0;34m(\u001b[0m\u001b[0mself\u001b[0m\u001b[0;34m.\u001b[0m\u001b[0m_values\u001b[0m\u001b[0;34m,\u001b[0m \u001b[0mdtype\u001b[0m\u001b[0;34m=\u001b[0m\u001b[0mdtype\u001b[0m\u001b[0;34m)\u001b[0m\u001b[0;34m\u001b[0m\u001b[0;34m\u001b[0m\u001b[0m\n\u001b[0m\u001b[1;32m   1782\u001b[0m \u001b[0;34m\u001b[0m\u001b[0m\n\u001b[1;32m   1783\u001b[0m     \u001b[0;32mdef\u001b[0m \u001b[0m__array_wrap__\u001b[0m\u001b[0;34m(\u001b[0m\u001b[0mself\u001b[0m\u001b[0;34m,\u001b[0m \u001b[0mresult\u001b[0m\u001b[0;34m,\u001b[0m \u001b[0mcontext\u001b[0m\u001b[0;34m=\u001b[0m\u001b[0;32mNone\u001b[0m\u001b[0;34m)\u001b[0m\u001b[0;34m:\u001b[0m\u001b[0;34m\u001b[0m\u001b[0;34m\u001b[0m\u001b[0m\n",
            "\u001b[0;32m/usr/local/lib/python3.7/dist-packages/numpy/core/_asarray.py\u001b[0m in \u001b[0;36masarray\u001b[0;34m(a, dtype, order)\u001b[0m\n\u001b[1;32m     81\u001b[0m \u001b[0;34m\u001b[0m\u001b[0m\n\u001b[1;32m     82\u001b[0m     \"\"\"\n\u001b[0;32m---> 83\u001b[0;31m     \u001b[0;32mreturn\u001b[0m \u001b[0marray\u001b[0m\u001b[0;34m(\u001b[0m\u001b[0ma\u001b[0m\u001b[0;34m,\u001b[0m \u001b[0mdtype\u001b[0m\u001b[0;34m,\u001b[0m \u001b[0mcopy\u001b[0m\u001b[0;34m=\u001b[0m\u001b[0;32mFalse\u001b[0m\u001b[0;34m,\u001b[0m \u001b[0morder\u001b[0m\u001b[0;34m=\u001b[0m\u001b[0morder\u001b[0m\u001b[0;34m)\u001b[0m\u001b[0;34m\u001b[0m\u001b[0;34m\u001b[0m\u001b[0m\n\u001b[0m\u001b[1;32m     84\u001b[0m \u001b[0;34m\u001b[0m\u001b[0m\n\u001b[1;32m     85\u001b[0m \u001b[0;34m\u001b[0m\u001b[0m\n",
            "\u001b[0;31mValueError\u001b[0m: could not convert string to float: 'B'"
          ]
        }
      ]
    },
    {
      "cell_type": "code",
      "metadata": {
        "id": "-LYRzxKA7Xmk"
      },
      "source": [
        "ypred_train= base.predict(xtrain)"
      ],
      "execution_count": null,
      "outputs": []
    },
    {
      "cell_type": "code",
      "metadata": {
        "colab": {
          "base_uri": "https://localhost:8080/"
        },
        "id": "Kdo1499MlUhC",
        "outputId": "86f6285e-6fd4-4272-eec5-72bddbb8cfaf"
      },
      "source": [
        "confusion_matrix(ytest,ypred)"
      ],
      "execution_count": null,
      "outputs": [
        {
          "output_type": "execute_result",
          "data": {
            "text/plain": [
              "array([[ 5225,  2332,   562],\n",
              "       [  754, 13241,  3082],\n",
              "       [  740,  3490, 10073]])"
            ]
          },
          "metadata": {},
          "execution_count": 149
        }
      ]
    },
    {
      "cell_type": "code",
      "metadata": {
        "colab": {
          "base_uri": "https://localhost:8080/",
          "height": 320
        },
        "id": "tP5KO-SzlUmR",
        "outputId": "c854ac02-fc88-41fb-b7b7-a2b7e72fd09f"
      },
      "source": [
        "sns.heatmap(confusion_matrix(ytest,ypred),annot=True,cmap=\"Blues\")\n",
        "plt.show()"
      ],
      "execution_count": null,
      "outputs": [
        {
          "output_type": "display_data",
          "data": {
            "image/png": "[encoded data removed]",
            "text/plain": [
              "<Figure size 720x360 with 2 Axes>"
            ]
          },
          "metadata": {
            "needs_background": "light"
          }
        }
      ]
    },
    {
      "cell_type": "code",
      "metadata": {
        "colab": {
          "base_uri": "https://localhost:8080/"
        },
        "id": "vrE-O7OQ7Zd1",
        "outputId": "01afe893-da1e-4325-b655-cd38d8827868"
      },
      "source": [
        "print(metrics.classification_report(ytrain,ypred_train))"
      ],
      "execution_count": null,
      "outputs": [
        {
          "output_type": "stream",
          "name": "stdout",
          "text": [
            "              precision    recall  f1-score   support\n",
            "\n",
            "         1.0       0.78      0.63      0.70     19095\n",
            "         2.0       0.70      0.78      0.73     39651\n",
            "         3.0       0.73      0.71      0.72     33417\n",
            "\n",
            "    accuracy                           0.72     92163\n",
            "   macro avg       0.74      0.71      0.72     92163\n",
            "weighted avg       0.73      0.72      0.72     92163\n",
            "\n"
          ]
        }
      ]
    },
    {
      "cell_type": "code",
      "metadata": {
        "colab": {
          "base_uri": "https://localhost:8080/"
        },
        "id": "al_E5jBeCsSI",
        "outputId": "60c89a4e-3069-4900-f5fc-0f1a622158d1"
      },
      "source": [
        "print(metrics.classification_report(ytest,ypred))"
      ],
      "execution_count": null,
      "outputs": [
        {
          "output_type": "stream",
          "name": "stdout",
          "text": [
            "              precision    recall  f1-score   support\n",
            "\n",
            "         1.0       0.78      0.64      0.70      8119\n",
            "         2.0       0.69      0.78      0.73     17077\n",
            "         3.0       0.73      0.70      0.72     14303\n",
            "\n",
            "    accuracy                           0.72     39499\n",
            "   macro avg       0.74      0.71      0.72     39499\n",
            "weighted avg       0.73      0.72      0.72     39499\n",
            "\n"
          ]
        }
      ]
    },
    {
      "cell_type": "markdown",
      "metadata": {
        "id": "rFKy3Lf3ADQ_"
      },
      "source": [
        "# Logistic regression models struggles because it is a non linear model linear model find its difficult to predict."
      ]
    },
    {
      "cell_type": "markdown",
      "metadata": {
        "id": "hw7yr8En7-i4"
      },
      "source": [
        "# RANDOM FOREST"
      ]
    },
    {
      "cell_type": "code",
      "metadata": {
        "id": "CMTiiVIjCyCX"
      },
      "source": [
        "from sklearn.ensemble import RandomForestClassifier"
      ],
      "execution_count": null,
      "outputs": []
    },
    {
      "cell_type": "code",
      "metadata": {
        "id": "4sY5ksJgC7qe"
      },
      "source": [
        "rf = RandomForestClassifier()\n",
        "model_v1 = rf.fit(xtrain,ytrain)\n",
        "ypred = model_v1.predict(xtest)"
      ],
      "execution_count": null,
      "outputs": []
    },
    {
      "cell_type": "code",
      "metadata": {
        "id": "R8y-jGqm6uH1"
      },
      "source": [
        "ypred_train= model_v1.predict(xtrain)"
      ],
      "execution_count": null,
      "outputs": []
    },
    {
      "cell_type": "code",
      "metadata": {
        "colab": {
          "base_uri": "https://localhost:8080/"
        },
        "id": "9j3HIgrvlDzD",
        "outputId": "9ced97f8-7bdd-4a93-bdc5-d902dce340d2"
      },
      "source": [
        "confusion_matrix(ytest,ypred)"
      ],
      "execution_count": null,
      "outputs": [
        {
          "output_type": "execute_result",
          "data": {
            "text/plain": [
              "array([[ 5880,  1598,   641],\n",
              "       [  544, 14687,  1846],\n",
              "       [  765,  2559, 10979]])"
            ]
          },
          "metadata": {},
          "execution_count": 697
        }
      ]
    },
    {
      "cell_type": "code",
      "metadata": {
        "colab": {
          "base_uri": "https://localhost:8080/",
          "height": 320
        },
        "id": "0SQvSlXJknjg",
        "outputId": "ccab0d4a-077b-4bb7-cece-8da2a846e2c1"
      },
      "source": [
        "sns.heatmap(confusion_matrix(ytest,ypred),annot=True,cmap=\"Blues\")\n",
        "plt.show()"
      ],
      "execution_count": null,
      "outputs": [
        {
          "output_type": "display_data",
          "data": {
            "image/png": "[encoded data removed]",
            "text/plain": [
              "<Figure size 720x360 with 2 Axes>"
            ]
          },
          "metadata": {
            "needs_background": "light"
          }
        }
      ]
    },
    {
      "cell_type": "code",
      "metadata": {
        "colab": {
          "base_uri": "https://localhost:8080/"
        },
        "id": "YcFQrxGI6yjY",
        "outputId": "3f4af122-936a-4217-d94e-bc3d6bb4adc6"
      },
      "source": [
        "print(metrics.classification_report(ytrain,ypred_train))"
      ],
      "execution_count": null,
      "outputs": [
        {
          "output_type": "stream",
          "name": "stdout",
          "text": [
            "              precision    recall  f1-score   support\n",
            "\n",
            "         1.0       1.00      1.00      1.00     19095\n",
            "         2.0       1.00      1.00      1.00     39651\n",
            "         3.0       1.00      1.00      1.00     33417\n",
            "\n",
            "    accuracy                           1.00     92163\n",
            "   macro avg       1.00      1.00      1.00     92163\n",
            "weighted avg       1.00      1.00      1.00     92163\n",
            "\n"
          ]
        }
      ]
    },
    {
      "cell_type": "code",
      "metadata": {
        "colab": {
          "base_uri": "https://localhost:8080/"
        },
        "id": "OAOIl-LSDHFb",
        "outputId": "72126f48-6c66-4cc5-8242-e60e02690c94"
      },
      "source": [
        "print(metrics.classification_report(ytest,ypred))"
      ],
      "execution_count": null,
      "outputs": [
        {
          "output_type": "stream",
          "name": "stdout",
          "text": [
            "              precision    recall  f1-score   support\n",
            "\n",
            "         1.0       0.82      0.72      0.77      8119\n",
            "         2.0       0.78      0.86      0.82     17077\n",
            "         3.0       0.82      0.77      0.79     14303\n",
            "\n",
            "    accuracy                           0.80     39499\n",
            "   macro avg       0.80      0.78      0.79     39499\n",
            "weighted avg       0.80      0.80      0.80     39499\n",
            "\n"
          ]
        }
      ]
    },
    {
      "cell_type": "markdown",
      "metadata": {
        "id": "_nVJMIa9Azsb"
      },
      "source": [
        "# Knearest neighbors"
      ]
    },
    {
      "cell_type": "code",
      "metadata": {
        "id": "b6n2LnIyAzLe"
      },
      "source": [
        "from sklearn.neighbors import KNeighborsClassifier"
      ],
      "execution_count": null,
      "outputs": []
    },
    {
      "cell_type": "code",
      "metadata": {
        "id": "4ZiIkpE2AyZP"
      },
      "source": [
        "knn = KNeighborsClassifier()\n",
        "base = knn.fit(xtrain,ytrain)\n",
        "ypred = base.predict(xtest)"
      ],
      "execution_count": null,
      "outputs": []
    },
    {
      "cell_type": "code",
      "metadata": {
        "id": "u2eZ1YTSA71m"
      },
      "source": [
        "ypred_train=base.predict(xtrain)"
      ],
      "execution_count": null,
      "outputs": []
    },
    {
      "cell_type": "code",
      "metadata": {
        "colab": {
          "base_uri": "https://localhost:8080/",
          "height": 320
        },
        "id": "dRsJbct5A8CA",
        "outputId": "240e9bc2-97fc-4af5-c2cd-22d0603f9cf7"
      },
      "source": [
        "sns.heatmap(confusion_matrix(ytest,ypred),annot=True,cmap=\"Blues\")\n",
        "plt.show()"
      ],
      "execution_count": null,
      "outputs": [
        {
          "output_type": "display_data",
          "data": {
            "image/png": "[encoded data removed]",
            "text/plain": [
              "<Figure size 720x360 with 2 Axes>"
            ]
          },
          "metadata": {
            "needs_background": "light"
          }
        }
      ]
    },
    {
      "cell_type": "code",
      "metadata": {
        "colab": {
          "base_uri": "https://localhost:8080/"
        },
        "id": "3uhJjx6gBFvZ",
        "outputId": "faa0a80b-59a3-4d2a-d664-f20ab8a244a0"
      },
      "source": [
        "print(metrics.classification_report(ytrain,ypred_train))"
      ],
      "execution_count": null,
      "outputs": [
        {
          "output_type": "stream",
          "name": "stdout",
          "text": [
            "              precision    recall  f1-score   support\n",
            "\n",
            "         1.0       0.79      0.73      0.76     19095\n",
            "         2.0       0.79      0.85      0.82     39651\n",
            "         3.0       0.84      0.80      0.82     33417\n",
            "\n",
            "    accuracy                           0.81     92163\n",
            "   macro avg       0.81      0.79      0.80     92163\n",
            "weighted avg       0.81      0.81      0.81     92163\n",
            "\n"
          ]
        }
      ]
    },
    {
      "cell_type": "code",
      "metadata": {
        "colab": {
          "base_uri": "https://localhost:8080/"
        },
        "id": "OMCfOA-YBF0o",
        "outputId": "2a162f8b-17fd-4239-e3b6-0072d0e82dfa"
      },
      "source": [
        "print(metrics.classification_report(ytest,ypred))"
      ],
      "execution_count": null,
      "outputs": [
        {
          "output_type": "stream",
          "name": "stdout",
          "text": [
            "              precision    recall  f1-score   support\n",
            "\n",
            "         1.0       0.73      0.69      0.71      8119\n",
            "         2.0       0.75      0.80      0.77     17077\n",
            "         3.0       0.77      0.74      0.75     14303\n",
            "\n",
            "    accuracy                           0.75     39499\n",
            "   macro avg       0.75      0.74      0.74     39499\n",
            "weighted avg       0.75      0.75      0.75     39499\n",
            "\n"
          ]
        }
      ]
    },
    {
      "cell_type": "code",
      "metadata": {
        "id": "5wxdv2xYBF99"
      },
      "source": [
        "# test accuracy is poor in Knn due to effect of outliers."
      ],
      "execution_count": null,
      "outputs": []
    },
    {
      "cell_type": "markdown",
      "metadata": {
        "id": "m8gJaW_SBZgL"
      },
      "source": [
        "# Decision tree"
      ]
    },
    {
      "cell_type": "code",
      "metadata": {
        "id": "4JT0VBXcBqy_"
      },
      "source": [
        "from sklearn.tree import DecisionTreeClassifier"
      ],
      "execution_count": null,
      "outputs": []
    },
    {
      "cell_type": "code",
      "metadata": {
        "id": "hbtmvd3gBciN"
      },
      "source": [
        "dt = DecisionTreeClassifier(max_depth=5)\n",
        "model_v6 = dt.fit(xtrain,ytrain)\n",
        "ypred = model_v6.predict(xtest)"
      ],
      "execution_count": null,
      "outputs": []
    },
    {
      "cell_type": "code",
      "metadata": {
        "id": "2LKOcQBmBcql"
      },
      "source": [
        "ypred_train=model_v6.predict(xtrain)"
      ],
      "execution_count": null,
      "outputs": []
    },
    {
      "cell_type": "code",
      "metadata": {
        "colab": {
          "base_uri": "https://localhost:8080/",
          "height": 320
        },
        "id": "nOz60PJoBctq",
        "outputId": "4656598a-1822-409b-885d-6e7cadbcab5a"
      },
      "source": [
        "sns.heatmap(confusion_matrix(ytest,ypred),annot=True,cmap=\"Blues\")\n",
        "plt.show()"
      ],
      "execution_count": null,
      "outputs": [
        {
          "output_type": "display_data",
          "data": {
            "image/png": "[encoded data removed]",
            "text/plain": [
              "<Figure size 720x360 with 2 Axes>"
            ]
          },
          "metadata": {
            "needs_background": "light"
          }
        }
      ]
    },
    {
      "cell_type": "code",
      "metadata": {
        "colab": {
          "base_uri": "https://localhost:8080/"
        },
        "id": "SUQHZkRYBcxk",
        "outputId": "ccba499c-8d59-4014-85e3-63435f26cac4"
      },
      "source": [
        "print(metrics.classification_report(ytrain,ypred_train))"
      ],
      "execution_count": null,
      "outputs": [
        {
          "output_type": "stream",
          "name": "stdout",
          "text": [
            "              precision    recall  f1-score   support\n",
            "\n",
            "         1.0       0.75      0.71      0.73     19095\n",
            "         2.0       0.79      0.81      0.80     39651\n",
            "         3.0       0.78      0.78      0.78     33417\n",
            "\n",
            "    accuracy                           0.78     92163\n",
            "   macro avg       0.77      0.77      0.77     92163\n",
            "weighted avg       0.78      0.78      0.78     92163\n",
            "\n"
          ]
        }
      ]
    },
    {
      "cell_type": "code",
      "metadata": {
        "colab": {
          "base_uri": "https://localhost:8080/"
        },
        "id": "87RYOrJfBc2P",
        "outputId": "030a82f3-44ff-46f6-a001-cce1c124c5e0"
      },
      "source": [
        "print(metrics.classification_report(ytest,ypred))"
      ],
      "execution_count": null,
      "outputs": [
        {
          "output_type": "stream",
          "name": "stdout",
          "text": [
            "              precision    recall  f1-score   support\n",
            "\n",
            "         1.0       0.75      0.71      0.73      8119\n",
            "         2.0       0.80      0.81      0.80     17077\n",
            "         3.0       0.78      0.78      0.78     14303\n",
            "\n",
            "    accuracy                           0.78     39499\n",
            "   macro avg       0.77      0.77      0.77     39499\n",
            "weighted avg       0.78      0.78      0.78     39499\n",
            "\n"
          ]
        }
      ]
    },
    {
      "cell_type": "code",
      "metadata": {
        "id": "a1eteLgYl3-9"
      },
      "source": [
        "# The class weight is imbalanced , hence we are proceeding with smote over sampling technique"
      ],
      "execution_count": null,
      "outputs": []
    },
    {
      "cell_type": "markdown",
      "metadata": {
        "id": "NzvZ9LWMgQEN"
      },
      "source": [
        "# Main Model Building"
      ]
    },
    {
      "cell_type": "markdown",
      "metadata": {
        "id": "oPrDTG79gtgh"
      },
      "source": [
        "Description:\n",
        "As we move forward , we are mainly focusing on the metric f1-weighted and ways to improve it. The main reason for choosing this metric is because this is the weighted variant of f1-score which is the combination precision and recall which makes the score stable and reliable. We will do two main techniques to improve the f1-weighted score -  GridSearchCV and Cross-Validation"
      ]
    },
    {
      "cell_type": "markdown",
      "metadata": {
        "id": "hNNKf96ugdcA"
      },
      "source": [
        "**Base Model (KNN)**"
      ]
    },
    {
      "cell_type": "code",
      "metadata": {
        "id": "MkN3BQZ6ia8H"
      },
      "source": [
        "from sklearn.model_selection import GridSearchCV,cross_val_score,KFold\n",
        "from sklearn.neighbors import KNeighborsClassifier"
      ],
      "execution_count": null,
      "outputs": []
    },
    {
      "cell_type": "code",
      "metadata": {
        "id": "LCpHJ4iTgqsJ"
      },
      "source": [
        "knn = KNeighborsClassifier()\n",
        "base_model = knn.fit(xtrain,ytrain)\n",
        "ypred = base_model.predict(xtest)"
      ],
      "execution_count": null,
      "outputs": []
    },
    {
      "cell_type": "code",
      "metadata": {
        "colab": {
          "base_uri": "https://localhost:8080/"
        },
        "id": "oTnxPZVuySov",
        "outputId": "012f3bbd-2d8b-4fb2-93df-58d45f4ebaf5"
      },
      "source": [
        "confusion_matrix(ytest,ypred)"
      ],
      "execution_count": null,
      "outputs": [
        {
          "output_type": "execute_result",
          "data": {
            "text/plain": [
              "array([[ 3802,  2658,   741],\n",
              "       [ 2501, 10613,  1755],\n",
              "       [ 1987,  3114,  6550]])"
            ]
          },
          "metadata": {},
          "execution_count": 190
        }
      ]
    },
    {
      "cell_type": "code",
      "metadata": {
        "colab": {
          "base_uri": "https://localhost:8080/",
          "height": 337
        },
        "id": "mootRDhUySzu",
        "outputId": "27ae4ff4-93be-4491-98f1-b2e54d975120"
      },
      "source": [
        "sns.heatmap(confusion_matrix(ytest,ypred),annot=True,cmap=\"Blues\")"
      ],
      "execution_count": null,
      "outputs": [
        {
          "output_type": "execute_result",
          "data": {
            "text/plain": [
              "<matplotlib.axes._subplots.AxesSubplot at 0x7f59f1a04090>"
            ]
          },
          "metadata": {},
          "execution_count": 191
        },
        {
          "output_type": "display_data",
          "data": {
            "image/png": "[encoded data removed]",
            "text/plain": [
              "<Figure size 720x360 with 2 Axes>"
            ]
          },
          "metadata": {
            "needs_background": "light"
          }
        }
      ]
    },
    {
      "cell_type": "code",
      "metadata": {
        "colab": {
          "base_uri": "https://localhost:8080/"
        },
        "id": "IulWTYQ_iUC_",
        "outputId": "c6cd3c7f-f93e-4cb0-c477-1c488b05b38a"
      },
      "source": [
        "print(metrics.classification_report(ytest,ypred))"
      ],
      "execution_count": null,
      "outputs": [
        {
          "output_type": "stream",
          "name": "stdout",
          "text": [
            "              precision    recall  f1-score   support\n",
            "\n",
            "         1.0       0.46      0.53      0.49      7201\n",
            "         2.0       0.65      0.71      0.68     14869\n",
            "         3.0       0.72      0.56      0.63     11651\n",
            "\n",
            "    accuracy                           0.62     33721\n",
            "   macro avg       0.61      0.60      0.60     33721\n",
            "weighted avg       0.63      0.62      0.62     33721\n",
            "\n"
          ]
        }
      ]
    },
    {
      "cell_type": "code",
      "metadata": {
        "colab": {
          "base_uri": "https://localhost:8080/"
        },
        "id": "6hahp06xkihr",
        "outputId": "4adb8d6d-311d-4e0e-e006-082ac2588388"
      },
      "source": [
        "kf = KFold(n_splits=5,shuffle=True,random_state=7)\n",
        "scores = cross_val_score(estimator=knn,X=x,y=y,scoring='f1_weighted',cv=kf)\n",
        "score_knn = np.mean(scores)\n",
        "bias_knn = 1-np.mean(score_knn)\n",
        "var_knn = np.std(score_knn)/np.mean(score_knn)\n",
        "\n",
        "print('Average f1-weighted score = ',np.mean(score_knn))\n",
        "print('Bias error(in %) = ',bias_knn * 100 , '%')\n",
        "print('Variance error(in %) = ',var_knn * 100,'%')"
      ],
      "execution_count": null,
      "outputs": [
        {
          "output_type": "stream",
          "name": "stdout",
          "text": [
            "Average f1-weighted score =  0.7491425413096751\n",
            "Bias error(in %) =  25.085745869032493 %\n",
            "Variance error(in %) =  0.0 %\n"
          ]
        }
      ]
    },
    {
      "cell_type": "markdown",
      "metadata": {
        "id": "CNq6Bd_wlZwM"
      },
      "source": [
        "# Standalone model - 1  Decision Tree"
      ]
    },
    {
      "cell_type": "code",
      "metadata": {
        "colab": {
          "base_uri": "https://localhost:8080/"
        },
        "id": "hU0BVCIHqeBj",
        "outputId": "dad77b27-04bf-4acb-b9c8-b7fe97528e3a"
      },
      "source": [
        "dt = DecisionTreeClassifier()\n",
        "kf = KFold(n_splits=5,shuffle=True,random_state=7)\n",
        "scores = cross_val_score(estimator=dt,X=x,y=y,scoring='f1_weighted',cv=kf)\n",
        "score_dt = np.mean(scores)\n",
        "bias_dt = 1-np.mean(score_dt)\n",
        "var_dt = np.std(score_dt)/np.mean(score_dt)\n",
        "\n",
        "print('Average f1-weighted score = ',np.mean(score_dt))\n",
        "print('Bias error(in %) = ',bias_dt * 100 , '%')\n",
        "print('Variance error(in %) = ',var_dt * 100,'%')"
      ],
      "execution_count": null,
      "outputs": [
        {
          "output_type": "stream",
          "name": "stdout",
          "text": [
            "Average f1-weighted score =  0.7135922039590084\n",
            "Bias error(in %) =  28.640779604099166 %\n",
            "Variance error(in %) =  0.0 %\n"
          ]
        }
      ]
    },
    {
      "cell_type": "markdown",
      "metadata": {
        "id": "Q3J1K0z_rOxd"
      },
      "source": [
        "# Ensemble Model - 1 Random Forest "
      ]
    },
    {
      "cell_type": "code",
      "metadata": {
        "colab": {
          "base_uri": "https://localhost:8080/"
        },
        "id": "TWX0zXrBrp-y",
        "outputId": "278fc75e-0155-46c2-a375-277733603723"
      },
      "source": [
        "rf = RandomForestClassifier()\n",
        "kf = KFold(n_splits=5,shuffle=True,random_state=7)\n",
        "scores = cross_val_score(estimator=rf,X=x,y=y,scoring='f1_weighted',cv=kf)\n",
        "score_rf = np.mean(scores)\n",
        "bias_rf = 1-np.mean(score_rf)\n",
        "var_rf = np.std(score_rf)/np.mean(score_rf)\n",
        "\n",
        "print('Average f1-weighted score = ',np.mean(score_rf))\n",
        "print('Bias error(in %) = ',bias_rf * 100 , '%')\n",
        "print('Variance error(in %) = ',var_rf * 100,'%')"
      ],
      "execution_count": null,
      "outputs": [
        {
          "output_type": "stream",
          "name": "stdout",
          "text": [
            "Average f1-weighted score =  0.8037827341172183\n",
            "Bias error(in %) =  19.621726588278165 %\n",
            "Variance error(in %) =  0.0 %\n"
          ]
        }
      ]
    },
    {
      "cell_type": "markdown",
      "metadata": {
        "id": "h-ZK2jeHshrN"
      },
      "source": [
        "# Ensemble Model - 2 AdaBoosting"
      ]
    },
    {
      "cell_type": "code",
      "metadata": {
        "id": "1lBsUGyGr99Z"
      },
      "source": [
        "from sklearn.ensemble import AdaBoostClassifier"
      ],
      "execution_count": null,
      "outputs": []
    },
    {
      "cell_type": "code",
      "metadata": {
        "colab": {
          "base_uri": "https://localhost:8080/"
        },
        "id": "UxnJW8vHs2c-",
        "outputId": "626ffe21-568e-40e6-b78f-b0cba489f2cc"
      },
      "source": [
        "ada = AdaBoostClassifier()\n",
        "kf = KFold(n_splits=5,shuffle=True,random_state=7)\n",
        "scores = cross_val_score(estimator=ada,X=x,y=y,scoring='f1_weighted',cv=kf)\n",
        "score_ada = np.mean(scores)\n",
        "bias_ada = 1-np.mean(score_ada)\n",
        "var_ada = np.std(score_ada)/np.mean(score_ada)\n",
        "\n",
        "print('Average f1-weighted score = ',np.mean(score_ada))\n",
        "print('Bias error(in %) = ',bias_ada * 100 , '%')\n",
        "print('Variance error(in %) = ',var_ada * 100,'%')"
      ],
      "execution_count": null,
      "outputs": [
        {
          "output_type": "stream",
          "name": "stdout",
          "text": [
            "Average f1-weighted score =  0.786245108479534\n",
            "Bias error(in %) =  21.3754891520466 %\n",
            "Variance error(in %) =  0.0 %\n"
          ]
        }
      ]
    },
    {
      "cell_type": "markdown",
      "metadata": {
        "id": "Hj0PYMP2tPkf"
      },
      "source": [
        "# Ensemble Model - 3 XGBoost"
      ]
    },
    {
      "cell_type": "code",
      "metadata": {
        "colab": {
          "base_uri": "https://localhost:8080/"
        },
        "id": "8-cfcLFqtgJr",
        "outputId": "fc20a47a-23f7-493c-a0eb-2e5a8214d9ab"
      },
      "source": [
        "xgb = XGBClassifier()\n",
        "kf = KFold(n_splits=5,shuffle=True,random_state=7)\n",
        "scores = cross_val_score(estimator=xgb,X=x,y=y,scoring='f1_weighted',cv=kf)\n",
        "score_xgb = np.mean(scores)\n",
        "bias_xgb = 1-np.mean(score_xgb)\n",
        "var_xgb = np.std(score_xgb)/np.mean(score_xgb)\n",
        "\n",
        "print('Average f1-weighted score = ',np.mean(score_xgb))\n",
        "print('Bias error(in %) = ',bias_xgb * 100 , '%')\n",
        "print('Variance error(in %) = ',var_xgb * 100,'%')"
      ],
      "execution_count": null,
      "outputs": [
        {
          "output_type": "stream",
          "name": "stdout",
          "text": [
            "Average f1-weighted score =  0.8010246573656294\n",
            "Bias error(in %) =  19.897534263437056 %\n",
            "Variance error(in %) =  0.0 %\n"
          ]
        }
      ]
    },
    {
      "cell_type": "markdown",
      "metadata": {
        "id": "GfGtCR2mtzBJ"
      },
      "source": [
        "# Collecting the results for the models we done so far"
      ]
    },
    {
      "cell_type": "code",
      "metadata": {
        "id": "BoXrtPc8u6Ae"
      },
      "source": [
        "res = pd.DataFrame({'Models':['KNN','DecisionTree','RandomForest','AdaBoosting','XGBoost'],\n",
        "                    'F1-Weighted':[score_knn,score_dt,score_rf,score_ada,score_xgb],\n",
        "                    'Bias Error':[bias_knn,bias_dt,bias_rf,bias_ada,bias_xgb],\n",
        "                    'Variance Error':[var_knn,var_dt,var_rf,var_ada,var_xgb]})"
      ],
      "execution_count": null,
      "outputs": []
    },
    {
      "cell_type": "code",
      "metadata": {
        "colab": {
          "base_uri": "https://localhost:8080/",
          "height": 204
        },
        "id": "mLRMcMgnxZTF",
        "outputId": "b76c14f8-abf9-4b0b-f58c-7f35b2313fd4"
      },
      "source": [
        "res"
      ],
      "execution_count": null,
      "outputs": [
        {
          "output_type": "execute_result",
          "data": {
            "text/html": [
              "<div>\n",
              "<style scoped>\n",
              "    .dataframe tbody tr th:only-of-type {\n",
              "        vertical-align: middle;\n",
              "    }\n",
              "\n",
              "    .dataframe tbody tr th {\n",
              "        vertical-align: top;\n",
              "    }\n",
              "\n",
              "    .dataframe thead th {\n",
              "        text-align: right;\n",
              "    }\n",
              "</style>\n",
              "<table border=\"1\" class=\"dataframe\">\n",
              "  <thead>\n",
              "    <tr style=\"text-align: right;\">\n",
              "      <th></th>\n",
              "      <th>Models</th>\n",
              "      <th>F1-Weighted</th>\n",
              "      <th>Bias Error</th>\n",
              "      <th>Variance Error</th>\n",
              "    </tr>\n",
              "  </thead>\n",
              "  <tbody>\n",
              "    <tr>\n",
              "      <th>0</th>\n",
              "      <td>KNN</td>\n",
              "      <td>0.749143</td>\n",
              "      <td>0.250857</td>\n",
              "      <td>0.0</td>\n",
              "    </tr>\n",
              "    <tr>\n",
              "      <th>1</th>\n",
              "      <td>DecisionTree</td>\n",
              "      <td>0.713592</td>\n",
              "      <td>0.286408</td>\n",
              "      <td>0.0</td>\n",
              "    </tr>\n",
              "    <tr>\n",
              "      <th>2</th>\n",
              "      <td>RandomForest</td>\n",
              "      <td>0.803783</td>\n",
              "      <td>0.196217</td>\n",
              "      <td>0.0</td>\n",
              "    </tr>\n",
              "    <tr>\n",
              "      <th>3</th>\n",
              "      <td>AdaBoosting</td>\n",
              "      <td>0.786245</td>\n",
              "      <td>0.213755</td>\n",
              "      <td>0.0</td>\n",
              "    </tr>\n",
              "    <tr>\n",
              "      <th>4</th>\n",
              "      <td>XGBoost</td>\n",
              "      <td>0.801025</td>\n",
              "      <td>0.198975</td>\n",
              "      <td>0.0</td>\n",
              "    </tr>\n",
              "  </tbody>\n",
              "</table>\n",
              "</div>"
            ],
            "text/plain": [
              "         Models  F1-Weighted  Bias Error  Variance Error\n",
              "0           KNN     0.749143    0.250857             0.0\n",
              "1  DecisionTree     0.713592    0.286408             0.0\n",
              "2  RandomForest     0.803783    0.196217             0.0\n",
              "3   AdaBoosting     0.786245    0.213755             0.0\n",
              "4       XGBoost     0.801025    0.198975             0.0"
            ]
          },
          "metadata": {},
          "execution_count": 139
        }
      ]
    },
    {
      "cell_type": "markdown",
      "metadata": {
        "id": "T7aMAcIZwwII"
      },
      "source": [
        "# Stacking and Bagging models\n",
        "\n",
        "Description :\n",
        "\n",
        "We will stacking 3 of the best models and find out the f1_weighted score and then out of that we will do bagging of the single best model"
      ]
    },
    {
      "cell_type": "code",
      "metadata": {
        "id": "-dL4i6sEwiLN"
      },
      "source": [
        "from sklearn.ensemble import StackingClassifier,BaggingClassifier"
      ],
      "execution_count": null,
      "outputs": []
    },
    {
      "cell_type": "code",
      "metadata": {
        "colab": {
          "base_uri": "https://localhost:8080/"
        },
        "id": "srQ-KzgRxK2i",
        "outputId": "738770cc-86a3-4121-e42d-0a7ae156eab4"
      },
      "source": [
        "est = [('RandomForest',rf),('AdaBoost',ada),('XGBoost',xgb)]\n",
        "stack = StackingClassifier(estimators=est,final_estimator = xgb,cv = 5)\n",
        "kf = KFold(n_splits=5,shuffle=True,random_state=7)\n",
        "scores = cross_val_score(estimator=stack,X=x,y=y,scoring='f1_weighted',cv=kf)\n",
        "score_stack = np.mean(scores)\n",
        "bias_stack = 1-np.mean(score_stack)\n",
        "var_stack = np.std(score_stack)/np.mean(score_stack)\n",
        "\n",
        "print('Average f1-weighted score = ',np.mean(score_stack))\n",
        "print('Bias error(in %) = ',bias_stack * 100 , '%')\n",
        "print('Variance error(in %) = ',var_stack * 100,'%')"
      ],
      "execution_count": null,
      "outputs": [
        {
          "output_type": "stream",
          "name": "stdout",
          "text": [
            "Average f1-weighted score =  0.8067074633685383\n",
            "Bias error(in %) =  19.329253663146172 %\n",
            "Variance error(in %) =  0.0 %\n"
          ]
        }
      ]
    },
    {
      "cell_type": "code",
      "metadata": {
        "id": "jRjyKvUcy1__",
        "colab": {
          "base_uri": "https://localhost:8080/"
        },
        "outputId": "f5b8dd55-678f-48eb-d75a-68c7619a0f66"
      },
      "source": [
        "bag = BaggingClassifier(base_estimator=stack)\n",
        "bag = StackingClassifier(estimators=est,final_estimator = xgb,cv = 5)\n",
        "kf = KFold(n_splits=5,shuffle=True,random_state=7)\n",
        "scores = cross_val_score(estimator=bag,X=x,y=y,scoring='f1_weighted',cv=kf)\n",
        "score_bag = np.mean(scores)\n",
        "bias_bag = 1-np.mean(score_bag)\n",
        "var_bag = np.std(score_bag)/np.mean(score_bag)\n",
        "\n",
        "print('Average f1-weighted score = ',np.mean(scores))\n",
        "print('Bias error(in %) = ',bias_bag * 100 , '%')\n",
        "print('Variance error(in %) = ',var_bag * 100,'%')"
      ],
      "execution_count": null,
      "outputs": [
        {
          "output_type": "stream",
          "name": "stdout",
          "text": [
            "Average f1-weighted score =  0.8066626879618257\n",
            "Bias error(in %) =  19.33373120381743 %\n",
            "Variance error(in %) =  0.0 %\n"
          ]
        }
      ]
    },
    {
      "cell_type": "markdown",
      "metadata": {
        "id": "Hk8cKsi6SmK_"
      },
      "source": [
        "# Final summary of the data"
      ]
    },
    {
      "cell_type": "code",
      "metadata": {
        "id": "T88zz_WHfLVx"
      },
      "source": [
        "final_res = pd.DataFrame({'Models':['KNN','DecisionTree','RandomForest','AdaBoosting','XGBoost','Stacking','Bagging'],\n",
        "                    'F1-Weighted':[score_knn,score_dt,score_rf,score_ada,score_xgb,score_stack,score_bag],\n",
        "                    'Bias Error':[bias_knn,bias_dt,bias_rf,bias_ada,bias_xgb,bias_stack,bias_bag],\n",
        "                    'Variance Error':[var_knn,var_dt,var_rf,var_ada,var_xgb,var_stack,var_bag]})"
      ],
      "execution_count": null,
      "outputs": []
    },
    {
      "cell_type": "code",
      "metadata": {
        "colab": {
          "base_uri": "https://localhost:8080/",
          "height": 266
        },
        "id": "oQ74R7oTfeAB",
        "outputId": "5a919ea8-9324-4a9b-df39-a20798f8194c"
      },
      "source": [
        "final_res.sort_values('F1-Weighted',ascending=False)"
      ],
      "execution_count": null,
      "outputs": [
        {
          "output_type": "execute_result",
          "data": {
            "text/html": [
              "<div>\n",
              "<style scoped>\n",
              "    .dataframe tbody tr th:only-of-type {\n",
              "        vertical-align: middle;\n",
              "    }\n",
              "\n",
              "    .dataframe tbody tr th {\n",
              "        vertical-align: top;\n",
              "    }\n",
              "\n",
              "    .dataframe thead th {\n",
              "        text-align: right;\n",
              "    }\n",
              "</style>\n",
              "<table border=\"1\" class=\"dataframe\">\n",
              "  <thead>\n",
              "    <tr style=\"text-align: right;\">\n",
              "      <th></th>\n",
              "      <th>Models</th>\n",
              "      <th>F1-Weighted</th>\n",
              "      <th>Bias Error</th>\n",
              "      <th>Variance Error</th>\n",
              "    </tr>\n",
              "  </thead>\n",
              "  <tbody>\n",
              "    <tr>\n",
              "      <th>5</th>\n",
              "      <td>Stacking</td>\n",
              "      <td>0.806707</td>\n",
              "      <td>0.193293</td>\n",
              "      <td>0.0</td>\n",
              "    </tr>\n",
              "    <tr>\n",
              "      <th>6</th>\n",
              "      <td>Bagging</td>\n",
              "      <td>0.806663</td>\n",
              "      <td>0.193337</td>\n",
              "      <td>0.0</td>\n",
              "    </tr>\n",
              "    <tr>\n",
              "      <th>2</th>\n",
              "      <td>RandomForest</td>\n",
              "      <td>0.803783</td>\n",
              "      <td>0.196217</td>\n",
              "      <td>0.0</td>\n",
              "    </tr>\n",
              "    <tr>\n",
              "      <th>4</th>\n",
              "      <td>XGBoost</td>\n",
              "      <td>0.801025</td>\n",
              "      <td>0.198975</td>\n",
              "      <td>0.0</td>\n",
              "    </tr>\n",
              "    <tr>\n",
              "      <th>3</th>\n",
              "      <td>AdaBoosting</td>\n",
              "      <td>0.786245</td>\n",
              "      <td>0.213755</td>\n",
              "      <td>0.0</td>\n",
              "    </tr>\n",
              "    <tr>\n",
              "      <th>0</th>\n",
              "      <td>KNN</td>\n",
              "      <td>0.749143</td>\n",
              "      <td>0.250857</td>\n",
              "      <td>0.0</td>\n",
              "    </tr>\n",
              "    <tr>\n",
              "      <th>1</th>\n",
              "      <td>DecisionTree</td>\n",
              "      <td>0.713592</td>\n",
              "      <td>0.286408</td>\n",
              "      <td>0.0</td>\n",
              "    </tr>\n",
              "  </tbody>\n",
              "</table>\n",
              "</div>"
            ],
            "text/plain": [
              "         Models  F1-Weighted  Bias Error  Variance Error\n",
              "5      Stacking     0.806707    0.193293             0.0\n",
              "6       Bagging     0.806663    0.193337             0.0\n",
              "2  RandomForest     0.803783    0.196217             0.0\n",
              "4       XGBoost     0.801025    0.198975             0.0\n",
              "3   AdaBoosting     0.786245    0.213755             0.0\n",
              "0           KNN     0.749143    0.250857             0.0\n",
              "1  DecisionTree     0.713592    0.286408             0.0"
            ]
          },
          "metadata": {},
          "execution_count": 145
        }
      ]
    },
    {
      "cell_type": "code",
      "metadata": {
        "id": "0-ile4ZefgRE"
      },
      "source": [
        "# Stacking Classifier is the best performing model , but as stacking bagging is based on random forest , \n",
        "# we are doing gridsearch hyperparameter tuning on random forest"
      ],
      "execution_count": null,
      "outputs": []
    },
    {
      "cell_type": "code",
      "metadata": {
        "id": "aK3MKFmvgfKw"
      },
      "source": [
        "from sklearn.model_selection import GridSearchCV"
      ],
      "execution_count": null,
      "outputs": []
    },
    {
      "cell_type": "markdown",
      "metadata": {
        "id": "vOsr5MSXgif9"
      },
      "source": [
        "# Final model using GridSearchCV"
      ]
    },
    {
      "cell_type": "code",
      "metadata": {
        "colab": {
          "base_uri": "https://localhost:8080/"
        },
        "id": "PL1VEMEygm0J",
        "outputId": "ddfadf9e-1e6b-4fc4-e112-a962f28d7c5b"
      },
      "source": [
        "rf = RandomForestClassifier()\n",
        "params = ({'n_estimators': np.arange(100,200,25),\n",
        "           'max_depth':np.arange(5,22,2),\n",
        "           'criterion':['gini','entropy']})\n",
        "kf = KFold(n_splits=3,shuffle=True,random_state=7)\n",
        "grid = GridSearchCV(estimator=rf,param_grid=params,scoring='f1_weighted',cv=kf,n_jobs=-1)\n",
        "grid.fit(xtrain,ytrain)"
      ],
      "execution_count": null,
      "outputs": [
        {
          "output_type": "stream",
          "name": "stderr",
          "text": [
            "/usr/local/lib/python3.7/dist-packages/joblib/externals/loky/process_executor.py:691: UserWarning: A worker stopped while some jobs were given to the executor. This can be caused by a too short worker timeout or by a memory leak.\n",
            "  \"timeout or by a memory leak.\", UserWarning\n"
          ]
        },
        {
          "output_type": "execute_result",
          "data": {
            "text/plain": [
              "GridSearchCV(cv=KFold(n_splits=3, random_state=7, shuffle=True),\n",
              "             error_score=nan,\n",
              "             estimator=RandomForestClassifier(bootstrap=True, ccp_alpha=0.0,\n",
              "                                              class_weight=None,\n",
              "                                              criterion='gini', max_depth=None,\n",
              "                                              max_features='auto',\n",
              "                                              max_leaf_nodes=None,\n",
              "                                              max_samples=None,\n",
              "                                              min_impurity_decrease=0.0,\n",
              "                                              min_impurity_split=None,\n",
              "                                              min_samples_leaf=1,\n",
              "                                              min_samples_split=2,\n",
              "                                              min_weight_fra...n_leaf=0.0,\n",
              "                                              n_estimators=100, n_jobs=None,\n",
              "                                              oob_score=False,\n",
              "                                              random_state=None, verbose=0,\n",
              "                                              warm_start=False),\n",
              "             iid='deprecated', n_jobs=-1,\n",
              "             param_grid={'criterion': ['gini', 'entropy'],\n",
              "                         'max_depth': array([ 5,  7,  9, 11, 13, 15, 17, 19, 21]),\n",
              "                         'n_estimators': array([100, 125, 150, 175])},\n",
              "             pre_dispatch='2*n_jobs', refit=True, return_train_score=False,\n",
              "             scoring='f1_weighted', verbose=0)"
            ]
          },
          "metadata": {},
          "execution_count": 150
        }
      ]
    },
    {
      "cell_type": "code",
      "metadata": {
        "colab": {
          "base_uri": "https://localhost:8080/"
        },
        "id": "KTlu1pLIh6l8",
        "outputId": "0374217c-1683-4f94-a831-789092b098a9"
      },
      "source": [
        "grid.best_params_"
      ],
      "execution_count": null,
      "outputs": [
        {
          "output_type": "execute_result",
          "data": {
            "text/plain": [
              "{'criterion': 'entropy', 'max_depth': 21, 'n_estimators': 150}"
            ]
          },
          "metadata": {},
          "execution_count": 152
        }
      ]
    },
    {
      "cell_type": "code",
      "metadata": {
        "colab": {
          "base_uri": "https://localhost:8080/"
        },
        "id": "tr1hRuQ8Gljo",
        "outputId": "48e92140-0ebc-4bf5-b9a8-b2ad76e246d9"
      },
      "source": [
        "rf = RandomForestClassifier(criterion='entropy',max_depth=21,n_estimators=150)\n",
        "kf = KFold(n_splits=5,shuffle=True,random_state=7)\n",
        "scores = cross_val_score(estimator=rf,X=x,y=y,scoring='f1_weighted',cv=kf)\n",
        "score_final = np.mean(scores)\n",
        "bias_final = 1-np.mean(score_final)\n",
        "var_final = np.std(score_final)/np.mean(score_final)\n",
        "\n",
        "print('Average f1-weighted score = ',np.mean(scores))\n",
        "print('Bias error(in %) = ',bias_final * 100 , '%')\n",
        "print('Variance error(in %) = ',var_final * 100,'%')"
      ],
      "execution_count": null,
      "outputs": [
        {
          "output_type": "stream",
          "name": "stdout",
          "text": [
            "Average f1-weighted score =  0.8043249935537643\n",
            "Bias error(in %) =  19.56750064462357 %\n",
            "Variance error(in %) =  0.0 %\n"
          ]
        }
      ]
    },
    {
      "cell_type": "markdown",
      "metadata": {
        "id": "1OLMQ7npzRbS"
      },
      "source": [
        "**Model Deployment is given as per attachment of file we have done deployment using Flask and HTML,CSS.**"
      ]
    }
  ]
}