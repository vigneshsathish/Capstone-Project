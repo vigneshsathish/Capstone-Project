{
  "nbformat": 4,
  "nbformat_minor": 0,
  "metadata": {
    "colab": {
      "name": "Final_Capstone.ipynb",
      "provenance": [],
      "collapsed_sections": []
    },
    "kernelspec": {
      "display_name": "Python 3",
      "name": "python3"
    },
    "language_info": {
      "name": "python"
    }
  },
  "cells": [
    {
      "cell_type": "markdown",
      "metadata": {
        "id": "_8Rltha-y9N-"
      },
      "source": [
        "# Project Name :Trip Pricing with Taxi Mobility Analytics\n"
      ]
    },
    {
      "cell_type": "markdown",
      "metadata": {
        "id": "FJcCBbCH0X5l"
      },
      "source": [
        "![picture](https://drive.google.com/uc?export=view&id=1yTMgRrwyvbR7iVStiPVQJ6c7q2bbep0T)\n"
      ]
    },
    {
      "cell_type": "markdown",
      "metadata": {
        "id": "DLweyqtxy_Xx"
      },
      "source": [
        "# BUSINESS PROBLEM\n",
        "Data provided by an Indian cab aggregator service Sigma Cabs. Their customers can download their app on smartphones and book a cab from any where in the cities they operate in. They, in turn search for cabs from various service providers and provide the best option to their client across available options. They have been in operation for little less than a year now. During this period, they have captured surgepricingtype from the service providers."
      ]
    },
    {
      "cell_type": "markdown",
      "metadata": {
        "id": "GiccltopBQxI"
      },
      "source": [
        "# OBJECTIVE"
      ]
    },
    {
      "cell_type": "markdown",
      "metadata": {
        "id": "s4gGLzq4BXpE"
      },
      "source": [
        "The main objective is to build a predictive model, which could help them in predicting the surgepricingtype pro-actively(MULTICLASSIFICATION). This would in turn help them in matching the right cabs with the right customers quickly and efficiently."
      ]
    },
    {
      "cell_type": "markdown",
      "metadata": {
        "id": "z9Z3qj29y_ki"
      },
      "source": [
        "# **Lifecycle in the project**\n",
        "1. Data Analysis\n",
        "2. Feature Engineering\n",
        "3. Feature Selection\n",
        "4. Model Building\n",
        "5. Model Deployment"
      ]
    },
    {
      "cell_type": "code",
      "metadata": {
        "id": "XpheRGeUUArp"
      },
      "source": [
        "import pandas as pd\n",
        "import numpy as np\n",
        "import matplotlib.pyplot as plt\n",
        "import seaborn as sns\n",
        "\n",
        "from warnings import filterwarnings\n",
        "filterwarnings(\"ignore\")\n",
        "\n",
        "plt.rcParams[\"figure.figsize\"]=[10,5]\n",
        "\n",
        "pd.options.display.max_rows=None\n",
        "pd.options.display.max_columns=None"
      ],
      "execution_count": 101,
      "outputs": []
    },
    {
      "cell_type": "code",
      "metadata": {
        "id": "IMBm2op2VgMC"
      },
      "source": [
        "# Reading train dataset\n",
        "df_train = pd.read_csv('sigma_cabs.csv')"
      ],
      "execution_count": 102,
      "outputs": []
    },
    {
      "cell_type": "code",
      "metadata": {
        "id": "md6QMPx6mgiL"
      },
      "source": [
        "# Reading train dataset\n",
        "#df_test=pd.read_csv(\"test.csv\")"
      ],
      "execution_count": 103,
      "outputs": []
    },
    {
      "cell_type": "code",
      "metadata": {
        "colab": {
          "base_uri": "https://localhost:8080/"
        },
        "id": "NWlJxsEbhioE",
        "outputId": "1cc4be10-e6ab-47fd-e09f-59ffe0704705"
      },
      "source": [
        "# Get the number of rows and columns of the dataset\n",
        "print(\"Train dataset contains {} rows and {} columns\".format(df_train.shape[0],df_train.shape[1]))\n"
      ],
      "execution_count": 104,
      "outputs": [
        {
          "output_type": "stream",
          "name": "stdout",
          "text": [
            "Train dataset contains 131662 rows and 14 columns\n"
          ]
        }
      ]
    },
    {
      "cell_type": "code",
      "metadata": {
        "id": "NCvPZC8wne3X"
      },
      "source": [
        "# Get the number of rows and columns of the dataset\n",
        "#print(\"Test dataset contains {} rows and {} columns\".format(df_test.shape[0],df_test.shape[1]))\n"
      ],
      "execution_count": 105,
      "outputs": []
    },
    {
      "cell_type": "markdown",
      "metadata": {
        "id": "2ClEobBry_dP"
      },
      "source": [
        "# column Descriptions\n",
        "Trip_ID: ID for TRIP\n",
        "\n",
        "Trip_Distance: The distance for the trip requested by the customer\n",
        "\n",
        "TypeofCab: Category of the cab requested by the customer\n",
        "\n",
        "CustomerSinceMonths: Customer using cab services since n months; 0 month means current month\n",
        "\n",
        "LifeStyleIndex: Proprietary index created by Sigma Cabs showing lifestyle of the customer based on their behaviour\n",
        "                (Proprietary Index means a designated group of securities or instruments that (i) measures or represents the performance of a specific segment of the market for U.S.)\n",
        "\n",
        "ConfidenceLifeStyle_Index: Category showing confidence on the index mentioned above\n",
        "\n",
        "Destination_Type: Sigma Cabs divides any destination in one of the 14 categories.\n",
        "\n",
        "Customer_Rating: Average of life time ratings of the customer till date\n",
        "\n",
        "CancellationLast1Month: Number of trips cancelled by the customer in last 1 month\n",
        "\n",
        "Var1, Var2 and Var3: Continuous variables masked by the company. Can be used for modelling purposes\n",
        "\n",
        "Gender: Gender of the customer\n",
        "\n",
        "SurgePricingType: Target (can be of 3 types)"
      ]
    },
    {
      "cell_type": "code",
      "metadata": {
        "colab": {
          "base_uri": "https://localhost:8080/",
          "height": 223
        },
        "id": "-H7Rj-tuxsVI",
        "outputId": "743d45f8-1683-4862-9835-b7e780f25530"
      },
      "source": [
        "# Displying the top 5 rows in train data\n",
        "df_train.head()"
      ],
      "execution_count": 106,
      "outputs": [
        {
          "output_type": "execute_result",
          "data": {
            "text/html": [
              "<div>\n",
              "<style scoped>\n",
              "    .dataframe tbody tr th:only-of-type {\n",
              "        vertical-align: middle;\n",
              "    }\n",
              "\n",
              "    .dataframe tbody tr th {\n",
              "        vertical-align: top;\n",
              "    }\n",
              "\n",
              "    .dataframe thead th {\n",
              "        text-align: right;\n",
              "    }\n",
              "</style>\n",
              "<table border=\"1\" class=\"dataframe\">\n",
              "  <thead>\n",
              "    <tr style=\"text-align: right;\">\n",
              "      <th></th>\n",
              "      <th>Trip_ID</th>\n",
              "      <th>Trip_Distance</th>\n",
              "      <th>Type_of_Cab</th>\n",
              "      <th>Customer_Since_Months</th>\n",
              "      <th>Life_Style_Index</th>\n",
              "      <th>Confidence_Life_Style_Index</th>\n",
              "      <th>Destination_Type</th>\n",
              "      <th>Customer_Rating</th>\n",
              "      <th>Cancellation_Last_1Month</th>\n",
              "      <th>Var1</th>\n",
              "      <th>Var2</th>\n",
              "      <th>Var3</th>\n",
              "      <th>Gender</th>\n",
              "      <th>Surge_Pricing_Type</th>\n",
              "    </tr>\n",
              "  </thead>\n",
              "  <tbody>\n",
              "    <tr>\n",
              "      <th>0</th>\n",
              "      <td>T0005689460</td>\n",
              "      <td>6.77</td>\n",
              "      <td>B</td>\n",
              "      <td>1.0</td>\n",
              "      <td>2.42769</td>\n",
              "      <td>A</td>\n",
              "      <td>A</td>\n",
              "      <td>3.90500</td>\n",
              "      <td>0</td>\n",
              "      <td>40.0</td>\n",
              "      <td>46</td>\n",
              "      <td>60</td>\n",
              "      <td>Female</td>\n",
              "      <td>2</td>\n",
              "    </tr>\n",
              "    <tr>\n",
              "      <th>1</th>\n",
              "      <td>T0005689461</td>\n",
              "      <td>29.47</td>\n",
              "      <td>B</td>\n",
              "      <td>10.0</td>\n",
              "      <td>2.78245</td>\n",
              "      <td>B</td>\n",
              "      <td>A</td>\n",
              "      <td>3.45000</td>\n",
              "      <td>0</td>\n",
              "      <td>38.0</td>\n",
              "      <td>56</td>\n",
              "      <td>78</td>\n",
              "      <td>Male</td>\n",
              "      <td>2</td>\n",
              "    </tr>\n",
              "    <tr>\n",
              "      <th>2</th>\n",
              "      <td>T0005689464</td>\n",
              "      <td>41.58</td>\n",
              "      <td>NaN</td>\n",
              "      <td>10.0</td>\n",
              "      <td>NaN</td>\n",
              "      <td>NaN</td>\n",
              "      <td>E</td>\n",
              "      <td>3.50125</td>\n",
              "      <td>2</td>\n",
              "      <td>NaN</td>\n",
              "      <td>56</td>\n",
              "      <td>77</td>\n",
              "      <td>Male</td>\n",
              "      <td>2</td>\n",
              "    </tr>\n",
              "    <tr>\n",
              "      <th>3</th>\n",
              "      <td>T0005689465</td>\n",
              "      <td>61.56</td>\n",
              "      <td>C</td>\n",
              "      <td>10.0</td>\n",
              "      <td>NaN</td>\n",
              "      <td>NaN</td>\n",
              "      <td>A</td>\n",
              "      <td>3.45375</td>\n",
              "      <td>0</td>\n",
              "      <td>NaN</td>\n",
              "      <td>52</td>\n",
              "      <td>74</td>\n",
              "      <td>Male</td>\n",
              "      <td>3</td>\n",
              "    </tr>\n",
              "    <tr>\n",
              "      <th>4</th>\n",
              "      <td>T0005689467</td>\n",
              "      <td>54.95</td>\n",
              "      <td>C</td>\n",
              "      <td>10.0</td>\n",
              "      <td>3.03453</td>\n",
              "      <td>B</td>\n",
              "      <td>A</td>\n",
              "      <td>3.40250</td>\n",
              "      <td>4</td>\n",
              "      <td>51.0</td>\n",
              "      <td>49</td>\n",
              "      <td>102</td>\n",
              "      <td>Male</td>\n",
              "      <td>2</td>\n",
              "    </tr>\n",
              "  </tbody>\n",
              "</table>\n",
              "</div>"
            ],
            "text/plain": [
              "       Trip_ID  Trip_Distance Type_of_Cab  Customer_Since_Months  \\\n",
              "0  T0005689460           6.77           B                    1.0   \n",
              "1  T0005689461          29.47           B                   10.0   \n",
              "2  T0005689464          41.58         NaN                   10.0   \n",
              "3  T0005689465          61.56           C                   10.0   \n",
              "4  T0005689467          54.95           C                   10.0   \n",
              "\n",
              "   Life_Style_Index Confidence_Life_Style_Index Destination_Type  \\\n",
              "0           2.42769                           A                A   \n",
              "1           2.78245                           B                A   \n",
              "2               NaN                         NaN                E   \n",
              "3               NaN                         NaN                A   \n",
              "4           3.03453                           B                A   \n",
              "\n",
              "   Customer_Rating  Cancellation_Last_1Month  Var1  Var2  Var3  Gender  \\\n",
              "0          3.90500                         0  40.0    46    60  Female   \n",
              "1          3.45000                         0  38.0    56    78    Male   \n",
              "2          3.50125                         2   NaN    56    77    Male   \n",
              "3          3.45375                         0   NaN    52    74    Male   \n",
              "4          3.40250                         4  51.0    49   102    Male   \n",
              "\n",
              "   Surge_Pricing_Type  \n",
              "0                   2  \n",
              "1                   2  \n",
              "2                   2  \n",
              "3                   3  \n",
              "4                   2  "
            ]
          },
          "metadata": {},
          "execution_count": 106
        }
      ]
    },
    {
      "cell_type": "code",
      "metadata": {
        "colab": {
          "base_uri": "https://localhost:8080/",
          "height": 130
        },
        "id": "H8J4tdCce-0n",
        "outputId": "0965d29f-491e-47a6-d226-08f4174d436d"
      },
      "source": [
        "customer_35to5=df_train[(df_train[\"Life_Style_Index\"]>=3.5)]\n",
        "customer_35to5.head(2)"
      ],
      "execution_count": 107,
      "outputs": [
        {
          "output_type": "execute_result",
          "data": {
            "text/html": [
              "<div>\n",
              "<style scoped>\n",
              "    .dataframe tbody tr th:only-of-type {\n",
              "        vertical-align: middle;\n",
              "    }\n",
              "\n",
              "    .dataframe tbody tr th {\n",
              "        vertical-align: top;\n",
              "    }\n",
              "\n",
              "    .dataframe thead th {\n",
              "        text-align: right;\n",
              "    }\n",
              "</style>\n",
              "<table border=\"1\" class=\"dataframe\">\n",
              "  <thead>\n",
              "    <tr style=\"text-align: right;\">\n",
              "      <th></th>\n",
              "      <th>Trip_ID</th>\n",
              "      <th>Trip_Distance</th>\n",
              "      <th>Type_of_Cab</th>\n",
              "      <th>Customer_Since_Months</th>\n",
              "      <th>Life_Style_Index</th>\n",
              "      <th>Confidence_Life_Style_Index</th>\n",
              "      <th>Destination_Type</th>\n",
              "      <th>Customer_Rating</th>\n",
              "      <th>Cancellation_Last_1Month</th>\n",
              "      <th>Var1</th>\n",
              "      <th>Var2</th>\n",
              "      <th>Var3</th>\n",
              "      <th>Gender</th>\n",
              "      <th>Surge_Pricing_Type</th>\n",
              "    </tr>\n",
              "  </thead>\n",
              "  <tbody>\n",
              "    <tr>\n",
              "      <th>183</th>\n",
              "      <td>T0005689764</td>\n",
              "      <td>108.93</td>\n",
              "      <td>D</td>\n",
              "      <td>0.0</td>\n",
              "      <td>3.53792</td>\n",
              "      <td>B</td>\n",
              "      <td>A</td>\n",
              "      <td>4.67625</td>\n",
              "      <td>3</td>\n",
              "      <td>79.0</td>\n",
              "      <td>54</td>\n",
              "      <td>75</td>\n",
              "      <td>Male</td>\n",
              "      <td>3</td>\n",
              "    </tr>\n",
              "    <tr>\n",
              "      <th>526</th>\n",
              "      <td>T0005690334</td>\n",
              "      <td>108.87</td>\n",
              "      <td>C</td>\n",
              "      <td>4.0</td>\n",
              "      <td>3.53650</td>\n",
              "      <td>B</td>\n",
              "      <td>A</td>\n",
              "      <td>3.35875</td>\n",
              "      <td>1</td>\n",
              "      <td>NaN</td>\n",
              "      <td>52</td>\n",
              "      <td>72</td>\n",
              "      <td>Male</td>\n",
              "      <td>3</td>\n",
              "    </tr>\n",
              "  </tbody>\n",
              "</table>\n",
              "</div>"
            ],
            "text/plain": [
              "         Trip_ID  Trip_Distance Type_of_Cab  Customer_Since_Months  \\\n",
              "183  T0005689764         108.93           D                    0.0   \n",
              "526  T0005690334         108.87           C                    4.0   \n",
              "\n",
              "     Life_Style_Index Confidence_Life_Style_Index Destination_Type  \\\n",
              "183           3.53792                           B                A   \n",
              "526           3.53650                           B                A   \n",
              "\n",
              "     Customer_Rating  Cancellation_Last_1Month  Var1  Var2  Var3 Gender  \\\n",
              "183          4.67625                         3  79.0    54    75   Male   \n",
              "526          3.35875                         1   NaN    52    72   Male   \n",
              "\n",
              "     Surge_Pricing_Type  \n",
              "183                   3  \n",
              "526                   3  "
            ]
          },
          "metadata": {},
          "execution_count": 107
        }
      ]
    },
    {
      "cell_type": "code",
      "metadata": {
        "id": "yWzfb_E3fWP9"
      },
      "source": [
        "customer_25to35=df_train[(df_train[\"Life_Style_Index\"]>=2.5) & (df_train[\"Life_Style_Index\"]<3.5)]"
      ],
      "execution_count": 108,
      "outputs": []
    },
    {
      "cell_type": "code",
      "metadata": {
        "id": "OdLnUKmsfWXx"
      },
      "source": [
        "customer_0to25=df_train[(df_train[\"Life_Style_Index\"]>=0) & (df_train[\"Life_Style_Index\"]<2.5)]"
      ],
      "execution_count": 109,
      "outputs": []
    },
    {
      "cell_type": "code",
      "metadata": {
        "colab": {
          "base_uri": "https://localhost:8080/"
        },
        "id": "4zISE9z6jD0L",
        "outputId": "426ceeec-b30d-428b-8f4d-7b4fbaa55229"
      },
      "source": [
        "customer_35to5[\"Life_Style_Index\"].mean()"
      ],
      "execution_count": 110,
      "outputs": [
        {
          "output_type": "execute_result",
          "data": {
            "text/plain": [
              "3.659620688888889"
            ]
          },
          "metadata": {},
          "execution_count": 110
        }
      ]
    },
    {
      "cell_type": "code",
      "metadata": {
        "colab": {
          "base_uri": "https://localhost:8080/"
        },
        "id": "Nf2emE99jD3O",
        "outputId": "ed77e963-493f-4228-d6b8-e7446d4c9f12"
      },
      "source": [
        "customer_25to35[\"Life_Style_Index\"].mean()"
      ],
      "execution_count": 111,
      "outputs": [
        {
          "output_type": "execute_result",
          "data": {
            "text/plain": [
              "2.8355522563084845"
            ]
          },
          "metadata": {},
          "execution_count": 111
        }
      ]
    },
    {
      "cell_type": "code",
      "metadata": {
        "colab": {
          "base_uri": "https://localhost:8080/"
        },
        "id": "MKSb7Xe2jD7q",
        "outputId": "3b1a77d9-e034-4332-a60e-1fce82727646"
      },
      "source": [
        "customer_0to25[\"Life_Style_Index\"].mean()"
      ],
      "execution_count": 112,
      "outputs": [
        {
          "output_type": "execute_result",
          "data": {
            "text/plain": [
              "2.3919533758512586"
            ]
          },
          "metadata": {},
          "execution_count": 112
        }
      ]
    },
    {
      "cell_type": "code",
      "metadata": {
        "colab": {
          "base_uri": "https://localhost:8080/"
        },
        "id": "onYS5FXsTVC8",
        "outputId": "4f1812b4-198d-406a-b264-344d4d2c7959"
      },
      "source": [
        "df_train.groupby([\"Surge_Pricing_Type\"])[\"Life_Style_Index\"].mean()"
      ],
      "execution_count": 113,
      "outputs": [
        {
          "output_type": "execute_result",
          "data": {
            "text/plain": [
              "Surge_Pricing_Type\n",
              "1    2.847554\n",
              "2    2.789416\n",
              "3    2.791163\n",
              "Name: Life_Style_Index, dtype: float64"
            ]
          },
          "metadata": {},
          "execution_count": 113
        }
      ]
    },
    {
      "cell_type": "code",
      "metadata": {
        "colab": {
          "base_uri": "https://localhost:8080/",
          "height": 352
        },
        "id": "eWQFqazpgAXf",
        "outputId": "f17ac6ad-8134-4848-c782-f498ee4fad23"
      },
      "source": [
        "sns.boxplot(x=\"Surge_Pricing_Type\",y=\"Trip_Distance\",data=df_train)"
      ],
      "execution_count": 114,
      "outputs": [
        {
          "output_type": "execute_result",
          "data": {
            "text/plain": [
              "<matplotlib.axes._subplots.AxesSubplot at 0x7f635697fe90>"
            ]
          },
          "metadata": {},
          "execution_count": 114
        },
        {
          "output_type": "display_data",
          "data": {
            "image/png": "[encoded data removed]",
            "text/plain": [
              "<Figure size 720x360 with 1 Axes>"
            ]
          },
          "metadata": {
            "needs_background": "light"
          }
        }
      ]
    },
    {
      "cell_type": "code",
      "metadata": {
        "colab": {
          "base_uri": "https://localhost:8080/",
          "height": 352
        },
        "id": "viqSkgIwJh8h",
        "outputId": "1e809336-29a9-4370-e102-293736aae1ae"
      },
      "source": [
        "sns.scatterplot(data=df_train,x=\"Trip_Distance\",y=\"Surge_Pricing_Type\")"
      ],
      "execution_count": 115,
      "outputs": [
        {
          "output_type": "execute_result",
          "data": {
            "text/plain": [
              "<matplotlib.axes._subplots.AxesSubplot at 0x7f6355fa05d0>"
            ]
          },
          "metadata": {},
          "execution_count": 115
        },
        {
          "output_type": "display_data",
          "data": {
            "image/png": "[encoded data removed]",
            "text/plain": [
              "<Figure size 720x360 with 1 Axes>"
            ]
          },
          "metadata": {
            "needs_background": "light"
          }
        }
      ]
    },
    {
      "cell_type": "code",
      "metadata": {
        "colab": {
          "base_uri": "https://localhost:8080/"
        },
        "id": "PwqLL62AVArR",
        "outputId": "7168739f-e961-4112-8769-9cb33548eb6c"
      },
      "source": [
        "df_train.groupby([\"Surge_Pricing_Type\"])[\"Trip_Distance\"].mean()"
      ],
      "execution_count": 116,
      "outputs": [
        {
          "output_type": "execute_result",
          "data": {
            "text/plain": [
              "Surge_Pricing_Type\n",
              "1    41.061633\n",
              "2    41.269265\n",
              "3    49.476234\n",
              "Name: Trip_Distance, dtype: float64"
            ]
          },
          "metadata": {},
          "execution_count": 116
        }
      ]
    },
    {
      "cell_type": "code",
      "metadata": {
        "id": "Fc8ljsceoGRp"
      },
      "source": [
        "# Displying the top 5 rows in test data\n",
        "#df_test.head()"
      ],
      "execution_count": 117,
      "outputs": []
    },
    {
      "cell_type": "code",
      "metadata": {
        "colab": {
          "base_uri": "https://localhost:8080/"
        },
        "id": "U7JAPOn2xS4o",
        "outputId": "6b93228c-ff8b-4e28-d400-579861624464"
      },
      "source": [
        "# Get the information of columns in train dataset\n",
        "df_train.info()"
      ],
      "execution_count": 118,
      "outputs": [
        {
          "output_type": "stream",
          "name": "stdout",
          "text": [
            "<class 'pandas.core.frame.DataFrame'>\n",
            "RangeIndex: 131662 entries, 0 to 131661\n",
            "Data columns (total 14 columns):\n",
            " #   Column                       Non-Null Count   Dtype  \n",
            "---  ------                       --------------   -----  \n",
            " 0   Trip_ID                      131662 non-null  object \n",
            " 1   Trip_Distance                131662 non-null  float64\n",
            " 2   Type_of_Cab                  111452 non-null  object \n",
            " 3   Customer_Since_Months        125742 non-null  float64\n",
            " 4   Life_Style_Index             111469 non-null  float64\n",
            " 5   Confidence_Life_Style_Index  111469 non-null  object \n",
            " 6   Destination_Type             131662 non-null  object \n",
            " 7   Customer_Rating              131662 non-null  float64\n",
            " 8   Cancellation_Last_1Month     131662 non-null  int64  \n",
            " 9   Var1                         60632 non-null   float64\n",
            " 10  Var2                         131662 non-null  int64  \n",
            " 11  Var3                         131662 non-null  int64  \n",
            " 12  Gender                       131662 non-null  object \n",
            " 13  Surge_Pricing_Type           131662 non-null  int64  \n",
            "dtypes: float64(5), int64(4), object(5)\n",
            "memory usage: 14.1+ MB\n"
          ]
        }
      ]
    },
    {
      "cell_type": "code",
      "metadata": {
        "id": "UMctep8YoVcO"
      },
      "source": [
        "# Get the information of columns in test dataset\n",
        "#df_test.info()"
      ],
      "execution_count": 119,
      "outputs": []
    },
    {
      "cell_type": "markdown",
      "metadata": {
        "id": "EiX3DasVpNEb"
      },
      "source": [
        " ***Inference***\n",
        "\n",
        "* Here we can see the some columns having missing values.\n",
        "* Here Customer_Since_Months ,given as past 11 month unique discrete data \n",
        "* Cancellation last 1 month is having 9 unique discrete data.\n",
        "* so we are converting  into int as month can not be in float,after treating null values."
      ]
    },
    {
      "cell_type": "markdown",
      "metadata": {
        "id": "HKw6Fu5TxKHO"
      },
      "source": [
        "# **Data Analysis**\n"
      ]
    },
    {
      "cell_type": "markdown",
      "metadata": {
        "id": "8_guxsB1Sr8G"
      },
      "source": [
        "# **Treating the missing values**\n",
        "\n",
        " 1. Continuous\n",
        "  - Between 0% to 5% ----> Drop rows \n",
        "  - Between 5% to 25% ----> impute with mean or median.\n",
        "  - Between 25% to 50% ----> impute with bfill or ffill or predictive approach.\n",
        "  - Between 50% to 100% ---> Drop columns\n",
        " 2. Categorical\n",
        "  - Between 00% to 05% ----> Drop rows \n",
        "  - Between 05% to 25% ----> impute with Mode \n",
        "  - Between 25% to 50% ----> Create New Category \"NA\" or Drop \n",
        "  - Between 50% to 100% ---> Drop Columns\n",
        "\n",
        "  * Not very critical for advanced algorithms "
      ]
    },
    {
      "cell_type": "code",
      "metadata": {
        "colab": {
          "base_uri": "https://localhost:8080/"
        },
        "id": "JW7b_pEIMMvm",
        "outputId": "409ce825-f685-44f3-d981-fcd716ab7ec7"
      },
      "source": [
        "# Get the missing values for the whole train dataset\n",
        "Missing_overall=df_train.isnull().sum()[df_train.isnull().sum()>0].sort_values(ascending=False)\n",
        "Missing_overall"
      ],
      "execution_count": 120,
      "outputs": [
        {
          "output_type": "execute_result",
          "data": {
            "text/plain": [
              "Var1                           71030\n",
              "Type_of_Cab                    20210\n",
              "Confidence_Life_Style_Index    20193\n",
              "Life_Style_Index               20193\n",
              "Customer_Since_Months           5920\n",
              "dtype: int64"
            ]
          },
          "metadata": {},
          "execution_count": 120
        }
      ]
    },
    {
      "cell_type": "code",
      "metadata": {
        "colab": {
          "base_uri": "https://localhost:8080/"
        },
        "id": "29etfBl-Mj45",
        "outputId": "958febda-6c8e-4942-9c4b-a58ee38feb6b"
      },
      "source": [
        "# Get the missing values for the whole train dataset\n",
        "Percent_missing_overall=(Missing_overall/df_train.shape[0])*100\n",
        "Percent_missing_overall"
      ],
      "execution_count": 121,
      "outputs": [
        {
          "output_type": "execute_result",
          "data": {
            "text/plain": [
              "Var1                           53.948748\n",
              "Type_of_Cab                    15.349911\n",
              "Confidence_Life_Style_Index    15.336999\n",
              "Life_Style_Index               15.336999\n",
              "Customer_Since_Months           4.496362\n",
              "dtype: float64"
            ]
          },
          "metadata": {},
          "execution_count": 121
        }
      ]
    },
    {
      "cell_type": "code",
      "metadata": {
        "id": "O3i9QlqB1guS"
      },
      "source": [
        "# Get the missing values for the whole test dataset\n",
        "#Missing_overall=df_test.isnull().sum()[df_test.isnull().sum()>0].sort_values(ascending=False)\n",
        "#Missing_overall"
      ],
      "execution_count": 122,
      "outputs": []
    },
    {
      "cell_type": "code",
      "metadata": {
        "id": "hF1sEgbG1g3N"
      },
      "source": [
        "# Get the missing values for the whole test dataset\n",
        "#Percent_missing_overall=(Missing_overall/df_test.shape[0])*100\n",
        "#Percent_missing_overall"
      ],
      "execution_count": 123,
      "outputs": []
    },
    {
      "cell_type": "markdown",
      "metadata": {
        "id": "TZLO4AVULUWh"
      },
      "source": [
        "***Inference***\n",
        "\n",
        "* 5 columns having null values -Var1,Type_of_cab,Life_style_index,confidence_life_style_index,customer_since_months.\n",
        "* Type of cab is having 15% of null values,If we replace the category column with the most frequency then it leads to error.\n",
        "* Becase type of cab is a preference based on the surge_price_type.\n",
        "* so we are spliiting the dataset according to their surge_price_type and doing imputation."
      ]
    },
    {
      "cell_type": "markdown",
      "metadata": {
        "id": "rFGxzOdWeiQO"
      },
      "source": [
        "# Segregating into 3 dataframes to impute null values according surgepricetype category"
      ]
    },
    {
      "cell_type": "markdown",
      "metadata": {
        "id": "9cdqGfPQ2arq"
      },
      "source": [
        "# Handling missing values in train data"
      ]
    },
    {
      "cell_type": "code",
      "metadata": {
        "id": "8m5nt5dqZYOz"
      },
      "source": [
        "s1 = df_train[df_train['Surge_Pricing_Type']==1]\n",
        "s2 = df_train[df_train['Surge_Pricing_Type']==2]\n",
        "s3 = df_train[df_train['Surge_Pricing_Type']==3]"
      ],
      "execution_count": 124,
      "outputs": []
    },
    {
      "cell_type": "code",
      "metadata": {
        "colab": {
          "base_uri": "https://localhost:8080/"
        },
        "id": "jgzRbTxPOZxb",
        "outputId": "32413cd6-417a-48f3-bd6f-621a72fb060a"
      },
      "source": [
        "# Finding the null values of each surgepricetype\n",
        "n=1\n",
        "for i in [s1,s2,s3]:\n",
        "  print(\"Surge\",n)\n",
        "  Missing=i.isnull().sum()[i.isnull().sum()>0].sort_values(ascending=False)\n",
        "  Percent_missing_1=(Missing/i.shape[0])*100\n",
        "  print(pd.DataFrame({\"Missing_values\":Missing,\"Percent_missing\":Percent_missing_1}))\n",
        "  print(\" \")\n",
        "  print(\" \")\n",
        "  n+=1"
      ],
      "execution_count": 125,
      "outputs": [
        {
          "output_type": "stream",
          "name": "stdout",
          "text": [
            "Surge 1\n",
            "                             Missing_values  Percent_missing\n",
            "Var1                                  17915        65.830087\n",
            "Type_of_Cab                            4205        15.451606\n",
            "Confidence_Life_Style_Index            4176        15.345043\n",
            "Life_Style_Index                       4176        15.345043\n",
            "Customer_Since_Months                  1147         4.214742\n",
            " \n",
            " \n",
            "Surge 2\n",
            "                             Missing_values  Percent_missing\n",
            "Var1                                  29740        52.425610\n",
            "Type_of_Cab                            8645        15.239388\n",
            "Confidence_Life_Style_Index            8637        15.225286\n",
            "Life_Style_Index                       8637        15.225286\n",
            "Customer_Since_Months                  2540         4.477507\n",
            " \n",
            " \n",
            "Surge 3\n",
            "                             Missing_values  Percent_missing\n",
            "Var1                                  23375        48.983655\n",
            "Confidence_Life_Style_Index            7380        15.465214\n",
            "Life_Style_Index                       7380        15.465214\n",
            "Type_of_Cab                            7360        15.423303\n",
            "Customer_Since_Months                  2233         4.679380\n",
            " \n",
            " \n"
          ]
        }
      ]
    },
    {
      "cell_type": "code",
      "metadata": {
        "id": "okuM_OI61tB8"
      },
      "source": [
        "# Var1 is above 50 % in all 3surge_types.\n",
        "# Dropping the Var1\n",
        "\n",
        "s1 = s1.drop(columns=['Var1'])\n",
        "s2 = s2.drop(columns=['Var1'])\n",
        "s3 = s3.drop(columns=['Var1'])\n"
      ],
      "execution_count": 126,
      "outputs": []
    },
    {
      "cell_type": "code",
      "metadata": {
        "colab": {
          "base_uri": "https://localhost:8080/"
        },
        "id": "08qnMSL3ZJv_",
        "outputId": "439a218f-074d-4c5c-9d4e-ff91c341eb2e"
      },
      "source": [
        "# Type_of_Cab ,Confidence_Life_Style_Index ,Customer_since_months is having above 5% in all 3 surge_types\n",
        "# Finding each surge_price_type most frquency.\n",
        "\n",
        "n=1\n",
        "for i in [s1,s2,s3]:\n",
        "  print(\"Surge\",n)\n",
        "  mode=i[\"Type_of_Cab\"].mode()[0]\n",
        "  print(\"The most used type of cab is\",mode)\n",
        "  \n",
        "\n",
        "  mode=i[\"Confidence_Life_Style_Index\"].mode()[0]\n",
        "  print(\"customer Confidence_Life_Style_Index  is\",mode)\n",
        "  \n",
        "\n",
        "  mode=i[\"Customer_Since_Months\"].mode()[0]\n",
        "  print(\"Trusted Customer_Since_Months  is\",mode)\n",
        "  print(\" \")\n",
        "  n+=1"
      ],
      "execution_count": 127,
      "outputs": [
        {
          "output_type": "stream",
          "name": "stdout",
          "text": [
            "Surge 1\n",
            "The most used type of cab is A\n",
            "customer Confidence_Life_Style_Index  is A\n",
            "Trusted Customer_Since_Months  is 10.0\n",
            " \n",
            "Surge 2\n",
            "The most used type of cab is B\n",
            "customer Confidence_Life_Style_Index  is A\n",
            "Trusted Customer_Since_Months  is 10.0\n",
            " \n",
            "Surge 3\n",
            "The most used type of cab is D\n",
            "customer Confidence_Life_Style_Index  is B\n",
            "Trusted Customer_Since_Months  is 10.0\n",
            " \n"
          ]
        }
      ]
    },
    {
      "cell_type": "code",
      "metadata": {
        "id": "uKTSynJ0ddUY"
      },
      "source": [
        "from sklearn.impute import SimpleImputer"
      ],
      "execution_count": 128,
      "outputs": []
    },
    {
      "cell_type": "code",
      "metadata": {
        "id": "vwQDf-ZEdmBv"
      },
      "source": [
        "# Filling with each surge_price_type most frquency.\n",
        "sm = SimpleImputer(strategy='most_frequent')\n",
        "data = sm.fit_transform(s1.select_dtypes('object'))\n",
        "data2 = sm.fit_transform(s2.select_dtypes('object'))\n",
        "data3 = sm.fit_transform(s3.select_dtypes('object'))\n"
      ],
      "execution_count": 129,
      "outputs": []
    },
    {
      "cell_type": "code",
      "metadata": {
        "id": "am7IGXZCT43N"
      },
      "source": [
        "## Life_Style_Index is having 15% of null values\n",
        "## Filling with Mean it is not skewed (train dataset)\n",
        "\n",
        "sm = SimpleImputer(strategy='mean')\n",
        "data_num = sm.fit_transform(s1.select_dtypes('number'))\n",
        "data_num1 = sm.fit_transform(s2.select_dtypes('number'))\n",
        "data_num2 = sm.fit_transform(s3.select_dtypes('number'))"
      ],
      "execution_count": 130,
      "outputs": []
    },
    {
      "cell_type": "markdown",
      "metadata": {
        "id": "O31na0zvWMW6"
      },
      "source": [
        "# Converting the above into dataframe"
      ]
    },
    {
      "cell_type": "code",
      "metadata": {
        "id": "Zmjp5iROd8dg"
      },
      "source": [
        "data = pd.DataFrame(data,columns = s1.select_dtypes('object').columns)\n",
        "data2 = pd.DataFrame(data2,columns = s2.select_dtypes('object').columns)\n",
        "data3 = pd.DataFrame(data3,columns = s3.select_dtypes('object').columns)\n"
      ],
      "execution_count": 131,
      "outputs": []
    },
    {
      "cell_type": "code",
      "metadata": {
        "id": "CQDISnvOfs6z"
      },
      "source": [
        "data_num = pd.DataFrame(data_num,columns = s1.select_dtypes('number').columns)\n",
        "data_num1 = pd.DataFrame(data_num1,columns = s2.select_dtypes('number').columns)\n",
        "data_num2 = pd.DataFrame(data_num2,columns = s3.select_dtypes('number').columns)\n"
      ],
      "execution_count": 132,
      "outputs": []
    },
    {
      "cell_type": "markdown",
      "metadata": {
        "id": "cT4GfYUuWfrI"
      },
      "source": [
        "# Concating the numerical and categorical columns"
      ]
    },
    {
      "cell_type": "code",
      "metadata": {
        "id": "ip_ymjGEd9cS"
      },
      "source": [
        "s1 = pd.concat([data,data_num],axis=1)\n",
        "s2 = pd.concat([data2,data_num1],axis=1)\n",
        "s3 = pd.concat([data3,data_num2],axis=1)\n"
      ],
      "execution_count": 133,
      "outputs": []
    },
    {
      "cell_type": "code",
      "metadata": {
        "id": "kLANgXVaeTS3"
      },
      "source": [
        "df1_train = pd.concat([s1,s2,s3])"
      ],
      "execution_count": 134,
      "outputs": []
    },
    {
      "cell_type": "markdown",
      "metadata": {
        "id": "pf62Cfb7W0o_"
      },
      "source": [
        "# Checking the data information"
      ]
    },
    {
      "cell_type": "code",
      "metadata": {
        "colab": {
          "base_uri": "https://localhost:8080/"
        },
        "id": "k_lhq9bAgKXe",
        "outputId": "5fdb0da3-2549-492b-98df-e45046967240"
      },
      "source": [
        "df1_train.shape"
      ],
      "execution_count": 135,
      "outputs": [
        {
          "output_type": "execute_result",
          "data": {
            "text/plain": [
              "(131662, 13)"
            ]
          },
          "metadata": {},
          "execution_count": 135
        }
      ]
    },
    {
      "cell_type": "code",
      "metadata": {
        "id": "AD07niUwIsGh"
      },
      "source": [
        "for i in [\"Customer_Since_Months\",'Cancellation_Last_1Month']:\n",
        "  df1_train[i]=df1_train[i].astype('int')"
      ],
      "execution_count": 136,
      "outputs": []
    },
    {
      "cell_type": "code",
      "metadata": {
        "colab": {
          "base_uri": "https://localhost:8080/"
        },
        "id": "DyzDOxkhgWIE",
        "outputId": "534badee-ae68-4d6d-8ef0-bb209b05c917"
      },
      "source": [
        "df1_train.isnull().sum()"
      ],
      "execution_count": 137,
      "outputs": [
        {
          "output_type": "execute_result",
          "data": {
            "text/plain": [
              "Trip_ID                        0\n",
              "Type_of_Cab                    0\n",
              "Confidence_Life_Style_Index    0\n",
              "Destination_Type               0\n",
              "Gender                         0\n",
              "Trip_Distance                  0\n",
              "Customer_Since_Months          0\n",
              "Life_Style_Index               0\n",
              "Customer_Rating                0\n",
              "Cancellation_Last_1Month       0\n",
              "Var2                           0\n",
              "Var3                           0\n",
              "Surge_Pricing_Type             0\n",
              "dtype: int64"
            ]
          },
          "metadata": {},
          "execution_count": 137
        }
      ]
    },
    {
      "cell_type": "code",
      "metadata": {
        "colab": {
          "base_uri": "https://localhost:8080/",
          "height": 565
        },
        "id": "qpRXZw4rj47Y",
        "outputId": "7532f807-9a60-4849-fb34-33b260bcd20b"
      },
      "source": [
        "plt.figure(figsize=[15,7])\n",
        "sns.heatmap(df1_train.isnull(),cbar=False)\n",
        "plt.show()"
      ],
      "execution_count": 138,
      "outputs": [
        {
          "output_type": "display_data",
          "data": {
            "image/png": "[encoded data removed]",
            "text/plain": [
              "<Figure size 1080x504 with 1 Axes>"
            ]
          },
          "metadata": {
            "needs_background": "light"
          }
        }
      ]
    },
    {
      "cell_type": "markdown",
      "metadata": {
        "id": "Kmi9k3cujqc8"
      },
      "source": [
        "# Numerical and categorical features"
      ]
    },
    {
      "cell_type": "code",
      "metadata": {
        "id": "R9gH5Aan_d7w"
      },
      "source": [
        "df1_train.drop([\"Trip_ID\"],axis=1,inplace=True)"
      ],
      "execution_count": 139,
      "outputs": []
    },
    {
      "cell_type": "markdown",
      "metadata": {
        "id": "TL-ZQQmv_Pd4"
      },
      "source": [
        "***Inference***\n",
        "* Trip id is not the valid column to taken into consideration while building model so drop the column"
      ]
    },
    {
      "cell_type": "code",
      "metadata": {
        "colab": {
          "base_uri": "https://localhost:8080/"
        },
        "id": "9JOKIiavYcUB",
        "outputId": "d52a67e4-fced-4995-a9c4-49c4a35b8e25"
      },
      "source": [
        "num_features=df1_train.select_dtypes(include='number')\n",
        "num_features.columns"
      ],
      "execution_count": 140,
      "outputs": [
        {
          "output_type": "execute_result",
          "data": {
            "text/plain": [
              "Index(['Trip_Distance', 'Customer_Since_Months', 'Life_Style_Index',\n",
              "       'Customer_Rating', 'Cancellation_Last_1Month', 'Var2', 'Var3',\n",
              "       'Surge_Pricing_Type'],\n",
              "      dtype='object')"
            ]
          },
          "metadata": {},
          "execution_count": 140
        }
      ]
    },
    {
      "cell_type": "code",
      "metadata": {
        "colab": {
          "base_uri": "https://localhost:8080/"
        },
        "id": "lpwyK59NjX-X",
        "outputId": "67f7ec7f-f94c-45ac-b09b-651dd2110102"
      },
      "source": [
        "cat_features=df1_train.select_dtypes(include=\"object\")\n",
        "cat_features.columns"
      ],
      "execution_count": 141,
      "outputs": [
        {
          "output_type": "execute_result",
          "data": {
            "text/plain": [
              "Index(['Type_of_Cab', 'Confidence_Life_Style_Index', 'Destination_Type',\n",
              "       'Gender'],\n",
              "      dtype='object')"
            ]
          },
          "metadata": {},
          "execution_count": 141
        }
      ]
    },
    {
      "cell_type": "markdown",
      "metadata": {
        "id": "5rrsQEVR81Ya"
      },
      "source": [
        "# **Treating Outliers**"
      ]
    },
    {
      "cell_type": "code",
      "metadata": {
        "colab": {
          "base_uri": "https://localhost:8080/",
          "height": 1000
        },
        "id": "hVMWPhgUXw3I",
        "outputId": "5b9250df-6754-466a-f3df-54f78fe10701"
      },
      "source": [
        "for i in num_features.columns:\n",
        "  sns.boxplot(df_train[i])\n",
        "  plt.show()"
      ],
      "execution_count": 142,
      "outputs": [
        {
          "output_type": "display_data",
          "data": {
            "image/png": "[encoded data removed]",
            "text/plain": [
              "<Figure size 720x360 with 1 Axes>"
            ]
          },
          "metadata": {
            "needs_background": "light"
          }
        },
        {
          "output_type": "display_data",
          "data": {
            "image/png": "[encoded data removed]",
            "text/plain": [
              "<Figure size 720x360 with 1 Axes>"
            ]
          },
          "metadata": {
            "needs_background": "light"
          }
        },
        {
          "output_type": "display_data",
          "data": {
            "image/png": "[encoded data removed]",
            "text/plain": [
              "<Figure size 720x360 with 1 Axes>"
            ]
          },
          "metadata": {
            "needs_background": "light"
          }
        },
        {
          "output_type": "display_data",
          "data": {
            "image/png": "[encoded data removed]",
            "text/plain": [
              "<Figure size 720x360 with 1 Axes>"
            ]
          },
          "metadata": {
            "needs_background": "light"
          }
        },
        {
          "output_type": "display_data",
          "data": {
            "image/png": "[encoded data removed]",
            "text/plain": [
              "<Figure size 720x360 with 1 Axes>"
            ]
          },
          "metadata": {
            "needs_background": "light"
          }
        },
        {
          "output_type": "display_data",
          "data": {
            "image/png": "[encoded data removed]",
            "text/plain": [
              "<Figure size 720x360 with 1 Axes>"
            ]
          },
          "metadata": {
            "needs_background": "light"
          }
        },
        {
          "output_type": "display_data",
          "data": {
            "image/png": "[encoded data removed]",
            "text/plain": [
              "<Figure size 720x360 with 1 Axes>"
            ]
          },
          "metadata": {
            "needs_background": "light"
          }
        },
        {
          "output_type": "display_data",
          "data": {
            "image/png": "[encoded data removed]",
            "text/plain": [
              "<Figure size 720x360 with 1 Axes>"
            ]
          },
          "metadata": {
            "needs_background": "light"
          }
        }
      ]
    },
    {
      "cell_type": "markdown",
      "metadata": {
        "id": "0mTqJJC3k1Vh"
      },
      "source": [
        " ***Inference***\n",
        " * As we saw there are some outliers present in our dataset.\n",
        " * I am not treating outliers since column outliers may be most important for classifying the customer behaviour, as some columns like lifestyleindex is derived and given by client so we are not treating it.\n",
        "\n",
        "\n",
        "\n"
      ]
    },
    {
      "cell_type": "code",
      "metadata": {
        "colab": {
          "base_uri": "https://localhost:8080/",
          "height": 1000
        },
        "id": "69g5_MiElGE9",
        "outputId": "eb1a3055-a496-436d-8a04-754d8b388796"
      },
      "source": [
        "for i in num_features.columns:\n",
        "  sns.distplot(df_train[i])\n",
        "  plt.show()"
      ],
      "execution_count": 143,
      "outputs": [
        {
          "output_type": "display_data",
          "data": {
            "image/png": "[encoded data removed]",
            "text/plain": [
              "<Figure size 720x360 with 1 Axes>"
            ]
          },
          "metadata": {
            "needs_background": "light"
          }
        },
        {
          "output_type": "display_data",
          "data": {
            "image/png": "[encoded data removed]",
            "text/plain": [
              "<Figure size 720x360 with 1 Axes>"
            ]
          },
          "metadata": {
            "needs_background": "light"
          }
        },
        {
          "output_type": "display_data",
          "data": {
            "image/png": "[encoded data removed]",
            "text/plain": [
              "<Figure size 720x360 with 1 Axes>"
            ]
          },
          "metadata": {
            "needs_background": "light"
          }
        },
        {
          "output_type": "display_data",
          "data": {
            "image/png": "[encoded data removed]",
            "text/plain": [
              "<Figure size 720x360 with 1 Axes>"
            ]
          },
          "metadata": {
            "needs_background": "light"
          }
        },
        {
          "output_type": "display_data",
          "data": {
            "image/png": "[encoded data removed]",
            "text/plain": [
              "<Figure size 720x360 with 1 Axes>"
            ]
          },
          "metadata": {
            "needs_background": "light"
          }
        },
        {
          "output_type": "display_data",
          "data": {
            "image/png": "[encoded data removed]",
            "text/plain": [
              "<Figure size 720x360 with 1 Axes>"
            ]
          },
          "metadata": {
            "needs_background": "light"
          }
        },
        {
          "output_type": "display_data",
          "data": {
            "image/png": "[encoded data removed]",
            "text/plain": [
              "<Figure size 720x360 with 1 Axes>"
            ]
          },
          "metadata": {
            "needs_background": "light"
          }
        },
        {
          "output_type": "display_data",
          "data": {
            "image/png": "[encoded data removed]",
            "text/plain": [
              "<Figure size 720x360 with 1 Axes>"
            ]
          },
          "metadata": {
            "needs_background": "light"
          }
        }
      ]
    },
    {
      "cell_type": "code",
      "metadata": {
        "colab": {
          "base_uri": "https://localhost:8080/"
        },
        "id": "LzJ6PzOBlGSC",
        "outputId": "f12f9ce7-3306-4d20-cfab-fc08ed8b963c"
      },
      "source": [
        "df1_train.skew()"
      ],
      "execution_count": 144,
      "outputs": [
        {
          "output_type": "execute_result",
          "data": {
            "text/plain": [
              "Trip_Distance               0.723752\n",
              "Customer_Since_Months      -0.228203\n",
              "Life_Style_Index            0.210508\n",
              "Customer_Rating            -0.191131\n",
              "Cancellation_Last_1Month    1.550869\n",
              "Var2                        1.184634\n",
              "Var3                        0.828977\n",
              "Surge_Pricing_Type         -0.255149\n",
              "dtype: float64"
            ]
          },
          "metadata": {},
          "execution_count": 144
        }
      ]
    },
    {
      "cell_type": "markdown",
      "metadata": {
        "id": "F4_11-y28Owm"
      },
      "source": [
        "# **Univariant Analysis**"
      ]
    },
    {
      "cell_type": "markdown",
      "metadata": {
        "id": "lli6hDVcFh0X"
      },
      "source": [
        " ***categorical Features***"
      ]
    },
    {
      "cell_type": "code",
      "metadata": {
        "colab": {
          "base_uri": "https://localhost:8080/",
          "height": 500
        },
        "id": "TSreXYUGlJ0K",
        "outputId": "b23ec2c8-cddf-4d87-85e3-dacc9b1b9333"
      },
      "source": [
        "cat_col=['Type_of_Cab', 'Confidence_Life_Style_Index', 'Destination_Type','Gender']\n",
        "fig,axes=plt.subplots(2,2,figsize=[12,8])\n",
        "for indx,cat_col in enumerate(cat_col) :\n",
        "  rows,columns=indx//2,indx%2\n",
        "  sns.countplot(data=df1_train,x=cat_col,ax=axes[rows,columns])\n",
        "plt.subplots_adjust(wspace=0.5,hspace=0.5)"
      ],
      "execution_count": 145,
      "outputs": [
        {
          "output_type": "display_data",
          "data": {
            "image/png": "[encoded data removed]",
            "text/plain": [
              "<Figure size 864x576 with 4 Axes>"
            ]
          },
          "metadata": {
            "needs_background": "light"
          }
        }
      ]
    },
    {
      "cell_type": "markdown",
      "metadata": {
        "id": "F4PpgVjxCabg"
      },
      "source": [
        "**Inference**\n",
        "\n",
        "1.Type_of_Cab\n",
        "* Cab type \"B\" is most used or requested by passengers (customers) followed by \"C\",\"A\",\"F\",\"D\" and \"E\".\n",
        "2.Confidence_Life_Style_Index\n",
        "* \"A\" type of the Customers are having a good behaviour and confidence with Cab drivers followed by \"B\",\"C\".\n",
        "3.Destination_Type\n",
        "* As destination_type is divided into 14 parts, In that type \"A\" destintion count is more followed by \"B\",\"C\",\"D\",\"E\",\"F\",\"G\",\"H\",\"I\",\"J\",\"L\",\"M\" and \"N\".\n",
        "4.Gender\n",
        "* Cabs used by Male passengers are most than Female."
      ]
    },
    {
      "cell_type": "markdown",
      "metadata": {
        "id": "1HgjcJEdFszI"
      },
      "source": [
        "***Discrete Features***"
      ]
    },
    {
      "cell_type": "code",
      "metadata": {
        "colab": {
          "base_uri": "https://localhost:8080/",
          "height": 352
        },
        "id": "VyV_1lu58h6R",
        "outputId": "196ec401-967c-4267-9a97-4e54d701e46a"
      },
      "source": [
        "dis_col=['Customer_Since_Months','Cancellation_Last_1Month','Surge_Pricing_Type']\n",
        "fig,axes=plt.subplots(1,3,figsize=[18,5])\n",
        "sns.countplot(data=df1_train,x=dis_col[0],ax=axes[0])\n",
        "sns.countplot(data=df1_train,x=dis_col[1],ax=axes[1])\n",
        "sns.countplot(data=df1_train,x=dis_col[2],ax=axes[2])"
      ],
      "execution_count": 146,
      "outputs": [
        {
          "output_type": "execute_result",
          "data": {
            "text/plain": [
              "<matplotlib.axes._subplots.AxesSubplot at 0x7f635561c350>"
            ]
          },
          "metadata": {},
          "execution_count": 146
        },
        {
          "output_type": "display_data",
          "data": {
            "image/png": "[encoded data removed]",
            "text/plain": [
              "<Figure size 1296x360 with 3 Axes>"
            ]
          },
          "metadata": {
            "needs_background": "light"
          }
        }
      ]
    },
    {
      "cell_type": "markdown",
      "metadata": {
        "id": "hpwr7K_UID1O"
      },
      "source": [
        "***Inference***\n",
        "\n",
        "1. Customer_Since_Months\n",
        " * Customer using cab services since 10 months are more than other months.\n",
        "2. Cancellation_Last_1Month\n",
        " * The customers didn't cancelled their trips as there are less cancellation since last 1 month.\n",
        "3. Surge_Pricing_Type\n",
        " * Pricing Type \"2\" has most count followed by \"3\" and \"1\".\n"
      ]
    },
    {
      "cell_type": "markdown",
      "metadata": {
        "id": "htDN-k1FdIVt"
      },
      "source": [
        "***Numerical Features***"
      ]
    },
    {
      "cell_type": "code",
      "metadata": {
        "id": "sZychvtX8iCc"
      },
      "source": [
        "num_feat=['Trip_Distance','Life_Style_Index','var2','var3','Customer_Rating']"
      ],
      "execution_count": 147,
      "outputs": []
    },
    {
      "cell_type": "code",
      "metadata": {
        "colab": {
          "base_uri": "https://localhost:8080/",
          "height": 335
        },
        "id": "bVjV9RVm8iGT",
        "outputId": "b9b38cdc-ce6f-4ef3-be98-e8ce5ea98360"
      },
      "source": [
        "sns.distplot(df1_train['Trip_Distance'])\n",
        "plt.axvline(df1_train['Trip_Distance'].mean(),color=\"red\")\n",
        "plt.axvline(df1_train['Trip_Distance'].median(),color=\"green\")\n",
        "plt.show()"
      ],
      "execution_count": 148,
      "outputs": [
        {
          "output_type": "display_data",
          "data": {
            "image/png": "[encoded data removed]",
            "text/plain": [
              "<Figure size 720x360 with 1 Axes>"
            ]
          },
          "metadata": {
            "needs_background": "light"
          }
        }
      ]
    },
    {
      "cell_type": "markdown",
      "metadata": {
        "id": "PmrQDD5Zgy4f"
      },
      "source": [
        "***Inference***\n",
        "\n",
        "* Most of the passengers has travelled a distance of 25 to 35.\n",
        "* Average distance travelled by the passengers is 45."
      ]
    },
    {
      "cell_type": "code",
      "metadata": {
        "colab": {
          "base_uri": "https://localhost:8080/",
          "height": 335
        },
        "id": "GHoKDYw_8iIY",
        "outputId": "0bac16c0-9ed1-4261-e222-e1b09b0697b2"
      },
      "source": [
        "sns.distplot(df1_train['Life_Style_Index'])\n",
        "plt.axvline(df1_train['Life_Style_Index'].mean(),color=\"red\")\n",
        "plt.axvline(df1_train['Life_Style_Index'].median(),color=\"green\")\n",
        "plt.show()"
      ],
      "execution_count": 149,
      "outputs": [
        {
          "output_type": "display_data",
          "data": {
            "image/png": "[encoded data removed]",
            "text/plain": [
              "<Figure size 720x360 with 1 Axes>"
            ]
          },
          "metadata": {
            "needs_background": "light"
          }
        }
      ]
    },
    {
      "cell_type": "markdown",
      "metadata": {
        "id": "2oVFbuhKhby7"
      },
      "source": [
        "***Inference***\n",
        "\n",
        "* Mean life style index of the customer is 2.8"
      ]
    },
    {
      "cell_type": "code",
      "metadata": {
        "colab": {
          "base_uri": "https://localhost:8080/",
          "height": 335
        },
        "id": "hc14tzNU8iN6",
        "outputId": "53d46aca-8e76-473e-914e-638790a7b28c"
      },
      "source": [
        "sns.distplot(df1_train['Customer_Rating'])\n",
        "plt.axvline(df1_train['Customer_Rating'].mean(),color=\"red\")\n",
        "plt.axvline(df1_train['Customer_Rating'].median(),color=\"green\")\n",
        "plt.show()"
      ],
      "execution_count": 150,
      "outputs": [
        {
          "output_type": "display_data",
          "data": {
            "image/png": "[encoded data removed]",
            "text/plain": [
              "<Figure size 720x360 with 1 Axes>"
            ]
          },
          "metadata": {
            "needs_background": "light"
          }
        }
      ]
    },
    {
      "cell_type": "markdown",
      "metadata": {
        "id": "9nnpJ7qcjLYU"
      },
      "source": [
        "\n",
        "***Inference***\n",
        "* Most of the customers gave rating between 2.5 and 3.5\n",
        "* Average of life time ratings of the customer till date is around 2.8\n",
        "* The distribution is somewhat left skewed."
      ]
    },
    {
      "cell_type": "code",
      "metadata": {
        "colab": {
          "base_uri": "https://localhost:8080/",
          "height": 334
        },
        "id": "jk9NVo6P8iRA",
        "outputId": "3ae1cb0a-13f5-4a29-8f0a-1d617c151905"
      },
      "source": [
        "fig,axes=plt.subplots(1,2,figsize=[18,5])\n",
        "sns.distplot(df1_train['Var2'],ax=axes[0])\n",
        "sns.distplot(df1_train['Var3'],ax=axes[1])\n",
        "plt.show()"
      ],
      "execution_count": 151,
      "outputs": [
        {
          "output_type": "display_data",
          "data": {
            "image/png": "[encoded data removed]",
            "text/plain": [
              "<Figure size 1296x360 with 2 Axes>"
            ]
          },
          "metadata": {
            "needs_background": "light"
          }
        }
      ]
    },
    {
      "cell_type": "markdown",
      "metadata": {
        "id": "pxhAs7Ozyjhc"
      },
      "source": [
        "# **Bivariant Analysis**"
      ]
    },
    {
      "cell_type": "markdown",
      "metadata": {
        "id": "v_L_Conxywcc"
      },
      "source": [
        "***category columns and surge_pricing_type***"
      ]
    },
    {
      "cell_type": "code",
      "metadata": {
        "colab": {
          "base_uri": "https://localhost:8080/",
          "height": 498
        },
        "id": "XCvRDPwS8iX3",
        "outputId": "e17cb4ee-bfab-4db8-86d4-60985028b9ba"
      },
      "source": [
        "cat_col=['Type_of_Cab', 'Confidence_Life_Style_Index', 'Destination_Type','Gender']\n",
        "fig,axes=plt.subplots(2,2,figsize=[12,8])\n",
        "for indx,cat_col in enumerate(cat_col):\n",
        "  rows,columns=indx//2,indx%2\n",
        "  sns.countplot(data=df1_train,x=cat_col,hue=df1_train[\"Surge_Pricing_Type\"],ax=axes[rows,columns])\n",
        "plt.subplots_adjust(wspace=0.5,hspace=0.5)"
      ],
      "execution_count": 152,
      "outputs": [
        {
          "output_type": "display_data",
          "data": {
            "image/png": "[encoded data removed]",
            "text/plain": [
              "<Figure size 864x576 with 4 Axes>"
            ]
          },
          "metadata": {
            "needs_background": "light"
          }
        }
      ]
    },
    {
      "cell_type": "markdown",
      "metadata": {
        "id": "kTUEZqO11gzT"
      },
      "source": [
        "***INFERENCE***\n",
        "\n",
        "1.Type of cab and surge_pricing_type\n",
        "* If we took Cab type \"B\" then almost pricing type will be \"2\" followed by \"1\"and \"3\".\n",
        "* If we took Cab type \"D\" then almost pricing type will be \"3\" followed by \"2\"and \"1\".\n",
        "* If we took Cab type \"C\" then almost pricing type will be \"2\" followed by \"3\"and \"1\".\n",
        "* If we took Cab type \"A\" then almost pricing type will be \"1\" followed by \"3\"and \"2\".\n",
        "* If we took Cab type \"E\" then almost pricing type will be \"3\" followed by \"2\"and \"1\".\n",
        "\n",
        "2.Confidence_life_style index and surge_pricing_type\n",
        "* If confidence_life_style_index is \"B\" then almost pricing type will be \"3\" folowed by \"2\" and \"1\".\n",
        "* If confidence_life_style_index is \"c\" then almost pricing type will be \"2\" folowed by \"3\" and \"1\".\n",
        "* If confidence_life_style_index is \"A\" then almost pricing type will be \"2\" folowed by \"1\" and \"3\".\n",
        "\n",
        "3.Destination_type and Surge_pricing_type\n",
        "* There are 14 destination_types from \"A TO N\"\n",
        "* Destination type A and B is mostly used by customers.\n",
        "* In Destination_type \"A\" pricing type is almost \"2\" followed by \"3\" and \"1\".\n",
        "* In Destination_type \"B\" pricing type is almost \"2\" followed by \"1\" and \"3\".\n",
        "* In Destination_type \"D\" pricing type is almost \"2\" followed by \"3\" and \"1\".\n",
        "* In Destination_type \"C\" pricing type is almost \"2\" followed by \"3\" and \"1\".\n",
        "* In Destination_type \"G\" pricing type is almost \"2\" followed by \"3\" and \"1\".\n",
        "* In Destination_type \"E\" pricing type is almost equal.\n",
        "\n",
        "4.Gender and Surge_pricing_type\n",
        "* Male customers are more than female\n",
        "* If the customer is \"male\" then almost pricing type is \"2\" followed by \"3\" and \"1\".\n",
        "* If the customer is \"female\" then almost pricing type is \"2\" followed by \"3\" and\"1\".\n",
        " \n",
        " \n",
        " \n",
        " \n",
        "\n",
        "\n",
        "\n",
        "\n",
        "\n",
        "\n",
        "\n",
        " \n"
      ]
    },
    {
      "cell_type": "markdown",
      "metadata": {
        "id": "D1kpSsWGY-KB"
      },
      "source": [
        "***Discrete columns and surge_pricing_type***"
      ]
    },
    {
      "cell_type": "code",
      "metadata": {
        "colab": {
          "base_uri": "https://localhost:8080/",
          "height": 335
        },
        "id": "16u-AxkQ8iZ8",
        "outputId": "9e098307-9214-4d2b-9cfa-4f5f6a5849a6"
      },
      "source": [
        "dis_col=['Customer_Since_Months','Cancellation_Last_1Month','Surge_Pricing_Type']\n",
        "fig,axes=plt.subplots(1,2,figsize=[18,5])\n",
        "sns.countplot(x=dis_col[0],data=df1_train,hue=dis_col[2],ax=axes[0])\n",
        "sns.countplot(x=dis_col[1],data=df1_train,hue=dis_col[2],ax=axes[1])\n",
        "plt.subplots_adjust(wspace=0.5,hspace=0.5)\n",
        "plt.show()"
      ],
      "execution_count": 153,
      "outputs": [
        {
          "output_type": "display_data",
          "data": {
            "image/png": "[encoded data removed]",
            "text/plain": [
              "<Figure size 1296x360 with 2 Axes>"
            ]
          },
          "metadata": {
            "needs_background": "light"
          }
        }
      ]
    },
    {
      "cell_type": "markdown",
      "metadata": {
        "id": "0M3M4bCBacgE"
      },
      "source": [
        "***Inference***\n",
        "\n",
        "1.Customer_since_months and surge_pricing_type\n",
        "* The customers are using cabs for past 11 months, \"0\" indicates the current month customer.\n",
        "* All the customers for past 11 months almost prefers to use pricing type \"2\".\n",
        "\n",
        "2.Cancellation last_1month\n",
        "* Most of the times pricing type is \"2\" followed by \"1\" and \"3\"\n",
        "* If the cancellation of the trip are more than \"1\" then pricing type is \"3\"."
      ]
    },
    {
      "cell_type": "code",
      "metadata": {
        "colab": {
          "base_uri": "https://localhost:8080/",
          "height": 335
        },
        "id": "GbS2IKxzc8zz",
        "outputId": "367e6d91-b2eb-49c6-8dad-dba7f974df03"
      },
      "source": [
        "fig,axes=plt.subplots(1,2,figsize=[18,5])\n",
        "sns.barplot(data=df1_train,x='Destination_Type',y='Trip_Distance',ax=axes[0])\n",
        "sns.barplot(data=df1_train,x='Destination_Type',y='Customer_Rating',ax=axes[1])\n",
        "plt.show()\n"
      ],
      "execution_count": 154,
      "outputs": [
        {
          "output_type": "display_data",
          "data": {
            "image/png": "[encoded data removed]",
            "text/plain": [
              "<Figure size 1296x360 with 2 Axes>"
            ]
          },
          "metadata": {
            "needs_background": "light"
          }
        }
      ]
    },
    {
      "cell_type": "markdown",
      "metadata": {
        "id": "JA3jBcKKebOa"
      },
      "source": [
        "***Inference***\n",
        "\n",
        "* For Destination_type \"N\" \"G\" \"J\" \"H\" \"I\" Distance travelled by the customer  is short around 25 km.\n",
        "* We can see for the short_distance trip customer ratig is high 3.5.\n",
        "* For Destination_type \"A\" \"B\"  Distance travelled by the customer  is short around 45 km.\n",
        "* We can see for the long_distance trip customer ratig is low around 2.8.\n",
        "\n"
      ]
    },
    {
      "cell_type": "code",
      "metadata": {
        "colab": {
          "base_uri": "https://localhost:8080/",
          "height": 352
        },
        "id": "YD5TualjoRNM",
        "outputId": "9a5ca8ea-2c82-4beb-d858-24477211d024"
      },
      "source": [
        "sns.barplot(data=df1_train,x='Type_of_Cab',y='Trip_Distance')"
      ],
      "execution_count": 155,
      "outputs": [
        {
          "output_type": "execute_result",
          "data": {
            "text/plain": [
              "<matplotlib.axes._subplots.AxesSubplot at 0x7f6358122b50>"
            ]
          },
          "metadata": {},
          "execution_count": 155
        },
        {
          "output_type": "display_data",
          "data": {
            "image/png": "[encoded data removed]",
            "text/plain": [
              "<Figure size 720x360 with 1 Axes>"
            ]
          },
          "metadata": {
            "needs_background": "light"
          }
        }
      ]
    },
    {
      "cell_type": "markdown",
      "metadata": {
        "id": "XrdcbpowopzM"
      },
      "source": [
        "***Inference***\n",
        "\n",
        "* Customers travelled more on cab \"E\" which is almost 50"
      ]
    },
    {
      "cell_type": "markdown",
      "metadata": {
        "id": "AUTnSdWKcdbH"
      },
      "source": [
        "***Numeric_columns and surge_pricing_type***"
      ]
    },
    {
      "cell_type": "code",
      "metadata": {
        "colab": {
          "base_uri": "https://localhost:8080/",
          "height": 501
        },
        "id": "8PiOZz_2aaGf",
        "outputId": "378561bb-9ea8-40a0-a2f7-b72df4652c01"
      },
      "source": [
        "num_col=[\"Trip_Distance\",\"Life_Style_Index\",\"Customer_Rating\",\"Var2\",\"Var3\"]\n",
        "fig,axes=plt.subplots(3,2,figsize=[12,8])\n",
        "sns.boxplot(x=\"Surge_Pricing_Type\",y=num_col[0],data=df1_train,ax=axes[0,0])\n",
        "sns.boxplot(x=\"Surge_Pricing_Type\",y=num_col[1],data=df1_train,ax=axes[0,1])\n",
        "sns.boxplot(x=\"Surge_Pricing_Type\",y=num_col[2],data=df1_train,ax=axes[1,0])\n",
        "sns.boxplot(x=\"Surge_Pricing_Type\",y=num_col[3],data=df1_train,ax=axes[1,1])\n",
        "sns.boxplot(x=\"Surge_Pricing_Type\",y=num_col[4],data=df1_train,ax=axes[2,0])\n",
        "plt.subplots_adjust(wspace=0.5,hspace=0.5)\n",
        "plt.show()"
      ],
      "execution_count": 156,
      "outputs": [
        {
          "output_type": "display_data",
          "data": {
            "image/png": "[encoded data removed]",
            "text/plain": [
              "<Figure size 864x576 with 6 Axes>"
            ]
          },
          "metadata": {
            "needs_background": "light"
          }
        }
      ]
    },
    {
      "cell_type": "markdown",
      "metadata": {
        "id": "KAOoqbSR6skG"
      },
      "source": [
        "***Inference***\n",
        "\n",
        "1.Trip_Distance\n",
        "* If the trip_distance median is around 35 then pricing is around \"1\" and \"2\"\n",
        "* If the trip_distance median is around 45 then pricing is around \"3\"\n",
        "\n",
        "2.Life_Style_Index\n",
        "* If Life_Style_Index median is 2.8 then pricing type will be \"1\",\"2\",\"3\".\n",
        "\n",
        "3.Customer_rating\n",
        "* If the customer_rating is \"above 3\" then the pricing type will be \"1\".\n",
        "* If the customer_rating is \"cloase to 3\" then the pricing type will be \"2\" and \"3\""
      ]
    },
    {
      "cell_type": "markdown",
      "metadata": {
        "id": "_DDaFnbU-s67"
      },
      "source": [
        "***Descriptive Statistics***\n",
        "\n"
      ]
    },
    {
      "cell_type": "code",
      "metadata": {
        "colab": {
          "base_uri": "https://localhost:8080/",
          "height": 315
        },
        "id": "yeLuD4SllJ-4",
        "outputId": "d4797960-b8be-404d-ffc3-1a6a94aa14ff"
      },
      "source": [
        "df1_train.describe()"
      ],
      "execution_count": 157,
      "outputs": [
        {
          "output_type": "execute_result",
          "data": {
            "text/html": [
              "<div>\n",
              "<style scoped>\n",
              "    .dataframe tbody tr th:only-of-type {\n",
              "        vertical-align: middle;\n",
              "    }\n",
              "\n",
              "    .dataframe tbody tr th {\n",
              "        vertical-align: top;\n",
              "    }\n",
              "\n",
              "    .dataframe thead th {\n",
              "        text-align: right;\n",
              "    }\n",
              "</style>\n",
              "<table border=\"1\" class=\"dataframe\">\n",
              "  <thead>\n",
              "    <tr style=\"text-align: right;\">\n",
              "      <th></th>\n",
              "      <th>Trip_Distance</th>\n",
              "      <th>Customer_Since_Months</th>\n",
              "      <th>Life_Style_Index</th>\n",
              "      <th>Customer_Rating</th>\n",
              "      <th>Cancellation_Last_1Month</th>\n",
              "      <th>Var2</th>\n",
              "      <th>Var3</th>\n",
              "      <th>Surge_Pricing_Type</th>\n",
              "    </tr>\n",
              "  </thead>\n",
              "  <tbody>\n",
              "    <tr>\n",
              "      <th>count</th>\n",
              "      <td>131662.000000</td>\n",
              "      <td>131662.000000</td>\n",
              "      <td>131662.000000</td>\n",
              "      <td>131662.000000</td>\n",
              "      <td>131662.000000</td>\n",
              "      <td>131662.000000</td>\n",
              "      <td>131662.000000</td>\n",
              "      <td>131662.000000</td>\n",
              "    </tr>\n",
              "    <tr>\n",
              "      <th>mean</th>\n",
              "      <td>44.200909</td>\n",
              "      <td>5.987908</td>\n",
              "      <td>2.802066</td>\n",
              "      <td>2.849458</td>\n",
              "      <td>0.782838</td>\n",
              "      <td>51.202800</td>\n",
              "      <td>75.099019</td>\n",
              "      <td>2.155747</td>\n",
              "    </tr>\n",
              "    <tr>\n",
              "      <th>std</th>\n",
              "      <td>25.522882</td>\n",
              "      <td>3.548375</td>\n",
              "      <td>0.207959</td>\n",
              "      <td>0.980675</td>\n",
              "      <td>1.037559</td>\n",
              "      <td>4.986142</td>\n",
              "      <td>11.578278</td>\n",
              "      <td>0.738164</td>\n",
              "    </tr>\n",
              "    <tr>\n",
              "      <th>min</th>\n",
              "      <td>0.310000</td>\n",
              "      <td>0.000000</td>\n",
              "      <td>1.596380</td>\n",
              "      <td>0.001250</td>\n",
              "      <td>0.000000</td>\n",
              "      <td>40.000000</td>\n",
              "      <td>52.000000</td>\n",
              "      <td>1.000000</td>\n",
              "    </tr>\n",
              "    <tr>\n",
              "      <th>25%</th>\n",
              "      <td>24.580000</td>\n",
              "      <td>3.000000</td>\n",
              "      <td>2.687952</td>\n",
              "      <td>2.152500</td>\n",
              "      <td>0.000000</td>\n",
              "      <td>48.000000</td>\n",
              "      <td>67.000000</td>\n",
              "      <td>2.000000</td>\n",
              "    </tr>\n",
              "    <tr>\n",
              "      <th>50%</th>\n",
              "      <td>38.200000</td>\n",
              "      <td>6.000000</td>\n",
              "      <td>2.791163</td>\n",
              "      <td>2.895000</td>\n",
              "      <td>0.000000</td>\n",
              "      <td>50.000000</td>\n",
              "      <td>74.000000</td>\n",
              "      <td>2.000000</td>\n",
              "    </tr>\n",
              "    <tr>\n",
              "      <th>75%</th>\n",
              "      <td>60.730000</td>\n",
              "      <td>10.000000</td>\n",
              "      <td>2.912815</td>\n",
              "      <td>3.582500</td>\n",
              "      <td>1.000000</td>\n",
              "      <td>54.000000</td>\n",
              "      <td>82.000000</td>\n",
              "      <td>3.000000</td>\n",
              "    </tr>\n",
              "    <tr>\n",
              "      <th>max</th>\n",
              "      <td>109.230000</td>\n",
              "      <td>10.000000</td>\n",
              "      <td>4.875110</td>\n",
              "      <td>5.000000</td>\n",
              "      <td>8.000000</td>\n",
              "      <td>124.000000</td>\n",
              "      <td>206.000000</td>\n",
              "      <td>3.000000</td>\n",
              "    </tr>\n",
              "  </tbody>\n",
              "</table>\n",
              "</div>"
            ],
            "text/plain": [
              "       Trip_Distance  Customer_Since_Months  Life_Style_Index  \\\n",
              "count  131662.000000          131662.000000     131662.000000   \n",
              "mean       44.200909               5.987908          2.802066   \n",
              "std        25.522882               3.548375          0.207959   \n",
              "min         0.310000               0.000000          1.596380   \n",
              "25%        24.580000               3.000000          2.687952   \n",
              "50%        38.200000               6.000000          2.791163   \n",
              "75%        60.730000              10.000000          2.912815   \n",
              "max       109.230000              10.000000          4.875110   \n",
              "\n",
              "       Customer_Rating  Cancellation_Last_1Month           Var2  \\\n",
              "count    131662.000000             131662.000000  131662.000000   \n",
              "mean          2.849458                  0.782838      51.202800   \n",
              "std           0.980675                  1.037559       4.986142   \n",
              "min           0.001250                  0.000000      40.000000   \n",
              "25%           2.152500                  0.000000      48.000000   \n",
              "50%           2.895000                  0.000000      50.000000   \n",
              "75%           3.582500                  1.000000      54.000000   \n",
              "max           5.000000                  8.000000     124.000000   \n",
              "\n",
              "                Var3  Surge_Pricing_Type  \n",
              "count  131662.000000       131662.000000  \n",
              "mean       75.099019            2.155747  \n",
              "std        11.578278            0.738164  \n",
              "min        52.000000            1.000000  \n",
              "25%        67.000000            2.000000  \n",
              "50%        74.000000            2.000000  \n",
              "75%        82.000000            3.000000  \n",
              "max       206.000000            3.000000  "
            ]
          },
          "metadata": {},
          "execution_count": 157
        }
      ]
    },
    {
      "cell_type": "markdown",
      "metadata": {
        "id": "qPhnC0om_kVm"
      },
      "source": [
        "***Inference***\n",
        "\n",
        "* Min_Trip_Distance is 0.31 and max_trip_distance is 109\n",
        "* Average_Trip_distance is 38\n",
        "* Average_customer_rating is 2.8\n",
        "* Average_life_style_index is 2.7\n",
        "* Most of the customer prefer surge_pricing_type 2"
      ]
    },
    {
      "cell_type": "code",
      "metadata": {
        "colab": {
          "base_uri": "https://localhost:8080/",
          "height": 315
        },
        "id": "HClouFU4_dCp",
        "outputId": "0674dcd1-3ec2-4825-a353-b5ab7bfd2e3c"
      },
      "source": [
        "df1_train.corr()"
      ],
      "execution_count": 158,
      "outputs": [
        {
          "output_type": "execute_result",
          "data": {
            "text/html": [
              "<div>\n",
              "<style scoped>\n",
              "    .dataframe tbody tr th:only-of-type {\n",
              "        vertical-align: middle;\n",
              "    }\n",
              "\n",
              "    .dataframe tbody tr th {\n",
              "        vertical-align: top;\n",
              "    }\n",
              "\n",
              "    .dataframe thead th {\n",
              "        text-align: right;\n",
              "    }\n",
              "</style>\n",
              "<table border=\"1\" class=\"dataframe\">\n",
              "  <thead>\n",
              "    <tr style=\"text-align: right;\">\n",
              "      <th></th>\n",
              "      <th>Trip_Distance</th>\n",
              "      <th>Customer_Since_Months</th>\n",
              "      <th>Life_Style_Index</th>\n",
              "      <th>Customer_Rating</th>\n",
              "      <th>Cancellation_Last_1Month</th>\n",
              "      <th>Var2</th>\n",
              "      <th>Var3</th>\n",
              "      <th>Surge_Pricing_Type</th>\n",
              "    </tr>\n",
              "  </thead>\n",
              "  <tbody>\n",
              "    <tr>\n",
              "      <th>Trip_Distance</th>\n",
              "      <td>1.000000</td>\n",
              "      <td>0.117418</td>\n",
              "      <td>0.466782</td>\n",
              "      <td>-0.054654</td>\n",
              "      <td>-0.007686</td>\n",
              "      <td>0.200456</td>\n",
              "      <td>0.231706</td>\n",
              "      <td>0.135928</td>\n",
              "    </tr>\n",
              "    <tr>\n",
              "      <th>Customer_Since_Months</th>\n",
              "      <td>0.117418</td>\n",
              "      <td>1.000000</td>\n",
              "      <td>0.124007</td>\n",
              "      <td>-0.048644</td>\n",
              "      <td>-0.004823</td>\n",
              "      <td>0.043592</td>\n",
              "      <td>0.111236</td>\n",
              "      <td>0.032155</td>\n",
              "    </tr>\n",
              "    <tr>\n",
              "      <th>Life_Style_Index</th>\n",
              "      <td>0.466782</td>\n",
              "      <td>0.124007</td>\n",
              "      <td>1.000000</td>\n",
              "      <td>0.191597</td>\n",
              "      <td>0.065897</td>\n",
              "      <td>0.215803</td>\n",
              "      <td>0.303803</td>\n",
              "      <td>-0.086993</td>\n",
              "    </tr>\n",
              "    <tr>\n",
              "      <th>Customer_Rating</th>\n",
              "      <td>-0.054654</td>\n",
              "      <td>-0.048644</td>\n",
              "      <td>0.191597</td>\n",
              "      <td>1.000000</td>\n",
              "      <td>0.003595</td>\n",
              "      <td>-0.302968</td>\n",
              "      <td>-0.227531</td>\n",
              "      <td>-0.155279</td>\n",
              "    </tr>\n",
              "    <tr>\n",
              "      <th>Cancellation_Last_1Month</th>\n",
              "      <td>-0.007686</td>\n",
              "      <td>-0.004823</td>\n",
              "      <td>0.065897</td>\n",
              "      <td>0.003595</td>\n",
              "      <td>1.000000</td>\n",
              "      <td>0.095830</td>\n",
              "      <td>0.128686</td>\n",
              "      <td>0.185646</td>\n",
              "    </tr>\n",
              "    <tr>\n",
              "      <th>Var2</th>\n",
              "      <td>0.200456</td>\n",
              "      <td>0.043592</td>\n",
              "      <td>0.215803</td>\n",
              "      <td>-0.302968</td>\n",
              "      <td>0.095830</td>\n",
              "      <td>1.000000</td>\n",
              "      <td>0.683437</td>\n",
              "      <td>0.003437</td>\n",
              "    </tr>\n",
              "    <tr>\n",
              "      <th>Var3</th>\n",
              "      <td>0.231706</td>\n",
              "      <td>0.111236</td>\n",
              "      <td>0.303803</td>\n",
              "      <td>-0.227531</td>\n",
              "      <td>0.128686</td>\n",
              "      <td>0.683437</td>\n",
              "      <td>1.000000</td>\n",
              "      <td>-0.039309</td>\n",
              "    </tr>\n",
              "    <tr>\n",
              "      <th>Surge_Pricing_Type</th>\n",
              "      <td>0.135928</td>\n",
              "      <td>0.032155</td>\n",
              "      <td>-0.086993</td>\n",
              "      <td>-0.155279</td>\n",
              "      <td>0.185646</td>\n",
              "      <td>0.003437</td>\n",
              "      <td>-0.039309</td>\n",
              "      <td>1.000000</td>\n",
              "    </tr>\n",
              "  </tbody>\n",
              "</table>\n",
              "</div>"
            ],
            "text/plain": [
              "                          Trip_Distance  Customer_Since_Months  \\\n",
              "Trip_Distance                  1.000000               0.117418   \n",
              "Customer_Since_Months          0.117418               1.000000   \n",
              "Life_Style_Index               0.466782               0.124007   \n",
              "Customer_Rating               -0.054654              -0.048644   \n",
              "Cancellation_Last_1Month      -0.007686              -0.004823   \n",
              "Var2                           0.200456               0.043592   \n",
              "Var3                           0.231706               0.111236   \n",
              "Surge_Pricing_Type             0.135928               0.032155   \n",
              "\n",
              "                          Life_Style_Index  Customer_Rating  \\\n",
              "Trip_Distance                     0.466782        -0.054654   \n",
              "Customer_Since_Months             0.124007        -0.048644   \n",
              "Life_Style_Index                  1.000000         0.191597   \n",
              "Customer_Rating                   0.191597         1.000000   \n",
              "Cancellation_Last_1Month          0.065897         0.003595   \n",
              "Var2                              0.215803        -0.302968   \n",
              "Var3                              0.303803        -0.227531   \n",
              "Surge_Pricing_Type               -0.086993        -0.155279   \n",
              "\n",
              "                          Cancellation_Last_1Month      Var2      Var3  \\\n",
              "Trip_Distance                            -0.007686  0.200456  0.231706   \n",
              "Customer_Since_Months                    -0.004823  0.043592  0.111236   \n",
              "Life_Style_Index                          0.065897  0.215803  0.303803   \n",
              "Customer_Rating                           0.003595 -0.302968 -0.227531   \n",
              "Cancellation_Last_1Month                  1.000000  0.095830  0.128686   \n",
              "Var2                                      0.095830  1.000000  0.683437   \n",
              "Var3                                      0.128686  0.683437  1.000000   \n",
              "Surge_Pricing_Type                        0.185646  0.003437 -0.039309   \n",
              "\n",
              "                          Surge_Pricing_Type  \n",
              "Trip_Distance                       0.135928  \n",
              "Customer_Since_Months               0.032155  \n",
              "Life_Style_Index                   -0.086993  \n",
              "Customer_Rating                    -0.155279  \n",
              "Cancellation_Last_1Month            0.185646  \n",
              "Var2                                0.003437  \n",
              "Var3                               -0.039309  \n",
              "Surge_Pricing_Type                  1.000000  "
            ]
          },
          "metadata": {},
          "execution_count": 158
        }
      ]
    },
    {
      "cell_type": "code",
      "metadata": {
        "id": "86-Md9ckQHLu"
      },
      "source": [
        "df1_train[\"Customer_Since_Months\"]=df1_train[\"Customer_Since_Months\"].astype(\"object\")"
      ],
      "execution_count": 159,
      "outputs": []
    },
    {
      "cell_type": "code",
      "metadata": {
        "id": "9IgwNKrQQHNW"
      },
      "source": [
        "df1_train[\"Cancellation_Last_1Month\"]=df1_train[\"Cancellation_Last_1Month\"].astype(\"object\")"
      ],
      "execution_count": 160,
      "outputs": []
    },
    {
      "cell_type": "code",
      "metadata": {
        "colab": {
          "base_uri": "https://localhost:8080/"
        },
        "id": "tvWYQ3qHQb6j",
        "outputId": "9461ee79-7a10-4f9a-91d5-0c4f9b09b402"
      },
      "source": [
        "df1_train.info()"
      ],
      "execution_count": 161,
      "outputs": [
        {
          "output_type": "stream",
          "name": "stdout",
          "text": [
            "<class 'pandas.core.frame.DataFrame'>\n",
            "Int64Index: 131662 entries, 0 to 47719\n",
            "Data columns (total 12 columns):\n",
            " #   Column                       Non-Null Count   Dtype  \n",
            "---  ------                       --------------   -----  \n",
            " 0   Type_of_Cab                  131662 non-null  object \n",
            " 1   Confidence_Life_Style_Index  131662 non-null  object \n",
            " 2   Destination_Type             131662 non-null  object \n",
            " 3   Gender                       131662 non-null  object \n",
            " 4   Trip_Distance                131662 non-null  float64\n",
            " 5   Customer_Since_Months        131662 non-null  object \n",
            " 6   Life_Style_Index             131662 non-null  float64\n",
            " 7   Customer_Rating              131662 non-null  float64\n",
            " 8   Cancellation_Last_1Month     131662 non-null  object \n",
            " 9   Var2                         131662 non-null  float64\n",
            " 10  Var3                         131662 non-null  float64\n",
            " 11  Surge_Pricing_Type           131662 non-null  float64\n",
            "dtypes: float64(6), object(6)\n",
            "memory usage: 18.1+ MB\n"
          ]
        }
      ]
    },
    {
      "cell_type": "code",
      "metadata": {
        "colab": {
          "base_uri": "https://localhost:8080/",
          "height": 488
        },
        "id": "lRAMqvy-AxhD",
        "outputId": "899ec294-f65c-45ab-e991-4fc2068137bc"
      },
      "source": [
        "plt.figure(figsize=(12,8))\n",
        "sns.heatmap(df1_train.corr(),annot=True)\n",
        "plt.show()"
      ],
      "execution_count": 162,
      "outputs": [
        {
          "output_type": "display_data",
          "data": {
            "image/png": "[encoded data removed]",
            "text/plain": [
              "<Figure size 864x576 with 2 Axes>"
            ]
          },
          "metadata": {
            "needs_background": "light"
          }
        }
      ]
    },
    {
      "cell_type": "markdown",
      "metadata": {
        "id": "rHacBIG6BMlL"
      },
      "source": [
        "***Inference***\n",
        "\n",
        "* No strong correlation between any of the variables and target \n",
        "* All the variables has unique information"
      ]
    },
    {
      "cell_type": "code",
      "metadata": {
        "colab": {
          "base_uri": "https://localhost:8080/"
        },
        "id": "rlrBC0diRcoW",
        "outputId": "53e63fa8-7edb-4f12-a986-6c8a99d01e8f"
      },
      "source": [
        "num_features=df1_train.select_dtypes(include='number')\n",
        "num_features.columns"
      ],
      "execution_count": 167,
      "outputs": [
        {
          "output_type": "execute_result",
          "data": {
            "text/plain": [
              "Index(['Trip_Distance', 'Life_Style_Index', 'Customer_Rating', 'Var2', 'Var3',\n",
              "       'Surge_Pricing_Type'],\n",
              "      dtype='object')"
            ]
          },
          "metadata": {},
          "execution_count": 167
        }
      ]
    },
    {
      "cell_type": "code",
      "metadata": {
        "colab": {
          "base_uri": "https://localhost:8080/"
        },
        "id": "JYeJ-4j1RkwG",
        "outputId": "162667f5-7d70-4619-b8fe-28f86e7e952a"
      },
      "source": [
        "cat_features=df1_train.select_dtypes(exclude='number')\n",
        "cat_features.columns"
      ],
      "execution_count": 166,
      "outputs": [
        {
          "output_type": "execute_result",
          "data": {
            "text/plain": [
              "Index(['Type_of_Cab', 'Confidence_Life_Style_Index', 'Destination_Type',\n",
              "       'Gender', 'Customer_Since_Months', 'Cancellation_Last_1Month'],\n",
              "      dtype='object')"
            ]
          },
          "metadata": {},
          "execution_count": 166
        }
      ]
    },
    {
      "cell_type": "markdown",
      "metadata": {
        "id": "YudVd-WMBlJU"
      },
      "source": [
        "***Multicollinearity -Variance inflation factor***"
      ]
    },
    {
      "cell_type": "code",
      "metadata": {
        "id": "S_PPvmM7lKOb"
      },
      "source": [
        "from statsmodels.stats.outliers_influence import variance_inflation_factor as VIF"
      ],
      "execution_count": 168,
      "outputs": []
    },
    {
      "cell_type": "code",
      "metadata": {
        "colab": {
          "base_uri": "https://localhost:8080/"
        },
        "id": "WBP4iZXSgTSD",
        "outputId": "9740b339-3627-456d-aaa1-552b14c47fce"
      },
      "source": [
        "num_features.shape"
      ],
      "execution_count": 169,
      "outputs": [
        {
          "output_type": "execute_result",
          "data": {
            "text/plain": [
              "(131662, 6)"
            ]
          },
          "metadata": {},
          "execution_count": 169
        }
      ]
    },
    {
      "cell_type": "code",
      "metadata": {
        "colab": {
          "base_uri": "https://localhost:8080/"
        },
        "id": "pKCeiek6cbLf",
        "outputId": "18e74245-95cc-4ad7-a076-fdc153949785"
      },
      "source": [
        "for ind in range(len(num_features.columns)):\n",
        "  vif=pd.DataFrame()\n",
        "  vif[\"VIF_FACTOR\"]=[VIF(num_features.values,i) for i in range(num_features.shape[1])]\n",
        "  vif[\"FEATURES\"]=num_features.columns\n",
        "  multi=vif[vif[\"VIF_FACTOR\"]>10]\n",
        "\n",
        "\n",
        "  if multi.empty==False:\n",
        "    df_sorted=multi.sort_values(by=\"VIF_FACTOR\",ascending=False)\n",
        "    print(df_sorted)\n",
        "  else:\n",
        "    print(vif)\n",
        "    break\n",
        "\n",
        "  if df_sorted.empty==False:\n",
        "    num_features=num_features.drop(df_sorted[\"FEATURES\"].iloc[0],axis=1)\n",
        "  else:\n",
        "    print(vif)\n",
        "    print(\" \")"
      ],
      "execution_count": 170,
      "outputs": [
        {
          "output_type": "stream",
          "name": "stdout",
          "text": [
            "   VIF_FACTOR          FEATURES\n",
            "3  163.178991              Var2\n",
            "1  141.035769  Life_Style_Index\n",
            "4   84.302753              Var3\n",
            "2   11.443787   Customer_Rating\n",
            "   VIF_FACTOR          FEATURES\n",
            "1   88.259963  Life_Style_Index\n",
            "3   50.280699              Var3\n",
            "2   11.163236   Customer_Rating\n",
            "   VIF_FACTOR FEATURES\n",
            "2   14.177688     Var3\n",
            "   VIF_FACTOR            FEATURES\n",
            "0    3.702623       Trip_Distance\n",
            "1    4.729370     Customer_Rating\n",
            "2    5.567343  Surge_Pricing_Type\n"
          ]
        }
      ]
    },
    {
      "cell_type": "markdown",
      "metadata": {
        "id": "GLuVhEVOsh64"
      },
      "source": [
        "***Inference***\n",
        "\n",
        "* Life_Style_Index,Var2,Var3 is having multicollinearity in the data.\n"
      ]
    },
    {
      "cell_type": "markdown",
      "metadata": {
        "id": "hgI0Yv-IvbzS"
      },
      "source": [
        "![picture](https://drive.google.com/uc?export=view&id=1ySuJq7CjVkPTbliDBK4NeTDQruHxitZH)"
      ]
    },
    {
      "cell_type": "markdown",
      "metadata": {
        "id": "jqU_lFVSw7Em"
      },
      "source": [
        "![picture](https://drive.google.com/uc?export=view&id=1spg7GPkDW6CCTehkhNisLAIBW3rzNY8W)"
      ]
    },
    {
      "cell_type": "markdown",
      "metadata": {
        "id": "2Y3rzGbc2O1f"
      },
      "source": [
        "\n",
        "\n",
        "# **ENCODING THE CATEGORICAL VALUES** -  *LABEL ENCODING*"
      ]
    },
    {
      "cell_type": "markdown",
      "metadata": {
        "id": "QRnFtyMwOnhD"
      },
      "source": [
        "We are going to perform non linear models as  our client is expecting the model accuracy no the explainability of the model,so we are not doing one-hot and dummy encoding ."
      ]
    },
    {
      "cell_type": "code",
      "metadata": {
        "id": "UeLszhOl2Afb"
      },
      "source": [
        "from sklearn.preprocessing import LabelEncoder"
      ],
      "execution_count": 174,
      "outputs": []
    },
    {
      "cell_type": "code",
      "metadata": {
        "id": "FdtpUCWs2KaA"
      },
      "source": [
        "LE=LabelEncoder()\n",
        "\n",
        "for i in df1_train[[\"Type_of_Cab\",\"Confidence_Life_Style_Index\",\"Destination_Type\",\"Gender\",\"Customer_Since_Months\",\"Cancellation_Last_1Month\"]]:\n",
        "  df1_train[i]=LE.fit_transform(df1_train[i])"
      ],
      "execution_count": 178,
      "outputs": []
    },
    {
      "cell_type": "code",
      "metadata": {
        "id": "cxOOVNcd3wR1",
        "colab": {
          "base_uri": "https://localhost:8080/",
          "height": 223
        },
        "outputId": "14a654e8-9b31-49c4-e914-7f836dd2aedd"
      },
      "source": [
        "df1_train.head()"
      ],
      "execution_count": 179,
      "outputs": [
        {
          "output_type": "execute_result",
          "data": {
            "text/html": [
              "<div>\n",
              "<style scoped>\n",
              "    .dataframe tbody tr th:only-of-type {\n",
              "        vertical-align: middle;\n",
              "    }\n",
              "\n",
              "    .dataframe tbody tr th {\n",
              "        vertical-align: top;\n",
              "    }\n",
              "\n",
              "    .dataframe thead th {\n",
              "        text-align: right;\n",
              "    }\n",
              "</style>\n",
              "<table border=\"1\" class=\"dataframe\">\n",
              "  <thead>\n",
              "    <tr style=\"text-align: right;\">\n",
              "      <th></th>\n",
              "      <th>Type_of_Cab</th>\n",
              "      <th>Confidence_Life_Style_Index</th>\n",
              "      <th>Destination_Type</th>\n",
              "      <th>Gender</th>\n",
              "      <th>Trip_Distance</th>\n",
              "      <th>Customer_Since_Months</th>\n",
              "      <th>Life_Style_Index</th>\n",
              "      <th>Customer_Rating</th>\n",
              "      <th>Cancellation_Last_1Month</th>\n",
              "      <th>Var2</th>\n",
              "      <th>Var3</th>\n",
              "      <th>Surge_Pricing_Type</th>\n",
              "    </tr>\n",
              "  </thead>\n",
              "  <tbody>\n",
              "    <tr>\n",
              "      <th>0</th>\n",
              "      <td>1</td>\n",
              "      <td>1</td>\n",
              "      <td>0</td>\n",
              "      <td>0</td>\n",
              "      <td>31.16</td>\n",
              "      <td>5</td>\n",
              "      <td>2.69170</td>\n",
              "      <td>2.14750</td>\n",
              "      <td>0</td>\n",
              "      <td>53.0</td>\n",
              "      <td>90.0</td>\n",
              "      <td>1.0</td>\n",
              "    </tr>\n",
              "    <tr>\n",
              "      <th>1</th>\n",
              "      <td>3</td>\n",
              "      <td>1</td>\n",
              "      <td>6</td>\n",
              "      <td>1</td>\n",
              "      <td>14.12</td>\n",
              "      <td>3</td>\n",
              "      <td>2.97795</td>\n",
              "      <td>4.93375</td>\n",
              "      <td>0</td>\n",
              "      <td>47.0</td>\n",
              "      <td>64.0</td>\n",
              "      <td>1.0</td>\n",
              "    </tr>\n",
              "    <tr>\n",
              "      <th>2</th>\n",
              "      <td>2</td>\n",
              "      <td>2</td>\n",
              "      <td>0</td>\n",
              "      <td>1</td>\n",
              "      <td>72.54</td>\n",
              "      <td>0</td>\n",
              "      <td>3.06236</td>\n",
              "      <td>2.08250</td>\n",
              "      <td>0</td>\n",
              "      <td>52.0</td>\n",
              "      <td>89.0</td>\n",
              "      <td>1.0</td>\n",
              "    </tr>\n",
              "    <tr>\n",
              "      <th>3</th>\n",
              "      <td>1</td>\n",
              "      <td>0</td>\n",
              "      <td>0</td>\n",
              "      <td>1</td>\n",
              "      <td>16.78</td>\n",
              "      <td>1</td>\n",
              "      <td>2.70013</td>\n",
              "      <td>1.61250</td>\n",
              "      <td>3</td>\n",
              "      <td>52.0</td>\n",
              "      <td>85.0</td>\n",
              "      <td>1.0</td>\n",
              "    </tr>\n",
              "    <tr>\n",
              "      <th>4</th>\n",
              "      <td>0</td>\n",
              "      <td>1</td>\n",
              "      <td>0</td>\n",
              "      <td>1</td>\n",
              "      <td>18.47</td>\n",
              "      <td>9</td>\n",
              "      <td>2.77751</td>\n",
              "      <td>1.44000</td>\n",
              "      <td>5</td>\n",
              "      <td>55.0</td>\n",
              "      <td>85.0</td>\n",
              "      <td>1.0</td>\n",
              "    </tr>\n",
              "  </tbody>\n",
              "</table>\n",
              "</div>"
            ],
            "text/plain": [
              "   Type_of_Cab  Confidence_Life_Style_Index  Destination_Type  Gender  \\\n",
              "0            1                            1                 0       0   \n",
              "1            3                            1                 6       1   \n",
              "2            2                            2                 0       1   \n",
              "3            1                            0                 0       1   \n",
              "4            0                            1                 0       1   \n",
              "\n",
              "   Trip_Distance  Customer_Since_Months  Life_Style_Index  Customer_Rating  \\\n",
              "0          31.16                      5           2.69170          2.14750   \n",
              "1          14.12                      3           2.97795          4.93375   \n",
              "2          72.54                      0           3.06236          2.08250   \n",
              "3          16.78                      1           2.70013          1.61250   \n",
              "4          18.47                      9           2.77751          1.44000   \n",
              "\n",
              "   Cancellation_Last_1Month  Var2  Var3  Surge_Pricing_Type  \n",
              "0                         0  53.0  90.0                 1.0  \n",
              "1                         0  47.0  64.0                 1.0  \n",
              "2                         0  52.0  89.0                 1.0  \n",
              "3                         3  52.0  85.0                 1.0  \n",
              "4                         5  55.0  85.0                 1.0  "
            ]
          },
          "metadata": {},
          "execution_count": 179
        }
      ]
    },
    {
      "cell_type": "code",
      "metadata": {
        "id": "K7wNRFoEnsiY",
        "colab": {
          "base_uri": "https://localhost:8080/"
        },
        "outputId": "c92db551-64c6-4f76-c42f-c22d72393625"
      },
      "source": [
        "df1_train.info()"
      ],
      "execution_count": 180,
      "outputs": [
        {
          "output_type": "stream",
          "name": "stdout",
          "text": [
            "<class 'pandas.core.frame.DataFrame'>\n",
            "Int64Index: 131662 entries, 0 to 47719\n",
            "Data columns (total 12 columns):\n",
            " #   Column                       Non-Null Count   Dtype  \n",
            "---  ------                       --------------   -----  \n",
            " 0   Type_of_Cab                  131662 non-null  int64  \n",
            " 1   Confidence_Life_Style_Index  131662 non-null  int64  \n",
            " 2   Destination_Type             131662 non-null  int64  \n",
            " 3   Gender                       131662 non-null  int64  \n",
            " 4   Trip_Distance                131662 non-null  float64\n",
            " 5   Customer_Since_Months        131662 non-null  int64  \n",
            " 6   Life_Style_Index             131662 non-null  float64\n",
            " 7   Customer_Rating              131662 non-null  float64\n",
            " 8   Cancellation_Last_1Month     131662 non-null  int64  \n",
            " 9   Var2                         131662 non-null  float64\n",
            " 10  Var3                         131662 non-null  float64\n",
            " 11  Surge_Pricing_Type           131662 non-null  float64\n",
            "dtypes: float64(6), int64(6)\n",
            "memory usage: 18.1 MB\n"
          ]
        }
      ]
    },
    {
      "cell_type": "markdown",
      "metadata": {
        "id": "JrEBf-458zAz"
      },
      "source": [
        "# **SCALING** -*MIN MAX SCALING*\n",
        "\n",
        "---"
      ]
    },
    {
      "cell_type": "code",
      "metadata": {
        "id": "UkSB3x5a4_VJ"
      },
      "source": [
        "from sklearn.preprocessing import MinMaxScaler,StandardScaler"
      ],
      "execution_count": 181,
      "outputs": []
    },
    {
      "cell_type": "markdown",
      "metadata": {
        "id": "Eh-LIoOnPFVn"
      },
      "source": [
        "We have done both scaling methods no change in model accuracy so we are fixing MIN MAX SCALING as our data has more categorical features in it."
      ]
    },
    {
      "cell_type": "code",
      "metadata": {
        "id": "3TQEzY7M9h1k"
      },
      "source": [
        "for i in df1_train.columns:\n",
        "  if i!=\"Surge_Pricing_Type\":\n",
        "    mm=MinMaxScaler()\n",
        "    df1_train[i] = mm.fit_transform(df1_train[[i]])\n"
      ],
      "execution_count": 182,
      "outputs": []
    },
    {
      "cell_type": "code",
      "metadata": {
        "id": "sq8lnA1H6m-A",
        "colab": {
          "base_uri": "https://localhost:8080/",
          "height": 223
        },
        "outputId": "3da2d7f5-a588-4556-957d-65a424ca37e6"
      },
      "source": [
        "df1_train.head()"
      ],
      "execution_count": 183,
      "outputs": [
        {
          "output_type": "execute_result",
          "data": {
            "text/html": [
              "<div>\n",
              "<style scoped>\n",
              "    .dataframe tbody tr th:only-of-type {\n",
              "        vertical-align: middle;\n",
              "    }\n",
              "\n",
              "    .dataframe tbody tr th {\n",
              "        vertical-align: top;\n",
              "    }\n",
              "\n",
              "    .dataframe thead th {\n",
              "        text-align: right;\n",
              "    }\n",
              "</style>\n",
              "<table border=\"1\" class=\"dataframe\">\n",
              "  <thead>\n",
              "    <tr style=\"text-align: right;\">\n",
              "      <th></th>\n",
              "      <th>Type_of_Cab</th>\n",
              "      <th>Confidence_Life_Style_Index</th>\n",
              "      <th>Destination_Type</th>\n",
              "      <th>Gender</th>\n",
              "      <th>Trip_Distance</th>\n",
              "      <th>Customer_Since_Months</th>\n",
              "      <th>Life_Style_Index</th>\n",
              "      <th>Customer_Rating</th>\n",
              "      <th>Cancellation_Last_1Month</th>\n",
              "      <th>Var2</th>\n",
              "      <th>Var3</th>\n",
              "      <th>Surge_Pricing_Type</th>\n",
              "    </tr>\n",
              "  </thead>\n",
              "  <tbody>\n",
              "    <tr>\n",
              "      <th>0</th>\n",
              "      <td>0.25</td>\n",
              "      <td>0.5</td>\n",
              "      <td>0.000000</td>\n",
              "      <td>0.0</td>\n",
              "      <td>0.283235</td>\n",
              "      <td>0.5</td>\n",
              "      <td>0.334068</td>\n",
              "      <td>0.429357</td>\n",
              "      <td>0.000</td>\n",
              "      <td>0.154762</td>\n",
              "      <td>0.246753</td>\n",
              "      <td>1.0</td>\n",
              "    </tr>\n",
              "    <tr>\n",
              "      <th>1</th>\n",
              "      <td>0.75</td>\n",
              "      <td>0.5</td>\n",
              "      <td>0.461538</td>\n",
              "      <td>1.0</td>\n",
              "      <td>0.126790</td>\n",
              "      <td>0.3</td>\n",
              "      <td>0.421374</td>\n",
              "      <td>0.986747</td>\n",
              "      <td>0.000</td>\n",
              "      <td>0.083333</td>\n",
              "      <td>0.077922</td>\n",
              "      <td>1.0</td>\n",
              "    </tr>\n",
              "    <tr>\n",
              "      <th>2</th>\n",
              "      <td>0.50</td>\n",
              "      <td>1.0</td>\n",
              "      <td>0.000000</td>\n",
              "      <td>1.0</td>\n",
              "      <td>0.663147</td>\n",
              "      <td>0.0</td>\n",
              "      <td>0.447118</td>\n",
              "      <td>0.416354</td>\n",
              "      <td>0.000</td>\n",
              "      <td>0.142857</td>\n",
              "      <td>0.240260</td>\n",
              "      <td>1.0</td>\n",
              "    </tr>\n",
              "    <tr>\n",
              "      <th>3</th>\n",
              "      <td>0.25</td>\n",
              "      <td>0.0</td>\n",
              "      <td>0.000000</td>\n",
              "      <td>1.0</td>\n",
              "      <td>0.151212</td>\n",
              "      <td>0.1</td>\n",
              "      <td>0.336639</td>\n",
              "      <td>0.322331</td>\n",
              "      <td>0.375</td>\n",
              "      <td>0.142857</td>\n",
              "      <td>0.214286</td>\n",
              "      <td>1.0</td>\n",
              "    </tr>\n",
              "    <tr>\n",
              "      <th>4</th>\n",
              "      <td>0.00</td>\n",
              "      <td>0.5</td>\n",
              "      <td>0.000000</td>\n",
              "      <td>1.0</td>\n",
              "      <td>0.166728</td>\n",
              "      <td>0.9</td>\n",
              "      <td>0.360240</td>\n",
              "      <td>0.287822</td>\n",
              "      <td>0.625</td>\n",
              "      <td>0.178571</td>\n",
              "      <td>0.214286</td>\n",
              "      <td>1.0</td>\n",
              "    </tr>\n",
              "  </tbody>\n",
              "</table>\n",
              "</div>"
            ],
            "text/plain": [
              "   Type_of_Cab  Confidence_Life_Style_Index  Destination_Type  Gender  \\\n",
              "0         0.25                          0.5          0.000000     0.0   \n",
              "1         0.75                          0.5          0.461538     1.0   \n",
              "2         0.50                          1.0          0.000000     1.0   \n",
              "3         0.25                          0.0          0.000000     1.0   \n",
              "4         0.00                          0.5          0.000000     1.0   \n",
              "\n",
              "   Trip_Distance  Customer_Since_Months  Life_Style_Index  Customer_Rating  \\\n",
              "0       0.283235                    0.5          0.334068         0.429357   \n",
              "1       0.126790                    0.3          0.421374         0.986747   \n",
              "2       0.663147                    0.0          0.447118         0.416354   \n",
              "3       0.151212                    0.1          0.336639         0.322331   \n",
              "4       0.166728                    0.9          0.360240         0.287822   \n",
              "\n",
              "   Cancellation_Last_1Month      Var2      Var3  Surge_Pricing_Type  \n",
              "0                     0.000  0.154762  0.246753                 1.0  \n",
              "1                     0.000  0.083333  0.077922                 1.0  \n",
              "2                     0.000  0.142857  0.240260                 1.0  \n",
              "3                     0.375  0.142857  0.214286                 1.0  \n",
              "4                     0.625  0.178571  0.214286                 1.0  "
            ]
          },
          "metadata": {},
          "execution_count": 183
        }
      ]
    },
    {
      "cell_type": "markdown",
      "metadata": {
        "id": "3WYUZ4qu8Ypg"
      },
      "source": [
        "# ***class imbalance check***"
      ]
    },
    {
      "cell_type": "code",
      "metadata": {
        "colab": {
          "base_uri": "https://localhost:8080/",
          "height": 320
        },
        "id": "MoMQCjYj8djy",
        "outputId": "e3080498-9558-49d0-ad73-7e8831ece8ea"
      },
      "source": [
        "df1_train[\"Surge_Pricing_Type\"].value_counts(normalize=True).plot(kind=\"pie\",autopct=\"%.2f\")"
      ],
      "execution_count": 184,
      "outputs": [
        {
          "output_type": "execute_result",
          "data": {
            "text/plain": [
              "<matplotlib.axes._subplots.AxesSubplot at 0x7f635afd4890>"
            ]
          },
          "metadata": {},
          "execution_count": 184
        },
        {
          "output_type": "display_data",
          "data": {
            "image/png": "[encoded data removed]",
            "text/plain": [
              "<Figure size 720x360 with 1 Axes>"
            ]
          },
          "metadata": {}
        }
      ]
    },
    {
      "cell_type": "markdown",
      "metadata": {
        "id": "H2F4Db8USMTp"
      },
      "source": [
        "***Inference***\n",
        "\n",
        "Class is balanced"
      ]
    },
    {
      "cell_type": "markdown",
      "metadata": {
        "id": "rUu7Rx4Us3Or"
      },
      "source": [
        "# **Feature selection**"
      ]
    },
    {
      "cell_type": "markdown",
      "metadata": {
        "id": "KQsD3K5ktAE7"
      },
      "source": [
        "***Statistical Test***\n",
        "\n",
        "---"
      ]
    },
    {
      "cell_type": "code",
      "metadata": {
        "id": "0BkL2qJZu-D1"
      },
      "source": [
        "import scipy.stats as stats"
      ],
      "execution_count": 185,
      "outputs": []
    },
    {
      "cell_type": "markdown",
      "metadata": {
        "id": "TzfykafS6sS1"
      },
      "source": [
        "**CHISQURE TEST OF INDEPENDENCE** - CATEGORICAL VARIABLE >2 (Target) AND CATEGORICAL VARIABLE\n",
        "\n",
        "---\n",
        "\n"
      ]
    },
    {
      "cell_type": "code",
      "metadata": {
        "id": "F-D48VzVu-Lu",
        "colab": {
          "base_uri": "https://localhost:8080/",
          "height": 234
        },
        "outputId": "e4aed5a6-bb1e-4691-d91e-6fbef7db73f4"
      },
      "source": [
        "columns=[]\n",
        "pvalue=[]\n",
        "significance=[]\n",
        "\n",
        "for i in cat_features.columns:\n",
        "  columns.append(i)\n",
        "  obs=pd.crosstab(df1_train[\"Surge_Pricing_Type\"],df1_train[i])\n",
        "  chi_stat,pval,df,expected=stats.chi2_contingency(obs)\n",
        "  pvalue.append(pval)\n",
        "  if(pval>0.05):\n",
        "    significance.append('Not Significant')\n",
        "  else:\n",
        "    significance.append('Significant')\n",
        "\n",
        "pd.DataFrame({\"COLUMNS\":columns,\"PVALUES\":pvalue,\"SIGNIFICANCE\":significance})"
      ],
      "execution_count": 186,
      "outputs": [
        {
          "output_type": "execute_result",
          "data": {
            "text/html": [
              "<div>\n",
              "<style scoped>\n",
              "    .dataframe tbody tr th:only-of-type {\n",
              "        vertical-align: middle;\n",
              "    }\n",
              "\n",
              "    .dataframe tbody tr th {\n",
              "        vertical-align: top;\n",
              "    }\n",
              "\n",
              "    .dataframe thead th {\n",
              "        text-align: right;\n",
              "    }\n",
              "</style>\n",
              "<table border=\"1\" class=\"dataframe\">\n",
              "  <thead>\n",
              "    <tr style=\"text-align: right;\">\n",
              "      <th></th>\n",
              "      <th>COLUMNS</th>\n",
              "      <th>PVALUES</th>\n",
              "      <th>SIGNIFICANCE</th>\n",
              "    </tr>\n",
              "  </thead>\n",
              "  <tbody>\n",
              "    <tr>\n",
              "      <th>0</th>\n",
              "      <td>Type_of_Cab</td>\n",
              "      <td>0.000000</td>\n",
              "      <td>Significant</td>\n",
              "    </tr>\n",
              "    <tr>\n",
              "      <th>1</th>\n",
              "      <td>Confidence_Life_Style_Index</td>\n",
              "      <td>0.000000</td>\n",
              "      <td>Significant</td>\n",
              "    </tr>\n",
              "    <tr>\n",
              "      <th>2</th>\n",
              "      <td>Destination_Type</td>\n",
              "      <td>0.000000</td>\n",
              "      <td>Significant</td>\n",
              "    </tr>\n",
              "    <tr>\n",
              "      <th>3</th>\n",
              "      <td>Gender</td>\n",
              "      <td>0.262892</td>\n",
              "      <td>Not Significant</td>\n",
              "    </tr>\n",
              "    <tr>\n",
              "      <th>4</th>\n",
              "      <td>Customer_Since_Months</td>\n",
              "      <td>0.000000</td>\n",
              "      <td>Significant</td>\n",
              "    </tr>\n",
              "    <tr>\n",
              "      <th>5</th>\n",
              "      <td>Cancellation_Last_1Month</td>\n",
              "      <td>0.000000</td>\n",
              "      <td>Significant</td>\n",
              "    </tr>\n",
              "  </tbody>\n",
              "</table>\n",
              "</div>"
            ],
            "text/plain": [
              "                       COLUMNS   PVALUES     SIGNIFICANCE\n",
              "0                  Type_of_Cab  0.000000      Significant\n",
              "1  Confidence_Life_Style_Index  0.000000      Significant\n",
              "2             Destination_Type  0.000000      Significant\n",
              "3                       Gender  0.262892  Not Significant\n",
              "4        Customer_Since_Months  0.000000      Significant\n",
              "5     Cancellation_Last_1Month  0.000000      Significant"
            ]
          },
          "metadata": {},
          "execution_count": 186
        }
      ]
    },
    {
      "cell_type": "markdown",
      "metadata": {
        "id": "DDYjt65s0rAp"
      },
      "source": [
        "***Inference***\n",
        "* 95% confidence level\n",
        "* Pval<=0.05\n",
        "* Ha is accepted (Significant)\n",
        "* TYPE OF CAB ,CONFIDENCE_LIFE_STYLE_INDEX,DESTINATION TYPE ARE SIGNIFICANT WITH TARGET SURGE_TYPE_PRICING\n",
        "* GENDER IS NOT SIGNIFICANT ,but we are taking gender into model to make some recommendation for females customers in future."
      ]
    },
    {
      "cell_type": "markdown",
      "metadata": {
        "id": "CxFGIZ1l1pgm"
      },
      "source": [
        "**ANOVA TEST** - CATEOGORY VARIABLE (MORE THAN 2) AND  Numerical variables\n",
        "\n",
        "---\n"
      ]
    },
    {
      "cell_type": "code",
      "metadata": {
        "id": "Y47p_FTn0h_2",
        "colab": {
          "base_uri": "https://localhost:8080/",
          "height": 142
        },
        "outputId": "5d0d5661-1be8-48fc-d82f-6e973fe2c58e"
      },
      "source": [
        "columns=[]\n",
        "pvalue=[]\n",
        "significance=[]\n",
        "\n",
        "for i in num_features.columns:\n",
        "  columns.append(i)\n",
        "  surge_1=df1_train[df1_train['Surge_Pricing_Type']==1][i]\n",
        "  surge_2=df1_train[df1_train['Surge_Pricing_Type']==2][i]\n",
        "  surge_3=df1_train[df1_train['Surge_Pricing_Type']==3][i]\n",
        " \n",
        "  fstat,pval = stats.f_oneway(surge_1,surge_2,surge_3)\n",
        "  pvalue.append(pval)\n",
        "  if(pval>0.05):\n",
        "    significance.append('Not Significant')\n",
        "  else:\n",
        "    significance.append('Significant')\n",
        "\n",
        "pd.DataFrame({\"COLUMNS\":columns,\"PVALUES\":pvalue,\"SIGNIFICANCE\":significance})\n",
        "  "
      ],
      "execution_count": 189,
      "outputs": [
        {
          "output_type": "execute_result",
          "data": {
            "text/html": [
              "<div>\n",
              "<style scoped>\n",
              "    .dataframe tbody tr th:only-of-type {\n",
              "        vertical-align: middle;\n",
              "    }\n",
              "\n",
              "    .dataframe tbody tr th {\n",
              "        vertical-align: top;\n",
              "    }\n",
              "\n",
              "    .dataframe thead th {\n",
              "        text-align: right;\n",
              "    }\n",
              "</style>\n",
              "<table border=\"1\" class=\"dataframe\">\n",
              "  <thead>\n",
              "    <tr style=\"text-align: right;\">\n",
              "      <th></th>\n",
              "      <th>COLUMNS</th>\n",
              "      <th>PVALUES</th>\n",
              "      <th>SIGNIFICANCE</th>\n",
              "    </tr>\n",
              "  </thead>\n",
              "  <tbody>\n",
              "    <tr>\n",
              "      <th>0</th>\n",
              "      <td>Trip_Distance</td>\n",
              "      <td>0.0</td>\n",
              "      <td>Significant</td>\n",
              "    </tr>\n",
              "    <tr>\n",
              "      <th>1</th>\n",
              "      <td>Customer_Rating</td>\n",
              "      <td>0.0</td>\n",
              "      <td>Significant</td>\n",
              "    </tr>\n",
              "    <tr>\n",
              "      <th>2</th>\n",
              "      <td>Surge_Pricing_Type</td>\n",
              "      <td>0.0</td>\n",
              "      <td>Significant</td>\n",
              "    </tr>\n",
              "  </tbody>\n",
              "</table>\n",
              "</div>"
            ],
            "text/plain": [
              "              COLUMNS  PVALUES SIGNIFICANCE\n",
              "0       Trip_Distance      0.0  Significant\n",
              "1     Customer_Rating      0.0  Significant\n",
              "2  Surge_Pricing_Type      0.0  Significant"
            ]
          },
          "metadata": {},
          "execution_count": 189
        }
      ]
    },
    {
      "cell_type": "markdown",
      "metadata": {
        "id": "wgTnx6Y22uJ1"
      },
      "source": [
        "***Inference***\n",
        "* 95% confidence level\n",
        "* Pval>0.05\n",
        "* Ha is accepted (Significant)\n",
        "* TRIP_DISTANCE,CUSTOMER_SINCE_MONTHS,CUSTOMER_RATING,CANCELLATION_LAST1MONTH ARE SIGNIFICANT WITH TARGET SURGE_TYPE_PRICING\n"
      ]
    },
    {
      "cell_type": "markdown",
      "metadata": {
        "id": "9-yq-knx8yVo"
      },
      "source": [
        " ***Visualization using plots \\\n",
        " variance between group and within group***"
      ]
    },
    {
      "cell_type": "code",
      "metadata": {
        "id": "1HFCBW7m8x9N",
        "colab": {
          "base_uri": "https://localhost:8080/",
          "height": 335
        },
        "outputId": "7e893c9b-cea4-47af-83c7-595fdde18dda"
      },
      "source": [
        "surge_1=df1_train[df1_train['Surge_Pricing_Type']==1][\"Life_Style_Index\"]\n",
        "surge_2=df1_train[df1_train['Surge_Pricing_Type']==2][\"Life_Style_Index\"]\n",
        "surge_3=df1_train[df1_train['Surge_Pricing_Type']==3][\"Life_Style_Index\"]\n",
        "\n",
        "sns.distplot(surge_1)\n",
        "sns.distplot(surge_2)\n",
        "sns.distplot(surge_3)\n",
        "plt.show()"
      ],
      "execution_count": 191,
      "outputs": [
        {
          "output_type": "display_data",
          "data": {
            "image/png": "[encoded data removed]",
            "text/plain": [
              "<Figure size 720x360 with 1 Axes>"
            ]
          },
          "metadata": {
            "needs_background": "light"
          }
        }
      ]
    },
    {
      "cell_type": "code",
      "metadata": {
        "id": "nZ2B4N0p9BQZ",
        "colab": {
          "base_uri": "https://localhost:8080/",
          "height": 334
        },
        "outputId": "4f47e85f-03bf-4944-f6b4-244f07d031d7"
      },
      "source": [
        "surge_1=df1_train[df1_train['Surge_Pricing_Type']==1][\"Var3\"]\n",
        "surge_2=df1_train[df1_train['Surge_Pricing_Type']==2][\"Var3\"]\n",
        "surge_3=df1_train[df1_train['Surge_Pricing_Type']==3][\"Var3\"]\n",
        "\n",
        "sns.distplot(surge_1)\n",
        "sns.distplot(surge_2)\n",
        "sns.distplot(surge_3)\n",
        "plt.show()"
      ],
      "execution_count": 192,
      "outputs": [
        {
          "output_type": "display_data",
          "data": {
            "image/png": "[encoded data removed]",
            "text/plain": [
              "<Figure size 720x360 with 1 Axes>"
            ]
          },
          "metadata": {
            "needs_background": "light"
          }
        }
      ]
    },
    {
      "cell_type": "markdown",
      "metadata": {
        "id": "apF-yKms9MpV"
      },
      "source": [
        "**We can see from Plot that within the group and between the group means are almost equal.There is an overlap it is diffcult to predict by means of linear models. so we are going for tree based models.** ***bold text***"
      ]
    },
    {
      "cell_type": "markdown",
      "metadata": {
        "id": "3sBTlo157v3B"
      },
      "source": [
        "# **MODEL BUILDING**"
      ]
    },
    {
      "cell_type": "code",
      "metadata": {
        "id": "wx2orRnG_-15"
      },
      "source": [
        "x = df1_train.drop(columns = ['Surge_Pricing_Type'])\n",
        "y = df1_train[\"Surge_Pricing_Type\"]"
      ],
      "execution_count": 193,
      "outputs": []
    },
    {
      "cell_type": "code",
      "metadata": {
        "id": "C6jyqdM_ARKG"
      },
      "source": [
        "from sklearn.model_selection import train_test_split"
      ],
      "execution_count": 194,
      "outputs": []
    },
    {
      "cell_type": "code",
      "metadata": {
        "id": "Op4ejhJmAgmp"
      },
      "source": [
        "xtrain,xtest,ytrain,ytest = train_test_split(x,y,train_size = 0.7,random_state = 7)"
      ],
      "execution_count": 195,
      "outputs": []
    },
    {
      "cell_type": "markdown",
      "metadata": {
        "id": "oPrDTG79gtgh"
      },
      "source": [
        "Description:\n",
        "As we move forward , we are mainly focusing on the metric f1-weighted and ways to improve it. The main reason for choosing this metric is because this is the weighted variant of f1-score which is the combination precision and recall which makes the score stable and reliable. We will do two main techniques to improve the f1-weighted score -  GridSearchCV and Cross-Validation"
      ]
    },
    {
      "cell_type": "markdown",
      "metadata": {
        "id": "hNNKf96ugdcA"
      },
      "source": [
        "**Base Model (KNN)**"
      ]
    },
    {
      "cell_type": "code",
      "metadata": {
        "id": "MkN3BQZ6ia8H"
      },
      "source": [
        "from sklearn.model_selection import GridSearchCV,cross_val_score,KFold\n",
        "from sklearn.metrics import classification_report,confusion_matrix\n",
        "from sklearn.neighbors import KNeighborsClassifier\n",
        "from sklearn.tree import DecisionTreeClassifier\n",
        "from sklearn.ensemble import RandomForestClassifier\n",
        "from sklearn.ensemble import BaggingClassifier\n",
        "from sklearn.ensemble import AdaBoostClassifier\n",
        "from sklearn.ensemble import GradientBoostingClassifier\n",
        "\n",
        "from xgboost import XGBClassifier\n",
        "from sklearn.model_selection import GridSearchCV"
      ],
      "execution_count": 241,
      "outputs": []
    },
    {
      "cell_type": "code",
      "metadata": {
        "id": "LCpHJ4iTgqsJ"
      },
      "source": [
        "knn = KNeighborsClassifier()\n",
        "base_model = knn.fit(xtrain,ytrain)\n",
        "ypred = base_model.predict(xtest)"
      ],
      "execution_count": 215,
      "outputs": []
    },
    {
      "cell_type": "code",
      "metadata": {
        "colab": {
          "base_uri": "https://localhost:8080/"
        },
        "id": "oTnxPZVuySov",
        "outputId": "4f3e40fb-60bf-4239-d604-5093ee9bd70d"
      },
      "source": [
        "confusion_matrix(ytest,ypred)"
      ],
      "execution_count": 200,
      "outputs": [
        {
          "output_type": "execute_result",
          "data": {
            "text/plain": [
              "array([[ 5566,  1860,   693],\n",
              "       [ 1074, 13678,  2325],\n",
              "       [ 1086,  2788, 10429]])"
            ]
          },
          "metadata": {},
          "execution_count": 200
        }
      ]
    },
    {
      "cell_type": "code",
      "metadata": {
        "colab": {
          "base_uri": "https://localhost:8080/",
          "height": 337
        },
        "id": "mootRDhUySzu",
        "outputId": "340a34aa-cdbb-47df-e4d0-70ecc1f082bf"
      },
      "source": [
        "sns.heatmap(confusion_matrix(ytest,ypred),annot=True,cmap=\"Blues\")"
      ],
      "execution_count": 201,
      "outputs": [
        {
          "output_type": "execute_result",
          "data": {
            "text/plain": [
              "<matplotlib.axes._subplots.AxesSubplot at 0x7f6353ed4090>"
            ]
          },
          "metadata": {},
          "execution_count": 201
        },
        {
          "output_type": "display_data",
          "data": {
            "image/png": "[encoded data removed]",
            "text/plain": [
              "<Figure size 720x360 with 2 Axes>"
            ]
          },
          "metadata": {
            "needs_background": "light"
          }
        }
      ]
    },
    {
      "cell_type": "code",
      "metadata": {
        "colab": {
          "base_uri": "https://localhost:8080/"
        },
        "id": "IulWTYQ_iUC_",
        "outputId": "aa7b03da-2d98-48b4-eb46-c996f99a21fd"
      },
      "source": [
        "print(classification_report(ytest,ypred))"
      ],
      "execution_count": 204,
      "outputs": [
        {
          "output_type": "stream",
          "name": "stdout",
          "text": [
            "              precision    recall  f1-score   support\n",
            "\n",
            "         1.0       0.72      0.69      0.70      8119\n",
            "         2.0       0.75      0.80      0.77     17077\n",
            "         3.0       0.78      0.73      0.75     14303\n",
            "\n",
            "    accuracy                           0.75     39499\n",
            "   macro avg       0.75      0.74      0.74     39499\n",
            "weighted avg       0.75      0.75      0.75     39499\n",
            "\n"
          ]
        }
      ]
    },
    {
      "cell_type": "code",
      "metadata": {
        "colab": {
          "base_uri": "https://localhost:8080/"
        },
        "id": "6hahp06xkihr",
        "outputId": "0f003190-ff69-4b30-90df-5eb000b9520e"
      },
      "source": [
        "kf = KFold(n_splits=5,shuffle=True,random_state=7)\n",
        "scores = cross_val_score(estimator=knn,X=x,y=y,scoring='f1_weighted',cv=kf)\n",
        "score_knn = np.mean(scores)\n",
        "bias_knn = 1-np.mean(score_knn)\n",
        "var_knn = np.std(score_knn)/np.mean(score_knn)\n",
        "\n",
        "print('Average f1-weighted score = ',np.mean(score_knn))\n",
        "print('Bias error(in %) = ',bias_knn * 100 , '%')\n",
        "print('Variance error(in %) = ',var_knn * 100,'%')"
      ],
      "execution_count": 205,
      "outputs": [
        {
          "output_type": "stream",
          "name": "stdout",
          "text": [
            "Average f1-weighted score =  0.749822207924826\n",
            "Bias error(in %) =  25.0177792075174 %\n",
            "Variance error(in %) =  0.0 %\n"
          ]
        }
      ]
    },
    {
      "cell_type": "markdown",
      "metadata": {
        "id": "CNq6Bd_wlZwM"
      },
      "source": [
        "# Standalone model - 1  Decision Tree"
      ]
    },
    {
      "cell_type": "markdown",
      "metadata": {
        "id": "T3ZP9WjGudZB"
      },
      "source": [
        " tuning we get max_depth =3"
      ]
    },
    {
      "cell_type": "code",
      "metadata": {
        "colab": {
          "base_uri": "https://localhost:8080/"
        },
        "id": "hU0BVCIHqeBj",
        "outputId": "0564d470-0dbf-4c92-cefe-b88b81ed76a3"
      },
      "source": [
        "dt = DecisionTreeClassifier(max_depth=3)\n",
        "kf = KFold(n_splits=5,shuffle=True,random_state=7)\n",
        "scores = cross_val_score(estimator=dt,X=x,y=y,scoring='f1_weighted',cv=kf)\n",
        "score_dt = np.mean(scores)\n",
        "bias_dt = 1-np.mean(score_dt)\n",
        "var_dt = np.std(score_dt)/np.mean(score_dt)\n",
        "\n",
        "print('Average f1-weighted score = ',np.mean(score_dt))\n",
        "print('Bias error(in %) = ',bias_dt * 100 , '%')\n",
        "print('Variance error(in %) = ',var_dt * 100,'%')"
      ],
      "execution_count": 208,
      "outputs": [
        {
          "output_type": "stream",
          "name": "stdout",
          "text": [
            "Average f1-weighted score =  0.7045381234815731\n",
            "Bias error(in %) =  29.546187651842693 %\n",
            "Variance error(in %) =  0.0 %\n"
          ]
        }
      ]
    },
    {
      "cell_type": "markdown",
      "metadata": {
        "id": "EgH3DF7OjEI0"
      },
      "source": [
        "#  BAGGING CLASSIFIER"
      ]
    },
    {
      "cell_type": "code",
      "metadata": {
        "id": "hJQxDAb0UnEW"
      },
      "source": [
        "knn = KNeighborsClassifier()\n",
        "bag_knn = BaggingClassifier(base_estimator=knn)\n",
        "kf = KFold(n_splits=5,shuffle=True,random_state=7)\n",
        "scores = cross_val_score(estimator=bag_knn,X=x,y=y,scoring='f1_weighted',cv=kf)\n",
        "score_rf = np.mean(scores)\n",
        "bias_rf = 1-np.mean(score_rf)\n",
        "var_rf = np.std(score_rf)/np.mean(score_rf)"
      ],
      "execution_count": 219,
      "outputs": []
    },
    {
      "cell_type": "code",
      "metadata": {
        "colab": {
          "base_uri": "https://localhost:8080/"
        },
        "id": "TrrunNE7i_mu",
        "outputId": "e79cfe99-8335-4800-9e05-54279a647edb"
      },
      "source": [
        "print('Average f1-weighted score = ',np.mean(score_rf))\n",
        "print('Bias error(in %) = ',bias_rf * 100 , '%')\n",
        "print('Variance error(in %) = ',var_rf * 100,'%')"
      ],
      "execution_count": 220,
      "outputs": [
        {
          "output_type": "stream",
          "name": "stdout",
          "text": [
            "Average f1-weighted score =  0.7538867883831366\n",
            "Bias error(in %) =  24.61132116168634 %\n",
            "Variance error(in %) =  0.0 %\n"
          ]
        }
      ]
    },
    {
      "cell_type": "markdown",
      "metadata": {
        "id": "Q3J1K0z_rOxd"
      },
      "source": [
        "# Ensemble Model - 1 Random Forest "
      ]
    },
    {
      "cell_type": "markdown",
      "metadata": {
        "id": "CpKVpSmHvVKl"
      },
      "source": [
        "max_depth=3 as per decision tree "
      ]
    },
    {
      "cell_type": "code",
      "metadata": {
        "colab": {
          "base_uri": "https://localhost:8080/"
        },
        "id": "TWX0zXrBrp-y",
        "outputId": "58e0cb91-07f6-4082-9b8d-73c71f473364"
      },
      "source": [
        "rf = RandomForestClassifier(max_depth=3)\n",
        "kf = KFold(n_splits=5,shuffle=True,random_state=7)\n",
        "scores = cross_val_score(estimator=rf,X=x,y=y,scoring='f1_weighted',cv=kf)\n",
        "score_rf1 = np.mean(scores)\n",
        "bias_rf1 = 1-np.mean(score_rf1)\n",
        "var_rf1 = np.std(score_rf1)/np.mean(score_rf1)\n",
        "\n",
        "print('Average f1-weighted score = ',np.mean(score_rf1))\n",
        "print('Bias error(in %) = ',bias_rf1 * 100 , '%')\n",
        "print('Variance error(in %) = ',var_rf1 * 100,'%')"
      ],
      "execution_count": 235,
      "outputs": [
        {
          "output_type": "stream",
          "name": "stdout",
          "text": [
            "Average f1-weighted score =  0.8030425727476039\n",
            "Bias error(in %) =  19.695742725239608 %\n",
            "Variance error(in %) =  0.0 %\n"
          ]
        }
      ]
    },
    {
      "cell_type": "markdown",
      "metadata": {
        "id": "h-ZK2jeHshrN"
      },
      "source": [
        "# Ensemble Model - 2 AdaBoosting"
      ]
    },
    {
      "cell_type": "code",
      "metadata": {
        "id": "1lBsUGyGr99Z"
      },
      "source": [
        "from sklearn.ensemble import AdaBoostClassifier"
      ],
      "execution_count": 221,
      "outputs": []
    },
    {
      "cell_type": "code",
      "metadata": {
        "colab": {
          "base_uri": "https://localhost:8080/"
        },
        "id": "UxnJW8vHs2c-",
        "outputId": "6b0bf666-2db7-47ad-eb28-ebae7e2c317a"
      },
      "source": [
        "ada = AdaBoostClassifier()\n",
        "kf = KFold(n_splits=5,shuffle=True,random_state=7)\n",
        "scores = cross_val_score(estimator=ada,X=x,y=y,scoring='f1_weighted',cv=kf)\n",
        "score_ada = np.mean(scores)\n",
        "bias_ada = 1-np.mean(score_ada)\n",
        "var_ada = np.std(score_ada)/np.mean(score_ada)\n",
        "\n",
        "print('Average f1-weighted score = ',np.mean(score_ada))\n",
        "print('Bias error(in %) = ',bias_ada * 100 , '%')\n",
        "print('Variance error(in %) = ',var_ada * 100,'%')"
      ],
      "execution_count": 223,
      "outputs": [
        {
          "output_type": "stream",
          "name": "stdout",
          "text": [
            "Average f1-weighted score =  0.7850883835768345\n",
            "Bias error(in %) =  21.49116164231655 %\n",
            "Variance error(in %) =  0.0 %\n"
          ]
        }
      ]
    },
    {
      "cell_type": "markdown",
      "metadata": {
        "id": "JtSDtk3qlkFb"
      },
      "source": [
        "# GRADIENT BOOSTING"
      ]
    },
    {
      "cell_type": "code",
      "metadata": {
        "colab": {
          "base_uri": "https://localhost:8080/"
        },
        "id": "L72b8cNEljOn",
        "outputId": "e3113139-920b-423b-e5b3-e3e0b7fde572"
      },
      "source": [
        "gd = GradientBoostingClassifier()\n",
        "kf = KFold(n_splits=5,shuffle=True,random_state=7)\n",
        "scores = cross_val_score(estimator=gd,X=x,y=y,scoring='f1_weighted',cv=kf)\n",
        "score_gd = np.mean(scores)\n",
        "bias_gd = 1-np.mean(score_gd)\n",
        "var_gd = np.std(score_gd)/np.mean(score_gd)\n",
        "\n",
        "print('Average f1-weighted score = ',np.mean(score_gd))\n",
        "print('Bias error(in %) = ',bias_gd * 100 , '%')\n",
        "print('Variance error(in %) = ',var_gd * 100,'%')"
      ],
      "execution_count": 230,
      "outputs": [
        {
          "output_type": "stream",
          "name": "stdout",
          "text": [
            "Average f1-weighted score =  0.8058537984207227\n",
            "Bias error(in %) =  19.414620157927732 %\n",
            "Variance error(in %) =  0.0 %\n"
          ]
        }
      ]
    },
    {
      "cell_type": "markdown",
      "metadata": {
        "id": "Hj0PYMP2tPkf"
      },
      "source": [
        "# Ensemble Model - 3 XGBoost"
      ]
    },
    {
      "cell_type": "code",
      "metadata": {
        "colab": {
          "base_uri": "https://localhost:8080/"
        },
        "id": "8-cfcLFqtgJr",
        "outputId": "f17b74bb-d492-4bfc-e739-00530703a134"
      },
      "source": [
        "xgb = XGBClassifier()\n",
        "kf = KFold(n_splits=5,shuffle=True,random_state=7)\n",
        "scores = cross_val_score(estimator=xgb,X=x,y=y,scoring='f1_weighted',cv=kf)\n",
        "score_xgb = np.mean(scores)\n",
        "bias_xgb = 1-np.mean(score_xgb)\n",
        "var_xgb = np.std(score_xgb)/np.mean(score_xgb)\n",
        "\n",
        "print('Average f1-weighted score = ',np.mean(score_xgb))\n",
        "print('Bias error(in %) = ',bias_xgb * 100 , '%')\n",
        "print('Variance error(in %) = ',var_xgb * 100,'%')"
      ],
      "execution_count": 227,
      "outputs": [
        {
          "output_type": "stream",
          "name": "stdout",
          "text": [
            "Average f1-weighted score =  0.8041092281870211\n",
            "Bias error(in %) =  19.58907718129789 %\n",
            "Variance error(in %) =  0.0 %\n"
          ]
        }
      ]
    },
    {
      "cell_type": "markdown",
      "metadata": {
        "id": "GfGtCR2mtzBJ"
      },
      "source": [
        "# Collecting the results for the models we done so far"
      ]
    },
    {
      "cell_type": "code",
      "metadata": {
        "id": "BoXrtPc8u6Ae"
      },
      "source": [
        "res = pd.DataFrame({'Models':['KNN','DecisionTree',\"Bagingclassifier\",'RandomForest','AdaBoosting',\"Gradient_boosting\",'XGBoost'],\n",
        "                    'F1-Weighted':[score_knn,score_dt,score_rf,score_rf1,score_ada,score_gd,score_xgb],\n",
        "                    'Bias Error':[bias_knn,bias_dt,bias_rf,bias_rf1,bias_ada,bias_gd,bias_xgb],\n",
        "                    'Variance Error':[var_knn,var_dt,var_rf,var_rf1,var_ada,var_gd,var_xgb]})"
      ],
      "execution_count": 237,
      "outputs": []
    },
    {
      "cell_type": "code",
      "metadata": {
        "colab": {
          "base_uri": "https://localhost:8080/",
          "height": 265
        },
        "id": "mLRMcMgnxZTF",
        "outputId": "f10b1e84-f89d-4915-dabd-2c5c95d45b8b"
      },
      "source": [
        "res.sort_values(by=\"F1-Weighted\",ascending=False)"
      ],
      "execution_count": 238,
      "outputs": [
        {
          "output_type": "execute_result",
          "data": {
            "text/html": [
              "<div>\n",
              "<style scoped>\n",
              "    .dataframe tbody tr th:only-of-type {\n",
              "        vertical-align: middle;\n",
              "    }\n",
              "\n",
              "    .dataframe tbody tr th {\n",
              "        vertical-align: top;\n",
              "    }\n",
              "\n",
              "    .dataframe thead th {\n",
              "        text-align: right;\n",
              "    }\n",
              "</style>\n",
              "<table border=\"1\" class=\"dataframe\">\n",
              "  <thead>\n",
              "    <tr style=\"text-align: right;\">\n",
              "      <th></th>\n",
              "      <th>Models</th>\n",
              "      <th>F1-Weighted</th>\n",
              "      <th>Bias Error</th>\n",
              "      <th>Variance Error</th>\n",
              "    </tr>\n",
              "  </thead>\n",
              "  <tbody>\n",
              "    <tr>\n",
              "      <th>5</th>\n",
              "      <td>Gradient_boosting</td>\n",
              "      <td>0.805854</td>\n",
              "      <td>0.194146</td>\n",
              "      <td>0.0</td>\n",
              "    </tr>\n",
              "    <tr>\n",
              "      <th>6</th>\n",
              "      <td>XGBoost</td>\n",
              "      <td>0.804109</td>\n",
              "      <td>0.195891</td>\n",
              "      <td>0.0</td>\n",
              "    </tr>\n",
              "    <tr>\n",
              "      <th>3</th>\n",
              "      <td>RandomForest</td>\n",
              "      <td>0.803043</td>\n",
              "      <td>0.196957</td>\n",
              "      <td>0.0</td>\n",
              "    </tr>\n",
              "    <tr>\n",
              "      <th>4</th>\n",
              "      <td>AdaBoosting</td>\n",
              "      <td>0.785088</td>\n",
              "      <td>0.214912</td>\n",
              "      <td>0.0</td>\n",
              "    </tr>\n",
              "    <tr>\n",
              "      <th>2</th>\n",
              "      <td>Bagingclassifier</td>\n",
              "      <td>0.753887</td>\n",
              "      <td>0.246113</td>\n",
              "      <td>0.0</td>\n",
              "    </tr>\n",
              "    <tr>\n",
              "      <th>0</th>\n",
              "      <td>KNN</td>\n",
              "      <td>0.749822</td>\n",
              "      <td>0.250178</td>\n",
              "      <td>0.0</td>\n",
              "    </tr>\n",
              "    <tr>\n",
              "      <th>1</th>\n",
              "      <td>DecisionTree</td>\n",
              "      <td>0.704538</td>\n",
              "      <td>0.295462</td>\n",
              "      <td>0.0</td>\n",
              "    </tr>\n",
              "  </tbody>\n",
              "</table>\n",
              "</div>"
            ],
            "text/plain": [
              "              Models  F1-Weighted  Bias Error  Variance Error\n",
              "5  Gradient_boosting     0.805854    0.194146             0.0\n",
              "6            XGBoost     0.804109    0.195891             0.0\n",
              "3       RandomForest     0.803043    0.196957             0.0\n",
              "4        AdaBoosting     0.785088    0.214912             0.0\n",
              "2   Bagingclassifier     0.753887    0.246113             0.0\n",
              "0                KNN     0.749822    0.250178             0.0\n",
              "1       DecisionTree     0.704538    0.295462             0.0"
            ]
          },
          "metadata": {},
          "execution_count": 238
        }
      ]
    },
    {
      "cell_type": "markdown",
      "metadata": {
        "id": "T7aMAcIZwwII"
      },
      "source": [
        "# Stacking and Bagging models\n",
        "\n",
        "Description :\n",
        "\n",
        "We will stacking 3 of the best models and find out the f1_weighted score and then out of that we will do bagging of the single best model"
      ]
    },
    {
      "cell_type": "code",
      "metadata": {
        "id": "-dL4i6sEwiLN"
      },
      "source": [
        "from sklearn.ensemble import StackingClassifier,BaggingClassifier"
      ],
      "execution_count": 239,
      "outputs": []
    },
    {
      "cell_type": "code",
      "metadata": {
        "colab": {
          "base_uri": "https://localhost:8080/"
        },
        "id": "srQ-KzgRxK2i",
        "outputId": "738770cc-86a3-4121-e42d-0a7ae156eab4"
      },
      "source": [
        "est = [('RandomForest',rf),('AdaBoost',ada),('XGBoost',xgb)]\n",
        "stack = StackingClassifier(estimators=est,final_estimator = xgb,cv = 5)\n",
        "kf = KFold(n_splits=5,shuffle=True,random_state=7)\n",
        "scores = cross_val_score(estimator=stack,X=x,y=y,scoring='f1_weighted',cv=kf)\n",
        "score_stack = np.mean(scores)\n",
        "bias_stack = 1-np.mean(score_stack)\n",
        "var_stack = np.std(score_stack)/np.mean(score_stack)\n",
        "\n",
        "print('Average f1-weighted score = ',np.mean(score_stack))\n",
        "print('Bias error(in %) = ',bias_stack * 100 , '%')\n",
        "print('Variance error(in %) = ',var_stack * 100,'%')"
      ],
      "execution_count": null,
      "outputs": [
        {
          "name": "stdout",
          "output_type": "stream",
          "text": [
            "Average f1-weighted score =  0.8067074633685383\n",
            "Bias error(in %) =  19.329253663146172 %\n",
            "Variance error(in %) =  0.0 %\n"
          ]
        }
      ]
    },
    {
      "cell_type": "code",
      "metadata": {
        "colab": {
          "base_uri": "https://localhost:8080/"
        },
        "id": "jRjyKvUcy1__",
        "outputId": "f5b8dd55-678f-48eb-d75a-68c7619a0f66"
      },
      "source": [
        "bag = BaggingClassifier(base_estimator=stack)\n",
        "bag = StackingClassifier(estimators=est,final_estimator = xgb,cv = 5)\n",
        "kf = KFold(n_splits=5,shuffle=True,random_state=7)\n",
        "scores = cross_val_score(estimator=bag,X=x,y=y,scoring='f1_weighted',cv=kf)\n",
        "score_bag = np.mean(scores)\n",
        "bias_bag = 1-np.mean(score_bag)\n",
        "var_bag = np.std(score_bag)/np.mean(score_bag)\n",
        "\n",
        "print('Average f1-weighted score = ',np.mean(scores))\n",
        "print('Bias error(in %) = ',bias_bag * 100 , '%')\n",
        "print('Variance error(in %) = ',var_bag * 100,'%')"
      ],
      "execution_count": null,
      "outputs": [
        {
          "name": "stdout",
          "output_type": "stream",
          "text": [
            "Average f1-weighted score =  0.8066626879618257\n",
            "Bias error(in %) =  19.33373120381743 %\n",
            "Variance error(in %) =  0.0 %\n"
          ]
        }
      ]
    },
    {
      "cell_type": "markdown",
      "metadata": {
        "id": "Hk8cKsi6SmK_"
      },
      "source": [
        "# Final summary of the data"
      ]
    },
    {
      "cell_type": "code",
      "metadata": {
        "id": "T88zz_WHfLVx"
      },
      "source": [
        "final_res = pd.DataFrame({'Models':['KNN','DecisionTree','RandomForest','AdaBoosting','XGBoost','Stacking','Bagging'],\n",
        "                    'F1-Weighted':[score_knn,score_dt,score_rf,score_ada,score_xgb,score_stack,score_bag],\n",
        "                    'Bias Error':[bias_knn,bias_dt,bias_rf,bias_ada,bias_xgb,bias_stack,bias_bag],\n",
        "                    'Variance Error':[var_knn,var_dt,var_rf,var_ada,var_xgb,var_stack,var_bag]})"
      ],
      "execution_count": 242,
      "outputs": []
    },
    {
      "cell_type": "code",
      "metadata": {
        "colab": {
          "base_uri": "https://localhost:8080/",
          "height": 266
        },
        "id": "oQ74R7oTfeAB",
        "outputId": "5a919ea8-9324-4a9b-df39-a20798f8194c"
      },
      "source": [
        "final_res.sort_values('F1-Weighted',ascending=False)"
      ],
      "execution_count": null,
      "outputs": [
        {
          "data": {
            "text/html": [
              "<div>\n",
              "<style scoped>\n",
              "    .dataframe tbody tr th:only-of-type {\n",
              "        vertical-align: middle;\n",
              "    }\n",
              "\n",
              "    .dataframe tbody tr th {\n",
              "        vertical-align: top;\n",
              "    }\n",
              "\n",
              "    .dataframe thead th {\n",
              "        text-align: right;\n",
              "    }\n",
              "</style>\n",
              "<table border=\"1\" class=\"dataframe\">\n",
              "  <thead>\n",
              "    <tr style=\"text-align: right;\">\n",
              "      <th></th>\n",
              "      <th>Models</th>\n",
              "      <th>F1-Weighted</th>\n",
              "      <th>Bias Error</th>\n",
              "      <th>Variance Error</th>\n",
              "    </tr>\n",
              "  </thead>\n",
              "  <tbody>\n",
              "    <tr>\n",
              "      <th>5</th>\n",
              "      <td>Stacking</td>\n",
              "      <td>0.806707</td>\n",
              "      <td>0.193293</td>\n",
              "      <td>0.0</td>\n",
              "    </tr>\n",
              "    <tr>\n",
              "      <th>6</th>\n",
              "      <td>Bagging</td>\n",
              "      <td>0.806663</td>\n",
              "      <td>0.193337</td>\n",
              "      <td>0.0</td>\n",
              "    </tr>\n",
              "    <tr>\n",
              "      <th>2</th>\n",
              "      <td>RandomForest</td>\n",
              "      <td>0.803783</td>\n",
              "      <td>0.196217</td>\n",
              "      <td>0.0</td>\n",
              "    </tr>\n",
              "    <tr>\n",
              "      <th>4</th>\n",
              "      <td>XGBoost</td>\n",
              "      <td>0.801025</td>\n",
              "      <td>0.198975</td>\n",
              "      <td>0.0</td>\n",
              "    </tr>\n",
              "    <tr>\n",
              "      <th>3</th>\n",
              "      <td>AdaBoosting</td>\n",
              "      <td>0.786245</td>\n",
              "      <td>0.213755</td>\n",
              "      <td>0.0</td>\n",
              "    </tr>\n",
              "    <tr>\n",
              "      <th>0</th>\n",
              "      <td>KNN</td>\n",
              "      <td>0.749143</td>\n",
              "      <td>0.250857</td>\n",
              "      <td>0.0</td>\n",
              "    </tr>\n",
              "    <tr>\n",
              "      <th>1</th>\n",
              "      <td>DecisionTree</td>\n",
              "      <td>0.713592</td>\n",
              "      <td>0.286408</td>\n",
              "      <td>0.0</td>\n",
              "    </tr>\n",
              "  </tbody>\n",
              "</table>\n",
              "</div>"
            ],
            "text/plain": [
              "         Models  F1-Weighted  Bias Error  Variance Error\n",
              "5      Stacking     0.806707    0.193293             0.0\n",
              "6       Bagging     0.806663    0.193337             0.0\n",
              "2  RandomForest     0.803783    0.196217             0.0\n",
              "4       XGBoost     0.801025    0.198975             0.0\n",
              "3   AdaBoosting     0.786245    0.213755             0.0\n",
              "0           KNN     0.749143    0.250857             0.0\n",
              "1  DecisionTree     0.713592    0.286408             0.0"
            ]
          },
          "execution_count": 145,
          "metadata": {},
          "output_type": "execute_result"
        }
      ]
    },
    {
      "cell_type": "code",
      "metadata": {
        "id": "0-ile4ZefgRE"
      },
      "source": [
        "# Stacking Classifier is the best performing model , but as stacking bagging is based on random forest , \n",
        "# we are doing gridsearch hyperparameter tuning on random forest"
      ],
      "execution_count": null,
      "outputs": []
    },
    {
      "cell_type": "code",
      "metadata": {
        "id": "aK3MKFmvgfKw"
      },
      "source": [
        "from sklearn.model_selection import GridSearchCV"
      ],
      "execution_count": 240,
      "outputs": []
    },
    {
      "cell_type": "markdown",
      "metadata": {
        "id": "vOsr5MSXgif9"
      },
      "source": [
        "# Final model using GridSearchCV"
      ]
    },
    {
      "cell_type": "code",
      "metadata": {
        "colab": {
          "base_uri": "https://localhost:8080/"
        },
        "id": "PL1VEMEygm0J",
        "outputId": "a48bfd02-6f0d-45eb-9b6a-fe5e0b67accc"
      },
      "source": [
        "rf = RandomForestClassifier()\n",
        "params = ({'n_estimators': np.arange(100,140,10),\n",
        "           'max_depth':np.arange(5,22,2),\n",
        "           'criterion':['gini','entropy']})\n",
        "kf = KFold(n_splits=3,shuffle=True,random_state=7)\n",
        "grid = GridSearchCV(estimator=rf,param_grid=params,scoring='f1_weighted',cv=kf,n_jobs=-1)\n",
        "grid.fit(xtrain,ytrain)"
      ],
      "execution_count": 245,
      "outputs": [
        {
          "output_type": "execute_result",
          "data": {
            "text/plain": [
              "GridSearchCV(cv=KFold(n_splits=3, random_state=7, shuffle=True),\n",
              "             error_score=nan,\n",
              "             estimator=RandomForestClassifier(bootstrap=True, ccp_alpha=0.0,\n",
              "                                              class_weight=None,\n",
              "                                              criterion='gini', max_depth=None,\n",
              "                                              max_features='auto',\n",
              "                                              max_leaf_nodes=None,\n",
              "                                              max_samples=None,\n",
              "                                              min_impurity_decrease=0.0,\n",
              "                                              min_impurity_split=None,\n",
              "                                              min_samples_leaf=1,\n",
              "                                              min_samples_split=2,\n",
              "                                              min_weight_fra...n_leaf=0.0,\n",
              "                                              n_estimators=100, n_jobs=None,\n",
              "                                              oob_score=False,\n",
              "                                              random_state=None, verbose=0,\n",
              "                                              warm_start=False),\n",
              "             iid='deprecated', n_jobs=-1,\n",
              "             param_grid={'criterion': ['gini', 'entropy'],\n",
              "                         'max_depth': array([ 5,  7,  9, 11, 13, 15, 17, 19, 21]),\n",
              "                         'n_estimators': array([100, 110, 120, 130])},\n",
              "             pre_dispatch='2*n_jobs', refit=True, return_train_score=False,\n",
              "             scoring='f1_weighted', verbose=0)"
            ]
          },
          "metadata": {},
          "execution_count": 245
        }
      ]
    },
    {
      "cell_type": "code",
      "metadata": {
        "colab": {
          "base_uri": "https://localhost:8080/"
        },
        "id": "KTlu1pLIh6l8",
        "outputId": "f9eb2912-3320-4fe6-93b3-966de3d7c94b"
      },
      "source": [
        "grid.best_params_"
      ],
      "execution_count": 246,
      "outputs": [
        {
          "output_type": "execute_result",
          "data": {
            "text/plain": [
              "{'criterion': 'gini', 'max_depth': 13, 'n_estimators': 130}"
            ]
          },
          "metadata": {},
          "execution_count": 246
        }
      ]
    },
    {
      "cell_type": "code",
      "metadata": {
        "colab": {
          "base_uri": "https://localhost:8080/"
        },
        "id": "tr1hRuQ8Gljo",
        "outputId": "cc6f823b-6400-4350-cbb7-9710c5f047d6"
      },
      "source": [
        "rf = RandomForestClassifier(criterion='gini',max_depth=13,n_estimators=130)\n",
        "kf = KFold(n_splits=5,shuffle=True,random_state=7)\n",
        "scores = cross_val_score(estimator=rf,X=x,y=y,scoring='f1_weighted',cv=kf)\n",
        "score_final = np.mean(scores)\n",
        "bias_final = 1-np.mean(score_final)\n",
        "var_final = np.std(score_final)/np.mean(score_final)\n",
        "\n",
        "print('Average f1-weighted score = ',np.mean(scores))\n",
        "print('Bias error(in %) = ',bias_final * 100 , '%')\n",
        "print('Variance error(in %) = ',var_final * 100,'%')"
      ],
      "execution_count": 247,
      "outputs": [
        {
          "output_type": "stream",
          "name": "stdout",
          "text": [
            "Average f1-weighted score =  0.8059650705549876\n",
            "Bias error(in %) =  19.403492944501245 %\n",
            "Variance error(in %) =  0.0 %\n"
          ]
        }
      ]
    },
    {
      "cell_type": "markdown",
      "metadata": {
        "id": "1OLMQ7npzRbS"
      },
      "source": [
        "**Model Deployment is given as per attachment of file we have done deployment using Flask and HTML,CSS.**"
      ]
    }
  ]
}